{
 "cells": [
  {
   "cell_type": "markdown",
   "metadata": {
    "toc": true
   },
   "source": [
    "<h1>Содержание<span class=\"tocSkip\"></span></h1>\n",
    "<div class=\"toc\"><ul class=\"toc-item\"><li><span><a href=\"#Анализ-поведения-игроков-из-разных-рекламных-источников-мобильной-игры\" data-toc-modified-id=\"Анализ-поведения-игроков-из-разных-рекламных-источников-мобильной-игры-0\"><span class=\"toc-item-num\">0&nbsp;&nbsp;</span>Анализ поведения игроков из разных рекламных источников мобильной игры</a></span><ul class=\"toc-item\"><li><span><a href=\"#Материалы\" data-toc-modified-id=\"Материалы-0.1\"><span class=\"toc-item-num\">0.1&nbsp;&nbsp;</span>Материалы</a></span></li></ul></li><li><span><a href=\"#Обзор-данных\" data-toc-modified-id=\"Обзор-данных-1\"><span class=\"toc-item-num\">1&nbsp;&nbsp;</span>Обзор данных</a></span><ul class=\"toc-item\"><li><span><a href=\"#Вывод:\" data-toc-modified-id=\"Вывод:-1.1\"><span class=\"toc-item-num\">1.1&nbsp;&nbsp;</span>Вывод:</a></span></li></ul></li><li><span><a href=\"#Обработка-данных\" data-toc-modified-id=\"Обработка-данных-2\"><span class=\"toc-item-num\">2&nbsp;&nbsp;</span>Обработка данных</a></span><ul class=\"toc-item\"><li><span><a href=\"#Вывод\" data-toc-modified-id=\"Вывод-2.1\"><span class=\"toc-item-num\">2.1&nbsp;&nbsp;</span>Вывод</a></span></li></ul></li><li><span><a href=\"#Исследовательский-анализ-данных\" data-toc-modified-id=\"Исследовательский-анализ-данных-3\"><span class=\"toc-item-num\">3&nbsp;&nbsp;</span>Исследовательский анализ данных</a></span><ul class=\"toc-item\"><li><span><a href=\"#Анализ-рекламных-расходов\" data-toc-modified-id=\"Анализ-рекламных-расходов-3.1\"><span class=\"toc-item-num\">3.1&nbsp;&nbsp;</span>Анализ рекламных расходов</a></span></li><li><span><a href=\"#Анализ-пользовательских-логов\" data-toc-modified-id=\"Анализ-пользовательских-логов-3.2\"><span class=\"toc-item-num\">3.2&nbsp;&nbsp;</span>Анализ пользовательских логов</a></span></li><li><span><a href=\"#Создание-профилей-пользователей-и-полной-аналитики-по-ним\" data-toc-modified-id=\"Создание-профилей-пользователей-и-полной-аналитики-по-ним-3.3\"><span class=\"toc-item-num\">3.3&nbsp;&nbsp;</span>Создание профилей пользователей и полной аналитики по ним</a></span></li><li><span><a href=\"#Вывод\" data-toc-modified-id=\"Вывод-3.4\"><span class=\"toc-item-num\">3.4&nbsp;&nbsp;</span>Вывод</a></span></li></ul></li><li><span><a href=\"#Проверка-статистических-гипотез\" data-toc-modified-id=\"Проверка-статистических-гипотез-4\"><span class=\"toc-item-num\">4&nbsp;&nbsp;</span>Проверка статистических гипотез</a></span><ul class=\"toc-item\"><li><span><a href=\"#Гипотеза-1-:-время-завершения-1-го-уровня-игры-различается-в-зависимости-от-стратегии-игрока\" data-toc-modified-id=\"Гипотеза-1-:-время-завершения-1-го-уровня-игры-различается-в-зависимости-от-стратегии-игрока-4.1\"><span class=\"toc-item-num\">4.1&nbsp;&nbsp;</span>Гипотеза 1 : время завершения 1-го уровня игры различается в зависимости от стратегии игрока</a></span></li><li><span><a href=\"#Гипотеза-2:-количество-виртуальных-построек-на-1-м-уровне-игры-различается-в-зависимости-от-стратегии-прохождения\" data-toc-modified-id=\"Гипотеза-2:-количество-виртуальных-построек-на-1-м-уровне-игры-различается-в-зависимости-от-стратегии-прохождения-4.2\"><span class=\"toc-item-num\">4.2&nbsp;&nbsp;</span>Гипотеза 2: количество виртуальных построек на 1-м уровне игры различается в зависимости от стратегии прохождения</a></span></li><li><span><a href=\"#Вывод\" data-toc-modified-id=\"Вывод-4.3\"><span class=\"toc-item-num\">4.3&nbsp;&nbsp;</span>Вывод</a></span></li></ul></li><li><span><a href=\"#Итоги-работы\" data-toc-modified-id=\"Итоги-работы-5\"><span class=\"toc-item-num\">5&nbsp;&nbsp;</span>Итоги работы</a></span></li></ul></div>"
   ]
  },
  {
   "cell_type": "markdown",
   "metadata": {},
   "source": [
    "# Анализ поведения игроков из разных рекламных источников мобильной игры "
   ]
  },
  {
   "cell_type": "markdown",
   "metadata": {},
   "source": [
    "## Материалы\n",
    "\n",
    "Презентация - https://drive.google.com/file/d/1A1IWjzG9hFSvUBiJYkFm05FzKd7zFtsu/view?usp=sharing"
   ]
  },
  {
   "cell_type": "markdown",
   "metadata": {},
   "source": [
    "Заказчик - создатели мобильной игры «Космические братья». В ней пользователи строят свою космическую программу и пытаются преуспеть в нелёгком деле колонизации галактики.\n",
    "\n",
    "Задача - анализ поведения игроков в зависимости от источника перехода.\n",
    "\n",
    "Данные: В датасете содержатся данные первых пользователей приложения — когорты пользователей, которые начали пользоваться приложением в период с 4 по 10 мая включительно.\n",
    "\n",
    "Датасет *game_actions.csv*:\n",
    "\n",
    "- `event_datetime` — время события;\n",
    "- `event` — одно из трёх событий:\n",
    "    1. `building` — объект построен,\n",
    "    2. `finished_stage_1` — первый уровень завершён,\n",
    "    3. `project` — проект завершён;\n",
    "- `building_type` — один из трёх типов здания:\n",
    "    1. `assembly_shop` — сборочный цех,\n",
    "    2. `spaceport` — космопорт,\n",
    "    3. `research_center` — исследовательский центр;\n",
    "- `user_id` — идентификатор пользователя;\n",
    "- `project_type` — тип реализованного проекта;\n",
    "\n",
    "Помимо основного датасета есть два датасета с информацией о рекламных активностях. \n",
    "\n",
    "Датасет *ad_cost.csv*:\n",
    "\n",
    "- `day` - день, в который был совершен клик по объявлению\n",
    "- `source` - источник трафика\n",
    "- `cost` - стоимость кликов\n",
    "\n",
    "Датасет user_source.csv содержит колонки:\n",
    "\n",
    "- `user_id` - идентификатор пользователя\n",
    "- `source` - источников, с которого пришёл пользователь, установивший приложение\n",
    "\n",
    "Основная монетизация игры — только планируется. Но предполагается, что в приложении будет происходить показ рекламы на экране с выбором типа объекта для постройки.\n",
    "\n",
    "В датасете представлены данные по игре пользователей на первом уровне. Завершение первого уровня требует от игрока выполнения одного из двух условий:\n",
    "\n",
    "- Победа над первым врагом\n",
    "- Реализация проекта - разработка орбитальной сборки спутников\n"
   ]
  },
  {
   "cell_type": "markdown",
   "metadata": {},
   "source": [
    "# Обзор данных \n",
    "\n",
    "Загрузим необходимые библиотеки:"
   ]
  },
  {
   "cell_type": "code",
   "execution_count": 1,
   "metadata": {},
   "outputs": [
    {
     "data": {
      "text/html": [
       "<svg  width=\"660\" height=\"55\"><rect x=\"0\" y=\"0\" width=\"55\" height=\"55\" style=\"fill:#a6cee3;stroke-width:2;stroke:rgb(255,255,255)\"/><rect x=\"55\" y=\"0\" width=\"55\" height=\"55\" style=\"fill:#1f78b4;stroke-width:2;stroke:rgb(255,255,255)\"/><rect x=\"110\" y=\"0\" width=\"55\" height=\"55\" style=\"fill:#b2df8a;stroke-width:2;stroke:rgb(255,255,255)\"/><rect x=\"165\" y=\"0\" width=\"55\" height=\"55\" style=\"fill:#33a02c;stroke-width:2;stroke:rgb(255,255,255)\"/><rect x=\"220\" y=\"0\" width=\"55\" height=\"55\" style=\"fill:#fb9a99;stroke-width:2;stroke:rgb(255,255,255)\"/><rect x=\"275\" y=\"0\" width=\"55\" height=\"55\" style=\"fill:#e31a1c;stroke-width:2;stroke:rgb(255,255,255)\"/><rect x=\"330\" y=\"0\" width=\"55\" height=\"55\" style=\"fill:#fdbf6f;stroke-width:2;stroke:rgb(255,255,255)\"/><rect x=\"385\" y=\"0\" width=\"55\" height=\"55\" style=\"fill:#ff7f00;stroke-width:2;stroke:rgb(255,255,255)\"/><rect x=\"440\" y=\"0\" width=\"55\" height=\"55\" style=\"fill:#cab2d6;stroke-width:2;stroke:rgb(255,255,255)\"/><rect x=\"495\" y=\"0\" width=\"55\" height=\"55\" style=\"fill:#6a3d9a;stroke-width:2;stroke:rgb(255,255,255)\"/><rect x=\"550\" y=\"0\" width=\"55\" height=\"55\" style=\"fill:#ffff99;stroke-width:2;stroke:rgb(255,255,255)\"/><rect x=\"605\" y=\"0\" width=\"55\" height=\"55\" style=\"fill:#b15928;stroke-width:2;stroke:rgb(255,255,255)\"/></svg>"
      ],
      "text/plain": [
       "[(0.6509803921568628, 0.807843137254902, 0.8901960784313725),\n",
       " (0.12156862745098039, 0.47058823529411764, 0.7058823529411765),\n",
       " (0.6980392156862745, 0.8745098039215686, 0.5411764705882353),\n",
       " (0.2, 0.6274509803921569, 0.17254901960784313),\n",
       " (0.984313725490196, 0.6039215686274509, 0.6),\n",
       " (0.8901960784313725, 0.10196078431372549, 0.10980392156862745),\n",
       " (0.9921568627450981, 0.7490196078431373, 0.43529411764705883),\n",
       " (1.0, 0.4980392156862745, 0.0),\n",
       " (0.792156862745098, 0.6980392156862745, 0.8392156862745098),\n",
       " (0.41568627450980394, 0.23921568627450981, 0.6039215686274509),\n",
       " (1.0, 1.0, 0.6),\n",
       " (0.6941176470588235, 0.34901960784313724, 0.1568627450980392)]"
      ]
     },
     "execution_count": 1,
     "metadata": {},
     "output_type": "execute_result"
    }
   ],
   "source": [
    "import pandas as pd\n",
    "import numpy as np\n",
    "import seaborn as sns\n",
    "import plotly.express as px\n",
    "from datetime import datetime as dt\n",
    "from datetime import datetime, timedelta\n",
    "from matplotlib import pyplot as plt\n",
    "import scipy.stats as stats\n",
    "from scipy import stats as st\n",
    "from plotly import graph_objects as go \n",
    "import math as mth\n",
    "import warnings\n",
    "warnings.filterwarnings(\"ignore\")\n",
    "pd.set_option('max_colwidth', 400)\n",
    "pd.set_option('display.float_format', '{:.2f}'.format)\n",
    "sns.color_palette(\"Paired\")"
   ]
  },
  {
   "cell_type": "markdown",
   "metadata": {},
   "source": [
    "Откроем предоставленные заказчиком данные:"
   ]
  },
  {
   "cell_type": "code",
   "execution_count": 2,
   "metadata": {},
   "outputs": [],
   "source": [
    "try:\n",
    "    ad_costs = pd.read_csv('/datasets/ad_costs.csv')\n",
    "    game_actions = pd.read_csv('/datasets/game_actions.csv')\n",
    "    user_source = pd.read_csv('/datasets/user_source.csv')\n",
    "except:\n",
    "    ad_costs=pd.read_csv('')\n",
    "    game_actions=pd.read_csv('')\n",
    "    user_source=pd.read_csv('')"
   ]
  },
  {
   "cell_type": "markdown",
   "metadata": {},
   "source": [
    "Откроем датасеты вместе с общей информацией о них:"
   ]
  },
  {
   "cell_type": "code",
   "execution_count": 3,
   "metadata": {
    "scrolled": true
   },
   "outputs": [
    {
     "data": {
      "text/html": [
       "<div>\n",
       "<style scoped>\n",
       "    .dataframe tbody tr th:only-of-type {\n",
       "        vertical-align: middle;\n",
       "    }\n",
       "\n",
       "    .dataframe tbody tr th {\n",
       "        vertical-align: top;\n",
       "    }\n",
       "\n",
       "    .dataframe thead th {\n",
       "        text-align: right;\n",
       "    }\n",
       "</style>\n",
       "<table border=\"1\" class=\"dataframe\">\n",
       "  <thead>\n",
       "    <tr style=\"text-align: right;\">\n",
       "      <th></th>\n",
       "      <th>source</th>\n",
       "      <th>day</th>\n",
       "      <th>cost</th>\n",
       "    </tr>\n",
       "  </thead>\n",
       "  <tbody>\n",
       "    <tr>\n",
       "      <th>0</th>\n",
       "      <td>facebook_ads</td>\n",
       "      <td>2020-05-03</td>\n",
       "      <td>935.88</td>\n",
       "    </tr>\n",
       "    <tr>\n",
       "      <th>1</th>\n",
       "      <td>facebook_ads</td>\n",
       "      <td>2020-05-04</td>\n",
       "      <td>548.35</td>\n",
       "    </tr>\n",
       "    <tr>\n",
       "      <th>2</th>\n",
       "      <td>facebook_ads</td>\n",
       "      <td>2020-05-05</td>\n",
       "      <td>260.19</td>\n",
       "    </tr>\n",
       "    <tr>\n",
       "      <th>3</th>\n",
       "      <td>facebook_ads</td>\n",
       "      <td>2020-05-06</td>\n",
       "      <td>177.98</td>\n",
       "    </tr>\n",
       "    <tr>\n",
       "      <th>4</th>\n",
       "      <td>facebook_ads</td>\n",
       "      <td>2020-05-07</td>\n",
       "      <td>111.77</td>\n",
       "    </tr>\n",
       "  </tbody>\n",
       "</table>\n",
       "</div>"
      ],
      "text/plain": [
       "         source         day   cost\n",
       "0  facebook_ads  2020-05-03 935.88\n",
       "1  facebook_ads  2020-05-04 548.35\n",
       "2  facebook_ads  2020-05-05 260.19\n",
       "3  facebook_ads  2020-05-06 177.98\n",
       "4  facebook_ads  2020-05-07 111.77"
      ]
     },
     "metadata": {},
     "output_type": "display_data"
    },
    {
     "name": "stdout",
     "output_type": "stream",
     "text": [
      "<class 'pandas.core.frame.DataFrame'>\n",
      "RangeIndex: 28 entries, 0 to 27\n",
      "Data columns (total 3 columns):\n",
      " #   Column  Non-Null Count  Dtype  \n",
      "---  ------  --------------  -----  \n",
      " 0   source  28 non-null     object \n",
      " 1   day     28 non-null     object \n",
      " 2   cost    28 non-null     float64\n",
      "dtypes: float64(1), object(2)\n",
      "memory usage: 800.0+ bytes\n"
     ]
    },
    {
     "data": {
      "text/plain": [
       "'Дубликатов 0'"
      ]
     },
     "metadata": {},
     "output_type": "display_data"
    },
    {
     "name": "stdout",
     "output_type": "stream",
     "text": [
      "**************************************************\n"
     ]
    },
    {
     "data": {
      "text/html": [
       "<div>\n",
       "<style scoped>\n",
       "    .dataframe tbody tr th:only-of-type {\n",
       "        vertical-align: middle;\n",
       "    }\n",
       "\n",
       "    .dataframe tbody tr th {\n",
       "        vertical-align: top;\n",
       "    }\n",
       "\n",
       "    .dataframe thead th {\n",
       "        text-align: right;\n",
       "    }\n",
       "</style>\n",
       "<table border=\"1\" class=\"dataframe\">\n",
       "  <thead>\n",
       "    <tr style=\"text-align: right;\">\n",
       "      <th></th>\n",
       "      <th>event_datetime</th>\n",
       "      <th>event</th>\n",
       "      <th>building_type</th>\n",
       "      <th>user_id</th>\n",
       "      <th>project_type</th>\n",
       "    </tr>\n",
       "  </thead>\n",
       "  <tbody>\n",
       "    <tr>\n",
       "      <th>0</th>\n",
       "      <td>2020-05-04 00:00:01</td>\n",
       "      <td>building</td>\n",
       "      <td>assembly_shop</td>\n",
       "      <td>55e92310-cb8e-4754-b622-597e124b03de</td>\n",
       "      <td>NaN</td>\n",
       "    </tr>\n",
       "    <tr>\n",
       "      <th>1</th>\n",
       "      <td>2020-05-04 00:00:03</td>\n",
       "      <td>building</td>\n",
       "      <td>assembly_shop</td>\n",
       "      <td>c07b1c10-f477-44dc-81dc-ec82254b1347</td>\n",
       "      <td>NaN</td>\n",
       "    </tr>\n",
       "    <tr>\n",
       "      <th>2</th>\n",
       "      <td>2020-05-04 00:00:16</td>\n",
       "      <td>building</td>\n",
       "      <td>assembly_shop</td>\n",
       "      <td>6edd42cc-e753-4ff6-a947-2107cd560710</td>\n",
       "      <td>NaN</td>\n",
       "    </tr>\n",
       "    <tr>\n",
       "      <th>3</th>\n",
       "      <td>2020-05-04 00:00:16</td>\n",
       "      <td>building</td>\n",
       "      <td>assembly_shop</td>\n",
       "      <td>92c69003-d60a-444a-827f-8cc51bf6bf4c</td>\n",
       "      <td>NaN</td>\n",
       "    </tr>\n",
       "    <tr>\n",
       "      <th>4</th>\n",
       "      <td>2020-05-04 00:00:35</td>\n",
       "      <td>building</td>\n",
       "      <td>assembly_shop</td>\n",
       "      <td>cdc6bb92-0ccb-4490-9866-ef142f09139d</td>\n",
       "      <td>NaN</td>\n",
       "    </tr>\n",
       "  </tbody>\n",
       "</table>\n",
       "</div>"
      ],
      "text/plain": [
       "        event_datetime     event  building_type  \\\n",
       "0  2020-05-04 00:00:01  building  assembly_shop   \n",
       "1  2020-05-04 00:00:03  building  assembly_shop   \n",
       "2  2020-05-04 00:00:16  building  assembly_shop   \n",
       "3  2020-05-04 00:00:16  building  assembly_shop   \n",
       "4  2020-05-04 00:00:35  building  assembly_shop   \n",
       "\n",
       "                                user_id project_type  \n",
       "0  55e92310-cb8e-4754-b622-597e124b03de          NaN  \n",
       "1  c07b1c10-f477-44dc-81dc-ec82254b1347          NaN  \n",
       "2  6edd42cc-e753-4ff6-a947-2107cd560710          NaN  \n",
       "3  92c69003-d60a-444a-827f-8cc51bf6bf4c          NaN  \n",
       "4  cdc6bb92-0ccb-4490-9866-ef142f09139d          NaN  "
      ]
     },
     "metadata": {},
     "output_type": "display_data"
    },
    {
     "name": "stdout",
     "output_type": "stream",
     "text": [
      "<class 'pandas.core.frame.DataFrame'>\n",
      "RangeIndex: 135640 entries, 0 to 135639\n",
      "Data columns (total 5 columns):\n",
      " #   Column          Non-Null Count   Dtype \n",
      "---  ------          --------------   ----- \n",
      " 0   event_datetime  135640 non-null  object\n",
      " 1   event           135640 non-null  object\n",
      " 2   building_type   127957 non-null  object\n",
      " 3   user_id         135640 non-null  object\n",
      " 4   project_type    1866 non-null    object\n",
      "dtypes: object(5)\n",
      "memory usage: 5.2+ MB\n"
     ]
    },
    {
     "data": {
      "text/plain": [
       "'Дубликатов 1'"
      ]
     },
     "metadata": {},
     "output_type": "display_data"
    },
    {
     "name": "stdout",
     "output_type": "stream",
     "text": [
      "**************************************************\n"
     ]
    },
    {
     "data": {
      "text/html": [
       "<div>\n",
       "<style scoped>\n",
       "    .dataframe tbody tr th:only-of-type {\n",
       "        vertical-align: middle;\n",
       "    }\n",
       "\n",
       "    .dataframe tbody tr th {\n",
       "        vertical-align: top;\n",
       "    }\n",
       "\n",
       "    .dataframe thead th {\n",
       "        text-align: right;\n",
       "    }\n",
       "</style>\n",
       "<table border=\"1\" class=\"dataframe\">\n",
       "  <thead>\n",
       "    <tr style=\"text-align: right;\">\n",
       "      <th></th>\n",
       "      <th>user_id</th>\n",
       "      <th>source</th>\n",
       "    </tr>\n",
       "  </thead>\n",
       "  <tbody>\n",
       "    <tr>\n",
       "      <th>0</th>\n",
       "      <td>0001f83c-c6ac-4621-b7f0-8a28b283ac30</td>\n",
       "      <td>facebook_ads</td>\n",
       "    </tr>\n",
       "    <tr>\n",
       "      <th>1</th>\n",
       "      <td>00151b4f-ba38-44a8-a650-d7cf130a0105</td>\n",
       "      <td>yandex_direct</td>\n",
       "    </tr>\n",
       "    <tr>\n",
       "      <th>2</th>\n",
       "      <td>001aaea6-3d14-43f1-8ca8-7f48820f17aa</td>\n",
       "      <td>youtube_channel_reklama</td>\n",
       "    </tr>\n",
       "    <tr>\n",
       "      <th>3</th>\n",
       "      <td>001d39dc-366c-4021-9604-6a3b9ff01e25</td>\n",
       "      <td>instagram_new_adverts</td>\n",
       "    </tr>\n",
       "    <tr>\n",
       "      <th>4</th>\n",
       "      <td>002f508f-67b6-479f-814b-b05f00d4e995</td>\n",
       "      <td>facebook_ads</td>\n",
       "    </tr>\n",
       "  </tbody>\n",
       "</table>\n",
       "</div>"
      ],
      "text/plain": [
       "                                user_id                   source\n",
       "0  0001f83c-c6ac-4621-b7f0-8a28b283ac30             facebook_ads\n",
       "1  00151b4f-ba38-44a8-a650-d7cf130a0105            yandex_direct\n",
       "2  001aaea6-3d14-43f1-8ca8-7f48820f17aa  youtube_channel_reklama\n",
       "3  001d39dc-366c-4021-9604-6a3b9ff01e25    instagram_new_adverts\n",
       "4  002f508f-67b6-479f-814b-b05f00d4e995             facebook_ads"
      ]
     },
     "metadata": {},
     "output_type": "display_data"
    },
    {
     "name": "stdout",
     "output_type": "stream",
     "text": [
      "<class 'pandas.core.frame.DataFrame'>\n",
      "RangeIndex: 13576 entries, 0 to 13575\n",
      "Data columns (total 2 columns):\n",
      " #   Column   Non-Null Count  Dtype \n",
      "---  ------   --------------  ----- \n",
      " 0   user_id  13576 non-null  object\n",
      " 1   source   13576 non-null  object\n",
      "dtypes: object(2)\n",
      "memory usage: 212.2+ KB\n"
     ]
    },
    {
     "data": {
      "text/plain": [
       "'Дубликатов 0'"
      ]
     },
     "metadata": {},
     "output_type": "display_data"
    },
    {
     "name": "stdout",
     "output_type": "stream",
     "text": [
      "**************************************************\n"
     ]
    }
   ],
   "source": [
    "for df in (ad_costs,game_actions,user_source):\n",
    "    display(df.head()), df.info(), display (f'Дубликатов {df.duplicated().sum()}'), print('*'*50)"
   ]
  },
  {
   "cell_type": "markdown",
   "metadata": {},
   "source": [
    "Таблица `ad_costs` содержит информацию о суммах расходов на привлечение пользователей по разным рекламным источникам за период с 3 по 9 мая 2020 года, однако датасет `game_actions` содержит данные о пользователях, пришедших впервые с 4 по 10 мая. \n",
    "\n",
    "В датасете `ad_costs` отсутствуют дубликаты и пропуски данных. Но столбец `day` требует изменения типа данных на \"datetime\". Также удалим лишние данные из таблицы за 3 мая 2020 г."
   ]
  },
  {
   "cell_type": "markdown",
   "metadata": {},
   "source": [
    "Посмотрим, какими данными заполнены столбцы таблицы game_actions:"
   ]
  },
  {
   "cell_type": "code",
   "execution_count": 4,
   "metadata": {
    "scrolled": false
   },
   "outputs": [
    {
     "data": {
      "text/plain": [
       "'event'"
      ]
     },
     "metadata": {},
     "output_type": "display_data"
    },
    {
     "data": {
      "text/plain": [
       "building            127957\n",
       "finished_stage_1      5817\n",
       "project               1866\n",
       "Name: event, dtype: int64"
      ]
     },
     "metadata": {},
     "output_type": "display_data"
    },
    {
     "data": {
      "text/plain": [
       "'building_type'"
      ]
     },
     "metadata": {},
     "output_type": "display_data"
    },
    {
     "data": {
      "text/plain": [
       "spaceport          59325\n",
       "assembly_shop      54494\n",
       "research_center    14138\n",
       "Name: building_type, dtype: int64"
      ]
     },
     "metadata": {},
     "output_type": "display_data"
    },
    {
     "data": {
      "text/plain": [
       "'project_type'"
      ]
     },
     "metadata": {},
     "output_type": "display_data"
    },
    {
     "data": {
      "text/plain": [
       "satellite_orbital_assembly    1866\n",
       "Name: project_type, dtype: int64"
      ]
     },
     "metadata": {},
     "output_type": "display_data"
    }
   ],
   "source": [
    "for column in ['event','building_type','project_type']:\n",
    "    display(column,game_actions[column].value_counts())"
   ]
  },
  {
   "cell_type": "markdown",
   "metadata": {},
   "source": [
    "Таблица `game_actions` содержит информацию о действиях пользователей в игре. В данных есть одна полностью повторяющаяся строка (полный дубликат), что говорит наличии ошибкок в выгрузке данных. Также столбцы `building_type` и `project_type` содержат пропуски данных, которые связаны с особенностями игры. Так поле `building_type` не заполняется при статусе `finished_stage_1` и `project`. Поле `project_type` имеет только 1 статус `satellite_orbital_assembly` и заполняется при построении исследовательского центра по орбитальной сборке спутников. \n",
    "\n",
    "Столбец с датой и временем совершения события требует изменения типа данных на \"datetime\"."
   ]
  },
  {
   "cell_type": "markdown",
   "metadata": {},
   "source": [
    "Датасет `user_source` содержит информацию об источнике привлечения каждого пользователя, не имеет пропусков и дубликатов. Типы данных верны."
   ]
  },
  {
   "cell_type": "markdown",
   "metadata": {},
   "source": [
    "## Вывод:\n",
    "\n",
    "Данные, предоставленные заказчиком, хорошего качества: не требуют заполнения пропусков , так как все пропуски обусловлены игровым процессом и отражают фиксацию событий в нем; названия столбцов написаны в \"змеином регистре\" и не требуют переименования, но необходимо удалить 1 дубликат и изменить тип данных у столбцов с данными о времени (о чем необходимо сообщить тем, кто осущетсвляет запись и выгрузку данных, так как могут быть другие дубликаты и ошибки).\n",
    "\n",
    "Также при дальнейшем анализе предполагаем, что сбор данных о пользователях был осуществлен верно в разрезе реламных источников и расходов по ним, и датасет содержит информацию строго о тех пользователях, которые посмотрели рекламу и перешли в приложение.\n",
    "\n",
    "Осуществим обработку данных далее."
   ]
  },
  {
   "cell_type": "markdown",
   "metadata": {},
   "source": [
    "# Обработка данных\n",
    "\n",
    "Удалим дубликаты и изменим типы данных согласно их типу:"
   ]
  },
  {
   "cell_type": "code",
   "execution_count": 5,
   "metadata": {},
   "outputs": [],
   "source": [
    "game_actions = game_actions.drop_duplicates()\n",
    "ad_costs['day'] = pd.to_datetime(ad_costs['day'])\n",
    "game_actions['event_datetime'] = pd.to_datetime(game_actions['event_datetime'])"
   ]
  },
  {
   "cell_type": "markdown",
   "metadata": {},
   "source": [
    "Удалим лишние данные из \"ad_costs\""
   ]
  },
  {
   "cell_type": "code",
   "execution_count": 6,
   "metadata": {
    "scrolled": true
   },
   "outputs": [
    {
     "name": "stdout",
     "output_type": "stream",
     "text": [
      "<class 'pandas.core.frame.DataFrame'>\n",
      "RangeIndex: 28 entries, 0 to 27\n",
      "Data columns (total 3 columns):\n",
      " #   Column  Non-Null Count  Dtype         \n",
      "---  ------  --------------  -----         \n",
      " 0   source  28 non-null     object        \n",
      " 1   day     28 non-null     datetime64[ns]\n",
      " 2   cost    28 non-null     float64       \n",
      "dtypes: datetime64[ns](1), float64(1), object(1)\n",
      "memory usage: 800.0+ bytes\n"
     ]
    },
    {
     "data": {
      "text/plain": [
       "None"
      ]
     },
     "metadata": {},
     "output_type": "display_data"
    },
    {
     "data": {
      "text/plain": [
       "'Дубликатов 0'"
      ]
     },
     "metadata": {},
     "output_type": "display_data"
    },
    {
     "name": "stdout",
     "output_type": "stream",
     "text": [
      "**************************************************\n",
      "<class 'pandas.core.frame.DataFrame'>\n",
      "Int64Index: 135639 entries, 0 to 135639\n",
      "Data columns (total 5 columns):\n",
      " #   Column          Non-Null Count   Dtype         \n",
      "---  ------          --------------   -----         \n",
      " 0   event_datetime  135639 non-null  datetime64[ns]\n",
      " 1   event           135639 non-null  object        \n",
      " 2   building_type   127956 non-null  object        \n",
      " 3   user_id         135639 non-null  object        \n",
      " 4   project_type    1866 non-null    object        \n",
      "dtypes: datetime64[ns](1), object(4)\n",
      "memory usage: 6.2+ MB\n"
     ]
    },
    {
     "data": {
      "text/plain": [
       "None"
      ]
     },
     "metadata": {},
     "output_type": "display_data"
    },
    {
     "data": {
      "text/plain": [
       "'Дубликатов 0'"
      ]
     },
     "metadata": {},
     "output_type": "display_data"
    },
    {
     "name": "stdout",
     "output_type": "stream",
     "text": [
      "**************************************************\n",
      "<class 'pandas.core.frame.DataFrame'>\n",
      "RangeIndex: 13576 entries, 0 to 13575\n",
      "Data columns (total 2 columns):\n",
      " #   Column   Non-Null Count  Dtype \n",
      "---  ------   --------------  ----- \n",
      " 0   user_id  13576 non-null  object\n",
      " 1   source   13576 non-null  object\n",
      "dtypes: object(2)\n",
      "memory usage: 212.2+ KB\n"
     ]
    },
    {
     "data": {
      "text/plain": [
       "None"
      ]
     },
     "metadata": {},
     "output_type": "display_data"
    },
    {
     "data": {
      "text/plain": [
       "'Дубликатов 0'"
      ]
     },
     "metadata": {},
     "output_type": "display_data"
    },
    {
     "name": "stdout",
     "output_type": "stream",
     "text": [
      "**************************************************\n"
     ]
    }
   ],
   "source": [
    "for df in (ad_costs,game_actions,user_source):\n",
    "    display(df.info()),display (f'Дубликатов {df.duplicated().sum()}'), print('*'*50)"
   ]
  },
  {
   "cell_type": "markdown",
   "metadata": {},
   "source": [
    "## Вывод\n",
    "\n",
    "Привели данные к нужному типу, удалили дубликаты и неактуальные данные.\n",
    "\n",
    "Можно приступать к исследовательскому анализу данных.\n"
   ]
  },
  {
   "cell_type": "markdown",
   "metadata": {},
   "source": [
    "# Исследовательский анализ данных\n",
    "\n",
    "\n",
    "## Анализ рекламных расходов\n",
    "Определим, какими данными и в каком количестве заполнены таблицы. Начнем с таблицы `ad_costs`:"
   ]
  },
  {
   "cell_type": "code",
   "execution_count": 7,
   "metadata": {},
   "outputs": [
    {
     "data": {
      "text/plain": [
       "'Столбец \"source\" содержит 4 уникальных значений. Их частота ниже:'"
      ]
     },
     "metadata": {},
     "output_type": "display_data"
    },
    {
     "data": {
      "text/plain": [
       "instagram_new_adverts      7\n",
       "yandex_direct              7\n",
       "facebook_ads               7\n",
       "youtube_channel_reklama    7\n",
       "Name: source, dtype: int64"
      ]
     },
     "metadata": {},
     "output_type": "display_data"
    },
    {
     "data": {
      "text/plain": [
       "'Столбец \"day\" содержит 7 уникальных значений. Их частота ниже:'"
      ]
     },
     "metadata": {},
     "output_type": "display_data"
    },
    {
     "data": {
      "text/plain": [
       "2020-05-05    4\n",
       "2020-05-09    4\n",
       "2020-05-06    4\n",
       "2020-05-03    4\n",
       "2020-05-07    4\n",
       "2020-05-04    4\n",
       "2020-05-08    4\n",
       "Name: day, dtype: int64"
      ]
     },
     "metadata": {},
     "output_type": "display_data"
    }
   ],
   "source": [
    "for column in ['source','day']:\n",
    "    display(f'Столбец \"{column}\" содержит {ad_costs[column].nunique()} уникальных значений. Их частота ниже:')\n",
    "    display(ad_costs[column].value_counts())"
   ]
  },
  {
   "cell_type": "code",
   "execution_count": 8,
   "metadata": {},
   "outputs": [
    {
     "data": {
      "text/html": [
       "<div>\n",
       "<style scoped>\n",
       "    .dataframe tbody tr th:only-of-type {\n",
       "        vertical-align: middle;\n",
       "    }\n",
       "\n",
       "    .dataframe tbody tr th {\n",
       "        vertical-align: top;\n",
       "    }\n",
       "\n",
       "    .dataframe thead th {\n",
       "        text-align: right;\n",
       "    }\n",
       "</style>\n",
       "<table border=\"1\" class=\"dataframe\">\n",
       "  <thead>\n",
       "    <tr style=\"text-align: right;\">\n",
       "      <th></th>\n",
       "      <th>cost</th>\n",
       "    </tr>\n",
       "    <tr>\n",
       "      <th>source</th>\n",
       "      <th></th>\n",
       "    </tr>\n",
       "  </thead>\n",
       "  <tbody>\n",
       "    <tr>\n",
       "      <th>yandex_direct</th>\n",
       "      <td>2233.11</td>\n",
       "    </tr>\n",
       "    <tr>\n",
       "      <th>instagram_new_adverts</th>\n",
       "      <td>2161.44</td>\n",
       "    </tr>\n",
       "    <tr>\n",
       "      <th>facebook_ads</th>\n",
       "      <td>2140.90</td>\n",
       "    </tr>\n",
       "    <tr>\n",
       "      <th>youtube_channel_reklama</th>\n",
       "      <td>1068.12</td>\n",
       "    </tr>\n",
       "  </tbody>\n",
       "</table>\n",
       "</div>"
      ],
      "text/plain": [
       "                           cost\n",
       "source                         \n",
       "yandex_direct           2233.11\n",
       "instagram_new_adverts   2161.44\n",
       "facebook_ads            2140.90\n",
       "youtube_channel_reklama 1068.12"
      ]
     },
     "execution_count": 8,
     "metadata": {},
     "output_type": "execute_result"
    }
   ],
   "source": [
    "ad_costs.pivot_table(index='source', values='cost', aggfunc='sum').sort_values(by='cost',ascending=False)"
   ]
  },
  {
   "cell_type": "code",
   "execution_count": 9,
   "metadata": {},
   "outputs": [
    {
     "data": {
      "image/png": "[encoded data removed]",
      "text/plain": [
       "<Figure size 648x360 with 1 Axes>"
      ]
     },
     "metadata": {
      "needs_background": "light"
     },
     "output_type": "display_data"
    }
   ],
   "source": [
    "ad_costs.pivot_table(index='source', values='cost', aggfunc='sum').sort_values(by='cost',ascending=False).plot(kind='bar',grid=True, figsize=(9, 5),title='Объем расходов на рекламу по каналам, у.е.', ylabel='Объем, у.е.', xlabel='Источник')\n",
    "plt.xticks(rotation=45)\n",
    "plt.tight_layout()\n",
    "sns.despine()"
   ]
  },
  {
   "cell_type": "markdown",
   "metadata": {},
   "source": [
    "Наибольшая сумма расходов за привлечение пользователей в мобильную игру за период с 3 по 9 мая 2020 года была оплачена yandex_direct (2233,11 у.е.), наименьшая  - youtube_channel_reklama (1068,12).\n",
    "\n",
    "Посмотрим на тренд затрат на привлечение по дням:"
   ]
  },
  {
   "cell_type": "code",
   "execution_count": 10,
   "metadata": {},
   "outputs": [
    {
     "data": {
      "text/html": [
       "<div>\n",
       "<style scoped>\n",
       "    .dataframe tbody tr th:only-of-type {\n",
       "        vertical-align: middle;\n",
       "    }\n",
       "\n",
       "    .dataframe tbody tr th {\n",
       "        vertical-align: top;\n",
       "    }\n",
       "\n",
       "    .dataframe thead th {\n",
       "        text-align: right;\n",
       "    }\n",
       "</style>\n",
       "<table border=\"1\" class=\"dataframe\">\n",
       "  <thead>\n",
       "    <tr style=\"text-align: right;\">\n",
       "      <th></th>\n",
       "      <th>cost</th>\n",
       "    </tr>\n",
       "    <tr>\n",
       "      <th>day</th>\n",
       "      <th></th>\n",
       "    </tr>\n",
       "  </thead>\n",
       "  <tbody>\n",
       "    <tr>\n",
       "      <th>2020-05-03</th>\n",
       "      <td>3302.45</td>\n",
       "    </tr>\n",
       "    <tr>\n",
       "      <th>2020-05-04</th>\n",
       "      <td>1865.00</td>\n",
       "    </tr>\n",
       "    <tr>\n",
       "      <th>2020-05-05</th>\n",
       "      <td>1029.43</td>\n",
       "    </tr>\n",
       "    <tr>\n",
       "      <th>2020-05-06</th>\n",
       "      <td>620.48</td>\n",
       "    </tr>\n",
       "    <tr>\n",
       "      <th>2020-05-07</th>\n",
       "      <td>391.85</td>\n",
       "    </tr>\n",
       "    <tr>\n",
       "      <th>2020-05-08</th>\n",
       "      <td>242.77</td>\n",
       "    </tr>\n",
       "    <tr>\n",
       "      <th>2020-05-09</th>\n",
       "      <td>151.59</td>\n",
       "    </tr>\n",
       "  </tbody>\n",
       "</table>\n",
       "</div>"
      ],
      "text/plain": [
       "              cost\n",
       "day               \n",
       "2020-05-03 3302.45\n",
       "2020-05-04 1865.00\n",
       "2020-05-05 1029.43\n",
       "2020-05-06  620.48\n",
       "2020-05-07  391.85\n",
       "2020-05-08  242.77\n",
       "2020-05-09  151.59"
      ]
     },
     "execution_count": 10,
     "metadata": {},
     "output_type": "execute_result"
    }
   ],
   "source": [
    "ad_costs.pivot_table(index='day',values='cost', aggfunc='sum')"
   ]
  },
  {
   "cell_type": "code",
   "execution_count": 11,
   "metadata": {
    "scrolled": true
   },
   "outputs": [
    {
     "data": {
      "image/png": "[encoded data removed]",
      "text/plain": [
       "<Figure size 576x360 with 1 Axes>"
      ]
     },
     "metadata": {
      "needs_background": "light"
     },
     "output_type": "display_data"
    }
   ],
   "source": [
    "ad_costs.pivot_table(index='day',values='cost', aggfunc='sum').plot(grid=True, figsize=(8, 5), title='Объем расходов на рекламу по дням, у.е.', ylabel='Объем, у.е.', xlabel='Дата');"
   ]
  },
  {
   "cell_type": "code",
   "execution_count": 12,
   "metadata": {
    "scrolled": false
   },
   "outputs": [
    {
     "data": {
      "text/html": [
       "<div>\n",
       "<style scoped>\n",
       "    .dataframe tbody tr th:only-of-type {\n",
       "        vertical-align: middle;\n",
       "    }\n",
       "\n",
       "    .dataframe tbody tr th {\n",
       "        vertical-align: top;\n",
       "    }\n",
       "\n",
       "    .dataframe thead th {\n",
       "        text-align: right;\n",
       "    }\n",
       "</style>\n",
       "<table border=\"1\" class=\"dataframe\">\n",
       "  <thead>\n",
       "    <tr style=\"text-align: right;\">\n",
       "      <th>source</th>\n",
       "      <th>facebook_ads</th>\n",
       "      <th>instagram_new_adverts</th>\n",
       "      <th>yandex_direct</th>\n",
       "      <th>youtube_channel_reklama</th>\n",
       "    </tr>\n",
       "    <tr>\n",
       "      <th>day</th>\n",
       "      <th></th>\n",
       "      <th></th>\n",
       "      <th></th>\n",
       "      <th></th>\n",
       "    </tr>\n",
       "  </thead>\n",
       "  <tbody>\n",
       "    <tr>\n",
       "      <th>2020-05-03</th>\n",
       "      <td>935.88</td>\n",
       "      <td>943.20</td>\n",
       "      <td>969.14</td>\n",
       "      <td>454.22</td>\n",
       "    </tr>\n",
       "    <tr>\n",
       "      <th>2020-05-04</th>\n",
       "      <td>548.35</td>\n",
       "      <td>502.93</td>\n",
       "      <td>554.65</td>\n",
       "      <td>259.07</td>\n",
       "    </tr>\n",
       "    <tr>\n",
       "      <th>2020-05-05</th>\n",
       "      <td>260.19</td>\n",
       "      <td>313.97</td>\n",
       "      <td>308.23</td>\n",
       "      <td>147.04</td>\n",
       "    </tr>\n",
       "    <tr>\n",
       "      <th>2020-05-06</th>\n",
       "      <td>177.98</td>\n",
       "      <td>173.07</td>\n",
       "      <td>180.92</td>\n",
       "      <td>88.51</td>\n",
       "    </tr>\n",
       "    <tr>\n",
       "      <th>2020-05-07</th>\n",
       "      <td>111.77</td>\n",
       "      <td>109.92</td>\n",
       "      <td>114.43</td>\n",
       "      <td>55.74</td>\n",
       "    </tr>\n",
       "    <tr>\n",
       "      <th>2020-05-08</th>\n",
       "      <td>68.01</td>\n",
       "      <td>71.58</td>\n",
       "      <td>62.96</td>\n",
       "      <td>40.22</td>\n",
       "    </tr>\n",
       "    <tr>\n",
       "      <th>2020-05-09</th>\n",
       "      <td>38.72</td>\n",
       "      <td>46.78</td>\n",
       "      <td>42.78</td>\n",
       "      <td>23.31</td>\n",
       "    </tr>\n",
       "  </tbody>\n",
       "</table>\n",
       "</div>"
      ],
      "text/plain": [
       "source      facebook_ads  instagram_new_adverts  yandex_direct  \\\n",
       "day                                                              \n",
       "2020-05-03        935.88                 943.20         969.14   \n",
       "2020-05-04        548.35                 502.93         554.65   \n",
       "2020-05-05        260.19                 313.97         308.23   \n",
       "2020-05-06        177.98                 173.07         180.92   \n",
       "2020-05-07        111.77                 109.92         114.43   \n",
       "2020-05-08         68.01                  71.58          62.96   \n",
       "2020-05-09         38.72                  46.78          42.78   \n",
       "\n",
       "source      youtube_channel_reklama  \n",
       "day                                  \n",
       "2020-05-03                   454.22  \n",
       "2020-05-04                   259.07  \n",
       "2020-05-05                   147.04  \n",
       "2020-05-06                    88.51  \n",
       "2020-05-07                    55.74  \n",
       "2020-05-08                    40.22  \n",
       "2020-05-09                    23.31  "
      ]
     },
     "execution_count": 12,
     "metadata": {},
     "output_type": "execute_result"
    }
   ],
   "source": [
    "ad_costs.pivot_table(index='day', columns='source',values='cost', aggfunc='sum')"
   ]
  },
  {
   "cell_type": "code",
   "execution_count": 13,
   "metadata": {},
   "outputs": [
    {
     "data": {
      "image/png": "[encoded data removed]",
      "text/plain": [
       "<Figure size 648x504 with 1 Axes>"
      ]
     },
     "metadata": {
      "needs_background": "light"
     },
     "output_type": "display_data"
    }
   ],
   "source": [
    "ad_costs.pivot_table(index='day', columns='source',values='cost', aggfunc='sum').plot(grid=True, figsize=(9, 7), title='Объем расходов на рекламу по каналам по дням, у.е.', ylabel='Объем, у.е.', xlabel='Дата');"
   ]
  },
  {
   "cell_type": "markdown",
   "metadata": {},
   "source": [
    "Видим существенное сокращение рекламных расходов за период в 5 дней: по yandex_direct от 969,14 ден.ед. до 42.78 ден.ед. 9 мая 2020 г.\n",
    "\n",
    "Та же тенденция наблюдается во всех остальных рекламных каналах.\n",
    "Это может быть связано как с эффективной настройкой рекламного канала, так и со снижением количества привлекаемых пользователей. Выясним это далее по таблице game_actions, с помощью которой посчитаем количество уникальных пользователей в день по рекламному источнику."
   ]
  },
  {
   "cell_type": "markdown",
   "metadata": {},
   "source": [
    "## Анализ пользовательских логов"
   ]
  },
  {
   "cell_type": "markdown",
   "metadata": {},
   "source": [
    "Посмотрим на значения и их количество в столбцах game_actions['event','building_type','project_type']:"
   ]
  },
  {
   "cell_type": "code",
   "execution_count": 14,
   "metadata": {},
   "outputs": [
    {
     "data": {
      "text/plain": [
       "'event'"
      ]
     },
     "metadata": {},
     "output_type": "display_data"
    },
    {
     "data": {
      "text/plain": [
       "building            127956\n",
       "finished_stage_1      5817\n",
       "project               1866\n",
       "Name: event, dtype: int64"
      ]
     },
     "metadata": {},
     "output_type": "display_data"
    },
    {
     "data": {
      "text/plain": [
       "'building_type'"
      ]
     },
     "metadata": {},
     "output_type": "display_data"
    },
    {
     "data": {
      "text/plain": [
       "spaceport          59325\n",
       "assembly_shop      54494\n",
       "research_center    14137\n",
       "Name: building_type, dtype: int64"
      ]
     },
     "metadata": {},
     "output_type": "display_data"
    },
    {
     "data": {
      "text/plain": [
       "'project_type'"
      ]
     },
     "metadata": {},
     "output_type": "display_data"
    },
    {
     "data": {
      "text/plain": [
       "satellite_orbital_assembly    1866\n",
       "Name: project_type, dtype: int64"
      ]
     },
     "metadata": {},
     "output_type": "display_data"
    }
   ],
   "source": [
    "for column in ['event','building_type','project_type']:\n",
    "    display(column, game_actions[column].value_counts())"
   ]
  },
  {
   "cell_type": "code",
   "execution_count": 15,
   "metadata": {},
   "outputs": [
    {
     "name": "stdout",
     "output_type": "stream",
     "text": [
      "Количество уникальных пользователей в датасете 13576 чел.\n"
     ]
    }
   ],
   "source": [
    "print('Количество уникальных пользователей в датасете',game_actions['user_id'].nunique(), 'чел.')"
   ]
  },
  {
   "cell_type": "markdown",
   "metadata": {},
   "source": [
    "Определим, сколько в среднем событий, объектов приходится на каждого игрока:"
   ]
  },
  {
   "cell_type": "code",
   "execution_count": 16,
   "metadata": {},
   "outputs": [
    {
     "data": {
      "text/plain": [
       "'Значение event приходящееся на 1 игрока'"
      ]
     },
     "metadata": {},
     "output_type": "display_data"
    },
    {
     "data": {
      "text/plain": [
       "building           9.43\n",
       "finished_stage_1   0.43\n",
       "project            0.14\n",
       "Name: event, dtype: float64"
      ]
     },
     "metadata": {},
     "output_type": "display_data"
    },
    {
     "data": {
      "text/plain": [
       "'Значение building_type приходящееся на 1 игрока'"
      ]
     },
     "metadata": {},
     "output_type": "display_data"
    },
    {
     "data": {
      "text/plain": [
       "spaceport         4.37\n",
       "assembly_shop     4.01\n",
       "research_center   1.04\n",
       "Name: building_type, dtype: float64"
      ]
     },
     "metadata": {},
     "output_type": "display_data"
    },
    {
     "data": {
      "text/plain": [
       "'Значение project_type приходящееся на 1 игрока'"
      ]
     },
     "metadata": {},
     "output_type": "display_data"
    },
    {
     "data": {
      "text/plain": [
       "satellite_orbital_assembly   0.14\n",
       "Name: project_type, dtype: float64"
      ]
     },
     "metadata": {},
     "output_type": "display_data"
    }
   ],
   "source": [
    "for column in ['event','building_type','project_type']:\n",
    "    display(f'Значение {column} приходящееся на 1 игрока', game_actions[column].value_counts()/game_actions['user_id'].nunique())"
   ]
  },
  {
   "cell_type": "code",
   "execution_count": 17,
   "metadata": {},
   "outputs": [
    {
     "name": "stdout",
     "output_type": "stream",
     "text": [
      "Время первого события в датасете 2020-05-04 00:00:01\n"
     ]
    }
   ],
   "source": [
    "print('Время первого события в датасете',game_actions['event_datetime'].min())"
   ]
  },
  {
   "cell_type": "code",
   "execution_count": 18,
   "metadata": {},
   "outputs": [
    {
     "name": "stdout",
     "output_type": "stream",
     "text": [
      "Время последнего события в датасете 2020-06-05 12:32:49\n"
     ]
    }
   ],
   "source": [
    "print('Время последнего события в датасете',game_actions['event_datetime'].max())"
   ]
  },
  {
   "cell_type": "markdown",
   "metadata": {},
   "source": [
    "Таблица `game_actions` содержит информацию о действиях 13576 уникальных пользователей за период с 4 мая по 5 июня 2020 года, 5817 из которых успешно перешли на 2-й уровень, при чем 1866 чел. реализовали исследовательский проект по орбитальной сборке спутников. \n",
    "\n",
    "Пользователи игры построили 127956 зданий разных типов, а значит, 127956 раз увидели рекламу, при этом было построено 59325 космопортов, 54494 сборочных цехов и 14137 исследовательских центров разработки орбитальных спутников.\n",
    "\n",
    "Проверим данные пользователей по времени первого события не позже 11 мая 2020 г. :"
   ]
  },
  {
   "cell_type": "code",
   "execution_count": 19,
   "metadata": {},
   "outputs": [
    {
     "data": {
      "text/html": [
       "<div>\n",
       "<style scoped>\n",
       "    .dataframe tbody tr th:only-of-type {\n",
       "        vertical-align: middle;\n",
       "    }\n",
       "\n",
       "    .dataframe tbody tr th {\n",
       "        vertical-align: top;\n",
       "    }\n",
       "\n",
       "    .dataframe thead th {\n",
       "        text-align: right;\n",
       "    }\n",
       "</style>\n",
       "<table border=\"1\" class=\"dataframe\">\n",
       "  <thead>\n",
       "    <tr style=\"text-align: right;\">\n",
       "      <th></th>\n",
       "      <th>user_id</th>\n",
       "      <th>first_event</th>\n",
       "      <th>start_datetime</th>\n",
       "      <th>last_event</th>\n",
       "      <th>end_datetime</th>\n",
       "    </tr>\n",
       "  </thead>\n",
       "  <tbody>\n",
       "    <tr>\n",
       "      <th>0</th>\n",
       "      <td>0001f83c-c6ac-4621-b7f0-8a28b283ac30</td>\n",
       "      <td>building</td>\n",
       "      <td>2020-05-06 01:07:37</td>\n",
       "      <td>building</td>\n",
       "      <td>2020-05-20 11:26:06</td>\n",
       "    </tr>\n",
       "    <tr>\n",
       "      <th>1</th>\n",
       "      <td>00151b4f-ba38-44a8-a650-d7cf130a0105</td>\n",
       "      <td>building</td>\n",
       "      <td>2020-05-06 03:09:12</td>\n",
       "      <td>building</td>\n",
       "      <td>2020-05-18 10:46:52</td>\n",
       "    </tr>\n",
       "    <tr>\n",
       "      <th>2</th>\n",
       "      <td>001aaea6-3d14-43f1-8ca8-7f48820f17aa</td>\n",
       "      <td>building</td>\n",
       "      <td>2020-05-05 18:08:52</td>\n",
       "      <td>building</td>\n",
       "      <td>2020-05-14 09:21:27</td>\n",
       "    </tr>\n",
       "    <tr>\n",
       "      <th>3</th>\n",
       "      <td>001d39dc-366c-4021-9604-6a3b9ff01e25</td>\n",
       "      <td>building</td>\n",
       "      <td>2020-05-05 21:02:05</td>\n",
       "      <td>finished_stage_1</td>\n",
       "      <td>2020-05-12 07:40:47</td>\n",
       "    </tr>\n",
       "    <tr>\n",
       "      <th>4</th>\n",
       "      <td>002f508f-67b6-479f-814b-b05f00d4e995</td>\n",
       "      <td>building</td>\n",
       "      <td>2020-05-05 13:49:58</td>\n",
       "      <td>building</td>\n",
       "      <td>2020-05-22 02:46:45</td>\n",
       "    </tr>\n",
       "    <tr>\n",
       "      <th>...</th>\n",
       "      <td>...</td>\n",
       "      <td>...</td>\n",
       "      <td>...</td>\n",
       "      <td>...</td>\n",
       "      <td>...</td>\n",
       "    </tr>\n",
       "    <tr>\n",
       "      <th>13571</th>\n",
       "      <td>ffef4fed-164c-40e1-bde1-3980f76d0fb5</td>\n",
       "      <td>building</td>\n",
       "      <td>2020-05-04 01:58:59</td>\n",
       "      <td>finished_stage_1</td>\n",
       "      <td>2020-05-11 22:15:54</td>\n",
       "    </tr>\n",
       "    <tr>\n",
       "      <th>13572</th>\n",
       "      <td>fffab3da-da0e-4e30-ae62-10d0a2e24a4e</td>\n",
       "      <td>building</td>\n",
       "      <td>2020-05-04 11:58:14</td>\n",
       "      <td>building</td>\n",
       "      <td>2020-05-14 10:11:36</td>\n",
       "    </tr>\n",
       "    <tr>\n",
       "      <th>13573</th>\n",
       "      <td>fffb626c-5ab6-47c9-8113-2062a2f18494</td>\n",
       "      <td>building</td>\n",
       "      <td>2020-05-04 02:05:09</td>\n",
       "      <td>finished_stage_1</td>\n",
       "      <td>2020-05-12 13:01:52</td>\n",
       "    </tr>\n",
       "    <tr>\n",
       "      <th>13574</th>\n",
       "      <td>ffff194a-56b7-4c12-860d-3485242ae7f5</td>\n",
       "      <td>building</td>\n",
       "      <td>2020-05-04 20:28:28</td>\n",
       "      <td>building</td>\n",
       "      <td>2020-05-11 22:04:30</td>\n",
       "    </tr>\n",
       "    <tr>\n",
       "      <th>13575</th>\n",
       "      <td>ffff69cc-fec1-4fd3-9f98-93be1112a6b8</td>\n",
       "      <td>building</td>\n",
       "      <td>2020-05-08 06:57:30</td>\n",
       "      <td>finished_stage_1</td>\n",
       "      <td>2020-05-25 14:05:51</td>\n",
       "    </tr>\n",
       "  </tbody>\n",
       "</table>\n",
       "<p>13576 rows × 5 columns</p>\n",
       "</div>"
      ],
      "text/plain": [
       "                                    user_id first_event      start_datetime  \\\n",
       "0      0001f83c-c6ac-4621-b7f0-8a28b283ac30    building 2020-05-06 01:07:37   \n",
       "1      00151b4f-ba38-44a8-a650-d7cf130a0105    building 2020-05-06 03:09:12   \n",
       "2      001aaea6-3d14-43f1-8ca8-7f48820f17aa    building 2020-05-05 18:08:52   \n",
       "3      001d39dc-366c-4021-9604-6a3b9ff01e25    building 2020-05-05 21:02:05   \n",
       "4      002f508f-67b6-479f-814b-b05f00d4e995    building 2020-05-05 13:49:58   \n",
       "...                                     ...         ...                 ...   \n",
       "13571  ffef4fed-164c-40e1-bde1-3980f76d0fb5    building 2020-05-04 01:58:59   \n",
       "13572  fffab3da-da0e-4e30-ae62-10d0a2e24a4e    building 2020-05-04 11:58:14   \n",
       "13573  fffb626c-5ab6-47c9-8113-2062a2f18494    building 2020-05-04 02:05:09   \n",
       "13574  ffff194a-56b7-4c12-860d-3485242ae7f5    building 2020-05-04 20:28:28   \n",
       "13575  ffff69cc-fec1-4fd3-9f98-93be1112a6b8    building 2020-05-08 06:57:30   \n",
       "\n",
       "             last_event        end_datetime  \n",
       "0              building 2020-05-20 11:26:06  \n",
       "1              building 2020-05-18 10:46:52  \n",
       "2              building 2020-05-14 09:21:27  \n",
       "3      finished_stage_1 2020-05-12 07:40:47  \n",
       "4              building 2020-05-22 02:46:45  \n",
       "...                 ...                 ...  \n",
       "13571  finished_stage_1 2020-05-11 22:15:54  \n",
       "13572          building 2020-05-14 10:11:36  \n",
       "13573  finished_stage_1 2020-05-12 13:01:52  \n",
       "13574          building 2020-05-11 22:04:30  \n",
       "13575  finished_stage_1 2020-05-25 14:05:51  \n",
       "\n",
       "[13576 rows x 5 columns]"
      ]
     },
     "execution_count": 19,
     "metadata": {},
     "output_type": "execute_result"
    }
   ],
   "source": [
    "check=game_actions.sort_values(by='event_datetime').pivot_table(index='user_id', values=['event','event_datetime'], aggfunc=['first', 'last']).reset_index(drop=False)\n",
    "check.columns=['user_id','first_event', 'start_datetime', 'last_event', 'end_datetime']\n",
    "check.query('start_datetime < \"2020-05-11\"')"
   ]
  },
  {
   "cell_type": "markdown",
   "metadata": {},
   "source": [
    "Видим, что выгруженные данные верны, лишних пользователей нет.\n",
    "\n",
    "Посмотрим на пользователей с заполненным значением типа проекта:"
   ]
  },
  {
   "cell_type": "code",
   "execution_count": 20,
   "metadata": {
    "scrolled": true
   },
   "outputs": [
    {
     "data": {
      "text/html": [
       "<div>\n",
       "<style scoped>\n",
       "    .dataframe tbody tr th:only-of-type {\n",
       "        vertical-align: middle;\n",
       "    }\n",
       "\n",
       "    .dataframe tbody tr th {\n",
       "        vertical-align: top;\n",
       "    }\n",
       "\n",
       "    .dataframe thead th {\n",
       "        text-align: right;\n",
       "    }\n",
       "</style>\n",
       "<table border=\"1\" class=\"dataframe\">\n",
       "  <thead>\n",
       "    <tr style=\"text-align: right;\">\n",
       "      <th></th>\n",
       "      <th>event_datetime</th>\n",
       "      <th>event</th>\n",
       "      <th>building_type</th>\n",
       "      <th>user_id</th>\n",
       "      <th>project_type</th>\n",
       "    </tr>\n",
       "  </thead>\n",
       "  <tbody>\n",
       "    <tr>\n",
       "      <th>47121</th>\n",
       "      <td>2020-05-08 18:10:25</td>\n",
       "      <td>project</td>\n",
       "      <td>NaN</td>\n",
       "      <td>e3c66498-9d45-4000-9392-f81e6796e7da</td>\n",
       "      <td>satellite_orbital_assembly</td>\n",
       "    </tr>\n",
       "    <tr>\n",
       "      <th>57398</th>\n",
       "      <td>2020-05-09 13:49:11</td>\n",
       "      <td>project</td>\n",
       "      <td>NaN</td>\n",
       "      <td>936e7af6-8338-4703-a1df-fc6c3f5b8e34</td>\n",
       "      <td>satellite_orbital_assembly</td>\n",
       "    </tr>\n",
       "    <tr>\n",
       "      <th>58797</th>\n",
       "      <td>2020-05-09 16:19:33</td>\n",
       "      <td>project</td>\n",
       "      <td>NaN</td>\n",
       "      <td>a4491c86-c498-4f74-a56e-65c136d0e9a1</td>\n",
       "      <td>satellite_orbital_assembly</td>\n",
       "    </tr>\n",
       "    <tr>\n",
       "      <th>61174</th>\n",
       "      <td>2020-05-09 20:29:01</td>\n",
       "      <td>project</td>\n",
       "      <td>NaN</td>\n",
       "      <td>85d9e675-562b-4329-8bbd-14d3b39096be</td>\n",
       "      <td>satellite_orbital_assembly</td>\n",
       "    </tr>\n",
       "    <tr>\n",
       "      <th>63770</th>\n",
       "      <td>2020-05-10 00:57:47</td>\n",
       "      <td>project</td>\n",
       "      <td>NaN</td>\n",
       "      <td>1889ca71-3c57-4e61-9ea6-a711971bbf0a</td>\n",
       "      <td>satellite_orbital_assembly</td>\n",
       "    </tr>\n",
       "    <tr>\n",
       "      <th>...</th>\n",
       "      <td>...</td>\n",
       "      <td>...</td>\n",
       "      <td>...</td>\n",
       "      <td>...</td>\n",
       "      <td>...</td>\n",
       "    </tr>\n",
       "    <tr>\n",
       "      <th>135602</th>\n",
       "      <td>2020-06-02 03:04:42</td>\n",
       "      <td>project</td>\n",
       "      <td>NaN</td>\n",
       "      <td>9d98001c-7e14-40d7-896e-46b3047365fd</td>\n",
       "      <td>satellite_orbital_assembly</td>\n",
       "    </tr>\n",
       "    <tr>\n",
       "      <th>135603</th>\n",
       "      <td>2020-06-02 06:21:03</td>\n",
       "      <td>project</td>\n",
       "      <td>NaN</td>\n",
       "      <td>df4a1e13-eba9-4928-a7cf-ee303d6f80f9</td>\n",
       "      <td>satellite_orbital_assembly</td>\n",
       "    </tr>\n",
       "    <tr>\n",
       "      <th>135609</th>\n",
       "      <td>2020-06-02 17:17:28</td>\n",
       "      <td>project</td>\n",
       "      <td>NaN</td>\n",
       "      <td>82e46f34-e243-4728-8e20-2e171fc33ea4</td>\n",
       "      <td>satellite_orbital_assembly</td>\n",
       "    </tr>\n",
       "    <tr>\n",
       "      <th>135617</th>\n",
       "      <td>2020-06-03 09:46:04</td>\n",
       "      <td>project</td>\n",
       "      <td>NaN</td>\n",
       "      <td>fe032991-71e0-48c5-889f-4c3805ba4c9b</td>\n",
       "      <td>satellite_orbital_assembly</td>\n",
       "    </tr>\n",
       "    <tr>\n",
       "      <th>135630</th>\n",
       "      <td>2020-06-04 08:29:42</td>\n",
       "      <td>project</td>\n",
       "      <td>NaN</td>\n",
       "      <td>d477dde8-7c22-4f23-9c4f-4ec31a1aa4c8</td>\n",
       "      <td>satellite_orbital_assembly</td>\n",
       "    </tr>\n",
       "  </tbody>\n",
       "</table>\n",
       "<p>1866 rows × 5 columns</p>\n",
       "</div>"
      ],
      "text/plain": [
       "            event_datetime    event building_type  \\\n",
       "47121  2020-05-08 18:10:25  project           NaN   \n",
       "57398  2020-05-09 13:49:11  project           NaN   \n",
       "58797  2020-05-09 16:19:33  project           NaN   \n",
       "61174  2020-05-09 20:29:01  project           NaN   \n",
       "63770  2020-05-10 00:57:47  project           NaN   \n",
       "...                    ...      ...           ...   \n",
       "135602 2020-06-02 03:04:42  project           NaN   \n",
       "135603 2020-06-02 06:21:03  project           NaN   \n",
       "135609 2020-06-02 17:17:28  project           NaN   \n",
       "135617 2020-06-03 09:46:04  project           NaN   \n",
       "135630 2020-06-04 08:29:42  project           NaN   \n",
       "\n",
       "                                     user_id                project_type  \n",
       "47121   e3c66498-9d45-4000-9392-f81e6796e7da  satellite_orbital_assembly  \n",
       "57398   936e7af6-8338-4703-a1df-fc6c3f5b8e34  satellite_orbital_assembly  \n",
       "58797   a4491c86-c498-4f74-a56e-65c136d0e9a1  satellite_orbital_assembly  \n",
       "61174   85d9e675-562b-4329-8bbd-14d3b39096be  satellite_orbital_assembly  \n",
       "63770   1889ca71-3c57-4e61-9ea6-a711971bbf0a  satellite_orbital_assembly  \n",
       "...                                      ...                         ...  \n",
       "135602  9d98001c-7e14-40d7-896e-46b3047365fd  satellite_orbital_assembly  \n",
       "135603  df4a1e13-eba9-4928-a7cf-ee303d6f80f9  satellite_orbital_assembly  \n",
       "135609  82e46f34-e243-4728-8e20-2e171fc33ea4  satellite_orbital_assembly  \n",
       "135617  fe032991-71e0-48c5-889f-4c3805ba4c9b  satellite_orbital_assembly  \n",
       "135630  d477dde8-7c22-4f23-9c4f-4ec31a1aa4c8  satellite_orbital_assembly  \n",
       "\n",
       "[1866 rows x 5 columns]"
      ]
     },
     "execution_count": 20,
     "metadata": {},
     "output_type": "execute_result"
    }
   ],
   "source": [
    "game_actions.query('project_type == \"satellite_orbital_assembly\"')"
   ]
  },
  {
   "cell_type": "markdown",
   "metadata": {},
   "source": [
    "Ранее по данным `game_actions` видели, что при `event=project` всегда имеем 'project_type = \"satellite_orbital_assembly\"', поэтому столбец `project_type` не несет новой информации и его можно не использовать при составлении профилей пользователей."
   ]
  },
  {
   "cell_type": "markdown",
   "metadata": {},
   "source": [
    "## Создание профилей пользователей и полной аналитики по ним"
   ]
  },
  {
   "cell_type": "markdown",
   "metadata": {},
   "source": [
    "Начнем постепенное создание датасета с профилями пользователей на основе таблицы 'check'. \n",
    "\n",
    "**1. Определим продолжительность времени от первого события до последнего, округлив до часов \"delta_time\".**\n",
    "\n",
    "Также изменим отображение данных по столбцу \"start_datetime\" и 'end_datetime', округлим до дней, для последующего расчета количества уникальных пользователей , привлеченных в конкретный день."
   ]
  },
  {
   "cell_type": "code",
   "execution_count": 21,
   "metadata": {},
   "outputs": [
    {
     "data": {
      "text/html": [
       "<div>\n",
       "<style scoped>\n",
       "    .dataframe tbody tr th:only-of-type {\n",
       "        vertical-align: middle;\n",
       "    }\n",
       "\n",
       "    .dataframe tbody tr th {\n",
       "        vertical-align: top;\n",
       "    }\n",
       "\n",
       "    .dataframe thead th {\n",
       "        text-align: right;\n",
       "    }\n",
       "</style>\n",
       "<table border=\"1\" class=\"dataframe\">\n",
       "  <thead>\n",
       "    <tr style=\"text-align: right;\">\n",
       "      <th></th>\n",
       "      <th>user_id</th>\n",
       "      <th>first_event</th>\n",
       "      <th>start_datetime</th>\n",
       "      <th>last_event</th>\n",
       "      <th>end_datetime</th>\n",
       "      <th>delta_time</th>\n",
       "    </tr>\n",
       "  </thead>\n",
       "  <tbody>\n",
       "    <tr>\n",
       "      <th>0</th>\n",
       "      <td>0001f83c-c6ac-4621-b7f0-8a28b283ac30</td>\n",
       "      <td>building</td>\n",
       "      <td>2020-05-06</td>\n",
       "      <td>building</td>\n",
       "      <td>2020-05-20</td>\n",
       "      <td>14 days 11:00:00</td>\n",
       "    </tr>\n",
       "    <tr>\n",
       "      <th>1</th>\n",
       "      <td>00151b4f-ba38-44a8-a650-d7cf130a0105</td>\n",
       "      <td>building</td>\n",
       "      <td>2020-05-06</td>\n",
       "      <td>building</td>\n",
       "      <td>2020-05-18</td>\n",
       "      <td>12 days 08:00:00</td>\n",
       "    </tr>\n",
       "    <tr>\n",
       "      <th>2</th>\n",
       "      <td>001aaea6-3d14-43f1-8ca8-7f48820f17aa</td>\n",
       "      <td>building</td>\n",
       "      <td>2020-05-05</td>\n",
       "      <td>building</td>\n",
       "      <td>2020-05-14</td>\n",
       "      <td>8 days 16:00:00</td>\n",
       "    </tr>\n",
       "    <tr>\n",
       "      <th>3</th>\n",
       "      <td>001d39dc-366c-4021-9604-6a3b9ff01e25</td>\n",
       "      <td>building</td>\n",
       "      <td>2020-05-05</td>\n",
       "      <td>finished_stage_1</td>\n",
       "      <td>2020-05-12</td>\n",
       "      <td>6 days 11:00:00</td>\n",
       "    </tr>\n",
       "    <tr>\n",
       "      <th>4</th>\n",
       "      <td>002f508f-67b6-479f-814b-b05f00d4e995</td>\n",
       "      <td>building</td>\n",
       "      <td>2020-05-05</td>\n",
       "      <td>building</td>\n",
       "      <td>2020-05-22</td>\n",
       "      <td>16 days 13:00:00</td>\n",
       "    </tr>\n",
       "    <tr>\n",
       "      <th>...</th>\n",
       "      <td>...</td>\n",
       "      <td>...</td>\n",
       "      <td>...</td>\n",
       "      <td>...</td>\n",
       "      <td>...</td>\n",
       "      <td>...</td>\n",
       "    </tr>\n",
       "    <tr>\n",
       "      <th>13571</th>\n",
       "      <td>ffef4fed-164c-40e1-bde1-3980f76d0fb5</td>\n",
       "      <td>building</td>\n",
       "      <td>2020-05-04</td>\n",
       "      <td>finished_stage_1</td>\n",
       "      <td>2020-05-11</td>\n",
       "      <td>7 days 21:00:00</td>\n",
       "    </tr>\n",
       "    <tr>\n",
       "      <th>13572</th>\n",
       "      <td>fffab3da-da0e-4e30-ae62-10d0a2e24a4e</td>\n",
       "      <td>building</td>\n",
       "      <td>2020-05-04</td>\n",
       "      <td>building</td>\n",
       "      <td>2020-05-14</td>\n",
       "      <td>9 days 23:00:00</td>\n",
       "    </tr>\n",
       "    <tr>\n",
       "      <th>13573</th>\n",
       "      <td>fffb626c-5ab6-47c9-8113-2062a2f18494</td>\n",
       "      <td>building</td>\n",
       "      <td>2020-05-04</td>\n",
       "      <td>finished_stage_1</td>\n",
       "      <td>2020-05-12</td>\n",
       "      <td>8 days 11:00:00</td>\n",
       "    </tr>\n",
       "    <tr>\n",
       "      <th>13574</th>\n",
       "      <td>ffff194a-56b7-4c12-860d-3485242ae7f5</td>\n",
       "      <td>building</td>\n",
       "      <td>2020-05-04</td>\n",
       "      <td>building</td>\n",
       "      <td>2020-05-11</td>\n",
       "      <td>7 days 02:00:00</td>\n",
       "    </tr>\n",
       "    <tr>\n",
       "      <th>13575</th>\n",
       "      <td>ffff69cc-fec1-4fd3-9f98-93be1112a6b8</td>\n",
       "      <td>building</td>\n",
       "      <td>2020-05-08</td>\n",
       "      <td>finished_stage_1</td>\n",
       "      <td>2020-05-25</td>\n",
       "      <td>17 days 08:00:00</td>\n",
       "    </tr>\n",
       "  </tbody>\n",
       "</table>\n",
       "<p>13576 rows × 6 columns</p>\n",
       "</div>"
      ],
      "text/plain": [
       "                                    user_id first_event start_datetime  \\\n",
       "0      0001f83c-c6ac-4621-b7f0-8a28b283ac30    building     2020-05-06   \n",
       "1      00151b4f-ba38-44a8-a650-d7cf130a0105    building     2020-05-06   \n",
       "2      001aaea6-3d14-43f1-8ca8-7f48820f17aa    building     2020-05-05   \n",
       "3      001d39dc-366c-4021-9604-6a3b9ff01e25    building     2020-05-05   \n",
       "4      002f508f-67b6-479f-814b-b05f00d4e995    building     2020-05-05   \n",
       "...                                     ...         ...            ...   \n",
       "13571  ffef4fed-164c-40e1-bde1-3980f76d0fb5    building     2020-05-04   \n",
       "13572  fffab3da-da0e-4e30-ae62-10d0a2e24a4e    building     2020-05-04   \n",
       "13573  fffb626c-5ab6-47c9-8113-2062a2f18494    building     2020-05-04   \n",
       "13574  ffff194a-56b7-4c12-860d-3485242ae7f5    building     2020-05-04   \n",
       "13575  ffff69cc-fec1-4fd3-9f98-93be1112a6b8    building     2020-05-08   \n",
       "\n",
       "             last_event end_datetime       delta_time  \n",
       "0              building   2020-05-20 14 days 11:00:00  \n",
       "1              building   2020-05-18 12 days 08:00:00  \n",
       "2              building   2020-05-14  8 days 16:00:00  \n",
       "3      finished_stage_1   2020-05-12  6 days 11:00:00  \n",
       "4              building   2020-05-22 16 days 13:00:00  \n",
       "...                 ...          ...              ...  \n",
       "13571  finished_stage_1   2020-05-11  7 days 21:00:00  \n",
       "13572          building   2020-05-14  9 days 23:00:00  \n",
       "13573  finished_stage_1   2020-05-12  8 days 11:00:00  \n",
       "13574          building   2020-05-11  7 days 02:00:00  \n",
       "13575  finished_stage_1   2020-05-25 17 days 08:00:00  \n",
       "\n",
       "[13576 rows x 6 columns]"
      ]
     },
     "execution_count": 21,
     "metadata": {},
     "output_type": "execute_result"
    }
   ],
   "source": [
    "check['delta_time']=check['end_datetime']-check['start_datetime']\n",
    "check['delta_time']=check['delta_time'].dt.ceil('1H')\n",
    "check['start_datetime']=check['start_datetime'].dt.floor('1D')\n",
    "check['end_datetime']=check['end_datetime'].dt.floor('1D')\n",
    "check"
   ]
  },
  {
   "cell_type": "markdown",
   "metadata": {},
   "source": [
    "**2. Посчитаем количество разных событий, типов построек в игре по каждому пользователю.** Для этого создадим дополнительные таблицы с помощью метода \"query\":"
   ]
  },
  {
   "cell_type": "code",
   "execution_count": 22,
   "metadata": {},
   "outputs": [
    {
     "data": {
      "text/html": [
       "<div>\n",
       "<style scoped>\n",
       "    .dataframe tbody tr th:only-of-type {\n",
       "        vertical-align: middle;\n",
       "    }\n",
       "\n",
       "    .dataframe tbody tr th {\n",
       "        vertical-align: top;\n",
       "    }\n",
       "\n",
       "    .dataframe thead th {\n",
       "        text-align: right;\n",
       "    }\n",
       "</style>\n",
       "<table border=\"1\" class=\"dataframe\">\n",
       "  <thead>\n",
       "    <tr style=\"text-align: right;\">\n",
       "      <th></th>\n",
       "      <th>user_id</th>\n",
       "      <th>building_event</th>\n",
       "    </tr>\n",
       "  </thead>\n",
       "  <tbody>\n",
       "    <tr>\n",
       "      <th>0</th>\n",
       "      <td>0001f83c-c6ac-4621-b7f0-8a28b283ac30</td>\n",
       "      <td>13</td>\n",
       "    </tr>\n",
       "    <tr>\n",
       "      <th>1</th>\n",
       "      <td>00151b4f-ba38-44a8-a650-d7cf130a0105</td>\n",
       "      <td>9</td>\n",
       "    </tr>\n",
       "    <tr>\n",
       "      <th>2</th>\n",
       "      <td>001aaea6-3d14-43f1-8ca8-7f48820f17aa</td>\n",
       "      <td>4</td>\n",
       "    </tr>\n",
       "    <tr>\n",
       "      <th>3</th>\n",
       "      <td>001d39dc-366c-4021-9604-6a3b9ff01e25</td>\n",
       "      <td>8</td>\n",
       "    </tr>\n",
       "    <tr>\n",
       "      <th>4</th>\n",
       "      <td>002f508f-67b6-479f-814b-b05f00d4e995</td>\n",
       "      <td>12</td>\n",
       "    </tr>\n",
       "  </tbody>\n",
       "</table>\n",
       "</div>"
      ],
      "text/plain": [
       "                                user_id  building_event\n",
       "0  0001f83c-c6ac-4621-b7f0-8a28b283ac30              13\n",
       "1  00151b4f-ba38-44a8-a650-d7cf130a0105               9\n",
       "2  001aaea6-3d14-43f1-8ca8-7f48820f17aa               4\n",
       "3  001d39dc-366c-4021-9604-6a3b9ff01e25               8\n",
       "4  002f508f-67b6-479f-814b-b05f00d4e995              12"
      ]
     },
     "metadata": {},
     "output_type": "display_data"
    }
   ],
   "source": [
    "building_event=game_actions.query('event == \"building\"')\n",
    "building_event=building_event.groupby('user_id').agg({'event':'count'})\\\n",
    ".reset_index(drop=False).rename(columns={'event':'building_event'})\n",
    "display(building_event.head())"
   ]
  },
  {
   "cell_type": "code",
   "execution_count": 23,
   "metadata": {},
   "outputs": [
    {
     "data": {
      "text/html": [
       "<div>\n",
       "<style scoped>\n",
       "    .dataframe tbody tr th:only-of-type {\n",
       "        vertical-align: middle;\n",
       "    }\n",
       "\n",
       "    .dataframe tbody tr th {\n",
       "        vertical-align: top;\n",
       "    }\n",
       "\n",
       "    .dataframe thead th {\n",
       "        text-align: right;\n",
       "    }\n",
       "</style>\n",
       "<table border=\"1\" class=\"dataframe\">\n",
       "  <thead>\n",
       "    <tr style=\"text-align: right;\">\n",
       "      <th></th>\n",
       "      <th>user_id</th>\n",
       "      <th>assembly_shop</th>\n",
       "    </tr>\n",
       "  </thead>\n",
       "  <tbody>\n",
       "    <tr>\n",
       "      <th>0</th>\n",
       "      <td>0001f83c-c6ac-4621-b7f0-8a28b283ac30</td>\n",
       "      <td>6</td>\n",
       "    </tr>\n",
       "    <tr>\n",
       "      <th>1</th>\n",
       "      <td>00151b4f-ba38-44a8-a650-d7cf130a0105</td>\n",
       "      <td>4</td>\n",
       "    </tr>\n",
       "    <tr>\n",
       "      <th>2</th>\n",
       "      <td>001aaea6-3d14-43f1-8ca8-7f48820f17aa</td>\n",
       "      <td>2</td>\n",
       "    </tr>\n",
       "    <tr>\n",
       "      <th>3</th>\n",
       "      <td>001d39dc-366c-4021-9604-6a3b9ff01e25</td>\n",
       "      <td>4</td>\n",
       "    </tr>\n",
       "    <tr>\n",
       "      <th>4</th>\n",
       "      <td>002f508f-67b6-479f-814b-b05f00d4e995</td>\n",
       "      <td>3</td>\n",
       "    </tr>\n",
       "  </tbody>\n",
       "</table>\n",
       "</div>"
      ],
      "text/plain": [
       "                                user_id  assembly_shop\n",
       "0  0001f83c-c6ac-4621-b7f0-8a28b283ac30              6\n",
       "1  00151b4f-ba38-44a8-a650-d7cf130a0105              4\n",
       "2  001aaea6-3d14-43f1-8ca8-7f48820f17aa              2\n",
       "3  001d39dc-366c-4021-9604-6a3b9ff01e25              4\n",
       "4  002f508f-67b6-479f-814b-b05f00d4e995              3"
      ]
     },
     "metadata": {},
     "output_type": "display_data"
    }
   ],
   "source": [
    "assembly_building=game_actions.query('building_type == \"assembly_shop\"')\n",
    "assembly_building=assembly_building.groupby('user_id').agg({'event':'count'})\\\n",
    ".reset_index(drop=False).rename(columns={'event':'assembly_shop'})\n",
    "display(assembly_building.head())"
   ]
  },
  {
   "cell_type": "code",
   "execution_count": 24,
   "metadata": {},
   "outputs": [
    {
     "data": {
      "text/html": [
       "<div>\n",
       "<style scoped>\n",
       "    .dataframe tbody tr th:only-of-type {\n",
       "        vertical-align: middle;\n",
       "    }\n",
       "\n",
       "    .dataframe tbody tr th {\n",
       "        vertical-align: top;\n",
       "    }\n",
       "\n",
       "    .dataframe thead th {\n",
       "        text-align: right;\n",
       "    }\n",
       "</style>\n",
       "<table border=\"1\" class=\"dataframe\">\n",
       "  <thead>\n",
       "    <tr style=\"text-align: right;\">\n",
       "      <th></th>\n",
       "      <th>user_id</th>\n",
       "      <th>spaceport</th>\n",
       "    </tr>\n",
       "  </thead>\n",
       "  <tbody>\n",
       "    <tr>\n",
       "      <th>0</th>\n",
       "      <td>0001f83c-c6ac-4621-b7f0-8a28b283ac30</td>\n",
       "      <td>6</td>\n",
       "    </tr>\n",
       "    <tr>\n",
       "      <th>1</th>\n",
       "      <td>00151b4f-ba38-44a8-a650-d7cf130a0105</td>\n",
       "      <td>5</td>\n",
       "    </tr>\n",
       "    <tr>\n",
       "      <th>2</th>\n",
       "      <td>001aaea6-3d14-43f1-8ca8-7f48820f17aa</td>\n",
       "      <td>2</td>\n",
       "    </tr>\n",
       "    <tr>\n",
       "      <th>3</th>\n",
       "      <td>001d39dc-366c-4021-9604-6a3b9ff01e25</td>\n",
       "      <td>4</td>\n",
       "    </tr>\n",
       "    <tr>\n",
       "      <th>4</th>\n",
       "      <td>002f508f-67b6-479f-814b-b05f00d4e995</td>\n",
       "      <td>8</td>\n",
       "    </tr>\n",
       "  </tbody>\n",
       "</table>\n",
       "</div>"
      ],
      "text/plain": [
       "                                user_id  spaceport\n",
       "0  0001f83c-c6ac-4621-b7f0-8a28b283ac30          6\n",
       "1  00151b4f-ba38-44a8-a650-d7cf130a0105          5\n",
       "2  001aaea6-3d14-43f1-8ca8-7f48820f17aa          2\n",
       "3  001d39dc-366c-4021-9604-6a3b9ff01e25          4\n",
       "4  002f508f-67b6-479f-814b-b05f00d4e995          8"
      ]
     },
     "metadata": {},
     "output_type": "display_data"
    }
   ],
   "source": [
    "spaceport_building=game_actions.query('building_type == \"spaceport\"')\n",
    "spaceport_building=spaceport_building.groupby('user_id').agg({'event':'count'}).reset_index(drop=False)\\\n",
    ".rename(columns={'event':'spaceport'})\n",
    "display(spaceport_building.head())"
   ]
  },
  {
   "cell_type": "code",
   "execution_count": 25,
   "metadata": {},
   "outputs": [
    {
     "data": {
      "text/html": [
       "<div>\n",
       "<style scoped>\n",
       "    .dataframe tbody tr th:only-of-type {\n",
       "        vertical-align: middle;\n",
       "    }\n",
       "\n",
       "    .dataframe tbody tr th {\n",
       "        vertical-align: top;\n",
       "    }\n",
       "\n",
       "    .dataframe thead th {\n",
       "        text-align: right;\n",
       "    }\n",
       "</style>\n",
       "<table border=\"1\" class=\"dataframe\">\n",
       "  <thead>\n",
       "    <tr style=\"text-align: right;\">\n",
       "      <th></th>\n",
       "      <th>user_id</th>\n",
       "      <th>research_center</th>\n",
       "    </tr>\n",
       "  </thead>\n",
       "  <tbody>\n",
       "    <tr>\n",
       "      <th>0</th>\n",
       "      <td>0001f83c-c6ac-4621-b7f0-8a28b283ac30</td>\n",
       "      <td>1</td>\n",
       "    </tr>\n",
       "    <tr>\n",
       "      <th>1</th>\n",
       "      <td>002f508f-67b6-479f-814b-b05f00d4e995</td>\n",
       "      <td>1</td>\n",
       "    </tr>\n",
       "    <tr>\n",
       "      <th>2</th>\n",
       "      <td>003ee7e8-6356-4286-a715-62f22a18d2a1</td>\n",
       "      <td>1</td>\n",
       "    </tr>\n",
       "    <tr>\n",
       "      <th>3</th>\n",
       "      <td>004074f8-251a-4776-922c-8348dca1a2f6</td>\n",
       "      <td>2</td>\n",
       "    </tr>\n",
       "    <tr>\n",
       "      <th>4</th>\n",
       "      <td>00606a1c-51e1-48d1-b053-77be528527c0</td>\n",
       "      <td>1</td>\n",
       "    </tr>\n",
       "  </tbody>\n",
       "</table>\n",
       "</div>"
      ],
      "text/plain": [
       "                                user_id  research_center\n",
       "0  0001f83c-c6ac-4621-b7f0-8a28b283ac30                1\n",
       "1  002f508f-67b6-479f-814b-b05f00d4e995                1\n",
       "2  003ee7e8-6356-4286-a715-62f22a18d2a1                1\n",
       "3  004074f8-251a-4776-922c-8348dca1a2f6                2\n",
       "4  00606a1c-51e1-48d1-b053-77be528527c0                1"
      ]
     },
     "metadata": {},
     "output_type": "display_data"
    }
   ],
   "source": [
    "research_building=game_actions.query('building_type == \"research_center\"')\n",
    "research_building=research_building.groupby('user_id').agg({'event':'count'}).reset_index(drop=False)\\\n",
    ".rename(columns={'event':'research_center'})\n",
    "display(research_building.head())"
   ]
  },
  {
   "cell_type": "code",
   "execution_count": 26,
   "metadata": {},
   "outputs": [
    {
     "data": {
      "text/html": [
       "<div>\n",
       "<style scoped>\n",
       "    .dataframe tbody tr th:only-of-type {\n",
       "        vertical-align: middle;\n",
       "    }\n",
       "\n",
       "    .dataframe tbody tr th {\n",
       "        vertical-align: top;\n",
       "    }\n",
       "\n",
       "    .dataframe thead th {\n",
       "        text-align: right;\n",
       "    }\n",
       "</style>\n",
       "<table border=\"1\" class=\"dataframe\">\n",
       "  <thead>\n",
       "    <tr style=\"text-align: right;\">\n",
       "      <th></th>\n",
       "      <th>user_id</th>\n",
       "      <th>finish_event</th>\n",
       "    </tr>\n",
       "  </thead>\n",
       "  <tbody>\n",
       "    <tr>\n",
       "      <th>0</th>\n",
       "      <td>001d39dc-366c-4021-9604-6a3b9ff01e25</td>\n",
       "      <td>1</td>\n",
       "    </tr>\n",
       "    <tr>\n",
       "      <th>1</th>\n",
       "      <td>003ee7e8-6356-4286-a715-62f22a18d2a1</td>\n",
       "      <td>1</td>\n",
       "    </tr>\n",
       "    <tr>\n",
       "      <th>2</th>\n",
       "      <td>004074f8-251a-4776-922c-8348dca1a2f6</td>\n",
       "      <td>1</td>\n",
       "    </tr>\n",
       "    <tr>\n",
       "      <th>3</th>\n",
       "      <td>00464e5e-28ed-4be6-bf44-517ef7b3937b</td>\n",
       "      <td>1</td>\n",
       "    </tr>\n",
       "    <tr>\n",
       "      <th>4</th>\n",
       "      <td>0056c007-c082-43cc-bdef-afc49bca4cb9</td>\n",
       "      <td>1</td>\n",
       "    </tr>\n",
       "  </tbody>\n",
       "</table>\n",
       "</div>"
      ],
      "text/plain": [
       "                                user_id  finish_event\n",
       "0  001d39dc-366c-4021-9604-6a3b9ff01e25             1\n",
       "1  003ee7e8-6356-4286-a715-62f22a18d2a1             1\n",
       "2  004074f8-251a-4776-922c-8348dca1a2f6             1\n",
       "3  00464e5e-28ed-4be6-bf44-517ef7b3937b             1\n",
       "4  0056c007-c082-43cc-bdef-afc49bca4cb9             1"
      ]
     },
     "metadata": {},
     "output_type": "display_data"
    }
   ],
   "source": [
    "finish_event=game_actions.query('event == \"finished_stage_1\"')\n",
    "finish_event=finish_event.groupby('user_id').agg({'event':'count'}).reset_index(drop=False)\\\n",
    ".rename(columns={'event':'finish_event'})\n",
    "display(finish_event.head())"
   ]
  },
  {
   "cell_type": "code",
   "execution_count": 27,
   "metadata": {},
   "outputs": [
    {
     "data": {
      "text/html": [
       "<div>\n",
       "<style scoped>\n",
       "    .dataframe tbody tr th:only-of-type {\n",
       "        vertical-align: middle;\n",
       "    }\n",
       "\n",
       "    .dataframe tbody tr th {\n",
       "        vertical-align: top;\n",
       "    }\n",
       "\n",
       "    .dataframe thead th {\n",
       "        text-align: right;\n",
       "    }\n",
       "</style>\n",
       "<table border=\"1\" class=\"dataframe\">\n",
       "  <thead>\n",
       "    <tr style=\"text-align: right;\">\n",
       "      <th></th>\n",
       "      <th>user_id</th>\n",
       "      <th>project_event</th>\n",
       "    </tr>\n",
       "  </thead>\n",
       "  <tbody>\n",
       "    <tr>\n",
       "      <th>0</th>\n",
       "      <td>006380d6-67a6-45de-ab1e-6eb54ad8dbe8</td>\n",
       "      <td>1</td>\n",
       "    </tr>\n",
       "    <tr>\n",
       "      <th>1</th>\n",
       "      <td>00be7371-fa79-4fbd-b8e7-8ba32e3f8f82</td>\n",
       "      <td>1</td>\n",
       "    </tr>\n",
       "    <tr>\n",
       "      <th>2</th>\n",
       "      <td>00c2b9f2-2615-439c-aed0-6974e4c6c1c1</td>\n",
       "      <td>1</td>\n",
       "    </tr>\n",
       "    <tr>\n",
       "      <th>3</th>\n",
       "      <td>00de2809-403e-4476-a2f7-ca1b11700190</td>\n",
       "      <td>1</td>\n",
       "    </tr>\n",
       "    <tr>\n",
       "      <th>4</th>\n",
       "      <td>00e83261-5fd4-4939-9616-802b5a0202c6</td>\n",
       "      <td>1</td>\n",
       "    </tr>\n",
       "  </tbody>\n",
       "</table>\n",
       "</div>"
      ],
      "text/plain": [
       "                                user_id  project_event\n",
       "0  006380d6-67a6-45de-ab1e-6eb54ad8dbe8              1\n",
       "1  00be7371-fa79-4fbd-b8e7-8ba32e3f8f82              1\n",
       "2  00c2b9f2-2615-439c-aed0-6974e4c6c1c1              1\n",
       "3  00de2809-403e-4476-a2f7-ca1b11700190              1\n",
       "4  00e83261-5fd4-4939-9616-802b5a0202c6              1"
      ]
     },
     "metadata": {},
     "output_type": "display_data"
    }
   ],
   "source": [
    "project_event=game_actions.query('event == \"project\"')\n",
    "project_event=project_event.groupby('user_id').agg({'event':'count'}).reset_index(drop=False)\\\n",
    ".rename(columns={'event':'project_event'})\n",
    "display(project_event.head())"
   ]
  },
  {
   "cell_type": "markdown",
   "metadata": {},
   "source": [
    "**3. Присоедим созданные таблицы к датаесту \"check\", переименовав его в \"profiles\".**"
   ]
  },
  {
   "cell_type": "code",
   "execution_count": 28,
   "metadata": {},
   "outputs": [],
   "source": [
    "profiles=check.merge(building_event, on='user_id', how='left')\n",
    "profiles=profiles.merge(assembly_building, on='user_id', how='left')\n",
    "profiles=profiles.merge(spaceport_building, on='user_id', how='left')\n",
    "profiles=profiles.merge(research_building, on='user_id', how='left')\n",
    "profiles=profiles.merge(finish_event, on='user_id', how='left')\n",
    "profiles=profiles.merge(project_event, on='user_id', how='left')"
   ]
  },
  {
   "cell_type": "markdown",
   "metadata": {},
   "source": [
    "**4. Добавим в \"profiles\" данные об источнике привлечения пользователя.**"
   ]
  },
  {
   "cell_type": "code",
   "execution_count": 29,
   "metadata": {},
   "outputs": [],
   "source": [
    "profiles=profiles.merge(user_source, on='user_id', how='left')"
   ]
  },
  {
   "cell_type": "markdown",
   "metadata": {},
   "source": [
    "Заполним пропуски нулями, так как они образовались в расчетных столбцах и обозначают отсутствие обьектов данного типа у пользователя."
   ]
  },
  {
   "cell_type": "code",
   "execution_count": 30,
   "metadata": {},
   "outputs": [],
   "source": [
    "profiles.loc[:, profiles.dtypes.eq(float)] = profiles.select_dtypes(float).fillna(0)"
   ]
  },
  {
   "cell_type": "code",
   "execution_count": 31,
   "metadata": {
    "scrolled": true
   },
   "outputs": [
    {
     "data": {
      "text/html": [
       "<div>\n",
       "<style scoped>\n",
       "    .dataframe tbody tr th:only-of-type {\n",
       "        vertical-align: middle;\n",
       "    }\n",
       "\n",
       "    .dataframe tbody tr th {\n",
       "        vertical-align: top;\n",
       "    }\n",
       "\n",
       "    .dataframe thead th {\n",
       "        text-align: right;\n",
       "    }\n",
       "</style>\n",
       "<table border=\"1\" class=\"dataframe\">\n",
       "  <thead>\n",
       "    <tr style=\"text-align: right;\">\n",
       "      <th></th>\n",
       "      <th>user_id</th>\n",
       "      <th>first_event</th>\n",
       "      <th>start_datetime</th>\n",
       "      <th>last_event</th>\n",
       "      <th>end_datetime</th>\n",
       "      <th>delta_time</th>\n",
       "      <th>building_event</th>\n",
       "      <th>assembly_shop</th>\n",
       "      <th>spaceport</th>\n",
       "      <th>research_center</th>\n",
       "      <th>finish_event</th>\n",
       "      <th>project_event</th>\n",
       "      <th>source</th>\n",
       "    </tr>\n",
       "  </thead>\n",
       "  <tbody>\n",
       "    <tr>\n",
       "      <th>0</th>\n",
       "      <td>0001f83c-c6ac-4621-b7f0-8a28b283ac30</td>\n",
       "      <td>building</td>\n",
       "      <td>2020-05-06</td>\n",
       "      <td>building</td>\n",
       "      <td>2020-05-20</td>\n",
       "      <td>14 days 11:00:00</td>\n",
       "      <td>13</td>\n",
       "      <td>6</td>\n",
       "      <td>6.00</td>\n",
       "      <td>1.00</td>\n",
       "      <td>0.00</td>\n",
       "      <td>0.00</td>\n",
       "      <td>facebook_ads</td>\n",
       "    </tr>\n",
       "    <tr>\n",
       "      <th>1</th>\n",
       "      <td>00151b4f-ba38-44a8-a650-d7cf130a0105</td>\n",
       "      <td>building</td>\n",
       "      <td>2020-05-06</td>\n",
       "      <td>building</td>\n",
       "      <td>2020-05-18</td>\n",
       "      <td>12 days 08:00:00</td>\n",
       "      <td>9</td>\n",
       "      <td>4</td>\n",
       "      <td>5.00</td>\n",
       "      <td>0.00</td>\n",
       "      <td>0.00</td>\n",
       "      <td>0.00</td>\n",
       "      <td>yandex_direct</td>\n",
       "    </tr>\n",
       "    <tr>\n",
       "      <th>2</th>\n",
       "      <td>001aaea6-3d14-43f1-8ca8-7f48820f17aa</td>\n",
       "      <td>building</td>\n",
       "      <td>2020-05-05</td>\n",
       "      <td>building</td>\n",
       "      <td>2020-05-14</td>\n",
       "      <td>8 days 16:00:00</td>\n",
       "      <td>4</td>\n",
       "      <td>2</td>\n",
       "      <td>2.00</td>\n",
       "      <td>0.00</td>\n",
       "      <td>0.00</td>\n",
       "      <td>0.00</td>\n",
       "      <td>youtube_channel_reklama</td>\n",
       "    </tr>\n",
       "    <tr>\n",
       "      <th>3</th>\n",
       "      <td>001d39dc-366c-4021-9604-6a3b9ff01e25</td>\n",
       "      <td>building</td>\n",
       "      <td>2020-05-05</td>\n",
       "      <td>finished_stage_1</td>\n",
       "      <td>2020-05-12</td>\n",
       "      <td>6 days 11:00:00</td>\n",
       "      <td>8</td>\n",
       "      <td>4</td>\n",
       "      <td>4.00</td>\n",
       "      <td>0.00</td>\n",
       "      <td>1.00</td>\n",
       "      <td>0.00</td>\n",
       "      <td>instagram_new_adverts</td>\n",
       "    </tr>\n",
       "    <tr>\n",
       "      <th>4</th>\n",
       "      <td>002f508f-67b6-479f-814b-b05f00d4e995</td>\n",
       "      <td>building</td>\n",
       "      <td>2020-05-05</td>\n",
       "      <td>building</td>\n",
       "      <td>2020-05-22</td>\n",
       "      <td>16 days 13:00:00</td>\n",
       "      <td>12</td>\n",
       "      <td>3</td>\n",
       "      <td>8.00</td>\n",
       "      <td>1.00</td>\n",
       "      <td>0.00</td>\n",
       "      <td>0.00</td>\n",
       "      <td>facebook_ads</td>\n",
       "    </tr>\n",
       "    <tr>\n",
       "      <th>...</th>\n",
       "      <td>...</td>\n",
       "      <td>...</td>\n",
       "      <td>...</td>\n",
       "      <td>...</td>\n",
       "      <td>...</td>\n",
       "      <td>...</td>\n",
       "      <td>...</td>\n",
       "      <td>...</td>\n",
       "      <td>...</td>\n",
       "      <td>...</td>\n",
       "      <td>...</td>\n",
       "      <td>...</td>\n",
       "      <td>...</td>\n",
       "    </tr>\n",
       "    <tr>\n",
       "      <th>13571</th>\n",
       "      <td>ffef4fed-164c-40e1-bde1-3980f76d0fb5</td>\n",
       "      <td>building</td>\n",
       "      <td>2020-05-04</td>\n",
       "      <td>finished_stage_1</td>\n",
       "      <td>2020-05-11</td>\n",
       "      <td>7 days 21:00:00</td>\n",
       "      <td>9</td>\n",
       "      <td>7</td>\n",
       "      <td>1.00</td>\n",
       "      <td>1.00</td>\n",
       "      <td>1.00</td>\n",
       "      <td>0.00</td>\n",
       "      <td>instagram_new_adverts</td>\n",
       "    </tr>\n",
       "    <tr>\n",
       "      <th>13572</th>\n",
       "      <td>fffab3da-da0e-4e30-ae62-10d0a2e24a4e</td>\n",
       "      <td>building</td>\n",
       "      <td>2020-05-04</td>\n",
       "      <td>building</td>\n",
       "      <td>2020-05-14</td>\n",
       "      <td>9 days 23:00:00</td>\n",
       "      <td>16</td>\n",
       "      <td>5</td>\n",
       "      <td>8.00</td>\n",
       "      <td>3.00</td>\n",
       "      <td>0.00</td>\n",
       "      <td>0.00</td>\n",
       "      <td>facebook_ads</td>\n",
       "    </tr>\n",
       "    <tr>\n",
       "      <th>13573</th>\n",
       "      <td>fffb626c-5ab6-47c9-8113-2062a2f18494</td>\n",
       "      <td>building</td>\n",
       "      <td>2020-05-04</td>\n",
       "      <td>finished_stage_1</td>\n",
       "      <td>2020-05-12</td>\n",
       "      <td>8 days 11:00:00</td>\n",
       "      <td>9</td>\n",
       "      <td>4</td>\n",
       "      <td>3.00</td>\n",
       "      <td>2.00</td>\n",
       "      <td>1.00</td>\n",
       "      <td>0.00</td>\n",
       "      <td>yandex_direct</td>\n",
       "    </tr>\n",
       "    <tr>\n",
       "      <th>13574</th>\n",
       "      <td>ffff194a-56b7-4c12-860d-3485242ae7f5</td>\n",
       "      <td>building</td>\n",
       "      <td>2020-05-04</td>\n",
       "      <td>building</td>\n",
       "      <td>2020-05-11</td>\n",
       "      <td>7 days 02:00:00</td>\n",
       "      <td>7</td>\n",
       "      <td>6</td>\n",
       "      <td>1.00</td>\n",
       "      <td>0.00</td>\n",
       "      <td>0.00</td>\n",
       "      <td>0.00</td>\n",
       "      <td>instagram_new_adverts</td>\n",
       "    </tr>\n",
       "    <tr>\n",
       "      <th>13575</th>\n",
       "      <td>ffff69cc-fec1-4fd3-9f98-93be1112a6b8</td>\n",
       "      <td>building</td>\n",
       "      <td>2020-05-08</td>\n",
       "      <td>finished_stage_1</td>\n",
       "      <td>2020-05-25</td>\n",
       "      <td>17 days 08:00:00</td>\n",
       "      <td>12</td>\n",
       "      <td>3</td>\n",
       "      <td>6.00</td>\n",
       "      <td>3.00</td>\n",
       "      <td>1.00</td>\n",
       "      <td>1.00</td>\n",
       "      <td>facebook_ads</td>\n",
       "    </tr>\n",
       "  </tbody>\n",
       "</table>\n",
       "<p>13576 rows × 13 columns</p>\n",
       "</div>"
      ],
      "text/plain": [
       "                                    user_id first_event start_datetime  \\\n",
       "0      0001f83c-c6ac-4621-b7f0-8a28b283ac30    building     2020-05-06   \n",
       "1      00151b4f-ba38-44a8-a650-d7cf130a0105    building     2020-05-06   \n",
       "2      001aaea6-3d14-43f1-8ca8-7f48820f17aa    building     2020-05-05   \n",
       "3      001d39dc-366c-4021-9604-6a3b9ff01e25    building     2020-05-05   \n",
       "4      002f508f-67b6-479f-814b-b05f00d4e995    building     2020-05-05   \n",
       "...                                     ...         ...            ...   \n",
       "13571  ffef4fed-164c-40e1-bde1-3980f76d0fb5    building     2020-05-04   \n",
       "13572  fffab3da-da0e-4e30-ae62-10d0a2e24a4e    building     2020-05-04   \n",
       "13573  fffb626c-5ab6-47c9-8113-2062a2f18494    building     2020-05-04   \n",
       "13574  ffff194a-56b7-4c12-860d-3485242ae7f5    building     2020-05-04   \n",
       "13575  ffff69cc-fec1-4fd3-9f98-93be1112a6b8    building     2020-05-08   \n",
       "\n",
       "             last_event end_datetime       delta_time  building_event  \\\n",
       "0              building   2020-05-20 14 days 11:00:00              13   \n",
       "1              building   2020-05-18 12 days 08:00:00               9   \n",
       "2              building   2020-05-14  8 days 16:00:00               4   \n",
       "3      finished_stage_1   2020-05-12  6 days 11:00:00               8   \n",
       "4              building   2020-05-22 16 days 13:00:00              12   \n",
       "...                 ...          ...              ...             ...   \n",
       "13571  finished_stage_1   2020-05-11  7 days 21:00:00               9   \n",
       "13572          building   2020-05-14  9 days 23:00:00              16   \n",
       "13573  finished_stage_1   2020-05-12  8 days 11:00:00               9   \n",
       "13574          building   2020-05-11  7 days 02:00:00               7   \n",
       "13575  finished_stage_1   2020-05-25 17 days 08:00:00              12   \n",
       "\n",
       "       assembly_shop  spaceport  research_center  finish_event  project_event  \\\n",
       "0                  6       6.00             1.00          0.00           0.00   \n",
       "1                  4       5.00             0.00          0.00           0.00   \n",
       "2                  2       2.00             0.00          0.00           0.00   \n",
       "3                  4       4.00             0.00          1.00           0.00   \n",
       "4                  3       8.00             1.00          0.00           0.00   \n",
       "...              ...        ...              ...           ...            ...   \n",
       "13571              7       1.00             1.00          1.00           0.00   \n",
       "13572              5       8.00             3.00          0.00           0.00   \n",
       "13573              4       3.00             2.00          1.00           0.00   \n",
       "13574              6       1.00             0.00          0.00           0.00   \n",
       "13575              3       6.00             3.00          1.00           1.00   \n",
       "\n",
       "                        source  \n",
       "0                 facebook_ads  \n",
       "1                yandex_direct  \n",
       "2      youtube_channel_reklama  \n",
       "3        instagram_new_adverts  \n",
       "4                 facebook_ads  \n",
       "...                        ...  \n",
       "13571    instagram_new_adverts  \n",
       "13572             facebook_ads  \n",
       "13573            yandex_direct  \n",
       "13574    instagram_new_adverts  \n",
       "13575             facebook_ads  \n",
       "\n",
       "[13576 rows x 13 columns]"
      ]
     },
     "execution_count": 31,
     "metadata": {},
     "output_type": "execute_result"
    }
   ],
   "source": [
    "profiles"
   ]
  },
  {
   "cell_type": "code",
   "execution_count": 32,
   "metadata": {},
   "outputs": [
    {
     "data": {
      "text/plain": [
       "delta_time         10 days 16:42:57.754861520\n",
       "building_event                           9.43\n",
       "assembly_shop                            4.01\n",
       "spaceport                                4.37\n",
       "research_center                          1.04\n",
       "finish_event                             0.43\n",
       "project_event                            0.14\n",
       "dtype: object"
      ]
     },
     "execution_count": 32,
     "metadata": {},
     "output_type": "execute_result"
    }
   ],
   "source": [
    "profiles.mean()"
   ]
  },
  {
   "cell_type": "markdown",
   "metadata": {},
   "source": [
    "**5. Добавим в профиль пользователя информацию о стоимости его привлечения.**\n",
    "\n",
    "Для этого создадим таблицу new_users, где сгруппируем пользователей по дате первого события."
   ]
  },
  {
   "cell_type": "code",
   "execution_count": 33,
   "metadata": {
    "scrolled": true
   },
   "outputs": [
    {
     "data": {
      "text/html": [
       "<div>\n",
       "<style scoped>\n",
       "    .dataframe tbody tr th:only-of-type {\n",
       "        vertical-align: middle;\n",
       "    }\n",
       "\n",
       "    .dataframe tbody tr th {\n",
       "        vertical-align: top;\n",
       "    }\n",
       "\n",
       "    .dataframe thead th {\n",
       "        text-align: right;\n",
       "    }\n",
       "</style>\n",
       "<table border=\"1\" class=\"dataframe\">\n",
       "  <thead>\n",
       "    <tr style=\"text-align: right;\">\n",
       "      <th></th>\n",
       "      <th>start_datetime</th>\n",
       "      <th>source</th>\n",
       "      <th>unique_users</th>\n",
       "    </tr>\n",
       "  </thead>\n",
       "  <tbody>\n",
       "    <tr>\n",
       "      <th>0</th>\n",
       "      <td>2020-05-04</td>\n",
       "      <td>facebook_ads</td>\n",
       "      <td>1184</td>\n",
       "    </tr>\n",
       "    <tr>\n",
       "      <th>1</th>\n",
       "      <td>2020-05-04</td>\n",
       "      <td>instagram_new_adverts</td>\n",
       "      <td>1452</td>\n",
       "    </tr>\n",
       "    <tr>\n",
       "      <th>2</th>\n",
       "      <td>2020-05-04</td>\n",
       "      <td>yandex_direct</td>\n",
       "      <td>2078</td>\n",
       "    </tr>\n",
       "    <tr>\n",
       "      <th>3</th>\n",
       "      <td>2020-05-04</td>\n",
       "      <td>youtube_channel_reklama</td>\n",
       "      <td>1146</td>\n",
       "    </tr>\n",
       "    <tr>\n",
       "      <th>4</th>\n",
       "      <td>2020-05-05</td>\n",
       "      <td>facebook_ads</td>\n",
       "      <td>694</td>\n",
       "    </tr>\n",
       "    <tr>\n",
       "      <th>5</th>\n",
       "      <td>2020-05-05</td>\n",
       "      <td>instagram_new_adverts</td>\n",
       "      <td>796</td>\n",
       "    </tr>\n",
       "    <tr>\n",
       "      <th>6</th>\n",
       "      <td>2020-05-05</td>\n",
       "      <td>yandex_direct</td>\n",
       "      <td>1208</td>\n",
       "    </tr>\n",
       "    <tr>\n",
       "      <th>7</th>\n",
       "      <td>2020-05-05</td>\n",
       "      <td>youtube_channel_reklama</td>\n",
       "      <td>663</td>\n",
       "    </tr>\n",
       "    <tr>\n",
       "      <th>8</th>\n",
       "      <td>2020-05-06</td>\n",
       "      <td>facebook_ads</td>\n",
       "      <td>345</td>\n",
       "    </tr>\n",
       "    <tr>\n",
       "      <th>9</th>\n",
       "      <td>2020-05-06</td>\n",
       "      <td>instagram_new_adverts</td>\n",
       "      <td>472</td>\n",
       "    </tr>\n",
       "    <tr>\n",
       "      <th>10</th>\n",
       "      <td>2020-05-06</td>\n",
       "      <td>yandex_direct</td>\n",
       "      <td>664</td>\n",
       "    </tr>\n",
       "    <tr>\n",
       "      <th>11</th>\n",
       "      <td>2020-05-06</td>\n",
       "      <td>youtube_channel_reklama</td>\n",
       "      <td>366</td>\n",
       "    </tr>\n",
       "    <tr>\n",
       "      <th>12</th>\n",
       "      <td>2020-05-07</td>\n",
       "      <td>facebook_ads</td>\n",
       "      <td>224</td>\n",
       "    </tr>\n",
       "    <tr>\n",
       "      <th>13</th>\n",
       "      <td>2020-05-07</td>\n",
       "      <td>instagram_new_adverts</td>\n",
       "      <td>270</td>\n",
       "    </tr>\n",
       "    <tr>\n",
       "      <th>14</th>\n",
       "      <td>2020-05-07</td>\n",
       "      <td>yandex_direct</td>\n",
       "      <td>395</td>\n",
       "    </tr>\n",
       "    <tr>\n",
       "      <th>15</th>\n",
       "      <td>2020-05-07</td>\n",
       "      <td>youtube_channel_reklama</td>\n",
       "      <td>220</td>\n",
       "    </tr>\n",
       "    <tr>\n",
       "      <th>16</th>\n",
       "      <td>2020-05-08</td>\n",
       "      <td>facebook_ads</td>\n",
       "      <td>139</td>\n",
       "    </tr>\n",
       "    <tr>\n",
       "      <th>17</th>\n",
       "      <td>2020-05-08</td>\n",
       "      <td>instagram_new_adverts</td>\n",
       "      <td>175</td>\n",
       "    </tr>\n",
       "    <tr>\n",
       "      <th>18</th>\n",
       "      <td>2020-05-08</td>\n",
       "      <td>yandex_direct</td>\n",
       "      <td>239</td>\n",
       "    </tr>\n",
       "    <tr>\n",
       "      <th>19</th>\n",
       "      <td>2020-05-08</td>\n",
       "      <td>youtube_channel_reklama</td>\n",
       "      <td>135</td>\n",
       "    </tr>\n",
       "    <tr>\n",
       "      <th>20</th>\n",
       "      <td>2020-05-09</td>\n",
       "      <td>facebook_ads</td>\n",
       "      <td>84</td>\n",
       "    </tr>\n",
       "    <tr>\n",
       "      <th>21</th>\n",
       "      <td>2020-05-09</td>\n",
       "      <td>instagram_new_adverts</td>\n",
       "      <td>112</td>\n",
       "    </tr>\n",
       "    <tr>\n",
       "      <th>22</th>\n",
       "      <td>2020-05-09</td>\n",
       "      <td>yandex_direct</td>\n",
       "      <td>144</td>\n",
       "    </tr>\n",
       "    <tr>\n",
       "      <th>23</th>\n",
       "      <td>2020-05-09</td>\n",
       "      <td>youtube_channel_reklama</td>\n",
       "      <td>100</td>\n",
       "    </tr>\n",
       "    <tr>\n",
       "      <th>24</th>\n",
       "      <td>2020-05-10</td>\n",
       "      <td>facebook_ads</td>\n",
       "      <td>56</td>\n",
       "    </tr>\n",
       "    <tr>\n",
       "      <th>25</th>\n",
       "      <td>2020-05-10</td>\n",
       "      <td>instagram_new_adverts</td>\n",
       "      <td>70</td>\n",
       "    </tr>\n",
       "    <tr>\n",
       "      <th>26</th>\n",
       "      <td>2020-05-10</td>\n",
       "      <td>yandex_direct</td>\n",
       "      <td>89</td>\n",
       "    </tr>\n",
       "    <tr>\n",
       "      <th>27</th>\n",
       "      <td>2020-05-10</td>\n",
       "      <td>youtube_channel_reklama</td>\n",
       "      <td>56</td>\n",
       "    </tr>\n",
       "  </tbody>\n",
       "</table>\n",
       "</div>"
      ],
      "text/plain": [
       "   start_datetime                   source  unique_users\n",
       "0      2020-05-04             facebook_ads          1184\n",
       "1      2020-05-04    instagram_new_adverts          1452\n",
       "2      2020-05-04            yandex_direct          2078\n",
       "3      2020-05-04  youtube_channel_reklama          1146\n",
       "4      2020-05-05             facebook_ads           694\n",
       "5      2020-05-05    instagram_new_adverts           796\n",
       "6      2020-05-05            yandex_direct          1208\n",
       "7      2020-05-05  youtube_channel_reklama           663\n",
       "8      2020-05-06             facebook_ads           345\n",
       "9      2020-05-06    instagram_new_adverts           472\n",
       "10     2020-05-06            yandex_direct           664\n",
       "11     2020-05-06  youtube_channel_reklama           366\n",
       "12     2020-05-07             facebook_ads           224\n",
       "13     2020-05-07    instagram_new_adverts           270\n",
       "14     2020-05-07            yandex_direct           395\n",
       "15     2020-05-07  youtube_channel_reklama           220\n",
       "16     2020-05-08             facebook_ads           139\n",
       "17     2020-05-08    instagram_new_adverts           175\n",
       "18     2020-05-08            yandex_direct           239\n",
       "19     2020-05-08  youtube_channel_reklama           135\n",
       "20     2020-05-09             facebook_ads            84\n",
       "21     2020-05-09    instagram_new_adverts           112\n",
       "22     2020-05-09            yandex_direct           144\n",
       "23     2020-05-09  youtube_channel_reklama           100\n",
       "24     2020-05-10             facebook_ads            56\n",
       "25     2020-05-10    instagram_new_adverts            70\n",
       "26     2020-05-10            yandex_direct            89\n",
       "27     2020-05-10  youtube_channel_reklama            56"
      ]
     },
     "execution_count": 33,
     "metadata": {},
     "output_type": "execute_result"
    }
   ],
   "source": [
    "new_users = (profiles.groupby(['start_datetime', 'source']).agg({'user_id': 'nunique'}).rename(columns={'user_id': 'unique_users'}).reset_index())\n",
    "new_users"
   ]
  },
  {
   "cell_type": "code",
   "execution_count": 34,
   "metadata": {},
   "outputs": [
    {
     "data": {
      "text/html": [
       "<div>\n",
       "<style scoped>\n",
       "    .dataframe tbody tr th:only-of-type {\n",
       "        vertical-align: middle;\n",
       "    }\n",
       "\n",
       "    .dataframe tbody tr th {\n",
       "        vertical-align: top;\n",
       "    }\n",
       "\n",
       "    .dataframe thead th {\n",
       "        text-align: right;\n",
       "    }\n",
       "</style>\n",
       "<table border=\"1\" class=\"dataframe\">\n",
       "  <thead>\n",
       "    <tr style=\"text-align: right;\">\n",
       "      <th></th>\n",
       "      <th>unique_users</th>\n",
       "    </tr>\n",
       "    <tr>\n",
       "      <th>start_datetime</th>\n",
       "      <th></th>\n",
       "    </tr>\n",
       "  </thead>\n",
       "  <tbody>\n",
       "    <tr>\n",
       "      <th>2020-05-04</th>\n",
       "      <td>5860</td>\n",
       "    </tr>\n",
       "    <tr>\n",
       "      <th>2020-05-05</th>\n",
       "      <td>3361</td>\n",
       "    </tr>\n",
       "    <tr>\n",
       "      <th>2020-05-06</th>\n",
       "      <td>1847</td>\n",
       "    </tr>\n",
       "    <tr>\n",
       "      <th>2020-05-07</th>\n",
       "      <td>1109</td>\n",
       "    </tr>\n",
       "    <tr>\n",
       "      <th>2020-05-08</th>\n",
       "      <td>688</td>\n",
       "    </tr>\n",
       "    <tr>\n",
       "      <th>2020-05-09</th>\n",
       "      <td>440</td>\n",
       "    </tr>\n",
       "    <tr>\n",
       "      <th>2020-05-10</th>\n",
       "      <td>271</td>\n",
       "    </tr>\n",
       "  </tbody>\n",
       "</table>\n",
       "</div>"
      ],
      "text/plain": [
       "                unique_users\n",
       "start_datetime              \n",
       "2020-05-04              5860\n",
       "2020-05-05              3361\n",
       "2020-05-06              1847\n",
       "2020-05-07              1109\n",
       "2020-05-08               688\n",
       "2020-05-09               440\n",
       "2020-05-10               271"
      ]
     },
     "execution_count": 34,
     "metadata": {},
     "output_type": "execute_result"
    }
   ],
   "source": [
    "profiles.groupby(['start_datetime']).agg({'user_id': 'nunique'}).rename(columns={'user_id': 'unique_users'})"
   ]
  },
  {
   "cell_type": "markdown",
   "metadata": {},
   "source": [
    "Видим существенное снижение количества новых пользователей с 5860 чел 4 мая 2020 года до 271 чел. 10 мая 2020 г.\n",
    "\n",
    "Также зная, что в таблице с расходами на привлечение затраты на рекламу на 1 день предшествуют добавлению новых пользователей в систему, для простоты расчета создадим столбец \"start_datetime\""
   ]
  },
  {
   "cell_type": "code",
   "execution_count": 35,
   "metadata": {
    "scrolled": true
   },
   "outputs": [
    {
     "data": {
      "text/html": [
       "<div>\n",
       "<style scoped>\n",
       "    .dataframe tbody tr th:only-of-type {\n",
       "        vertical-align: middle;\n",
       "    }\n",
       "\n",
       "    .dataframe tbody tr th {\n",
       "        vertical-align: top;\n",
       "    }\n",
       "\n",
       "    .dataframe thead th {\n",
       "        text-align: right;\n",
       "    }\n",
       "</style>\n",
       "<table border=\"1\" class=\"dataframe\">\n",
       "  <thead>\n",
       "    <tr style=\"text-align: right;\">\n",
       "      <th></th>\n",
       "      <th>source</th>\n",
       "      <th>day</th>\n",
       "      <th>cost</th>\n",
       "      <th>start_datetime</th>\n",
       "    </tr>\n",
       "  </thead>\n",
       "  <tbody>\n",
       "    <tr>\n",
       "      <th>0</th>\n",
       "      <td>facebook_ads</td>\n",
       "      <td>2020-05-03</td>\n",
       "      <td>935.88</td>\n",
       "      <td>2020-05-04</td>\n",
       "    </tr>\n",
       "    <tr>\n",
       "      <th>1</th>\n",
       "      <td>facebook_ads</td>\n",
       "      <td>2020-05-04</td>\n",
       "      <td>548.35</td>\n",
       "      <td>2020-05-05</td>\n",
       "    </tr>\n",
       "    <tr>\n",
       "      <th>2</th>\n",
       "      <td>facebook_ads</td>\n",
       "      <td>2020-05-05</td>\n",
       "      <td>260.19</td>\n",
       "      <td>2020-05-06</td>\n",
       "    </tr>\n",
       "    <tr>\n",
       "      <th>3</th>\n",
       "      <td>facebook_ads</td>\n",
       "      <td>2020-05-06</td>\n",
       "      <td>177.98</td>\n",
       "      <td>2020-05-07</td>\n",
       "    </tr>\n",
       "    <tr>\n",
       "      <th>4</th>\n",
       "      <td>facebook_ads</td>\n",
       "      <td>2020-05-07</td>\n",
       "      <td>111.77</td>\n",
       "      <td>2020-05-08</td>\n",
       "    </tr>\n",
       "    <tr>\n",
       "      <th>5</th>\n",
       "      <td>facebook_ads</td>\n",
       "      <td>2020-05-08</td>\n",
       "      <td>68.01</td>\n",
       "      <td>2020-05-09</td>\n",
       "    </tr>\n",
       "    <tr>\n",
       "      <th>6</th>\n",
       "      <td>facebook_ads</td>\n",
       "      <td>2020-05-09</td>\n",
       "      <td>38.72</td>\n",
       "      <td>2020-05-10</td>\n",
       "    </tr>\n",
       "    <tr>\n",
       "      <th>7</th>\n",
       "      <td>instagram_new_adverts</td>\n",
       "      <td>2020-05-03</td>\n",
       "      <td>943.20</td>\n",
       "      <td>2020-05-04</td>\n",
       "    </tr>\n",
       "    <tr>\n",
       "      <th>8</th>\n",
       "      <td>instagram_new_adverts</td>\n",
       "      <td>2020-05-04</td>\n",
       "      <td>502.93</td>\n",
       "      <td>2020-05-05</td>\n",
       "    </tr>\n",
       "    <tr>\n",
       "      <th>9</th>\n",
       "      <td>instagram_new_adverts</td>\n",
       "      <td>2020-05-05</td>\n",
       "      <td>313.97</td>\n",
       "      <td>2020-05-06</td>\n",
       "    </tr>\n",
       "    <tr>\n",
       "      <th>10</th>\n",
       "      <td>instagram_new_adverts</td>\n",
       "      <td>2020-05-06</td>\n",
       "      <td>173.07</td>\n",
       "      <td>2020-05-07</td>\n",
       "    </tr>\n",
       "    <tr>\n",
       "      <th>11</th>\n",
       "      <td>instagram_new_adverts</td>\n",
       "      <td>2020-05-07</td>\n",
       "      <td>109.92</td>\n",
       "      <td>2020-05-08</td>\n",
       "    </tr>\n",
       "    <tr>\n",
       "      <th>12</th>\n",
       "      <td>instagram_new_adverts</td>\n",
       "      <td>2020-05-08</td>\n",
       "      <td>71.58</td>\n",
       "      <td>2020-05-09</td>\n",
       "    </tr>\n",
       "    <tr>\n",
       "      <th>13</th>\n",
       "      <td>instagram_new_adverts</td>\n",
       "      <td>2020-05-09</td>\n",
       "      <td>46.78</td>\n",
       "      <td>2020-05-10</td>\n",
       "    </tr>\n",
       "    <tr>\n",
       "      <th>14</th>\n",
       "      <td>yandex_direct</td>\n",
       "      <td>2020-05-03</td>\n",
       "      <td>969.14</td>\n",
       "      <td>2020-05-04</td>\n",
       "    </tr>\n",
       "    <tr>\n",
       "      <th>15</th>\n",
       "      <td>yandex_direct</td>\n",
       "      <td>2020-05-04</td>\n",
       "      <td>554.65</td>\n",
       "      <td>2020-05-05</td>\n",
       "    </tr>\n",
       "    <tr>\n",
       "      <th>16</th>\n",
       "      <td>yandex_direct</td>\n",
       "      <td>2020-05-05</td>\n",
       "      <td>308.23</td>\n",
       "      <td>2020-05-06</td>\n",
       "    </tr>\n",
       "    <tr>\n",
       "      <th>17</th>\n",
       "      <td>yandex_direct</td>\n",
       "      <td>2020-05-06</td>\n",
       "      <td>180.92</td>\n",
       "      <td>2020-05-07</td>\n",
       "    </tr>\n",
       "    <tr>\n",
       "      <th>18</th>\n",
       "      <td>yandex_direct</td>\n",
       "      <td>2020-05-07</td>\n",
       "      <td>114.43</td>\n",
       "      <td>2020-05-08</td>\n",
       "    </tr>\n",
       "    <tr>\n",
       "      <th>19</th>\n",
       "      <td>yandex_direct</td>\n",
       "      <td>2020-05-08</td>\n",
       "      <td>62.96</td>\n",
       "      <td>2020-05-09</td>\n",
       "    </tr>\n",
       "    <tr>\n",
       "      <th>20</th>\n",
       "      <td>yandex_direct</td>\n",
       "      <td>2020-05-09</td>\n",
       "      <td>42.78</td>\n",
       "      <td>2020-05-10</td>\n",
       "    </tr>\n",
       "    <tr>\n",
       "      <th>21</th>\n",
       "      <td>youtube_channel_reklama</td>\n",
       "      <td>2020-05-03</td>\n",
       "      <td>454.22</td>\n",
       "      <td>2020-05-04</td>\n",
       "    </tr>\n",
       "    <tr>\n",
       "      <th>22</th>\n",
       "      <td>youtube_channel_reklama</td>\n",
       "      <td>2020-05-04</td>\n",
       "      <td>259.07</td>\n",
       "      <td>2020-05-05</td>\n",
       "    </tr>\n",
       "    <tr>\n",
       "      <th>23</th>\n",
       "      <td>youtube_channel_reklama</td>\n",
       "      <td>2020-05-05</td>\n",
       "      <td>147.04</td>\n",
       "      <td>2020-05-06</td>\n",
       "    </tr>\n",
       "    <tr>\n",
       "      <th>24</th>\n",
       "      <td>youtube_channel_reklama</td>\n",
       "      <td>2020-05-06</td>\n",
       "      <td>88.51</td>\n",
       "      <td>2020-05-07</td>\n",
       "    </tr>\n",
       "    <tr>\n",
       "      <th>25</th>\n",
       "      <td>youtube_channel_reklama</td>\n",
       "      <td>2020-05-07</td>\n",
       "      <td>55.74</td>\n",
       "      <td>2020-05-08</td>\n",
       "    </tr>\n",
       "    <tr>\n",
       "      <th>26</th>\n",
       "      <td>youtube_channel_reklama</td>\n",
       "      <td>2020-05-08</td>\n",
       "      <td>40.22</td>\n",
       "      <td>2020-05-09</td>\n",
       "    </tr>\n",
       "    <tr>\n",
       "      <th>27</th>\n",
       "      <td>youtube_channel_reklama</td>\n",
       "      <td>2020-05-09</td>\n",
       "      <td>23.31</td>\n",
       "      <td>2020-05-10</td>\n",
       "    </tr>\n",
       "  </tbody>\n",
       "</table>\n",
       "</div>"
      ],
      "text/plain": [
       "                     source        day   cost start_datetime\n",
       "0              facebook_ads 2020-05-03 935.88     2020-05-04\n",
       "1              facebook_ads 2020-05-04 548.35     2020-05-05\n",
       "2              facebook_ads 2020-05-05 260.19     2020-05-06\n",
       "3              facebook_ads 2020-05-06 177.98     2020-05-07\n",
       "4              facebook_ads 2020-05-07 111.77     2020-05-08\n",
       "5              facebook_ads 2020-05-08  68.01     2020-05-09\n",
       "6              facebook_ads 2020-05-09  38.72     2020-05-10\n",
       "7     instagram_new_adverts 2020-05-03 943.20     2020-05-04\n",
       "8     instagram_new_adverts 2020-05-04 502.93     2020-05-05\n",
       "9     instagram_new_adverts 2020-05-05 313.97     2020-05-06\n",
       "10    instagram_new_adverts 2020-05-06 173.07     2020-05-07\n",
       "11    instagram_new_adverts 2020-05-07 109.92     2020-05-08\n",
       "12    instagram_new_adverts 2020-05-08  71.58     2020-05-09\n",
       "13    instagram_new_adverts 2020-05-09  46.78     2020-05-10\n",
       "14            yandex_direct 2020-05-03 969.14     2020-05-04\n",
       "15            yandex_direct 2020-05-04 554.65     2020-05-05\n",
       "16            yandex_direct 2020-05-05 308.23     2020-05-06\n",
       "17            yandex_direct 2020-05-06 180.92     2020-05-07\n",
       "18            yandex_direct 2020-05-07 114.43     2020-05-08\n",
       "19            yandex_direct 2020-05-08  62.96     2020-05-09\n",
       "20            yandex_direct 2020-05-09  42.78     2020-05-10\n",
       "21  youtube_channel_reklama 2020-05-03 454.22     2020-05-04\n",
       "22  youtube_channel_reklama 2020-05-04 259.07     2020-05-05\n",
       "23  youtube_channel_reklama 2020-05-05 147.04     2020-05-06\n",
       "24  youtube_channel_reklama 2020-05-06  88.51     2020-05-07\n",
       "25  youtube_channel_reklama 2020-05-07  55.74     2020-05-08\n",
       "26  youtube_channel_reklama 2020-05-08  40.22     2020-05-09\n",
       "27  youtube_channel_reklama 2020-05-09  23.31     2020-05-10"
      ]
     },
     "execution_count": 35,
     "metadata": {},
     "output_type": "execute_result"
    }
   ],
   "source": [
    "ad_costs['start_datetime']=ad_costs['day']+pd.Timedelta(days=1)\n",
    "ad_costs"
   ]
  },
  {
   "cell_type": "markdown",
   "metadata": {},
   "source": [
    "Объединим таблицы ad_costs и new_users и рассчитаем стоимость привлечения пользователя по источникам за каждый день:"
   ]
  },
  {
   "cell_type": "code",
   "execution_count": 36,
   "metadata": {
    "scrolled": true
   },
   "outputs": [
    {
     "data": {
      "text/html": [
       "<div>\n",
       "<style scoped>\n",
       "    .dataframe tbody tr th:only-of-type {\n",
       "        vertical-align: middle;\n",
       "    }\n",
       "\n",
       "    .dataframe tbody tr th {\n",
       "        vertical-align: top;\n",
       "    }\n",
       "\n",
       "    .dataframe thead th {\n",
       "        text-align: right;\n",
       "    }\n",
       "</style>\n",
       "<table border=\"1\" class=\"dataframe\">\n",
       "  <thead>\n",
       "    <tr style=\"text-align: right;\">\n",
       "      <th></th>\n",
       "      <th>source</th>\n",
       "      <th>day</th>\n",
       "      <th>cost</th>\n",
       "      <th>start_datetime</th>\n",
       "      <th>unique_users</th>\n",
       "      <th>acquisition_cost</th>\n",
       "    </tr>\n",
       "  </thead>\n",
       "  <tbody>\n",
       "    <tr>\n",
       "      <th>0</th>\n",
       "      <td>facebook_ads</td>\n",
       "      <td>2020-05-03</td>\n",
       "      <td>935.88</td>\n",
       "      <td>2020-05-04</td>\n",
       "      <td>1184</td>\n",
       "      <td>0.79</td>\n",
       "    </tr>\n",
       "    <tr>\n",
       "      <th>1</th>\n",
       "      <td>instagram_new_adverts</td>\n",
       "      <td>2020-05-03</td>\n",
       "      <td>943.20</td>\n",
       "      <td>2020-05-04</td>\n",
       "      <td>1452</td>\n",
       "      <td>0.65</td>\n",
       "    </tr>\n",
       "    <tr>\n",
       "      <th>2</th>\n",
       "      <td>yandex_direct</td>\n",
       "      <td>2020-05-03</td>\n",
       "      <td>969.14</td>\n",
       "      <td>2020-05-04</td>\n",
       "      <td>2078</td>\n",
       "      <td>0.47</td>\n",
       "    </tr>\n",
       "    <tr>\n",
       "      <th>3</th>\n",
       "      <td>youtube_channel_reklama</td>\n",
       "      <td>2020-05-03</td>\n",
       "      <td>454.22</td>\n",
       "      <td>2020-05-04</td>\n",
       "      <td>1146</td>\n",
       "      <td>0.40</td>\n",
       "    </tr>\n",
       "    <tr>\n",
       "      <th>4</th>\n",
       "      <td>facebook_ads</td>\n",
       "      <td>2020-05-04</td>\n",
       "      <td>548.35</td>\n",
       "      <td>2020-05-05</td>\n",
       "      <td>694</td>\n",
       "      <td>0.79</td>\n",
       "    </tr>\n",
       "    <tr>\n",
       "      <th>5</th>\n",
       "      <td>instagram_new_adverts</td>\n",
       "      <td>2020-05-04</td>\n",
       "      <td>502.93</td>\n",
       "      <td>2020-05-05</td>\n",
       "      <td>796</td>\n",
       "      <td>0.63</td>\n",
       "    </tr>\n",
       "    <tr>\n",
       "      <th>6</th>\n",
       "      <td>yandex_direct</td>\n",
       "      <td>2020-05-04</td>\n",
       "      <td>554.65</td>\n",
       "      <td>2020-05-05</td>\n",
       "      <td>1208</td>\n",
       "      <td>0.46</td>\n",
       "    </tr>\n",
       "    <tr>\n",
       "      <th>7</th>\n",
       "      <td>youtube_channel_reklama</td>\n",
       "      <td>2020-05-04</td>\n",
       "      <td>259.07</td>\n",
       "      <td>2020-05-05</td>\n",
       "      <td>663</td>\n",
       "      <td>0.39</td>\n",
       "    </tr>\n",
       "    <tr>\n",
       "      <th>8</th>\n",
       "      <td>facebook_ads</td>\n",
       "      <td>2020-05-05</td>\n",
       "      <td>260.19</td>\n",
       "      <td>2020-05-06</td>\n",
       "      <td>345</td>\n",
       "      <td>0.75</td>\n",
       "    </tr>\n",
       "    <tr>\n",
       "      <th>9</th>\n",
       "      <td>instagram_new_adverts</td>\n",
       "      <td>2020-05-05</td>\n",
       "      <td>313.97</td>\n",
       "      <td>2020-05-06</td>\n",
       "      <td>472</td>\n",
       "      <td>0.67</td>\n",
       "    </tr>\n",
       "    <tr>\n",
       "      <th>10</th>\n",
       "      <td>yandex_direct</td>\n",
       "      <td>2020-05-05</td>\n",
       "      <td>308.23</td>\n",
       "      <td>2020-05-06</td>\n",
       "      <td>664</td>\n",
       "      <td>0.46</td>\n",
       "    </tr>\n",
       "    <tr>\n",
       "      <th>11</th>\n",
       "      <td>youtube_channel_reklama</td>\n",
       "      <td>2020-05-05</td>\n",
       "      <td>147.04</td>\n",
       "      <td>2020-05-06</td>\n",
       "      <td>366</td>\n",
       "      <td>0.40</td>\n",
       "    </tr>\n",
       "    <tr>\n",
       "      <th>12</th>\n",
       "      <td>facebook_ads</td>\n",
       "      <td>2020-05-06</td>\n",
       "      <td>177.98</td>\n",
       "      <td>2020-05-07</td>\n",
       "      <td>224</td>\n",
       "      <td>0.79</td>\n",
       "    </tr>\n",
       "    <tr>\n",
       "      <th>13</th>\n",
       "      <td>instagram_new_adverts</td>\n",
       "      <td>2020-05-06</td>\n",
       "      <td>173.07</td>\n",
       "      <td>2020-05-07</td>\n",
       "      <td>270</td>\n",
       "      <td>0.64</td>\n",
       "    </tr>\n",
       "    <tr>\n",
       "      <th>14</th>\n",
       "      <td>yandex_direct</td>\n",
       "      <td>2020-05-06</td>\n",
       "      <td>180.92</td>\n",
       "      <td>2020-05-07</td>\n",
       "      <td>395</td>\n",
       "      <td>0.46</td>\n",
       "    </tr>\n",
       "    <tr>\n",
       "      <th>15</th>\n",
       "      <td>youtube_channel_reklama</td>\n",
       "      <td>2020-05-06</td>\n",
       "      <td>88.51</td>\n",
       "      <td>2020-05-07</td>\n",
       "      <td>220</td>\n",
       "      <td>0.40</td>\n",
       "    </tr>\n",
       "    <tr>\n",
       "      <th>16</th>\n",
       "      <td>facebook_ads</td>\n",
       "      <td>2020-05-07</td>\n",
       "      <td>111.77</td>\n",
       "      <td>2020-05-08</td>\n",
       "      <td>139</td>\n",
       "      <td>0.80</td>\n",
       "    </tr>\n",
       "    <tr>\n",
       "      <th>17</th>\n",
       "      <td>instagram_new_adverts</td>\n",
       "      <td>2020-05-07</td>\n",
       "      <td>109.92</td>\n",
       "      <td>2020-05-08</td>\n",
       "      <td>175</td>\n",
       "      <td>0.63</td>\n",
       "    </tr>\n",
       "    <tr>\n",
       "      <th>18</th>\n",
       "      <td>yandex_direct</td>\n",
       "      <td>2020-05-07</td>\n",
       "      <td>114.43</td>\n",
       "      <td>2020-05-08</td>\n",
       "      <td>239</td>\n",
       "      <td>0.48</td>\n",
       "    </tr>\n",
       "    <tr>\n",
       "      <th>19</th>\n",
       "      <td>youtube_channel_reklama</td>\n",
       "      <td>2020-05-07</td>\n",
       "      <td>55.74</td>\n",
       "      <td>2020-05-08</td>\n",
       "      <td>135</td>\n",
       "      <td>0.41</td>\n",
       "    </tr>\n",
       "    <tr>\n",
       "      <th>20</th>\n",
       "      <td>facebook_ads</td>\n",
       "      <td>2020-05-08</td>\n",
       "      <td>68.01</td>\n",
       "      <td>2020-05-09</td>\n",
       "      <td>84</td>\n",
       "      <td>0.81</td>\n",
       "    </tr>\n",
       "    <tr>\n",
       "      <th>21</th>\n",
       "      <td>instagram_new_adverts</td>\n",
       "      <td>2020-05-08</td>\n",
       "      <td>71.58</td>\n",
       "      <td>2020-05-09</td>\n",
       "      <td>112</td>\n",
       "      <td>0.64</td>\n",
       "    </tr>\n",
       "    <tr>\n",
       "      <th>22</th>\n",
       "      <td>yandex_direct</td>\n",
       "      <td>2020-05-08</td>\n",
       "      <td>62.96</td>\n",
       "      <td>2020-05-09</td>\n",
       "      <td>144</td>\n",
       "      <td>0.44</td>\n",
       "    </tr>\n",
       "    <tr>\n",
       "      <th>23</th>\n",
       "      <td>youtube_channel_reklama</td>\n",
       "      <td>2020-05-08</td>\n",
       "      <td>40.22</td>\n",
       "      <td>2020-05-09</td>\n",
       "      <td>100</td>\n",
       "      <td>0.40</td>\n",
       "    </tr>\n",
       "    <tr>\n",
       "      <th>24</th>\n",
       "      <td>facebook_ads</td>\n",
       "      <td>2020-05-09</td>\n",
       "      <td>38.72</td>\n",
       "      <td>2020-05-10</td>\n",
       "      <td>56</td>\n",
       "      <td>0.69</td>\n",
       "    </tr>\n",
       "    <tr>\n",
       "      <th>25</th>\n",
       "      <td>instagram_new_adverts</td>\n",
       "      <td>2020-05-09</td>\n",
       "      <td>46.78</td>\n",
       "      <td>2020-05-10</td>\n",
       "      <td>70</td>\n",
       "      <td>0.67</td>\n",
       "    </tr>\n",
       "    <tr>\n",
       "      <th>26</th>\n",
       "      <td>yandex_direct</td>\n",
       "      <td>2020-05-09</td>\n",
       "      <td>42.78</td>\n",
       "      <td>2020-05-10</td>\n",
       "      <td>89</td>\n",
       "      <td>0.48</td>\n",
       "    </tr>\n",
       "    <tr>\n",
       "      <th>27</th>\n",
       "      <td>youtube_channel_reklama</td>\n",
       "      <td>2020-05-09</td>\n",
       "      <td>23.31</td>\n",
       "      <td>2020-05-10</td>\n",
       "      <td>56</td>\n",
       "      <td>0.42</td>\n",
       "    </tr>\n",
       "  </tbody>\n",
       "</table>\n",
       "</div>"
      ],
      "text/plain": [
       "                     source        day   cost start_datetime  unique_users  \\\n",
       "0              facebook_ads 2020-05-03 935.88     2020-05-04          1184   \n",
       "1     instagram_new_adverts 2020-05-03 943.20     2020-05-04          1452   \n",
       "2             yandex_direct 2020-05-03 969.14     2020-05-04          2078   \n",
       "3   youtube_channel_reklama 2020-05-03 454.22     2020-05-04          1146   \n",
       "4              facebook_ads 2020-05-04 548.35     2020-05-05           694   \n",
       "5     instagram_new_adverts 2020-05-04 502.93     2020-05-05           796   \n",
       "6             yandex_direct 2020-05-04 554.65     2020-05-05          1208   \n",
       "7   youtube_channel_reklama 2020-05-04 259.07     2020-05-05           663   \n",
       "8              facebook_ads 2020-05-05 260.19     2020-05-06           345   \n",
       "9     instagram_new_adverts 2020-05-05 313.97     2020-05-06           472   \n",
       "10            yandex_direct 2020-05-05 308.23     2020-05-06           664   \n",
       "11  youtube_channel_reklama 2020-05-05 147.04     2020-05-06           366   \n",
       "12             facebook_ads 2020-05-06 177.98     2020-05-07           224   \n",
       "13    instagram_new_adverts 2020-05-06 173.07     2020-05-07           270   \n",
       "14            yandex_direct 2020-05-06 180.92     2020-05-07           395   \n",
       "15  youtube_channel_reklama 2020-05-06  88.51     2020-05-07           220   \n",
       "16             facebook_ads 2020-05-07 111.77     2020-05-08           139   \n",
       "17    instagram_new_adverts 2020-05-07 109.92     2020-05-08           175   \n",
       "18            yandex_direct 2020-05-07 114.43     2020-05-08           239   \n",
       "19  youtube_channel_reklama 2020-05-07  55.74     2020-05-08           135   \n",
       "20             facebook_ads 2020-05-08  68.01     2020-05-09            84   \n",
       "21    instagram_new_adverts 2020-05-08  71.58     2020-05-09           112   \n",
       "22            yandex_direct 2020-05-08  62.96     2020-05-09           144   \n",
       "23  youtube_channel_reklama 2020-05-08  40.22     2020-05-09           100   \n",
       "24             facebook_ads 2020-05-09  38.72     2020-05-10            56   \n",
       "25    instagram_new_adverts 2020-05-09  46.78     2020-05-10            70   \n",
       "26            yandex_direct 2020-05-09  42.78     2020-05-10            89   \n",
       "27  youtube_channel_reklama 2020-05-09  23.31     2020-05-10            56   \n",
       "\n",
       "    acquisition_cost  \n",
       "0               0.79  \n",
       "1               0.65  \n",
       "2               0.47  \n",
       "3               0.40  \n",
       "4               0.79  \n",
       "5               0.63  \n",
       "6               0.46  \n",
       "7               0.39  \n",
       "8               0.75  \n",
       "9               0.67  \n",
       "10              0.46  \n",
       "11              0.40  \n",
       "12              0.79  \n",
       "13              0.64  \n",
       "14              0.46  \n",
       "15              0.40  \n",
       "16              0.80  \n",
       "17              0.63  \n",
       "18              0.48  \n",
       "19              0.41  \n",
       "20              0.81  \n",
       "21              0.64  \n",
       "22              0.44  \n",
       "23              0.40  \n",
       "24              0.69  \n",
       "25              0.67  \n",
       "26              0.48  \n",
       "27              0.42  "
      ]
     },
     "execution_count": 36,
     "metadata": {},
     "output_type": "execute_result"
    }
   ],
   "source": [
    "ad_costs = ad_costs.merge(new_users, on=['start_datetime', 'source'], how='right')\n",
    "ad_costs['acquisition_cost'] = ad_costs['cost'] / ad_costs['unique_users']\n",
    "ad_costs"
   ]
  },
  {
   "cell_type": "code",
   "execution_count": 37,
   "metadata": {},
   "outputs": [
    {
     "data": {
      "image/png": "[encoded data removed]",
      "text/plain": [
       "<Figure size 648x504 with 1 Axes>"
      ]
     },
     "metadata": {
      "needs_background": "light"
     },
     "output_type": "display_data"
    }
   ],
   "source": [
    "ad_costs.pivot_table(index='start_datetime', columns='source',values='acquisition_cost', aggfunc='sum').plot(grid=True, figsize=(9, 7), title='Стоимость привлечения пользователя по дням, у.е.', ylabel='Объем затрат, у.е./ чел', xlabel='Дата');"
   ]
  },
  {
   "cell_type": "markdown",
   "metadata": {},
   "source": [
    "Добавим в таблицу профилей пользователей информацию о стоимости привлечения:"
   ]
  },
  {
   "cell_type": "code",
   "execution_count": 38,
   "metadata": {},
   "outputs": [],
   "source": [
    "profiles = profiles.merge(ad_costs[['source','start_datetime','acquisition_cost']], on=['source','start_datetime'], how='left')\n"
   ]
  },
  {
   "cell_type": "code",
   "execution_count": 39,
   "metadata": {
    "scrolled": true
   },
   "outputs": [
    {
     "data": {
      "text/html": [
       "<div>\n",
       "<style scoped>\n",
       "    .dataframe tbody tr th:only-of-type {\n",
       "        vertical-align: middle;\n",
       "    }\n",
       "\n",
       "    .dataframe tbody tr th {\n",
       "        vertical-align: top;\n",
       "    }\n",
       "\n",
       "    .dataframe thead th {\n",
       "        text-align: right;\n",
       "    }\n",
       "</style>\n",
       "<table border=\"1\" class=\"dataframe\">\n",
       "  <thead>\n",
       "    <tr style=\"text-align: right;\">\n",
       "      <th></th>\n",
       "      <th>user_id</th>\n",
       "      <th>first_event</th>\n",
       "      <th>start_datetime</th>\n",
       "      <th>last_event</th>\n",
       "      <th>end_datetime</th>\n",
       "      <th>delta_time</th>\n",
       "      <th>building_event</th>\n",
       "      <th>assembly_shop</th>\n",
       "      <th>spaceport</th>\n",
       "      <th>research_center</th>\n",
       "      <th>finish_event</th>\n",
       "      <th>project_event</th>\n",
       "      <th>source</th>\n",
       "      <th>acquisition_cost</th>\n",
       "    </tr>\n",
       "  </thead>\n",
       "  <tbody>\n",
       "    <tr>\n",
       "      <th>0</th>\n",
       "      <td>0001f83c-c6ac-4621-b7f0-8a28b283ac30</td>\n",
       "      <td>building</td>\n",
       "      <td>2020-05-06</td>\n",
       "      <td>building</td>\n",
       "      <td>2020-05-20</td>\n",
       "      <td>14 days 11:00:00</td>\n",
       "      <td>13</td>\n",
       "      <td>6</td>\n",
       "      <td>6.00</td>\n",
       "      <td>1.00</td>\n",
       "      <td>0.00</td>\n",
       "      <td>0.00</td>\n",
       "      <td>facebook_ads</td>\n",
       "      <td>0.75</td>\n",
       "    </tr>\n",
       "    <tr>\n",
       "      <th>1</th>\n",
       "      <td>00151b4f-ba38-44a8-a650-d7cf130a0105</td>\n",
       "      <td>building</td>\n",
       "      <td>2020-05-06</td>\n",
       "      <td>building</td>\n",
       "      <td>2020-05-18</td>\n",
       "      <td>12 days 08:00:00</td>\n",
       "      <td>9</td>\n",
       "      <td>4</td>\n",
       "      <td>5.00</td>\n",
       "      <td>0.00</td>\n",
       "      <td>0.00</td>\n",
       "      <td>0.00</td>\n",
       "      <td>yandex_direct</td>\n",
       "      <td>0.46</td>\n",
       "    </tr>\n",
       "    <tr>\n",
       "      <th>2</th>\n",
       "      <td>001aaea6-3d14-43f1-8ca8-7f48820f17aa</td>\n",
       "      <td>building</td>\n",
       "      <td>2020-05-05</td>\n",
       "      <td>building</td>\n",
       "      <td>2020-05-14</td>\n",
       "      <td>8 days 16:00:00</td>\n",
       "      <td>4</td>\n",
       "      <td>2</td>\n",
       "      <td>2.00</td>\n",
       "      <td>0.00</td>\n",
       "      <td>0.00</td>\n",
       "      <td>0.00</td>\n",
       "      <td>youtube_channel_reklama</td>\n",
       "      <td>0.39</td>\n",
       "    </tr>\n",
       "    <tr>\n",
       "      <th>3</th>\n",
       "      <td>001d39dc-366c-4021-9604-6a3b9ff01e25</td>\n",
       "      <td>building</td>\n",
       "      <td>2020-05-05</td>\n",
       "      <td>finished_stage_1</td>\n",
       "      <td>2020-05-12</td>\n",
       "      <td>6 days 11:00:00</td>\n",
       "      <td>8</td>\n",
       "      <td>4</td>\n",
       "      <td>4.00</td>\n",
       "      <td>0.00</td>\n",
       "      <td>1.00</td>\n",
       "      <td>0.00</td>\n",
       "      <td>instagram_new_adverts</td>\n",
       "      <td>0.63</td>\n",
       "    </tr>\n",
       "    <tr>\n",
       "      <th>4</th>\n",
       "      <td>002f508f-67b6-479f-814b-b05f00d4e995</td>\n",
       "      <td>building</td>\n",
       "      <td>2020-05-05</td>\n",
       "      <td>building</td>\n",
       "      <td>2020-05-22</td>\n",
       "      <td>16 days 13:00:00</td>\n",
       "      <td>12</td>\n",
       "      <td>3</td>\n",
       "      <td>8.00</td>\n",
       "      <td>1.00</td>\n",
       "      <td>0.00</td>\n",
       "      <td>0.00</td>\n",
       "      <td>facebook_ads</td>\n",
       "      <td>0.79</td>\n",
       "    </tr>\n",
       "    <tr>\n",
       "      <th>...</th>\n",
       "      <td>...</td>\n",
       "      <td>...</td>\n",
       "      <td>...</td>\n",
       "      <td>...</td>\n",
       "      <td>...</td>\n",
       "      <td>...</td>\n",
       "      <td>...</td>\n",
       "      <td>...</td>\n",
       "      <td>...</td>\n",
       "      <td>...</td>\n",
       "      <td>...</td>\n",
       "      <td>...</td>\n",
       "      <td>...</td>\n",
       "      <td>...</td>\n",
       "    </tr>\n",
       "    <tr>\n",
       "      <th>13571</th>\n",
       "      <td>ffef4fed-164c-40e1-bde1-3980f76d0fb5</td>\n",
       "      <td>building</td>\n",
       "      <td>2020-05-04</td>\n",
       "      <td>finished_stage_1</td>\n",
       "      <td>2020-05-11</td>\n",
       "      <td>7 days 21:00:00</td>\n",
       "      <td>9</td>\n",
       "      <td>7</td>\n",
       "      <td>1.00</td>\n",
       "      <td>1.00</td>\n",
       "      <td>1.00</td>\n",
       "      <td>0.00</td>\n",
       "      <td>instagram_new_adverts</td>\n",
       "      <td>0.65</td>\n",
       "    </tr>\n",
       "    <tr>\n",
       "      <th>13572</th>\n",
       "      <td>fffab3da-da0e-4e30-ae62-10d0a2e24a4e</td>\n",
       "      <td>building</td>\n",
       "      <td>2020-05-04</td>\n",
       "      <td>building</td>\n",
       "      <td>2020-05-14</td>\n",
       "      <td>9 days 23:00:00</td>\n",
       "      <td>16</td>\n",
       "      <td>5</td>\n",
       "      <td>8.00</td>\n",
       "      <td>3.00</td>\n",
       "      <td>0.00</td>\n",
       "      <td>0.00</td>\n",
       "      <td>facebook_ads</td>\n",
       "      <td>0.79</td>\n",
       "    </tr>\n",
       "    <tr>\n",
       "      <th>13573</th>\n",
       "      <td>fffb626c-5ab6-47c9-8113-2062a2f18494</td>\n",
       "      <td>building</td>\n",
       "      <td>2020-05-04</td>\n",
       "      <td>finished_stage_1</td>\n",
       "      <td>2020-05-12</td>\n",
       "      <td>8 days 11:00:00</td>\n",
       "      <td>9</td>\n",
       "      <td>4</td>\n",
       "      <td>3.00</td>\n",
       "      <td>2.00</td>\n",
       "      <td>1.00</td>\n",
       "      <td>0.00</td>\n",
       "      <td>yandex_direct</td>\n",
       "      <td>0.47</td>\n",
       "    </tr>\n",
       "    <tr>\n",
       "      <th>13574</th>\n",
       "      <td>ffff194a-56b7-4c12-860d-3485242ae7f5</td>\n",
       "      <td>building</td>\n",
       "      <td>2020-05-04</td>\n",
       "      <td>building</td>\n",
       "      <td>2020-05-11</td>\n",
       "      <td>7 days 02:00:00</td>\n",
       "      <td>7</td>\n",
       "      <td>6</td>\n",
       "      <td>1.00</td>\n",
       "      <td>0.00</td>\n",
       "      <td>0.00</td>\n",
       "      <td>0.00</td>\n",
       "      <td>instagram_new_adverts</td>\n",
       "      <td>0.65</td>\n",
       "    </tr>\n",
       "    <tr>\n",
       "      <th>13575</th>\n",
       "      <td>ffff69cc-fec1-4fd3-9f98-93be1112a6b8</td>\n",
       "      <td>building</td>\n",
       "      <td>2020-05-08</td>\n",
       "      <td>finished_stage_1</td>\n",
       "      <td>2020-05-25</td>\n",
       "      <td>17 days 08:00:00</td>\n",
       "      <td>12</td>\n",
       "      <td>3</td>\n",
       "      <td>6.00</td>\n",
       "      <td>3.00</td>\n",
       "      <td>1.00</td>\n",
       "      <td>1.00</td>\n",
       "      <td>facebook_ads</td>\n",
       "      <td>0.80</td>\n",
       "    </tr>\n",
       "  </tbody>\n",
       "</table>\n",
       "<p>13576 rows × 14 columns</p>\n",
       "</div>"
      ],
      "text/plain": [
       "                                    user_id first_event start_datetime  \\\n",
       "0      0001f83c-c6ac-4621-b7f0-8a28b283ac30    building     2020-05-06   \n",
       "1      00151b4f-ba38-44a8-a650-d7cf130a0105    building     2020-05-06   \n",
       "2      001aaea6-3d14-43f1-8ca8-7f48820f17aa    building     2020-05-05   \n",
       "3      001d39dc-366c-4021-9604-6a3b9ff01e25    building     2020-05-05   \n",
       "4      002f508f-67b6-479f-814b-b05f00d4e995    building     2020-05-05   \n",
       "...                                     ...         ...            ...   \n",
       "13571  ffef4fed-164c-40e1-bde1-3980f76d0fb5    building     2020-05-04   \n",
       "13572  fffab3da-da0e-4e30-ae62-10d0a2e24a4e    building     2020-05-04   \n",
       "13573  fffb626c-5ab6-47c9-8113-2062a2f18494    building     2020-05-04   \n",
       "13574  ffff194a-56b7-4c12-860d-3485242ae7f5    building     2020-05-04   \n",
       "13575  ffff69cc-fec1-4fd3-9f98-93be1112a6b8    building     2020-05-08   \n",
       "\n",
       "             last_event end_datetime       delta_time  building_event  \\\n",
       "0              building   2020-05-20 14 days 11:00:00              13   \n",
       "1              building   2020-05-18 12 days 08:00:00               9   \n",
       "2              building   2020-05-14  8 days 16:00:00               4   \n",
       "3      finished_stage_1   2020-05-12  6 days 11:00:00               8   \n",
       "4              building   2020-05-22 16 days 13:00:00              12   \n",
       "...                 ...          ...              ...             ...   \n",
       "13571  finished_stage_1   2020-05-11  7 days 21:00:00               9   \n",
       "13572          building   2020-05-14  9 days 23:00:00              16   \n",
       "13573  finished_stage_1   2020-05-12  8 days 11:00:00               9   \n",
       "13574          building   2020-05-11  7 days 02:00:00               7   \n",
       "13575  finished_stage_1   2020-05-25 17 days 08:00:00              12   \n",
       "\n",
       "       assembly_shop  spaceport  research_center  finish_event  project_event  \\\n",
       "0                  6       6.00             1.00          0.00           0.00   \n",
       "1                  4       5.00             0.00          0.00           0.00   \n",
       "2                  2       2.00             0.00          0.00           0.00   \n",
       "3                  4       4.00             0.00          1.00           0.00   \n",
       "4                  3       8.00             1.00          0.00           0.00   \n",
       "...              ...        ...              ...           ...            ...   \n",
       "13571              7       1.00             1.00          1.00           0.00   \n",
       "13572              5       8.00             3.00          0.00           0.00   \n",
       "13573              4       3.00             2.00          1.00           0.00   \n",
       "13574              6       1.00             0.00          0.00           0.00   \n",
       "13575              3       6.00             3.00          1.00           1.00   \n",
       "\n",
       "                        source  acquisition_cost  \n",
       "0                 facebook_ads              0.75  \n",
       "1                yandex_direct              0.46  \n",
       "2      youtube_channel_reklama              0.39  \n",
       "3        instagram_new_adverts              0.63  \n",
       "4                 facebook_ads              0.79  \n",
       "...                        ...               ...  \n",
       "13571    instagram_new_adverts              0.65  \n",
       "13572             facebook_ads              0.79  \n",
       "13573            yandex_direct              0.47  \n",
       "13574    instagram_new_adverts              0.65  \n",
       "13575             facebook_ads              0.80  \n",
       "\n",
       "[13576 rows x 14 columns]"
      ]
     },
     "execution_count": 39,
     "metadata": {},
     "output_type": "execute_result"
    }
   ],
   "source": [
    "profiles"
   ]
  },
  {
   "cell_type": "markdown",
   "metadata": {},
   "source": [
    "**6. Определим стратегию игры каждого пользователя.**\n",
    "\n",
    "Известно, что данные о пользователях отражали события только ДО перехода на второй уровень игры. \n",
    "\n",
    "Так как целью исследования является анализ поведения пользователя в зависимости от источника привлечения, то есть анализ пользовательского поведения, то когорты создавать не будем, рассмотрим каждого пользователя с позиции покупателя в интернет-магазине, который после привлечения пришел в \"магазин\" и совершает какие-то действия, а мы их анализируем.\n",
    "\n",
    "Так как создателям важно, чтобы игра приносила прибыль, а канал монетизации - реклама при выборе типа постройки, то целевое действие - выбор building_type. Чем больше строений пользователи хотят построить, тем больше выручки у компании. (Не важно, достроено здание или нет, реклама при выборе типа строения уже показалась , \"деньги отработаны\")\n",
    "\n",
    "Игроку же должна быть интересна игра, которая стимулирует его совершать целевые действия.\n",
    "\n",
    "В игре на первом уровне есть 2 стратегии перехода на второй уровень:\n",
    "\n",
    "* Победа над первым врагом - понятно, для победы над врагом в космосе нужны комические корабли. Чем больше кораблей, тем выше шанс победить врага, чем больше кораблей, тем больше выбора building_type - spaceport — космопорт (так как для колонизации другой планеты там должна быть база \"своих\" кораблей), тем больше целевых действий, больше выручки от рекламной компании.\n",
    "\n",
    "* Реализация проекта - разработка орбитальной сборки спутников. Для сборки спутников нужен building_type — research_center — исследовательский центр, assembly_shop — сборочный цех\n",
    "\n",
    "Разберем стратегии подробно:\n",
    "\n",
    "Стратегия 1 - Победа над первым врагом. Игрок на этой стратегии не строит исследовательский центр, а строит космопорты и сборочные цеха; переход на 2-й уровень происходит автоматически. Игрок не имеет возможности после победы над врагом продолжать находиться на первом уровне. Данные о начале и окончании боя с врагом отсутствуют."
   ]
  },
  {
   "cell_type": "markdown",
   "metadata": {},
   "source": [
    "Например, пользователь \"515c1952-99aa-4bca-a7ea-d0449eb5385a\" начал с постройки сборочного цеха, после космопортов, начал строить исследовательский центр, но не достроил его (событие  `project` не появляется). Далее, вероятно, встретил врагов, выиграл бой и появилось событие \"finished_stage_1\". Событий на других уровнях датасет не содержит."
   ]
  },
  {
   "cell_type": "code",
   "execution_count": 40,
   "metadata": {},
   "outputs": [
    {
     "data": {
      "text/html": [
       "<div>\n",
       "<style scoped>\n",
       "    .dataframe tbody tr th:only-of-type {\n",
       "        vertical-align: middle;\n",
       "    }\n",
       "\n",
       "    .dataframe tbody tr th {\n",
       "        vertical-align: top;\n",
       "    }\n",
       "\n",
       "    .dataframe thead th {\n",
       "        text-align: right;\n",
       "    }\n",
       "</style>\n",
       "<table border=\"1\" class=\"dataframe\">\n",
       "  <thead>\n",
       "    <tr style=\"text-align: right;\">\n",
       "      <th></th>\n",
       "      <th>event_datetime</th>\n",
       "      <th>event</th>\n",
       "      <th>building_type</th>\n",
       "      <th>user_id</th>\n",
       "      <th>project_type</th>\n",
       "    </tr>\n",
       "  </thead>\n",
       "  <tbody>\n",
       "    <tr>\n",
       "      <th>30473</th>\n",
       "      <td>2020-05-07 07:28:50</td>\n",
       "      <td>building</td>\n",
       "      <td>assembly_shop</td>\n",
       "      <td>515c1952-99aa-4bca-a7ea-d0449eb5385a</td>\n",
       "      <td>NaN</td>\n",
       "    </tr>\n",
       "    <tr>\n",
       "      <th>47075</th>\n",
       "      <td>2020-05-08 18:05:14</td>\n",
       "      <td>building</td>\n",
       "      <td>spaceport</td>\n",
       "      <td>515c1952-99aa-4bca-a7ea-d0449eb5385a</td>\n",
       "      <td>NaN</td>\n",
       "    </tr>\n",
       "    <tr>\n",
       "      <th>67618</th>\n",
       "      <td>2020-05-10 07:21:23</td>\n",
       "      <td>building</td>\n",
       "      <td>assembly_shop</td>\n",
       "      <td>515c1952-99aa-4bca-a7ea-d0449eb5385a</td>\n",
       "      <td>NaN</td>\n",
       "    </tr>\n",
       "    <tr>\n",
       "      <th>89125</th>\n",
       "      <td>2020-05-12 07:42:12</td>\n",
       "      <td>building</td>\n",
       "      <td>spaceport</td>\n",
       "      <td>515c1952-99aa-4bca-a7ea-d0449eb5385a</td>\n",
       "      <td>NaN</td>\n",
       "    </tr>\n",
       "    <tr>\n",
       "      <th>126662</th>\n",
       "      <td>2020-05-18 22:33:29</td>\n",
       "      <td>building</td>\n",
       "      <td>spaceport</td>\n",
       "      <td>515c1952-99aa-4bca-a7ea-d0449eb5385a</td>\n",
       "      <td>NaN</td>\n",
       "    </tr>\n",
       "    <tr>\n",
       "      <th>130929</th>\n",
       "      <td>2020-05-20 23:27:00</td>\n",
       "      <td>building</td>\n",
       "      <td>spaceport</td>\n",
       "      <td>515c1952-99aa-4bca-a7ea-d0449eb5385a</td>\n",
       "      <td>NaN</td>\n",
       "    </tr>\n",
       "    <tr>\n",
       "      <th>133040</th>\n",
       "      <td>2020-05-22 16:45:30</td>\n",
       "      <td>building</td>\n",
       "      <td>spaceport</td>\n",
       "      <td>515c1952-99aa-4bca-a7ea-d0449eb5385a</td>\n",
       "      <td>NaN</td>\n",
       "    </tr>\n",
       "    <tr>\n",
       "      <th>134327</th>\n",
       "      <td>2020-05-24 15:52:46</td>\n",
       "      <td>building</td>\n",
       "      <td>spaceport</td>\n",
       "      <td>515c1952-99aa-4bca-a7ea-d0449eb5385a</td>\n",
       "      <td>NaN</td>\n",
       "    </tr>\n",
       "    <tr>\n",
       "      <th>135159</th>\n",
       "      <td>2020-05-27 04:23:44</td>\n",
       "      <td>building</td>\n",
       "      <td>spaceport</td>\n",
       "      <td>515c1952-99aa-4bca-a7ea-d0449eb5385a</td>\n",
       "      <td>NaN</td>\n",
       "    </tr>\n",
       "    <tr>\n",
       "      <th>135441</th>\n",
       "      <td>2020-05-29 02:59:03</td>\n",
       "      <td>building</td>\n",
       "      <td>spaceport</td>\n",
       "      <td>515c1952-99aa-4bca-a7ea-d0449eb5385a</td>\n",
       "      <td>NaN</td>\n",
       "    </tr>\n",
       "    <tr>\n",
       "      <th>135624</th>\n",
       "      <td>2020-06-03 22:49:24</td>\n",
       "      <td>building</td>\n",
       "      <td>spaceport</td>\n",
       "      <td>515c1952-99aa-4bca-a7ea-d0449eb5385a</td>\n",
       "      <td>NaN</td>\n",
       "    </tr>\n",
       "    <tr>\n",
       "      <th>135634</th>\n",
       "      <td>2020-06-04 18:14:33</td>\n",
       "      <td>building</td>\n",
       "      <td>research_center</td>\n",
       "      <td>515c1952-99aa-4bca-a7ea-d0449eb5385a</td>\n",
       "      <td>NaN</td>\n",
       "    </tr>\n",
       "    <tr>\n",
       "      <th>135636</th>\n",
       "      <td>2020-06-05 02:25:12</td>\n",
       "      <td>finished_stage_1</td>\n",
       "      <td>NaN</td>\n",
       "      <td>515c1952-99aa-4bca-a7ea-d0449eb5385a</td>\n",
       "      <td>NaN</td>\n",
       "    </tr>\n",
       "  </tbody>\n",
       "</table>\n",
       "</div>"
      ],
      "text/plain": [
       "            event_datetime             event    building_type  \\\n",
       "30473  2020-05-07 07:28:50          building    assembly_shop   \n",
       "47075  2020-05-08 18:05:14          building        spaceport   \n",
       "67618  2020-05-10 07:21:23          building    assembly_shop   \n",
       "89125  2020-05-12 07:42:12          building        spaceport   \n",
       "126662 2020-05-18 22:33:29          building        spaceport   \n",
       "130929 2020-05-20 23:27:00          building        spaceport   \n",
       "133040 2020-05-22 16:45:30          building        spaceport   \n",
       "134327 2020-05-24 15:52:46          building        spaceport   \n",
       "135159 2020-05-27 04:23:44          building        spaceport   \n",
       "135441 2020-05-29 02:59:03          building        spaceport   \n",
       "135624 2020-06-03 22:49:24          building        spaceport   \n",
       "135634 2020-06-04 18:14:33          building  research_center   \n",
       "135636 2020-06-05 02:25:12  finished_stage_1              NaN   \n",
       "\n",
       "                                     user_id project_type  \n",
       "30473   515c1952-99aa-4bca-a7ea-d0449eb5385a          NaN  \n",
       "47075   515c1952-99aa-4bca-a7ea-d0449eb5385a          NaN  \n",
       "67618   515c1952-99aa-4bca-a7ea-d0449eb5385a          NaN  \n",
       "89125   515c1952-99aa-4bca-a7ea-d0449eb5385a          NaN  \n",
       "126662  515c1952-99aa-4bca-a7ea-d0449eb5385a          NaN  \n",
       "130929  515c1952-99aa-4bca-a7ea-d0449eb5385a          NaN  \n",
       "133040  515c1952-99aa-4bca-a7ea-d0449eb5385a          NaN  \n",
       "134327  515c1952-99aa-4bca-a7ea-d0449eb5385a          NaN  \n",
       "135159  515c1952-99aa-4bca-a7ea-d0449eb5385a          NaN  \n",
       "135441  515c1952-99aa-4bca-a7ea-d0449eb5385a          NaN  \n",
       "135624  515c1952-99aa-4bca-a7ea-d0449eb5385a          NaN  \n",
       "135634  515c1952-99aa-4bca-a7ea-d0449eb5385a          NaN  \n",
       "135636  515c1952-99aa-4bca-a7ea-d0449eb5385a          NaN  "
      ]
     },
     "execution_count": 40,
     "metadata": {},
     "output_type": "execute_result"
    }
   ],
   "source": [
    "game_actions.query('user_id == \"515c1952-99aa-4bca-a7ea-d0449eb5385a\"')"
   ]
  },
  {
   "cell_type": "markdown",
   "metadata": {},
   "source": [
    "Стратегия 2 - Реализация проекта. Игрок строит research_center — исследовательский центр, assembly_shop — сборочный цех. После окончания постройки наступает событие  `project`, а в поле `project_type` появляется статус `satellite_orbital_assembly`. Однако пользователь, реализовав проект, может выбрать продолжить исследование игры , а не переход на второй уровень. \n",
    "\n",
    "Например, пользователь \"e3c66498-9d45-4000-9392-f81e6796e7da\" начинает игру с постройки сборочного цеха, далее космопортов и исследовательского центра, реализовывает проект (наступает событие  `project`, а в поле `project_type` появляется статус `satellite_orbital_assembly`). После этого игрок имеет возможность еще осуществлять постройки , после чего нажимает кнопку перехода на следующий уровень  и/или попадает туда , выиграв бой с первым врагом."
   ]
  },
  {
   "cell_type": "code",
   "execution_count": 41,
   "metadata": {},
   "outputs": [
    {
     "data": {
      "text/html": [
       "<div>\n",
       "<style scoped>\n",
       "    .dataframe tbody tr th:only-of-type {\n",
       "        vertical-align: middle;\n",
       "    }\n",
       "\n",
       "    .dataframe tbody tr th {\n",
       "        vertical-align: top;\n",
       "    }\n",
       "\n",
       "    .dataframe thead th {\n",
       "        text-align: right;\n",
       "    }\n",
       "</style>\n",
       "<table border=\"1\" class=\"dataframe\">\n",
       "  <thead>\n",
       "    <tr style=\"text-align: right;\">\n",
       "      <th></th>\n",
       "      <th>event_datetime</th>\n",
       "      <th>event</th>\n",
       "      <th>building_type</th>\n",
       "      <th>user_id</th>\n",
       "      <th>project_type</th>\n",
       "    </tr>\n",
       "  </thead>\n",
       "  <tbody>\n",
       "    <tr>\n",
       "      <th>2196</th>\n",
       "      <td>2020-05-04 06:50:30</td>\n",
       "      <td>building</td>\n",
       "      <td>assembly_shop</td>\n",
       "      <td>e3c66498-9d45-4000-9392-f81e6796e7da</td>\n",
       "      <td>NaN</td>\n",
       "    </tr>\n",
       "    <tr>\n",
       "      <th>3936</th>\n",
       "      <td>2020-05-04 11:58:16</td>\n",
       "      <td>building</td>\n",
       "      <td>spaceport</td>\n",
       "      <td>e3c66498-9d45-4000-9392-f81e6796e7da</td>\n",
       "      <td>NaN</td>\n",
       "    </tr>\n",
       "    <tr>\n",
       "      <th>20206</th>\n",
       "      <td>2020-05-06 07:22:08</td>\n",
       "      <td>building</td>\n",
       "      <td>assembly_shop</td>\n",
       "      <td>e3c66498-9d45-4000-9392-f81e6796e7da</td>\n",
       "      <td>NaN</td>\n",
       "    </tr>\n",
       "    <tr>\n",
       "      <th>20261</th>\n",
       "      <td>2020-05-06 07:31:59</td>\n",
       "      <td>building</td>\n",
       "      <td>assembly_shop</td>\n",
       "      <td>e3c66498-9d45-4000-9392-f81e6796e7da</td>\n",
       "      <td>NaN</td>\n",
       "    </tr>\n",
       "    <tr>\n",
       "      <th>27376</th>\n",
       "      <td>2020-05-07 00:34:18</td>\n",
       "      <td>building</td>\n",
       "      <td>spaceport</td>\n",
       "      <td>e3c66498-9d45-4000-9392-f81e6796e7da</td>\n",
       "      <td>NaN</td>\n",
       "    </tr>\n",
       "    <tr>\n",
       "      <th>31983</th>\n",
       "      <td>2020-05-07 10:52:16</td>\n",
       "      <td>building</td>\n",
       "      <td>assembly_shop</td>\n",
       "      <td>e3c66498-9d45-4000-9392-f81e6796e7da</td>\n",
       "      <td>NaN</td>\n",
       "    </tr>\n",
       "    <tr>\n",
       "      <th>32956</th>\n",
       "      <td>2020-05-07 12:58:20</td>\n",
       "      <td>building</td>\n",
       "      <td>assembly_shop</td>\n",
       "      <td>e3c66498-9d45-4000-9392-f81e6796e7da</td>\n",
       "      <td>NaN</td>\n",
       "    </tr>\n",
       "    <tr>\n",
       "      <th>33910</th>\n",
       "      <td>2020-05-07 14:58:20</td>\n",
       "      <td>building</td>\n",
       "      <td>assembly_shop</td>\n",
       "      <td>e3c66498-9d45-4000-9392-f81e6796e7da</td>\n",
       "      <td>NaN</td>\n",
       "    </tr>\n",
       "    <tr>\n",
       "      <th>35308</th>\n",
       "      <td>2020-05-07 18:12:58</td>\n",
       "      <td>building</td>\n",
       "      <td>research_center</td>\n",
       "      <td>e3c66498-9d45-4000-9392-f81e6796e7da</td>\n",
       "      <td>NaN</td>\n",
       "    </tr>\n",
       "    <tr>\n",
       "      <th>40433</th>\n",
       "      <td>2020-05-08 05:00:46</td>\n",
       "      <td>building</td>\n",
       "      <td>spaceport</td>\n",
       "      <td>e3c66498-9d45-4000-9392-f81e6796e7da</td>\n",
       "      <td>NaN</td>\n",
       "    </tr>\n",
       "    <tr>\n",
       "      <th>46241</th>\n",
       "      <td>2020-05-08 16:28:19</td>\n",
       "      <td>building</td>\n",
       "      <td>research_center</td>\n",
       "      <td>e3c66498-9d45-4000-9392-f81e6796e7da</td>\n",
       "      <td>NaN</td>\n",
       "    </tr>\n",
       "    <tr>\n",
       "      <th>47121</th>\n",
       "      <td>2020-05-08 18:10:25</td>\n",
       "      <td>project</td>\n",
       "      <td>NaN</td>\n",
       "      <td>e3c66498-9d45-4000-9392-f81e6796e7da</td>\n",
       "      <td>satellite_orbital_assembly</td>\n",
       "    </tr>\n",
       "    <tr>\n",
       "      <th>61383</th>\n",
       "      <td>2020-05-09 20:51:21</td>\n",
       "      <td>building</td>\n",
       "      <td>research_center</td>\n",
       "      <td>e3c66498-9d45-4000-9392-f81e6796e7da</td>\n",
       "      <td>NaN</td>\n",
       "    </tr>\n",
       "    <tr>\n",
       "      <th>69604</th>\n",
       "      <td>2020-05-10 10:30:22</td>\n",
       "      <td>finished_stage_1</td>\n",
       "      <td>NaN</td>\n",
       "      <td>e3c66498-9d45-4000-9392-f81e6796e7da</td>\n",
       "      <td>NaN</td>\n",
       "    </tr>\n",
       "  </tbody>\n",
       "</table>\n",
       "</div>"
      ],
      "text/plain": [
       "           event_datetime             event    building_type  \\\n",
       "2196  2020-05-04 06:50:30          building    assembly_shop   \n",
       "3936  2020-05-04 11:58:16          building        spaceport   \n",
       "20206 2020-05-06 07:22:08          building    assembly_shop   \n",
       "20261 2020-05-06 07:31:59          building    assembly_shop   \n",
       "27376 2020-05-07 00:34:18          building        spaceport   \n",
       "31983 2020-05-07 10:52:16          building    assembly_shop   \n",
       "32956 2020-05-07 12:58:20          building    assembly_shop   \n",
       "33910 2020-05-07 14:58:20          building    assembly_shop   \n",
       "35308 2020-05-07 18:12:58          building  research_center   \n",
       "40433 2020-05-08 05:00:46          building        spaceport   \n",
       "46241 2020-05-08 16:28:19          building  research_center   \n",
       "47121 2020-05-08 18:10:25           project              NaN   \n",
       "61383 2020-05-09 20:51:21          building  research_center   \n",
       "69604 2020-05-10 10:30:22  finished_stage_1              NaN   \n",
       "\n",
       "                                    user_id                project_type  \n",
       "2196   e3c66498-9d45-4000-9392-f81e6796e7da                         NaN  \n",
       "3936   e3c66498-9d45-4000-9392-f81e6796e7da                         NaN  \n",
       "20206  e3c66498-9d45-4000-9392-f81e6796e7da                         NaN  \n",
       "20261  e3c66498-9d45-4000-9392-f81e6796e7da                         NaN  \n",
       "27376  e3c66498-9d45-4000-9392-f81e6796e7da                         NaN  \n",
       "31983  e3c66498-9d45-4000-9392-f81e6796e7da                         NaN  \n",
       "32956  e3c66498-9d45-4000-9392-f81e6796e7da                         NaN  \n",
       "33910  e3c66498-9d45-4000-9392-f81e6796e7da                         NaN  \n",
       "35308  e3c66498-9d45-4000-9392-f81e6796e7da                         NaN  \n",
       "40433  e3c66498-9d45-4000-9392-f81e6796e7da                         NaN  \n",
       "46241  e3c66498-9d45-4000-9392-f81e6796e7da                         NaN  \n",
       "47121  e3c66498-9d45-4000-9392-f81e6796e7da  satellite_orbital_assembly  \n",
       "61383  e3c66498-9d45-4000-9392-f81e6796e7da                         NaN  \n",
       "69604  e3c66498-9d45-4000-9392-f81e6796e7da                         NaN  "
      ]
     },
     "execution_count": 41,
     "metadata": {},
     "output_type": "execute_result"
    }
   ],
   "source": [
    "game_actions.query('user_id == \"e3c66498-9d45-4000-9392-f81e6796e7da\"')"
   ]
  },
  {
   "cell_type": "markdown",
   "metadata": {},
   "source": [
    "Так как нет информации о начале и окончании боя с первым врагом в поле с событиями, но есть событие \"project\", которому соотвествует `project_type = satellite_orbital_assembly` , то относим этих пользователей к Стратегии 2. \n",
    "\n",
    "Игроков, у которых `event != project` и `event == finished_stage_1` относим к Стратегии 1. \n",
    "\n",
    "Игроков, у которых нет статуса `event == project` и `event == finished_stage_1` относим к категории \"Не выбрал Стратегию\".\n",
    "\n",
    "Игрокам, которые прошли уровень по Стретегии 2, но не перешли на 2-й уровень игры , присваиваем категорию \"Стратегия 2\"."
   ]
  },
  {
   "cell_type": "markdown",
   "metadata": {},
   "source": [
    "Напишем цикл для определения стратегии прохождения игры для каждого пользователя по имеющимся данным, где 'way_1' - Стратегия 1 - Победа над первым врагом, 'way_2' - Стратегия 2 - Разработка орбитальной сборки спутников"
   ]
  },
  {
   "cell_type": "code",
   "execution_count": 42,
   "metadata": {
    "scrolled": true
   },
   "outputs": [
    {
     "data": {
      "text/html": [
       "<div>\n",
       "<style scoped>\n",
       "    .dataframe tbody tr th:only-of-type {\n",
       "        vertical-align: middle;\n",
       "    }\n",
       "\n",
       "    .dataframe tbody tr th {\n",
       "        vertical-align: top;\n",
       "    }\n",
       "\n",
       "    .dataframe thead th {\n",
       "        text-align: right;\n",
       "    }\n",
       "</style>\n",
       "<table border=\"1\" class=\"dataframe\">\n",
       "  <thead>\n",
       "    <tr style=\"text-align: right;\">\n",
       "      <th></th>\n",
       "      <th>user_id</th>\n",
       "      <th>first_event</th>\n",
       "      <th>start_datetime</th>\n",
       "      <th>last_event</th>\n",
       "      <th>end_datetime</th>\n",
       "      <th>delta_time</th>\n",
       "      <th>building_event</th>\n",
       "      <th>assembly_shop</th>\n",
       "      <th>spaceport</th>\n",
       "      <th>research_center</th>\n",
       "      <th>finish_event</th>\n",
       "      <th>project_event</th>\n",
       "      <th>source</th>\n",
       "      <th>acquisition_cost</th>\n",
       "      <th>strategy</th>\n",
       "    </tr>\n",
       "  </thead>\n",
       "  <tbody>\n",
       "    <tr>\n",
       "      <th>0</th>\n",
       "      <td>0001f83c-c6ac-4621-b7f0-8a28b283ac30</td>\n",
       "      <td>building</td>\n",
       "      <td>2020-05-06</td>\n",
       "      <td>building</td>\n",
       "      <td>2020-05-20</td>\n",
       "      <td>14 days 11:00:00</td>\n",
       "      <td>13</td>\n",
       "      <td>6</td>\n",
       "      <td>6.00</td>\n",
       "      <td>1.00</td>\n",
       "      <td>0.00</td>\n",
       "      <td>0.00</td>\n",
       "      <td>facebook_ads</td>\n",
       "      <td>0.75</td>\n",
       "      <td>unknown</td>\n",
       "    </tr>\n",
       "    <tr>\n",
       "      <th>1</th>\n",
       "      <td>00151b4f-ba38-44a8-a650-d7cf130a0105</td>\n",
       "      <td>building</td>\n",
       "      <td>2020-05-06</td>\n",
       "      <td>building</td>\n",
       "      <td>2020-05-18</td>\n",
       "      <td>12 days 08:00:00</td>\n",
       "      <td>9</td>\n",
       "      <td>4</td>\n",
       "      <td>5.00</td>\n",
       "      <td>0.00</td>\n",
       "      <td>0.00</td>\n",
       "      <td>0.00</td>\n",
       "      <td>yandex_direct</td>\n",
       "      <td>0.46</td>\n",
       "      <td>unknown</td>\n",
       "    </tr>\n",
       "    <tr>\n",
       "      <th>2</th>\n",
       "      <td>001aaea6-3d14-43f1-8ca8-7f48820f17aa</td>\n",
       "      <td>building</td>\n",
       "      <td>2020-05-05</td>\n",
       "      <td>building</td>\n",
       "      <td>2020-05-14</td>\n",
       "      <td>8 days 16:00:00</td>\n",
       "      <td>4</td>\n",
       "      <td>2</td>\n",
       "      <td>2.00</td>\n",
       "      <td>0.00</td>\n",
       "      <td>0.00</td>\n",
       "      <td>0.00</td>\n",
       "      <td>youtube_channel_reklama</td>\n",
       "      <td>0.39</td>\n",
       "      <td>unknown</td>\n",
       "    </tr>\n",
       "    <tr>\n",
       "      <th>3</th>\n",
       "      <td>001d39dc-366c-4021-9604-6a3b9ff01e25</td>\n",
       "      <td>building</td>\n",
       "      <td>2020-05-05</td>\n",
       "      <td>finished_stage_1</td>\n",
       "      <td>2020-05-12</td>\n",
       "      <td>6 days 11:00:00</td>\n",
       "      <td>8</td>\n",
       "      <td>4</td>\n",
       "      <td>4.00</td>\n",
       "      <td>0.00</td>\n",
       "      <td>1.00</td>\n",
       "      <td>0.00</td>\n",
       "      <td>instagram_new_adverts</td>\n",
       "      <td>0.63</td>\n",
       "      <td>way_1</td>\n",
       "    </tr>\n",
       "    <tr>\n",
       "      <th>4</th>\n",
       "      <td>002f508f-67b6-479f-814b-b05f00d4e995</td>\n",
       "      <td>building</td>\n",
       "      <td>2020-05-05</td>\n",
       "      <td>building</td>\n",
       "      <td>2020-05-22</td>\n",
       "      <td>16 days 13:00:00</td>\n",
       "      <td>12</td>\n",
       "      <td>3</td>\n",
       "      <td>8.00</td>\n",
       "      <td>1.00</td>\n",
       "      <td>0.00</td>\n",
       "      <td>0.00</td>\n",
       "      <td>facebook_ads</td>\n",
       "      <td>0.79</td>\n",
       "      <td>unknown</td>\n",
       "    </tr>\n",
       "    <tr>\n",
       "      <th>...</th>\n",
       "      <td>...</td>\n",
       "      <td>...</td>\n",
       "      <td>...</td>\n",
       "      <td>...</td>\n",
       "      <td>...</td>\n",
       "      <td>...</td>\n",
       "      <td>...</td>\n",
       "      <td>...</td>\n",
       "      <td>...</td>\n",
       "      <td>...</td>\n",
       "      <td>...</td>\n",
       "      <td>...</td>\n",
       "      <td>...</td>\n",
       "      <td>...</td>\n",
       "      <td>...</td>\n",
       "    </tr>\n",
       "    <tr>\n",
       "      <th>13571</th>\n",
       "      <td>ffef4fed-164c-40e1-bde1-3980f76d0fb5</td>\n",
       "      <td>building</td>\n",
       "      <td>2020-05-04</td>\n",
       "      <td>finished_stage_1</td>\n",
       "      <td>2020-05-11</td>\n",
       "      <td>7 days 21:00:00</td>\n",
       "      <td>9</td>\n",
       "      <td>7</td>\n",
       "      <td>1.00</td>\n",
       "      <td>1.00</td>\n",
       "      <td>1.00</td>\n",
       "      <td>0.00</td>\n",
       "      <td>instagram_new_adverts</td>\n",
       "      <td>0.65</td>\n",
       "      <td>way_1</td>\n",
       "    </tr>\n",
       "    <tr>\n",
       "      <th>13572</th>\n",
       "      <td>fffab3da-da0e-4e30-ae62-10d0a2e24a4e</td>\n",
       "      <td>building</td>\n",
       "      <td>2020-05-04</td>\n",
       "      <td>building</td>\n",
       "      <td>2020-05-14</td>\n",
       "      <td>9 days 23:00:00</td>\n",
       "      <td>16</td>\n",
       "      <td>5</td>\n",
       "      <td>8.00</td>\n",
       "      <td>3.00</td>\n",
       "      <td>0.00</td>\n",
       "      <td>0.00</td>\n",
       "      <td>facebook_ads</td>\n",
       "      <td>0.79</td>\n",
       "      <td>unknown</td>\n",
       "    </tr>\n",
       "    <tr>\n",
       "      <th>13573</th>\n",
       "      <td>fffb626c-5ab6-47c9-8113-2062a2f18494</td>\n",
       "      <td>building</td>\n",
       "      <td>2020-05-04</td>\n",
       "      <td>finished_stage_1</td>\n",
       "      <td>2020-05-12</td>\n",
       "      <td>8 days 11:00:00</td>\n",
       "      <td>9</td>\n",
       "      <td>4</td>\n",
       "      <td>3.00</td>\n",
       "      <td>2.00</td>\n",
       "      <td>1.00</td>\n",
       "      <td>0.00</td>\n",
       "      <td>yandex_direct</td>\n",
       "      <td>0.47</td>\n",
       "      <td>way_1</td>\n",
       "    </tr>\n",
       "    <tr>\n",
       "      <th>13574</th>\n",
       "      <td>ffff194a-56b7-4c12-860d-3485242ae7f5</td>\n",
       "      <td>building</td>\n",
       "      <td>2020-05-04</td>\n",
       "      <td>building</td>\n",
       "      <td>2020-05-11</td>\n",
       "      <td>7 days 02:00:00</td>\n",
       "      <td>7</td>\n",
       "      <td>6</td>\n",
       "      <td>1.00</td>\n",
       "      <td>0.00</td>\n",
       "      <td>0.00</td>\n",
       "      <td>0.00</td>\n",
       "      <td>instagram_new_adverts</td>\n",
       "      <td>0.65</td>\n",
       "      <td>unknown</td>\n",
       "    </tr>\n",
       "    <tr>\n",
       "      <th>13575</th>\n",
       "      <td>ffff69cc-fec1-4fd3-9f98-93be1112a6b8</td>\n",
       "      <td>building</td>\n",
       "      <td>2020-05-08</td>\n",
       "      <td>finished_stage_1</td>\n",
       "      <td>2020-05-25</td>\n",
       "      <td>17 days 08:00:00</td>\n",
       "      <td>12</td>\n",
       "      <td>3</td>\n",
       "      <td>6.00</td>\n",
       "      <td>3.00</td>\n",
       "      <td>1.00</td>\n",
       "      <td>1.00</td>\n",
       "      <td>facebook_ads</td>\n",
       "      <td>0.80</td>\n",
       "      <td>way_2</td>\n",
       "    </tr>\n",
       "  </tbody>\n",
       "</table>\n",
       "<p>13576 rows × 15 columns</p>\n",
       "</div>"
      ],
      "text/plain": [
       "                                    user_id first_event start_datetime  \\\n",
       "0      0001f83c-c6ac-4621-b7f0-8a28b283ac30    building     2020-05-06   \n",
       "1      00151b4f-ba38-44a8-a650-d7cf130a0105    building     2020-05-06   \n",
       "2      001aaea6-3d14-43f1-8ca8-7f48820f17aa    building     2020-05-05   \n",
       "3      001d39dc-366c-4021-9604-6a3b9ff01e25    building     2020-05-05   \n",
       "4      002f508f-67b6-479f-814b-b05f00d4e995    building     2020-05-05   \n",
       "...                                     ...         ...            ...   \n",
       "13571  ffef4fed-164c-40e1-bde1-3980f76d0fb5    building     2020-05-04   \n",
       "13572  fffab3da-da0e-4e30-ae62-10d0a2e24a4e    building     2020-05-04   \n",
       "13573  fffb626c-5ab6-47c9-8113-2062a2f18494    building     2020-05-04   \n",
       "13574  ffff194a-56b7-4c12-860d-3485242ae7f5    building     2020-05-04   \n",
       "13575  ffff69cc-fec1-4fd3-9f98-93be1112a6b8    building     2020-05-08   \n",
       "\n",
       "             last_event end_datetime       delta_time  building_event  \\\n",
       "0              building   2020-05-20 14 days 11:00:00              13   \n",
       "1              building   2020-05-18 12 days 08:00:00               9   \n",
       "2              building   2020-05-14  8 days 16:00:00               4   \n",
       "3      finished_stage_1   2020-05-12  6 days 11:00:00               8   \n",
       "4              building   2020-05-22 16 days 13:00:00              12   \n",
       "...                 ...          ...              ...             ...   \n",
       "13571  finished_stage_1   2020-05-11  7 days 21:00:00               9   \n",
       "13572          building   2020-05-14  9 days 23:00:00              16   \n",
       "13573  finished_stage_1   2020-05-12  8 days 11:00:00               9   \n",
       "13574          building   2020-05-11  7 days 02:00:00               7   \n",
       "13575  finished_stage_1   2020-05-25 17 days 08:00:00              12   \n",
       "\n",
       "       assembly_shop  spaceport  research_center  finish_event  project_event  \\\n",
       "0                  6       6.00             1.00          0.00           0.00   \n",
       "1                  4       5.00             0.00          0.00           0.00   \n",
       "2                  2       2.00             0.00          0.00           0.00   \n",
       "3                  4       4.00             0.00          1.00           0.00   \n",
       "4                  3       8.00             1.00          0.00           0.00   \n",
       "...              ...        ...              ...           ...            ...   \n",
       "13571              7       1.00             1.00          1.00           0.00   \n",
       "13572              5       8.00             3.00          0.00           0.00   \n",
       "13573              4       3.00             2.00          1.00           0.00   \n",
       "13574              6       1.00             0.00          0.00           0.00   \n",
       "13575              3       6.00             3.00          1.00           1.00   \n",
       "\n",
       "                        source  acquisition_cost strategy  \n",
       "0                 facebook_ads              0.75  unknown  \n",
       "1                yandex_direct              0.46  unknown  \n",
       "2      youtube_channel_reklama              0.39  unknown  \n",
       "3        instagram_new_adverts              0.63    way_1  \n",
       "4                 facebook_ads              0.79  unknown  \n",
       "...                        ...               ...      ...  \n",
       "13571    instagram_new_adverts              0.65    way_1  \n",
       "13572             facebook_ads              0.79  unknown  \n",
       "13573            yandex_direct              0.47    way_1  \n",
       "13574    instagram_new_adverts              0.65  unknown  \n",
       "13575             facebook_ads              0.80    way_2  \n",
       "\n",
       "[13576 rows x 15 columns]"
      ]
     },
     "execution_count": 42,
     "metadata": {},
     "output_type": "execute_result"
    }
   ],
   "source": [
    "def strategy(row):\n",
    "    finish_event=row['finish_event']\n",
    "    project_event=row['project_event']\n",
    "    if project_event >= 1 and finish_event >=1: # выполнил проект, перешел на уровень\n",
    "        return 'way_2'\n",
    "    if project_event >= 1 and finish_event < 1: # выполнил проект, НЕ перешел на уровень\n",
    "        return 'way_2 no end'\n",
    "    if project_event < 1 and finish_event < 1: # НЕ выполнил проект, НЕ перешел на уровень (в процессе игры и выбора стратегии)\n",
    "        return 'unknown'\n",
    "    if project_event < 1 and finish_event >= 1: # НЕ выполнил проект, перешел на уровень\n",
    "        return 'way_1'\n",
    "\n",
    "profiles['strategy']=profiles.apply(strategy, axis=1)\n",
    "profiles"
   ]
  },
  {
   "cell_type": "markdown",
   "metadata": {},
   "source": [
    "Проверим, все ли столбцы заполнены полностью:"
   ]
  },
  {
   "cell_type": "code",
   "execution_count": 43,
   "metadata": {},
   "outputs": [
    {
     "data": {
      "text/plain": [
       "user_id             0\n",
       "first_event         0\n",
       "start_datetime      0\n",
       "last_event          0\n",
       "end_datetime        0\n",
       "delta_time          0\n",
       "building_event      0\n",
       "assembly_shop       0\n",
       "spaceport           0\n",
       "research_center     0\n",
       "finish_event        0\n",
       "project_event       0\n",
       "source              0\n",
       "acquisition_cost    0\n",
       "strategy            0\n",
       "dtype: int64"
      ]
     },
     "execution_count": 43,
     "metadata": {},
     "output_type": "execute_result"
    }
   ],
   "source": [
    "profiles.isna().sum()"
   ]
  },
  {
   "cell_type": "markdown",
   "metadata": {},
   "source": [
    "Пропусков в присвоении стратегии игры нет. Мы учли все варианты поведения игрока.\n",
    "\n",
    "Напишем функцию, разделяющую игроков на когорты в заисимости от дня привлечения."
   ]
  },
  {
   "cell_type": "code",
   "execution_count": 44,
   "metadata": {},
   "outputs": [
    {
     "data": {
      "text/plain": [
       "cohort_1    5860\n",
       "cohort_2    3361\n",
       "cohort_3    1847\n",
       "cohort_4    1109\n",
       "cohort_5     688\n",
       "cohort_6     440\n",
       "cohort_7     271\n",
       "Name: cohort, dtype: int64"
      ]
     },
     "execution_count": 44,
     "metadata": {},
     "output_type": "execute_result"
    }
   ],
   "source": [
    "def cohort(row):\n",
    "    start_day=row['start_datetime']\n",
    "    day_1=datetime(2020,5,4)\n",
    "    day_2=datetime(2020,5,5)\n",
    "    day_3=datetime(2020,5,6)\n",
    "    day_4=datetime(2020,5,7)\n",
    "    day_5=datetime(2020,5,8)\n",
    "    day_6=datetime(2020,5,9)\n",
    "    day_7=datetime(2020,5,10)\n",
    "    if start_day <= day_1:\n",
    "        return 'cohort_1'\n",
    "    if day_1 < start_day <= day_2:\n",
    "        return 'cohort_2'\n",
    "    if day_2 < start_day <= day_3:\n",
    "        return 'cohort_3'\n",
    "    if day_3 < start_day <= day_4:\n",
    "        return 'cohort_4'\n",
    "    if day_4 < start_day <= day_5:\n",
    "        return 'cohort_5'\n",
    "    if day_5 < start_day <= day_6:\n",
    "        return 'cohort_6'\n",
    "    if day_6 < start_day <= day_7:\n",
    "        return 'cohort_7'\n",
    "profiles['cohort']=profiles.apply(cohort, axis=1)\n",
    "profiles['cohort'].value_counts()"
   ]
  },
  {
   "cell_type": "markdown",
   "metadata": {},
   "source": [
    "Видим, что на 7-й день было привлечено в мобильную игру всего 271 человек,хотя в первый день 5860 чел."
   ]
  },
  {
   "cell_type": "markdown",
   "metadata": {},
   "source": [
    "Также добавим в датасет game_actions информацию о категории пользователя и источнике его привлечения"
   ]
  },
  {
   "cell_type": "code",
   "execution_count": 45,
   "metadata": {
    "scrolled": false
   },
   "outputs": [
    {
     "name": "stdout",
     "output_type": "stream",
     "text": [
      "<class 'pandas.core.frame.DataFrame'>\n",
      "Int64Index: 135639 entries, 0 to 135638\n",
      "Data columns (total 9 columns):\n",
      " #   Column            Non-Null Count   Dtype         \n",
      "---  ------            --------------   -----         \n",
      " 0   event_datetime    135639 non-null  datetime64[ns]\n",
      " 1   event             135639 non-null  object        \n",
      " 2   building_type     127956 non-null  object        \n",
      " 3   user_id           135639 non-null  object        \n",
      " 4   project_type      1866 non-null    object        \n",
      " 5   source            135639 non-null  object        \n",
      " 6   acquisition_cost  135639 non-null  float64       \n",
      " 7   strategy          135639 non-null  object        \n",
      " 8   cohort            135639 non-null  object        \n",
      "dtypes: datetime64[ns](1), float64(1), object(7)\n",
      "memory usage: 10.3+ MB\n"
     ]
    }
   ],
   "source": [
    "game_actions = game_actions.merge(profiles[['user_id','source','acquisition_cost','strategy','cohort']], on=['user_id'], how='left')\n",
    "game_actions.info()"
   ]
  },
  {
   "cell_type": "code",
   "execution_count": 46,
   "metadata": {},
   "outputs": [],
   "source": [
    "game_actions['event_date']=game_actions['event_datetime'].dt.ceil('1D')"
   ]
  },
  {
   "cell_type": "code",
   "execution_count": 47,
   "metadata": {
    "scrolled": true
   },
   "outputs": [
    {
     "data": {
      "image/png": "[encoded data removed]",
      "text/plain": [
       "<Figure size 720x360 with 1 Axes>"
      ]
     },
     "metadata": {
      "needs_background": "light"
     },
     "output_type": "display_data"
    }
   ],
   "source": [
    "game_actions.sort_values(by='event_date').pivot_table(index='event_date',values='user_id', aggfunc='count').plot(kind= 'bar',figsize=(10,5), title='Распределение логов по дням', ylabel='количество событий', xlabel='Дата');"
   ]
  },
  {
   "cell_type": "code",
   "execution_count": 48,
   "metadata": {},
   "outputs": [
    {
     "data": {
      "image/png": "[encoded data removed]",
      "text/plain": [
       "<Figure size 720x360 with 1 Axes>"
      ]
     },
     "metadata": {
      "needs_background": "light"
     },
     "output_type": "display_data"
    }
   ],
   "source": [
    "\n",
    "game_actions.sort_values(by='event_date').pivot_table(index='event_date', columns='cohort',values='user_id', aggfunc='count').plot(figsize=(10,5), title='Распределение логов по дням в разрезе когорт', ylabel='количество событий', xlabel='Дата');"
   ]
  },
  {
   "cell_type": "code",
   "execution_count": 49,
   "metadata": {},
   "outputs": [
    {
     "data": {
      "image/png": "[encoded data removed]",
      "text/plain": [
       "<Figure size 720x360 with 1 Axes>"
      ]
     },
     "metadata": {
      "needs_background": "light"
     },
     "output_type": "display_data"
    }
   ],
   "source": [
    "game_actions.sort_values(by='event_date').pivot_table(index='event_date', columns='strategy',values='user_id', aggfunc='count').plot(figsize=(10,5), title='Распределение логов по дням в разрезе стратегий', ylabel='количество событий', xlabel='Дата');"
   ]
  },
  {
   "cell_type": "markdown",
   "metadata": {},
   "source": [
    "Наблюдаем рост логов до 11 мая 2020 года включительно. Это связано с тем, что с 9 по 11 мая 2020 года были выходными днями, далее начались рабочие дни, и количество событий в игре кратно уменьшилось.\n",
    "Также у нас нет информации по новым пользователям с 11 мая, мы наблюдаем за тем, как вели себя пользователи с 4 по 10 мая. \n",
    "\n",
    "На активность в игре влияет еще фактор карантина по короновирусу, когда люди были вынуждены находиться дома."
   ]
  },
  {
   "cell_type": "code",
   "execution_count": 50,
   "metadata": {},
   "outputs": [
    {
     "data": {
      "image/png": "[encoded data removed]",
      "text/plain": [
       "<Figure size 720x432 with 1 Axes>"
      ]
     },
     "metadata": {},
     "output_type": "display_data"
    }
   ],
   "source": [
    "pie_data=profiles.groupby('strategy')['user_id'].count().reset_index(drop=False)\n",
    "pie, ax = plt.subplots(figsize=[10,6])\n",
    "plt.pie(profiles.groupby('strategy')['user_id'].count(), colors = sns.color_palette('bright'),labels=set(profiles['strategy']), autopct = '%0.2f%%')\n",
    "plt.title(\"Распределение пользователей по стратегиям\", fontsize=14);\n",
    "plt.show()\n"
   ]
  },
  {
   "cell_type": "code",
   "execution_count": 51,
   "metadata": {},
   "outputs": [
    {
     "data": {
      "text/plain": [
       "building    13576\n",
       "Name: first_event, dtype: int64"
      ]
     },
     "execution_count": 51,
     "metadata": {},
     "output_type": "execute_result"
    }
   ],
   "source": [
    "profiles['first_event'].value_counts()"
   ]
  },
  {
   "cell_type": "markdown",
   "metadata": {},
   "source": [
    "Видим,что все пользователи начинают игру с постройки какого-либо здания."
   ]
  },
  {
   "cell_type": "markdown",
   "metadata": {},
   "source": [
    "Определим количество пользователей на каждой стратегии в зависимости от источника привлечения. Оставим только тех пользователей, которые определились со стратегией.\n",
    "\n",
    "Создадим 2 новые таблицы данных clear_profiles, clear_actions, а не 1 таблицу, так как они отражают данные в разных структурах."
   ]
  },
  {
   "cell_type": "code",
   "execution_count": 52,
   "metadata": {},
   "outputs": [
    {
     "data": {
      "image/png": "[encoded data removed]",
      "text/plain": [
       "<Figure size 720x432 with 1 Axes>"
      ]
     },
     "metadata": {},
     "output_type": "display_data"
    }
   ],
   "source": [
    "clear_profiles=profiles.query('strategy !=\"unknown\"')\n",
    "clear_actions=game_actions.query('strategy !=\"unknown\"')\n",
    "\n",
    "pie, ax = plt.subplots(figsize=[10,6])\n",
    "plt.pie(clear_profiles.groupby('strategy')['user_id'].count(), colors = sns.color_palette('bright'),labels=set(clear_profiles['strategy']), autopct = '%0.2f%%')\n",
    "plt.title(\"Распределение пользователей по стратегиям 1 и 2\", fontsize=14);\n",
    "plt.show()"
   ]
  },
  {
   "cell_type": "markdown",
   "metadata": {},
   "source": [
    "Видим, что среди всех пользователей, завершивших 1-й уровень, 68% выбирают Стратегию 1 - Победа над первым врагом. Связываем это с популярностью жанра \"Шутер\" , Стратегию 2 отнесем к жанру \"Стратегия\", \"Симуляция\", которые пользуются гораздо меньшей популярностью в мире."
   ]
  },
  {
   "cell_type": "code",
   "execution_count": 53,
   "metadata": {},
   "outputs": [
    {
     "data": {
      "text/html": [
       "<div>\n",
       "<style scoped>\n",
       "    .dataframe tbody tr th:only-of-type {\n",
       "        vertical-align: middle;\n",
       "    }\n",
       "\n",
       "    .dataframe tbody tr th {\n",
       "        vertical-align: top;\n",
       "    }\n",
       "\n",
       "    .dataframe thead th {\n",
       "        text-align: right;\n",
       "    }\n",
       "</style>\n",
       "<table border=\"1\" class=\"dataframe\">\n",
       "  <thead>\n",
       "    <tr style=\"text-align: right;\">\n",
       "      <th></th>\n",
       "      <th>event_datetime</th>\n",
       "      <th>event</th>\n",
       "      <th>building_type</th>\n",
       "      <th>user_id</th>\n",
       "      <th>project_type</th>\n",
       "      <th>source</th>\n",
       "      <th>acquisition_cost</th>\n",
       "      <th>strategy</th>\n",
       "      <th>cohort</th>\n",
       "      <th>event_date</th>\n",
       "    </tr>\n",
       "  </thead>\n",
       "  <tbody>\n",
       "    <tr>\n",
       "      <th>1</th>\n",
       "      <td>2020-05-04 00:00:03</td>\n",
       "      <td>building</td>\n",
       "      <td>assembly_shop</td>\n",
       "      <td>c07b1c10-f477-44dc-81dc-ec82254b1347</td>\n",
       "      <td>NaN</td>\n",
       "      <td>facebook_ads</td>\n",
       "      <td>0.79</td>\n",
       "      <td>way_2</td>\n",
       "      <td>cohort_1</td>\n",
       "      <td>2020-05-05</td>\n",
       "    </tr>\n",
       "    <tr>\n",
       "      <th>2</th>\n",
       "      <td>2020-05-04 00:00:16</td>\n",
       "      <td>building</td>\n",
       "      <td>assembly_shop</td>\n",
       "      <td>6edd42cc-e753-4ff6-a947-2107cd560710</td>\n",
       "      <td>NaN</td>\n",
       "      <td>instagram_new_adverts</td>\n",
       "      <td>0.65</td>\n",
       "      <td>way_1</td>\n",
       "      <td>cohort_1</td>\n",
       "      <td>2020-05-05</td>\n",
       "    </tr>\n",
       "    <tr>\n",
       "      <th>4</th>\n",
       "      <td>2020-05-04 00:00:35</td>\n",
       "      <td>building</td>\n",
       "      <td>assembly_shop</td>\n",
       "      <td>cdc6bb92-0ccb-4490-9866-ef142f09139d</td>\n",
       "      <td>NaN</td>\n",
       "      <td>yandex_direct</td>\n",
       "      <td>0.47</td>\n",
       "      <td>way_1</td>\n",
       "      <td>cohort_1</td>\n",
       "      <td>2020-05-05</td>\n",
       "    </tr>\n",
       "    <tr>\n",
       "      <th>6</th>\n",
       "      <td>2020-05-04 00:00:36</td>\n",
       "      <td>building</td>\n",
       "      <td>assembly_shop</td>\n",
       "      <td>4fe0f101-694b-4e31-9740-d1d87f7208ea</td>\n",
       "      <td>NaN</td>\n",
       "      <td>facebook_ads</td>\n",
       "      <td>0.79</td>\n",
       "      <td>way_1</td>\n",
       "      <td>cohort_1</td>\n",
       "      <td>2020-05-05</td>\n",
       "    </tr>\n",
       "    <tr>\n",
       "      <th>8</th>\n",
       "      <td>2020-05-04 00:00:44</td>\n",
       "      <td>building</td>\n",
       "      <td>assembly_shop</td>\n",
       "      <td>65a92713-5969-48b1-8945-bfefa5063887</td>\n",
       "      <td>NaN</td>\n",
       "      <td>yandex_direct</td>\n",
       "      <td>0.47</td>\n",
       "      <td>way_2</td>\n",
       "      <td>cohort_1</td>\n",
       "      <td>2020-05-05</td>\n",
       "    </tr>\n",
       "  </tbody>\n",
       "</table>\n",
       "</div>"
      ],
      "text/plain": [
       "       event_datetime     event  building_type  \\\n",
       "1 2020-05-04 00:00:03  building  assembly_shop   \n",
       "2 2020-05-04 00:00:16  building  assembly_shop   \n",
       "4 2020-05-04 00:00:35  building  assembly_shop   \n",
       "6 2020-05-04 00:00:36  building  assembly_shop   \n",
       "8 2020-05-04 00:00:44  building  assembly_shop   \n",
       "\n",
       "                                user_id project_type                 source  \\\n",
       "1  c07b1c10-f477-44dc-81dc-ec82254b1347          NaN           facebook_ads   \n",
       "2  6edd42cc-e753-4ff6-a947-2107cd560710          NaN  instagram_new_adverts   \n",
       "4  cdc6bb92-0ccb-4490-9866-ef142f09139d          NaN          yandex_direct   \n",
       "6  4fe0f101-694b-4e31-9740-d1d87f7208ea          NaN           facebook_ads   \n",
       "8  65a92713-5969-48b1-8945-bfefa5063887          NaN          yandex_direct   \n",
       "\n",
       "   acquisition_cost strategy    cohort event_date  \n",
       "1              0.79    way_2  cohort_1 2020-05-05  \n",
       "2              0.65    way_1  cohort_1 2020-05-05  \n",
       "4              0.47    way_1  cohort_1 2020-05-05  \n",
       "6              0.79    way_1  cohort_1 2020-05-05  \n",
       "8              0.47    way_2  cohort_1 2020-05-05  "
      ]
     },
     "execution_count": 53,
     "metadata": {},
     "output_type": "execute_result"
    }
   ],
   "source": [
    "clear_actions.head()"
   ]
  },
  {
   "cell_type": "code",
   "execution_count": 54,
   "metadata": {},
   "outputs": [
    {
     "data": {
      "text/html": [
       "<div>\n",
       "<style scoped>\n",
       "    .dataframe tbody tr th:only-of-type {\n",
       "        vertical-align: middle;\n",
       "    }\n",
       "\n",
       "    .dataframe tbody tr th {\n",
       "        vertical-align: top;\n",
       "    }\n",
       "\n",
       "    .dataframe thead th {\n",
       "        text-align: right;\n",
       "    }\n",
       "</style>\n",
       "<table border=\"1\" class=\"dataframe\">\n",
       "  <thead>\n",
       "    <tr style=\"text-align: right;\">\n",
       "      <th></th>\n",
       "      <th>user_id</th>\n",
       "      <th>first_event</th>\n",
       "      <th>start_datetime</th>\n",
       "      <th>last_event</th>\n",
       "      <th>end_datetime</th>\n",
       "      <th>delta_time</th>\n",
       "      <th>building_event</th>\n",
       "      <th>assembly_shop</th>\n",
       "      <th>spaceport</th>\n",
       "      <th>research_center</th>\n",
       "      <th>finish_event</th>\n",
       "      <th>project_event</th>\n",
       "      <th>source</th>\n",
       "      <th>acquisition_cost</th>\n",
       "      <th>strategy</th>\n",
       "      <th>cohort</th>\n",
       "    </tr>\n",
       "  </thead>\n",
       "  <tbody>\n",
       "    <tr>\n",
       "      <th>3</th>\n",
       "      <td>001d39dc-366c-4021-9604-6a3b9ff01e25</td>\n",
       "      <td>building</td>\n",
       "      <td>2020-05-05</td>\n",
       "      <td>finished_stage_1</td>\n",
       "      <td>2020-05-12</td>\n",
       "      <td>6 days 11:00:00</td>\n",
       "      <td>8</td>\n",
       "      <td>4</td>\n",
       "      <td>4.00</td>\n",
       "      <td>0.00</td>\n",
       "      <td>1.00</td>\n",
       "      <td>0.00</td>\n",
       "      <td>instagram_new_adverts</td>\n",
       "      <td>0.63</td>\n",
       "      <td>way_1</td>\n",
       "      <td>cohort_2</td>\n",
       "    </tr>\n",
       "    <tr>\n",
       "      <th>6</th>\n",
       "      <td>003ee7e8-6356-4286-a715-62f22a18d2a1</td>\n",
       "      <td>building</td>\n",
       "      <td>2020-05-05</td>\n",
       "      <td>finished_stage_1</td>\n",
       "      <td>2020-05-17</td>\n",
       "      <td>12 days 14:00:00</td>\n",
       "      <td>8</td>\n",
       "      <td>4</td>\n",
       "      <td>3.00</td>\n",
       "      <td>1.00</td>\n",
       "      <td>1.00</td>\n",
       "      <td>0.00</td>\n",
       "      <td>instagram_new_adverts</td>\n",
       "      <td>0.63</td>\n",
       "      <td>way_1</td>\n",
       "      <td>cohort_2</td>\n",
       "    </tr>\n",
       "    <tr>\n",
       "      <th>7</th>\n",
       "      <td>004074f8-251a-4776-922c-8348dca1a2f6</td>\n",
       "      <td>building</td>\n",
       "      <td>2020-05-04</td>\n",
       "      <td>finished_stage_1</td>\n",
       "      <td>2020-05-16</td>\n",
       "      <td>12 days 19:00:00</td>\n",
       "      <td>12</td>\n",
       "      <td>6</td>\n",
       "      <td>4.00</td>\n",
       "      <td>2.00</td>\n",
       "      <td>1.00</td>\n",
       "      <td>0.00</td>\n",
       "      <td>facebook_ads</td>\n",
       "      <td>0.79</td>\n",
       "      <td>way_1</td>\n",
       "      <td>cohort_1</td>\n",
       "    </tr>\n",
       "    <tr>\n",
       "      <th>9</th>\n",
       "      <td>00464e5e-28ed-4be6-bf44-517ef7b3937b</td>\n",
       "      <td>building</td>\n",
       "      <td>2020-05-04</td>\n",
       "      <td>finished_stage_1</td>\n",
       "      <td>2020-05-15</td>\n",
       "      <td>11 days 08:00:00</td>\n",
       "      <td>8</td>\n",
       "      <td>4</td>\n",
       "      <td>4.00</td>\n",
       "      <td>0.00</td>\n",
       "      <td>1.00</td>\n",
       "      <td>0.00</td>\n",
       "      <td>yandex_direct</td>\n",
       "      <td>0.47</td>\n",
       "      <td>way_1</td>\n",
       "      <td>cohort_1</td>\n",
       "    </tr>\n",
       "    <tr>\n",
       "      <th>10</th>\n",
       "      <td>0056c007-c082-43cc-bdef-afc49bca4cb9</td>\n",
       "      <td>building</td>\n",
       "      <td>2020-05-10</td>\n",
       "      <td>finished_stage_1</td>\n",
       "      <td>2020-05-16</td>\n",
       "      <td>6 days 02:00:00</td>\n",
       "      <td>3</td>\n",
       "      <td>1</td>\n",
       "      <td>2.00</td>\n",
       "      <td>0.00</td>\n",
       "      <td>1.00</td>\n",
       "      <td>0.00</td>\n",
       "      <td>instagram_new_adverts</td>\n",
       "      <td>0.67</td>\n",
       "      <td>way_1</td>\n",
       "      <td>cohort_7</td>\n",
       "    </tr>\n",
       "  </tbody>\n",
       "</table>\n",
       "</div>"
      ],
      "text/plain": [
       "                                 user_id first_event start_datetime  \\\n",
       "3   001d39dc-366c-4021-9604-6a3b9ff01e25    building     2020-05-05   \n",
       "6   003ee7e8-6356-4286-a715-62f22a18d2a1    building     2020-05-05   \n",
       "7   004074f8-251a-4776-922c-8348dca1a2f6    building     2020-05-04   \n",
       "9   00464e5e-28ed-4be6-bf44-517ef7b3937b    building     2020-05-04   \n",
       "10  0056c007-c082-43cc-bdef-afc49bca4cb9    building     2020-05-10   \n",
       "\n",
       "          last_event end_datetime       delta_time  building_event  \\\n",
       "3   finished_stage_1   2020-05-12  6 days 11:00:00               8   \n",
       "6   finished_stage_1   2020-05-17 12 days 14:00:00               8   \n",
       "7   finished_stage_1   2020-05-16 12 days 19:00:00              12   \n",
       "9   finished_stage_1   2020-05-15 11 days 08:00:00               8   \n",
       "10  finished_stage_1   2020-05-16  6 days 02:00:00               3   \n",
       "\n",
       "    assembly_shop  spaceport  research_center  finish_event  project_event  \\\n",
       "3               4       4.00             0.00          1.00           0.00   \n",
       "6               4       3.00             1.00          1.00           0.00   \n",
       "7               6       4.00             2.00          1.00           0.00   \n",
       "9               4       4.00             0.00          1.00           0.00   \n",
       "10              1       2.00             0.00          1.00           0.00   \n",
       "\n",
       "                   source  acquisition_cost strategy    cohort  \n",
       "3   instagram_new_adverts              0.63    way_1  cohort_2  \n",
       "6   instagram_new_adverts              0.63    way_1  cohort_2  \n",
       "7            facebook_ads              0.79    way_1  cohort_1  \n",
       "9           yandex_direct              0.47    way_1  cohort_1  \n",
       "10  instagram_new_adverts              0.67    way_1  cohort_7  "
      ]
     },
     "execution_count": 54,
     "metadata": {},
     "output_type": "execute_result"
    }
   ],
   "source": [
    "clear_profiles.head()"
   ]
  },
  {
   "cell_type": "code",
   "execution_count": 55,
   "metadata": {},
   "outputs": [
    {
     "name": "stdout",
     "output_type": "stream",
     "text": [
      "Количество пользователей составляет от начальных 43%\n",
      "Потеря данных логов составила 57%\n",
      "Потеря пользователей составила  57%\n"
     ]
    }
   ],
   "source": [
    "print('Количество пользователей составляет от начальных {0:.0%}'.format(clear_profiles['user_id'].nunique()/profiles['user_id'].nunique()))\n",
    "print('Потеря данных логов составила {0:.0%}'.format(1-round(len(clear_profiles)/len(profiles),2)))\n",
    "print('Потеря пользователей составила  {0:.0%}'.format(1-clear_profiles['user_id'].nunique()/profiles['user_id'].nunique()))\n"
   ]
  },
  {
   "cell_type": "code",
   "execution_count": 56,
   "metadata": {
    "scrolled": true
   },
   "outputs": [
    {
     "data": {
      "text/html": [
       "<div>\n",
       "<style scoped>\n",
       "    .dataframe tbody tr th:only-of-type {\n",
       "        vertical-align: middle;\n",
       "    }\n",
       "\n",
       "    .dataframe tbody tr th {\n",
       "        vertical-align: top;\n",
       "    }\n",
       "\n",
       "    .dataframe thead th {\n",
       "        text-align: right;\n",
       "    }\n",
       "</style>\n",
       "<table border=\"1\" class=\"dataframe\">\n",
       "  <thead>\n",
       "    <tr style=\"text-align: right;\">\n",
       "      <th></th>\n",
       "      <th>source</th>\n",
       "      <th>day</th>\n",
       "      <th>cost</th>\n",
       "      <th>start_datetime</th>\n",
       "      <th>unique_users</th>\n",
       "      <th>acquisition_cost</th>\n",
       "    </tr>\n",
       "  </thead>\n",
       "  <tbody>\n",
       "    <tr>\n",
       "      <th>0</th>\n",
       "      <td>facebook_ads</td>\n",
       "      <td>2020-05-03</td>\n",
       "      <td>935.88</td>\n",
       "      <td>2020-05-04</td>\n",
       "      <td>1184</td>\n",
       "      <td>0.79</td>\n",
       "    </tr>\n",
       "    <tr>\n",
       "      <th>1</th>\n",
       "      <td>instagram_new_adverts</td>\n",
       "      <td>2020-05-03</td>\n",
       "      <td>943.20</td>\n",
       "      <td>2020-05-04</td>\n",
       "      <td>1452</td>\n",
       "      <td>0.65</td>\n",
       "    </tr>\n",
       "    <tr>\n",
       "      <th>2</th>\n",
       "      <td>yandex_direct</td>\n",
       "      <td>2020-05-03</td>\n",
       "      <td>969.14</td>\n",
       "      <td>2020-05-04</td>\n",
       "      <td>2078</td>\n",
       "      <td>0.47</td>\n",
       "    </tr>\n",
       "    <tr>\n",
       "      <th>3</th>\n",
       "      <td>youtube_channel_reklama</td>\n",
       "      <td>2020-05-03</td>\n",
       "      <td>454.22</td>\n",
       "      <td>2020-05-04</td>\n",
       "      <td>1146</td>\n",
       "      <td>0.40</td>\n",
       "    </tr>\n",
       "    <tr>\n",
       "      <th>4</th>\n",
       "      <td>facebook_ads</td>\n",
       "      <td>2020-05-04</td>\n",
       "      <td>548.35</td>\n",
       "      <td>2020-05-05</td>\n",
       "      <td>694</td>\n",
       "      <td>0.79</td>\n",
       "    </tr>\n",
       "    <tr>\n",
       "      <th>5</th>\n",
       "      <td>instagram_new_adverts</td>\n",
       "      <td>2020-05-04</td>\n",
       "      <td>502.93</td>\n",
       "      <td>2020-05-05</td>\n",
       "      <td>796</td>\n",
       "      <td>0.63</td>\n",
       "    </tr>\n",
       "    <tr>\n",
       "      <th>6</th>\n",
       "      <td>yandex_direct</td>\n",
       "      <td>2020-05-04</td>\n",
       "      <td>554.65</td>\n",
       "      <td>2020-05-05</td>\n",
       "      <td>1208</td>\n",
       "      <td>0.46</td>\n",
       "    </tr>\n",
       "    <tr>\n",
       "      <th>7</th>\n",
       "      <td>youtube_channel_reklama</td>\n",
       "      <td>2020-05-04</td>\n",
       "      <td>259.07</td>\n",
       "      <td>2020-05-05</td>\n",
       "      <td>663</td>\n",
       "      <td>0.39</td>\n",
       "    </tr>\n",
       "    <tr>\n",
       "      <th>8</th>\n",
       "      <td>facebook_ads</td>\n",
       "      <td>2020-05-05</td>\n",
       "      <td>260.19</td>\n",
       "      <td>2020-05-06</td>\n",
       "      <td>345</td>\n",
       "      <td>0.75</td>\n",
       "    </tr>\n",
       "    <tr>\n",
       "      <th>9</th>\n",
       "      <td>instagram_new_adverts</td>\n",
       "      <td>2020-05-05</td>\n",
       "      <td>313.97</td>\n",
       "      <td>2020-05-06</td>\n",
       "      <td>472</td>\n",
       "      <td>0.67</td>\n",
       "    </tr>\n",
       "    <tr>\n",
       "      <th>10</th>\n",
       "      <td>yandex_direct</td>\n",
       "      <td>2020-05-05</td>\n",
       "      <td>308.23</td>\n",
       "      <td>2020-05-06</td>\n",
       "      <td>664</td>\n",
       "      <td>0.46</td>\n",
       "    </tr>\n",
       "    <tr>\n",
       "      <th>11</th>\n",
       "      <td>youtube_channel_reklama</td>\n",
       "      <td>2020-05-05</td>\n",
       "      <td>147.04</td>\n",
       "      <td>2020-05-06</td>\n",
       "      <td>366</td>\n",
       "      <td>0.40</td>\n",
       "    </tr>\n",
       "    <tr>\n",
       "      <th>12</th>\n",
       "      <td>facebook_ads</td>\n",
       "      <td>2020-05-06</td>\n",
       "      <td>177.98</td>\n",
       "      <td>2020-05-07</td>\n",
       "      <td>224</td>\n",
       "      <td>0.79</td>\n",
       "    </tr>\n",
       "    <tr>\n",
       "      <th>13</th>\n",
       "      <td>instagram_new_adverts</td>\n",
       "      <td>2020-05-06</td>\n",
       "      <td>173.07</td>\n",
       "      <td>2020-05-07</td>\n",
       "      <td>270</td>\n",
       "      <td>0.64</td>\n",
       "    </tr>\n",
       "    <tr>\n",
       "      <th>14</th>\n",
       "      <td>yandex_direct</td>\n",
       "      <td>2020-05-06</td>\n",
       "      <td>180.92</td>\n",
       "      <td>2020-05-07</td>\n",
       "      <td>395</td>\n",
       "      <td>0.46</td>\n",
       "    </tr>\n",
       "    <tr>\n",
       "      <th>15</th>\n",
       "      <td>youtube_channel_reklama</td>\n",
       "      <td>2020-05-06</td>\n",
       "      <td>88.51</td>\n",
       "      <td>2020-05-07</td>\n",
       "      <td>220</td>\n",
       "      <td>0.40</td>\n",
       "    </tr>\n",
       "    <tr>\n",
       "      <th>16</th>\n",
       "      <td>facebook_ads</td>\n",
       "      <td>2020-05-07</td>\n",
       "      <td>111.77</td>\n",
       "      <td>2020-05-08</td>\n",
       "      <td>139</td>\n",
       "      <td>0.80</td>\n",
       "    </tr>\n",
       "    <tr>\n",
       "      <th>17</th>\n",
       "      <td>instagram_new_adverts</td>\n",
       "      <td>2020-05-07</td>\n",
       "      <td>109.92</td>\n",
       "      <td>2020-05-08</td>\n",
       "      <td>175</td>\n",
       "      <td>0.63</td>\n",
       "    </tr>\n",
       "    <tr>\n",
       "      <th>18</th>\n",
       "      <td>yandex_direct</td>\n",
       "      <td>2020-05-07</td>\n",
       "      <td>114.43</td>\n",
       "      <td>2020-05-08</td>\n",
       "      <td>239</td>\n",
       "      <td>0.48</td>\n",
       "    </tr>\n",
       "    <tr>\n",
       "      <th>19</th>\n",
       "      <td>youtube_channel_reklama</td>\n",
       "      <td>2020-05-07</td>\n",
       "      <td>55.74</td>\n",
       "      <td>2020-05-08</td>\n",
       "      <td>135</td>\n",
       "      <td>0.41</td>\n",
       "    </tr>\n",
       "    <tr>\n",
       "      <th>20</th>\n",
       "      <td>facebook_ads</td>\n",
       "      <td>2020-05-08</td>\n",
       "      <td>68.01</td>\n",
       "      <td>2020-05-09</td>\n",
       "      <td>84</td>\n",
       "      <td>0.81</td>\n",
       "    </tr>\n",
       "    <tr>\n",
       "      <th>21</th>\n",
       "      <td>instagram_new_adverts</td>\n",
       "      <td>2020-05-08</td>\n",
       "      <td>71.58</td>\n",
       "      <td>2020-05-09</td>\n",
       "      <td>112</td>\n",
       "      <td>0.64</td>\n",
       "    </tr>\n",
       "    <tr>\n",
       "      <th>22</th>\n",
       "      <td>yandex_direct</td>\n",
       "      <td>2020-05-08</td>\n",
       "      <td>62.96</td>\n",
       "      <td>2020-05-09</td>\n",
       "      <td>144</td>\n",
       "      <td>0.44</td>\n",
       "    </tr>\n",
       "    <tr>\n",
       "      <th>23</th>\n",
       "      <td>youtube_channel_reklama</td>\n",
       "      <td>2020-05-08</td>\n",
       "      <td>40.22</td>\n",
       "      <td>2020-05-09</td>\n",
       "      <td>100</td>\n",
       "      <td>0.40</td>\n",
       "    </tr>\n",
       "    <tr>\n",
       "      <th>24</th>\n",
       "      <td>facebook_ads</td>\n",
       "      <td>2020-05-09</td>\n",
       "      <td>38.72</td>\n",
       "      <td>2020-05-10</td>\n",
       "      <td>56</td>\n",
       "      <td>0.69</td>\n",
       "    </tr>\n",
       "    <tr>\n",
       "      <th>25</th>\n",
       "      <td>instagram_new_adverts</td>\n",
       "      <td>2020-05-09</td>\n",
       "      <td>46.78</td>\n",
       "      <td>2020-05-10</td>\n",
       "      <td>70</td>\n",
       "      <td>0.67</td>\n",
       "    </tr>\n",
       "    <tr>\n",
       "      <th>26</th>\n",
       "      <td>yandex_direct</td>\n",
       "      <td>2020-05-09</td>\n",
       "      <td>42.78</td>\n",
       "      <td>2020-05-10</td>\n",
       "      <td>89</td>\n",
       "      <td>0.48</td>\n",
       "    </tr>\n",
       "    <tr>\n",
       "      <th>27</th>\n",
       "      <td>youtube_channel_reklama</td>\n",
       "      <td>2020-05-09</td>\n",
       "      <td>23.31</td>\n",
       "      <td>2020-05-10</td>\n",
       "      <td>56</td>\n",
       "      <td>0.42</td>\n",
       "    </tr>\n",
       "  </tbody>\n",
       "</table>\n",
       "</div>"
      ],
      "text/plain": [
       "                     source        day   cost start_datetime  unique_users  \\\n",
       "0              facebook_ads 2020-05-03 935.88     2020-05-04          1184   \n",
       "1     instagram_new_adverts 2020-05-03 943.20     2020-05-04          1452   \n",
       "2             yandex_direct 2020-05-03 969.14     2020-05-04          2078   \n",
       "3   youtube_channel_reklama 2020-05-03 454.22     2020-05-04          1146   \n",
       "4              facebook_ads 2020-05-04 548.35     2020-05-05           694   \n",
       "5     instagram_new_adverts 2020-05-04 502.93     2020-05-05           796   \n",
       "6             yandex_direct 2020-05-04 554.65     2020-05-05          1208   \n",
       "7   youtube_channel_reklama 2020-05-04 259.07     2020-05-05           663   \n",
       "8              facebook_ads 2020-05-05 260.19     2020-05-06           345   \n",
       "9     instagram_new_adverts 2020-05-05 313.97     2020-05-06           472   \n",
       "10            yandex_direct 2020-05-05 308.23     2020-05-06           664   \n",
       "11  youtube_channel_reklama 2020-05-05 147.04     2020-05-06           366   \n",
       "12             facebook_ads 2020-05-06 177.98     2020-05-07           224   \n",
       "13    instagram_new_adverts 2020-05-06 173.07     2020-05-07           270   \n",
       "14            yandex_direct 2020-05-06 180.92     2020-05-07           395   \n",
       "15  youtube_channel_reklama 2020-05-06  88.51     2020-05-07           220   \n",
       "16             facebook_ads 2020-05-07 111.77     2020-05-08           139   \n",
       "17    instagram_new_adverts 2020-05-07 109.92     2020-05-08           175   \n",
       "18            yandex_direct 2020-05-07 114.43     2020-05-08           239   \n",
       "19  youtube_channel_reklama 2020-05-07  55.74     2020-05-08           135   \n",
       "20             facebook_ads 2020-05-08  68.01     2020-05-09            84   \n",
       "21    instagram_new_adverts 2020-05-08  71.58     2020-05-09           112   \n",
       "22            yandex_direct 2020-05-08  62.96     2020-05-09           144   \n",
       "23  youtube_channel_reklama 2020-05-08  40.22     2020-05-09           100   \n",
       "24             facebook_ads 2020-05-09  38.72     2020-05-10            56   \n",
       "25    instagram_new_adverts 2020-05-09  46.78     2020-05-10            70   \n",
       "26            yandex_direct 2020-05-09  42.78     2020-05-10            89   \n",
       "27  youtube_channel_reklama 2020-05-09  23.31     2020-05-10            56   \n",
       "\n",
       "    acquisition_cost  \n",
       "0               0.79  \n",
       "1               0.65  \n",
       "2               0.47  \n",
       "3               0.40  \n",
       "4               0.79  \n",
       "5               0.63  \n",
       "6               0.46  \n",
       "7               0.39  \n",
       "8               0.75  \n",
       "9               0.67  \n",
       "10              0.46  \n",
       "11              0.40  \n",
       "12              0.79  \n",
       "13              0.64  \n",
       "14              0.46  \n",
       "15              0.40  \n",
       "16              0.80  \n",
       "17              0.63  \n",
       "18              0.48  \n",
       "19              0.41  \n",
       "20              0.81  \n",
       "21              0.64  \n",
       "22              0.44  \n",
       "23              0.40  \n",
       "24              0.69  \n",
       "25              0.67  \n",
       "26              0.48  \n",
       "27              0.42  "
      ]
     },
     "execution_count": 56,
     "metadata": {},
     "output_type": "execute_result"
    }
   ],
   "source": [
    "ad_costs"
   ]
  },
  {
   "cell_type": "markdown",
   "metadata": {},
   "source": [
    "Так как мобильная игра выпущена недавно и начальное количество новых пользователей за неделю невелико, то считаем хорошим результатом то, что 43% новых пользователей активно взаимодействуют с приложением и прошли 1-й уровень."
   ]
  },
  {
   "cell_type": "code",
   "execution_count": 57,
   "metadata": {},
   "outputs": [
    {
     "name": "stdout",
     "output_type": "stream",
     "text": [
      "Количество пользователей начальное 13576 человек\n",
      "Количество пользователей по стратегии 1 - Победа над первым врагом - 3951 человек\n",
      "Количество пользователей по стратегии 2 - Реализация проекта - разработка орбитальной сборки спутников - 1866 человек\n",
      "Количество пользователей БЕЗ четкой стратегии - 7759 человек\n"
     ]
    }
   ],
   "source": [
    "way_1_profiles=clear_profiles.query('strategy == \"way_1\"')\n",
    "way_2_profiles=clear_profiles.query('strategy == \"way_2\"')\n",
    "print('Количество пользователей начальное {0:.0f} человек'.format(profiles['user_id'].nunique()))\n",
    "print('Количество пользователей по стратегии 1 - Победа над первым врагом - {0:.0f} человек'.format(way_1_profiles['user_id'].nunique()))\n",
    "print('Количество пользователей по стратегии 2 - Реализация проекта - разработка орбитальной сборки спутников - {0:.0f} человек'\\\n",
    "      .format(way_2_profiles['user_id'].nunique()))\n",
    "print('Количество пользователей БЕЗ четкой стратегии - {0:.0f} человек'.format(profiles.query('strategy ==\"unknown\"')['user_id'].nunique()))"
   ]
  },
  {
   "cell_type": "markdown",
   "metadata": {},
   "source": [
    "Определим количество и долю пользователей, который были привлечены каждым из рекламных источников в разрезе стратегий:"
   ]
  },
  {
   "cell_type": "code",
   "execution_count": 58,
   "metadata": {},
   "outputs": [
    {
     "data": {
      "text/html": [
       "<div>\n",
       "<style scoped>\n",
       "    .dataframe tbody tr th:only-of-type {\n",
       "        vertical-align: middle;\n",
       "    }\n",
       "\n",
       "    .dataframe tbody tr th {\n",
       "        vertical-align: top;\n",
       "    }\n",
       "\n",
       "    .dataframe thead th {\n",
       "        text-align: right;\n",
       "    }\n",
       "</style>\n",
       "<table border=\"1\" class=\"dataframe\">\n",
       "  <thead>\n",
       "    <tr style=\"text-align: right;\">\n",
       "      <th></th>\n",
       "      <th>source</th>\n",
       "      <th>way_1</th>\n",
       "      <th>way_2</th>\n",
       "      <th>share_1</th>\n",
       "      <th>share_2</th>\n",
       "      <th>delta_share</th>\n",
       "      <th>general_share_1</th>\n",
       "      <th>general_share_2</th>\n",
       "      <th>delta_general_share</th>\n",
       "    </tr>\n",
       "  </thead>\n",
       "  <tbody>\n",
       "    <tr>\n",
       "      <th>0</th>\n",
       "      <td>facebook_ads</td>\n",
       "      <td>759</td>\n",
       "      <td>391</td>\n",
       "      <td>19.21</td>\n",
       "      <td>20.95</td>\n",
       "      <td>-1.74</td>\n",
       "      <td>5.59</td>\n",
       "      <td>2.88</td>\n",
       "      <td>2.71</td>\n",
       "    </tr>\n",
       "    <tr>\n",
       "      <th>1</th>\n",
       "      <td>instagram_new_adverts</td>\n",
       "      <td>990</td>\n",
       "      <td>476</td>\n",
       "      <td>25.06</td>\n",
       "      <td>25.51</td>\n",
       "      <td>-0.45</td>\n",
       "      <td>7.29</td>\n",
       "      <td>3.51</td>\n",
       "      <td>3.79</td>\n",
       "    </tr>\n",
       "    <tr>\n",
       "      <th>2</th>\n",
       "      <td>yandex_direct</td>\n",
       "      <td>1422</td>\n",
       "      <td>620</td>\n",
       "      <td>35.99</td>\n",
       "      <td>33.23</td>\n",
       "      <td>2.76</td>\n",
       "      <td>10.47</td>\n",
       "      <td>4.57</td>\n",
       "      <td>5.91</td>\n",
       "    </tr>\n",
       "    <tr>\n",
       "      <th>3</th>\n",
       "      <td>youtube_channel_reklama</td>\n",
       "      <td>780</td>\n",
       "      <td>379</td>\n",
       "      <td>19.74</td>\n",
       "      <td>20.31</td>\n",
       "      <td>-0.57</td>\n",
       "      <td>5.75</td>\n",
       "      <td>2.79</td>\n",
       "      <td>2.95</td>\n",
       "    </tr>\n",
       "  </tbody>\n",
       "</table>\n",
       "</div>"
      ],
      "text/plain": [
       "                    source  way_1  way_2  share_1  share_2  delta_share  \\\n",
       "0             facebook_ads    759    391    19.21    20.95        -1.74   \n",
       "1    instagram_new_adverts    990    476    25.06    25.51        -0.45   \n",
       "2            yandex_direct   1422    620    35.99    33.23         2.76   \n",
       "3  youtube_channel_reklama    780    379    19.74    20.31        -0.57   \n",
       "\n",
       "   general_share_1  general_share_2  delta_general_share  \n",
       "0             5.59             2.88                 2.71  \n",
       "1             7.29             3.51                 3.79  \n",
       "2            10.47             4.57                 5.91  \n",
       "3             5.75             2.79                 2.95  "
      ]
     },
     "execution_count": 58,
     "metadata": {},
     "output_type": "execute_result"
    }
   ],
   "source": [
    "user_share=clear_profiles.pivot_table(index='source', columns='strategy', values='user_id', aggfunc='nunique').reset_index(drop=False)\n",
    "user_share.columns=['source', 'way_1','way_2']\n",
    "user_share['share_1']=user_share['way_1']/way_1_profiles['user_id'].nunique()*100\n",
    "user_share['share_2']=user_share['way_2']/way_2_profiles['user_id'].nunique()*100\n",
    "user_share['delta_share']=user_share['share_1']-user_share['share_2']\n",
    "user_share['general_share_1']=user_share['way_1']/profiles['user_id'].nunique()*100\n",
    "user_share['general_share_2']=user_share['way_2']/profiles['user_id'].nunique()*100\n",
    "user_share['delta_general_share']=user_share['general_share_1']-user_share['general_share_2']\n",
    "user_share.style.format({'share_1': '{:.2%}', 'share_2': '{:.2%}', 'general_share_1': '{:.2%}','general_share_2':'{:.2%}'})\n",
    "user_share"
   ]
  },
  {
   "cell_type": "code",
   "execution_count": 59,
   "metadata": {},
   "outputs": [
    {
     "data": {
      "text/html": [
       "<style  type=\"text/css\" >\n",
       "</style><table id=\"T_0bd53_\" ><thead>    <tr>        <th class=\"blank level0\" ></th>        <th class=\"col_heading level0 col0\" >source</th>        <th class=\"col_heading level0 col1\" >user_count</th>        <th class=\"col_heading level0 col2\" >share</th>        <th class=\"col_heading level0 col3\" >general_share</th>    </tr></thead><tbody>\n",
       "                <tr>\n",
       "                        <th id=\"T_0bd53_level0_row0\" class=\"row_heading level0 row0\" >0</th>\n",
       "                        <td id=\"T_0bd53_row0_col0\" class=\"data row0 col0\" >facebook_ads</td>\n",
       "                        <td id=\"T_0bd53_row0_col1\" class=\"data row0 col1\" >1150</td>\n",
       "                        <td id=\"T_0bd53_row0_col2\" class=\"data row0 col2\" >19.77%</td>\n",
       "                        <td id=\"T_0bd53_row0_col3\" class=\"data row0 col3\" >8.47%</td>\n",
       "            </tr>\n",
       "            <tr>\n",
       "                        <th id=\"T_0bd53_level0_row1\" class=\"row_heading level0 row1\" >1</th>\n",
       "                        <td id=\"T_0bd53_row1_col0\" class=\"data row1 col0\" >instagram_new_adverts</td>\n",
       "                        <td id=\"T_0bd53_row1_col1\" class=\"data row1 col1\" >1466</td>\n",
       "                        <td id=\"T_0bd53_row1_col2\" class=\"data row1 col2\" >25.20%</td>\n",
       "                        <td id=\"T_0bd53_row1_col3\" class=\"data row1 col3\" >10.80%</td>\n",
       "            </tr>\n",
       "            <tr>\n",
       "                        <th id=\"T_0bd53_level0_row2\" class=\"row_heading level0 row2\" >2</th>\n",
       "                        <td id=\"T_0bd53_row2_col0\" class=\"data row2 col0\" >yandex_direct</td>\n",
       "                        <td id=\"T_0bd53_row2_col1\" class=\"data row2 col1\" >2042</td>\n",
       "                        <td id=\"T_0bd53_row2_col2\" class=\"data row2 col2\" >35.10%</td>\n",
       "                        <td id=\"T_0bd53_row2_col3\" class=\"data row2 col3\" >15.04%</td>\n",
       "            </tr>\n",
       "            <tr>\n",
       "                        <th id=\"T_0bd53_level0_row3\" class=\"row_heading level0 row3\" >3</th>\n",
       "                        <td id=\"T_0bd53_row3_col0\" class=\"data row3 col0\" >youtube_channel_reklama</td>\n",
       "                        <td id=\"T_0bd53_row3_col1\" class=\"data row3 col1\" >1159</td>\n",
       "                        <td id=\"T_0bd53_row3_col2\" class=\"data row3 col2\" >19.92%</td>\n",
       "                        <td id=\"T_0bd53_row3_col3\" class=\"data row3 col3\" >8.54%</td>\n",
       "            </tr>\n",
       "    </tbody></table>"
      ],
      "text/plain": [
       "<pandas.io.formats.style.Styler at 0x7f3c705a0ca0>"
      ]
     },
     "execution_count": 59,
     "metadata": {},
     "output_type": "execute_result"
    }
   ],
   "source": [
    "general_share=clear_profiles.pivot_table(index='source', values='user_id', aggfunc='nunique').reset_index(drop=False)\n",
    "general_share.columns=['source', 'user_count']\n",
    "general_share['share']=general_share['user_count']/clear_profiles['user_id'].nunique()\n",
    "general_share['general_share']=general_share['user_count']/profiles['user_id'].nunique()\n",
    "general_share.style.format({'share': '{:.2%}', 'general_share': '{:.2%}'})"
   ]
  },
  {
   "cell_type": "code",
   "execution_count": 60,
   "metadata": {},
   "outputs": [
    {
     "data": {
      "image/png": "[encoded data removed]",
      "text/plain": [
       "<Figure size 720x360 with 1 Axes>"
      ]
     },
     "metadata": {
      "needs_background": "light"
     },
     "output_type": "display_data"
    }
   ],
   "source": [
    "plt.figure(figsize=(10,5))\n",
    "ax=sns.countplot(x='strategy',hue='source', data=clear_profiles);\n",
    "ax.set_title('Распределение пользователей по стратегиям и источникам привлечения')\n",
    "ax.set_ylabel('Количество пользователей, ед.')\n",
    "ax.set_xlabel('Стратегия')\n",
    "plt.tight_layout()\n",
    "sns.despine()"
   ]
  },
  {
   "cell_type": "markdown",
   "metadata": {},
   "source": [
    "Видим, что большая часть пользователей предпочитает стратегию 1 - Победа над первым врагом - по всем источникам привлечения.\n",
    "\n",
    "В привлечении новых игроков лидируют yandex_direct (33-35% от от всех игроков , прошедших 1 уровень, 15,04% от всех игроков),instagram_new_adverts (25% от всех игроков , прошедших 1 уровень, 10,8% от всех игроков) \n",
    "\n",
    "Посмотрим на средние значения профилей пользователей в зависимости от стратегии:"
   ]
  },
  {
   "cell_type": "code",
   "execution_count": 61,
   "metadata": {
    "scrolled": false
   },
   "outputs": [
    {
     "data": {
      "text/html": [
       "<div>\n",
       "<style scoped>\n",
       "    .dataframe tbody tr th:only-of-type {\n",
       "        vertical-align: middle;\n",
       "    }\n",
       "\n",
       "    .dataframe tbody tr th {\n",
       "        vertical-align: top;\n",
       "    }\n",
       "\n",
       "    .dataframe thead tr th {\n",
       "        text-align: left;\n",
       "    }\n",
       "\n",
       "    .dataframe thead tr:last-of-type th {\n",
       "        text-align: right;\n",
       "    }\n",
       "</style>\n",
       "<table border=\"1\" class=\"dataframe\">\n",
       "  <thead>\n",
       "    <tr>\n",
       "      <th></th>\n",
       "      <th>user_id</th>\n",
       "      <th colspan=\"2\" halign=\"left\">building_event</th>\n",
       "      <th colspan=\"2\" halign=\"left\">acquisition_cost</th>\n",
       "    </tr>\n",
       "    <tr>\n",
       "      <th></th>\n",
       "      <th>count</th>\n",
       "      <th>sum</th>\n",
       "      <th>mean</th>\n",
       "      <th>sum</th>\n",
       "      <th>mean</th>\n",
       "    </tr>\n",
       "    <tr>\n",
       "      <th>strategy</th>\n",
       "      <th></th>\n",
       "      <th></th>\n",
       "      <th></th>\n",
       "      <th></th>\n",
       "      <th></th>\n",
       "    </tr>\n",
       "  </thead>\n",
       "  <tbody>\n",
       "    <tr>\n",
       "      <th>way_1</th>\n",
       "      <td>3951</td>\n",
       "      <td>37185</td>\n",
       "      <td>9.41</td>\n",
       "      <td>2205.13</td>\n",
       "      <td>0.56</td>\n",
       "    </tr>\n",
       "    <tr>\n",
       "      <th>way_2</th>\n",
       "      <td>1866</td>\n",
       "      <td>23601</td>\n",
       "      <td>12.65</td>\n",
       "      <td>1052.87</td>\n",
       "      <td>0.56</td>\n",
       "    </tr>\n",
       "  </tbody>\n",
       "</table>\n",
       "</div>"
      ],
      "text/plain": [
       "         user_id building_event       acquisition_cost     \n",
       "           count            sum  mean              sum mean\n",
       "strategy                                                   \n",
       "way_1       3951          37185  9.41          2205.13 0.56\n",
       "way_2       1866          23601 12.65          1052.87 0.56"
      ]
     },
     "execution_count": 61,
     "metadata": {},
     "output_type": "execute_result"
    }
   ],
   "source": [
    "clear_profiles.groupby('strategy').agg({'user_id':'count','building_event':['sum','mean'],'acquisition_cost':['sum','mean']  })"
   ]
  },
  {
   "cell_type": "code",
   "execution_count": 62,
   "metadata": {
    "scrolled": true
   },
   "outputs": [
    {
     "data": {
      "text/plain": [
       "strategy\n",
       "way_1   11 days 03:00:38.268792710\n",
       "way_2   13 days 11:30:48.231511254\n",
       "Name: delta_time, dtype: timedelta64[ns]"
      ]
     },
     "execution_count": 62,
     "metadata": {},
     "output_type": "execute_result"
    }
   ],
   "source": [
    "clear_profiles.groupby('strategy')['delta_time'].mean(numeric_only=False)"
   ]
  },
  {
   "cell_type": "markdown",
   "metadata": {},
   "source": [
    "Видим, что игроки на Стратегии 2 проходят уровень на 2,5 дня дольше, при этом в среднем строят больше зданий, а значит, чаще видят рекламу при одинаковых средних издержках привлечения на человека в 0,56 ден.ед./чел.\n",
    "\n",
    "Определим средние значения по стратегиям в разрезе источников привлечения:"
   ]
  },
  {
   "cell_type": "code",
   "execution_count": 63,
   "metadata": {
    "scrolled": true
   },
   "outputs": [
    {
     "name": "stdout",
     "output_type": "stream",
     "text": [
      "<class 'pandas.core.frame.DataFrame'>\n",
      "Int64Index: 5817 entries, 3 to 13575\n",
      "Data columns (total 16 columns):\n",
      " #   Column            Non-Null Count  Dtype          \n",
      "---  ------            --------------  -----          \n",
      " 0   user_id           5817 non-null   object         \n",
      " 1   first_event       5817 non-null   object         \n",
      " 2   start_datetime    5817 non-null   datetime64[ns] \n",
      " 3   last_event        5817 non-null   object         \n",
      " 4   end_datetime      5817 non-null   datetime64[ns] \n",
      " 5   delta_time        5817 non-null   timedelta64[ns]\n",
      " 6   building_event    5817 non-null   int64          \n",
      " 7   assembly_shop     5817 non-null   int64          \n",
      " 8   spaceport         5817 non-null   float64        \n",
      " 9   research_center   5817 non-null   float64        \n",
      " 10  finish_event      5817 non-null   float64        \n",
      " 11  project_event     5817 non-null   float64        \n",
      " 12  source            5817 non-null   object         \n",
      " 13  acquisition_cost  5817 non-null   float64        \n",
      " 14  strategy          5817 non-null   object         \n",
      " 15  cohort            5817 non-null   object         \n",
      "dtypes: datetime64[ns](2), float64(5), int64(2), object(6), timedelta64[ns](1)\n",
      "memory usage: 901.6+ KB\n"
     ]
    }
   ],
   "source": [
    "clear_profiles.info()"
   ]
  },
  {
   "cell_type": "code",
   "execution_count": 64,
   "metadata": {
    "scrolled": true
   },
   "outputs": [
    {
     "data": {
      "text/html": [
       "<div>\n",
       "<style scoped>\n",
       "    .dataframe tbody tr th:only-of-type {\n",
       "        vertical-align: middle;\n",
       "    }\n",
       "\n",
       "    .dataframe tbody tr th {\n",
       "        vertical-align: top;\n",
       "    }\n",
       "\n",
       "    .dataframe thead tr th {\n",
       "        text-align: left;\n",
       "    }\n",
       "\n",
       "    .dataframe thead tr:last-of-type th {\n",
       "        text-align: right;\n",
       "    }\n",
       "</style>\n",
       "<table border=\"1\" class=\"dataframe\">\n",
       "  <thead>\n",
       "    <tr>\n",
       "      <th></th>\n",
       "      <th></th>\n",
       "      <th>user_id</th>\n",
       "      <th colspan=\"2\" halign=\"left\">building_event</th>\n",
       "      <th colspan=\"2\" halign=\"left\">acquisition_cost</th>\n",
       "    </tr>\n",
       "    <tr>\n",
       "      <th></th>\n",
       "      <th></th>\n",
       "      <th>count</th>\n",
       "      <th>sum</th>\n",
       "      <th>mean</th>\n",
       "      <th>sum</th>\n",
       "      <th>mean</th>\n",
       "    </tr>\n",
       "    <tr>\n",
       "      <th>source</th>\n",
       "      <th>strategy</th>\n",
       "      <th></th>\n",
       "      <th></th>\n",
       "      <th></th>\n",
       "      <th></th>\n",
       "      <th></th>\n",
       "    </tr>\n",
       "  </thead>\n",
       "  <tbody>\n",
       "    <tr>\n",
       "      <th rowspan=\"2\" valign=\"top\">facebook_ads</th>\n",
       "      <th>way_1</th>\n",
       "      <td>759</td>\n",
       "      <td>7157</td>\n",
       "      <td>9.43</td>\n",
       "      <td>596.42</td>\n",
       "      <td>0.79</td>\n",
       "    </tr>\n",
       "    <tr>\n",
       "      <th>way_2</th>\n",
       "      <td>391</td>\n",
       "      <td>4946</td>\n",
       "      <td>12.65</td>\n",
       "      <td>307.82</td>\n",
       "      <td>0.79</td>\n",
       "    </tr>\n",
       "    <tr>\n",
       "      <th rowspan=\"2\" valign=\"top\">instagram_new_adverts</th>\n",
       "      <th>way_1</th>\n",
       "      <td>990</td>\n",
       "      <td>9306</td>\n",
       "      <td>9.40</td>\n",
       "      <td>639.26</td>\n",
       "      <td>0.65</td>\n",
       "    </tr>\n",
       "    <tr>\n",
       "      <th>way_2</th>\n",
       "      <td>476</td>\n",
       "      <td>6072</td>\n",
       "      <td>12.76</td>\n",
       "      <td>307.48</td>\n",
       "      <td>0.65</td>\n",
       "    </tr>\n",
       "    <tr>\n",
       "      <th rowspan=\"2\" valign=\"top\">yandex_direct</th>\n",
       "      <th>way_1</th>\n",
       "      <td>1422</td>\n",
       "      <td>13332</td>\n",
       "      <td>9.38</td>\n",
       "      <td>659.57</td>\n",
       "      <td>0.46</td>\n",
       "    </tr>\n",
       "    <tr>\n",
       "      <th>way_2</th>\n",
       "      <td>620</td>\n",
       "      <td>7809</td>\n",
       "      <td>12.60</td>\n",
       "      <td>287.32</td>\n",
       "      <td>0.46</td>\n",
       "    </tr>\n",
       "    <tr>\n",
       "      <th rowspan=\"2\" valign=\"top\">youtube_channel_reklama</th>\n",
       "      <th>way_1</th>\n",
       "      <td>780</td>\n",
       "      <td>7390</td>\n",
       "      <td>9.47</td>\n",
       "      <td>309.88</td>\n",
       "      <td>0.40</td>\n",
       "    </tr>\n",
       "    <tr>\n",
       "      <th>way_2</th>\n",
       "      <td>379</td>\n",
       "      <td>4774</td>\n",
       "      <td>12.60</td>\n",
       "      <td>150.25</td>\n",
       "      <td>0.40</td>\n",
       "    </tr>\n",
       "  </tbody>\n",
       "</table>\n",
       "</div>"
      ],
      "text/plain": [
       "                                 user_id building_event        \\\n",
       "                                   count            sum  mean   \n",
       "source                  strategy                                \n",
       "facebook_ads            way_1        759           7157  9.43   \n",
       "                        way_2        391           4946 12.65   \n",
       "instagram_new_adverts   way_1        990           9306  9.40   \n",
       "                        way_2        476           6072 12.76   \n",
       "yandex_direct           way_1       1422          13332  9.38   \n",
       "                        way_2        620           7809 12.60   \n",
       "youtube_channel_reklama way_1        780           7390  9.47   \n",
       "                        way_2        379           4774 12.60   \n",
       "\n",
       "                                 acquisition_cost       \n",
       "                                              sum mean  \n",
       "source                  strategy                        \n",
       "facebook_ads            way_1              596.42 0.79  \n",
       "                        way_2              307.82 0.79  \n",
       "instagram_new_adverts   way_1              639.26 0.65  \n",
       "                        way_2              307.48 0.65  \n",
       "yandex_direct           way_1              659.57 0.46  \n",
       "                        way_2              287.32 0.46  \n",
       "youtube_channel_reklama way_1              309.88 0.40  \n",
       "                        way_2              150.25 0.40  "
      ]
     },
     "execution_count": 64,
     "metadata": {},
     "output_type": "execute_result"
    }
   ],
   "source": [
    "clear_profiles.groupby(['source', 'strategy']).agg({'user_id':'count','building_event':['sum','mean'],'acquisition_cost':['sum','mean']  })"
   ]
  },
  {
   "cell_type": "code",
   "execution_count": 65,
   "metadata": {},
   "outputs": [
    {
     "data": {
      "text/plain": [
       "source                   strategy\n",
       "facebook_ads             way_1      11 days 01:44:44.584980237\n",
       "                         way_2      13 days 10:38:40.204603580\n",
       "instagram_new_adverts    way_1      11 days 03:04:47.272727272\n",
       "                         way_2      13 days 13:17:01.008403361\n",
       "yandex_direct            way_1      11 days 03:36:24.810126582\n",
       "                         way_2      13 days 09:16:44.516129032\n",
       "youtube_channel_reklama  way_1                11 days 03:04:00\n",
       "                         way_2      13 days 13:50:30.079155672\n",
       "Name: delta_time, dtype: timedelta64[ns]"
      ]
     },
     "execution_count": 65,
     "metadata": {},
     "output_type": "execute_result"
    }
   ],
   "source": [
    "clear_profiles.groupby(['source', 'strategy'])['delta_time'].mean(numeric_only=False)"
   ]
  },
  {
   "cell_type": "markdown",
   "metadata": {},
   "source": [
    "Видим, что минимальная стоимость привлечения игроков на каналах \"youtube_channel_reklama\" 0,23 ден.ед./чел. и \"yandex_direct\" 0,27 ден.ед./чел, при этом наиболее активные игроки по среднему кол-ву построек приходят с \"дорогих\" каналов - \"instagram_new_adverts\" и \"facebook_ads\".\n",
    "\n",
    "На каждой стратегии отсортируем данные по скорости прохождения уровня и по количеству построек, так мы определим наиболее быстрый и эффективный способ пройти игровой уровень:"
   ]
  },
  {
   "cell_type": "code",
   "execution_count": 66,
   "metadata": {},
   "outputs": [
    {
     "data": {
      "text/html": [
       "<div>\n",
       "<style scoped>\n",
       "    .dataframe tbody tr th:only-of-type {\n",
       "        vertical-align: middle;\n",
       "    }\n",
       "\n",
       "    .dataframe tbody tr th {\n",
       "        vertical-align: top;\n",
       "    }\n",
       "\n",
       "    .dataframe thead th {\n",
       "        text-align: right;\n",
       "    }\n",
       "</style>\n",
       "<table border=\"1\" class=\"dataframe\">\n",
       "  <thead>\n",
       "    <tr style=\"text-align: right;\">\n",
       "      <th></th>\n",
       "      <th>user_id</th>\n",
       "      <th>first_event</th>\n",
       "      <th>start_datetime</th>\n",
       "      <th>last_event</th>\n",
       "      <th>end_datetime</th>\n",
       "      <th>delta_time</th>\n",
       "      <th>building_event</th>\n",
       "      <th>assembly_shop</th>\n",
       "      <th>spaceport</th>\n",
       "      <th>research_center</th>\n",
       "      <th>finish_event</th>\n",
       "      <th>project_event</th>\n",
       "      <th>source</th>\n",
       "      <th>acquisition_cost</th>\n",
       "      <th>strategy</th>\n",
       "      <th>cohort</th>\n",
       "    </tr>\n",
       "  </thead>\n",
       "  <tbody>\n",
       "    <tr>\n",
       "      <th>207</th>\n",
       "      <td>03990bc0-47b6-44ce-9f8b-3afb1a97d0e7</td>\n",
       "      <td>building</td>\n",
       "      <td>2020-05-07</td>\n",
       "      <td>finished_stage_1</td>\n",
       "      <td>2020-05-08</td>\n",
       "      <td>0 days 10:00:00</td>\n",
       "      <td>3</td>\n",
       "      <td>2</td>\n",
       "      <td>1.00</td>\n",
       "      <td>0.00</td>\n",
       "      <td>1.00</td>\n",
       "      <td>0.00</td>\n",
       "      <td>instagram_new_adverts</td>\n",
       "      <td>0.64</td>\n",
       "      <td>way_1</td>\n",
       "      <td>cohort_4</td>\n",
       "    </tr>\n",
       "    <tr>\n",
       "      <th>10932</th>\n",
       "      <td>ced7b368-818f-48f6-9461-2346de0892c5</td>\n",
       "      <td>building</td>\n",
       "      <td>2020-05-04</td>\n",
       "      <td>finished_stage_1</td>\n",
       "      <td>2020-05-04</td>\n",
       "      <td>0 days 20:00:00</td>\n",
       "      <td>2</td>\n",
       "      <td>1</td>\n",
       "      <td>1.00</td>\n",
       "      <td>0.00</td>\n",
       "      <td>1.00</td>\n",
       "      <td>0.00</td>\n",
       "      <td>instagram_new_adverts</td>\n",
       "      <td>0.65</td>\n",
       "      <td>way_1</td>\n",
       "      <td>cohort_1</td>\n",
       "    </tr>\n",
       "    <tr>\n",
       "      <th>10614</th>\n",
       "      <td>c8180f71-68dc-4fd5-ba6e-ba5f5d0d28f7</td>\n",
       "      <td>building</td>\n",
       "      <td>2020-05-08</td>\n",
       "      <td>finished_stage_1</td>\n",
       "      <td>2020-05-09</td>\n",
       "      <td>0 days 20:00:00</td>\n",
       "      <td>2</td>\n",
       "      <td>1</td>\n",
       "      <td>1.00</td>\n",
       "      <td>0.00</td>\n",
       "      <td>1.00</td>\n",
       "      <td>0.00</td>\n",
       "      <td>youtube_channel_reklama</td>\n",
       "      <td>0.41</td>\n",
       "      <td>way_1</td>\n",
       "      <td>cohort_5</td>\n",
       "    </tr>\n",
       "    <tr>\n",
       "      <th>1894</th>\n",
       "      <td>2204ae7f-892b-494d-bd58-28816ff35eb5</td>\n",
       "      <td>building</td>\n",
       "      <td>2020-05-07</td>\n",
       "      <td>finished_stage_1</td>\n",
       "      <td>2020-05-08</td>\n",
       "      <td>0 days 23:00:00</td>\n",
       "      <td>2</td>\n",
       "      <td>1</td>\n",
       "      <td>1.00</td>\n",
       "      <td>0.00</td>\n",
       "      <td>1.00</td>\n",
       "      <td>0.00</td>\n",
       "      <td>yandex_direct</td>\n",
       "      <td>0.46</td>\n",
       "      <td>way_1</td>\n",
       "      <td>cohort_4</td>\n",
       "    </tr>\n",
       "    <tr>\n",
       "      <th>2363</th>\n",
       "      <td>2ab1cc5a-413a-408e-ba76-01de8e12bead</td>\n",
       "      <td>building</td>\n",
       "      <td>2020-05-05</td>\n",
       "      <td>finished_stage_1</td>\n",
       "      <td>2020-05-06</td>\n",
       "      <td>1 days 01:00:00</td>\n",
       "      <td>2</td>\n",
       "      <td>1</td>\n",
       "      <td>1.00</td>\n",
       "      <td>0.00</td>\n",
       "      <td>1.00</td>\n",
       "      <td>0.00</td>\n",
       "      <td>youtube_channel_reklama</td>\n",
       "      <td>0.39</td>\n",
       "      <td>way_1</td>\n",
       "      <td>cohort_2</td>\n",
       "    </tr>\n",
       "  </tbody>\n",
       "</table>\n",
       "</div>"
      ],
      "text/plain": [
       "                                    user_id first_event start_datetime  \\\n",
       "207    03990bc0-47b6-44ce-9f8b-3afb1a97d0e7    building     2020-05-07   \n",
       "10932  ced7b368-818f-48f6-9461-2346de0892c5    building     2020-05-04   \n",
       "10614  c8180f71-68dc-4fd5-ba6e-ba5f5d0d28f7    building     2020-05-08   \n",
       "1894   2204ae7f-892b-494d-bd58-28816ff35eb5    building     2020-05-07   \n",
       "2363   2ab1cc5a-413a-408e-ba76-01de8e12bead    building     2020-05-05   \n",
       "\n",
       "             last_event end_datetime      delta_time  building_event  \\\n",
       "207    finished_stage_1   2020-05-08 0 days 10:00:00               3   \n",
       "10932  finished_stage_1   2020-05-04 0 days 20:00:00               2   \n",
       "10614  finished_stage_1   2020-05-09 0 days 20:00:00               2   \n",
       "1894   finished_stage_1   2020-05-08 0 days 23:00:00               2   \n",
       "2363   finished_stage_1   2020-05-06 1 days 01:00:00               2   \n",
       "\n",
       "       assembly_shop  spaceport  research_center  finish_event  project_event  \\\n",
       "207                2       1.00             0.00          1.00           0.00   \n",
       "10932              1       1.00             0.00          1.00           0.00   \n",
       "10614              1       1.00             0.00          1.00           0.00   \n",
       "1894               1       1.00             0.00          1.00           0.00   \n",
       "2363               1       1.00             0.00          1.00           0.00   \n",
       "\n",
       "                        source  acquisition_cost strategy    cohort  \n",
       "207      instagram_new_adverts              0.64    way_1  cohort_4  \n",
       "10932    instagram_new_adverts              0.65    way_1  cohort_1  \n",
       "10614  youtube_channel_reklama              0.41    way_1  cohort_5  \n",
       "1894             yandex_direct              0.46    way_1  cohort_4  \n",
       "2363   youtube_channel_reklama              0.39    way_1  cohort_2  "
      ]
     },
     "execution_count": 66,
     "metadata": {},
     "output_type": "execute_result"
    }
   ],
   "source": [
    "way_1_profiles.sort_values(by='delta_time').head()"
   ]
  },
  {
   "cell_type": "code",
   "execution_count": 67,
   "metadata": {
    "scrolled": true
   },
   "outputs": [
    {
     "data": {
      "text/html": [
       "<div>\n",
       "<style scoped>\n",
       "    .dataframe tbody tr th:only-of-type {\n",
       "        vertical-align: middle;\n",
       "    }\n",
       "\n",
       "    .dataframe tbody tr th {\n",
       "        vertical-align: top;\n",
       "    }\n",
       "\n",
       "    .dataframe thead th {\n",
       "        text-align: right;\n",
       "    }\n",
       "</style>\n",
       "<table border=\"1\" class=\"dataframe\">\n",
       "  <thead>\n",
       "    <tr style=\"text-align: right;\">\n",
       "      <th></th>\n",
       "      <th>user_id</th>\n",
       "      <th>first_event</th>\n",
       "      <th>start_datetime</th>\n",
       "      <th>last_event</th>\n",
       "      <th>end_datetime</th>\n",
       "      <th>delta_time</th>\n",
       "      <th>building_event</th>\n",
       "      <th>assembly_shop</th>\n",
       "      <th>spaceport</th>\n",
       "      <th>research_center</th>\n",
       "      <th>finish_event</th>\n",
       "      <th>project_event</th>\n",
       "      <th>source</th>\n",
       "      <th>acquisition_cost</th>\n",
       "      <th>strategy</th>\n",
       "      <th>cohort</th>\n",
       "    </tr>\n",
       "  </thead>\n",
       "  <tbody>\n",
       "    <tr>\n",
       "      <th>5988</th>\n",
       "      <td>6ff3138b-b242-4ec3-b50f-8d6f999c0848</td>\n",
       "      <td>building</td>\n",
       "      <td>2020-05-09</td>\n",
       "      <td>finished_stage_1</td>\n",
       "      <td>2020-05-11</td>\n",
       "      <td>1 days 09:00:00</td>\n",
       "      <td>2</td>\n",
       "      <td>1</td>\n",
       "      <td>1.00</td>\n",
       "      <td>0.00</td>\n",
       "      <td>1.00</td>\n",
       "      <td>0.00</td>\n",
       "      <td>yandex_direct</td>\n",
       "      <td>0.44</td>\n",
       "      <td>way_1</td>\n",
       "      <td>cohort_6</td>\n",
       "    </tr>\n",
       "    <tr>\n",
       "      <th>7252</th>\n",
       "      <td>875e414a-d8a8-4041-93c0-7ab12b9cd328</td>\n",
       "      <td>building</td>\n",
       "      <td>2020-05-05</td>\n",
       "      <td>finished_stage_1</td>\n",
       "      <td>2020-05-08</td>\n",
       "      <td>3 days 13:00:00</td>\n",
       "      <td>2</td>\n",
       "      <td>1</td>\n",
       "      <td>1.00</td>\n",
       "      <td>0.00</td>\n",
       "      <td>1.00</td>\n",
       "      <td>0.00</td>\n",
       "      <td>youtube_channel_reklama</td>\n",
       "      <td>0.39</td>\n",
       "      <td>way_1</td>\n",
       "      <td>cohort_2</td>\n",
       "    </tr>\n",
       "    <tr>\n",
       "      <th>630</th>\n",
       "      <td>0bdf8f24-d773-4e2b-81bf-6923de7a904f</td>\n",
       "      <td>building</td>\n",
       "      <td>2020-05-08</td>\n",
       "      <td>finished_stage_1</td>\n",
       "      <td>2020-05-15</td>\n",
       "      <td>6 days 16:00:00</td>\n",
       "      <td>2</td>\n",
       "      <td>1</td>\n",
       "      <td>1.00</td>\n",
       "      <td>0.00</td>\n",
       "      <td>1.00</td>\n",
       "      <td>0.00</td>\n",
       "      <td>facebook_ads</td>\n",
       "      <td>0.80</td>\n",
       "      <td>way_1</td>\n",
       "      <td>cohort_5</td>\n",
       "    </tr>\n",
       "    <tr>\n",
       "      <th>5036</th>\n",
       "      <td>5d7e74d9-71d2-4d79-97f0-99ede059e11a</td>\n",
       "      <td>building</td>\n",
       "      <td>2020-05-07</td>\n",
       "      <td>finished_stage_1</td>\n",
       "      <td>2020-05-14</td>\n",
       "      <td>7 days 19:00:00</td>\n",
       "      <td>2</td>\n",
       "      <td>1</td>\n",
       "      <td>1.00</td>\n",
       "      <td>0.00</td>\n",
       "      <td>1.00</td>\n",
       "      <td>0.00</td>\n",
       "      <td>yandex_direct</td>\n",
       "      <td>0.46</td>\n",
       "      <td>way_1</td>\n",
       "      <td>cohort_4</td>\n",
       "    </tr>\n",
       "    <tr>\n",
       "      <th>12600</th>\n",
       "      <td>ed9fce65-e7f8-407d-92ce-539772f7c080</td>\n",
       "      <td>building</td>\n",
       "      <td>2020-05-08</td>\n",
       "      <td>finished_stage_1</td>\n",
       "      <td>2020-05-10</td>\n",
       "      <td>1 days 21:00:00</td>\n",
       "      <td>2</td>\n",
       "      <td>1</td>\n",
       "      <td>1.00</td>\n",
       "      <td>0.00</td>\n",
       "      <td>1.00</td>\n",
       "      <td>0.00</td>\n",
       "      <td>yandex_direct</td>\n",
       "      <td>0.48</td>\n",
       "      <td>way_1</td>\n",
       "      <td>cohort_5</td>\n",
       "    </tr>\n",
       "  </tbody>\n",
       "</table>\n",
       "</div>"
      ],
      "text/plain": [
       "                                    user_id first_event start_datetime  \\\n",
       "5988   6ff3138b-b242-4ec3-b50f-8d6f999c0848    building     2020-05-09   \n",
       "7252   875e414a-d8a8-4041-93c0-7ab12b9cd328    building     2020-05-05   \n",
       "630    0bdf8f24-d773-4e2b-81bf-6923de7a904f    building     2020-05-08   \n",
       "5036   5d7e74d9-71d2-4d79-97f0-99ede059e11a    building     2020-05-07   \n",
       "12600  ed9fce65-e7f8-407d-92ce-539772f7c080    building     2020-05-08   \n",
       "\n",
       "             last_event end_datetime      delta_time  building_event  \\\n",
       "5988   finished_stage_1   2020-05-11 1 days 09:00:00               2   \n",
       "7252   finished_stage_1   2020-05-08 3 days 13:00:00               2   \n",
       "630    finished_stage_1   2020-05-15 6 days 16:00:00               2   \n",
       "5036   finished_stage_1   2020-05-14 7 days 19:00:00               2   \n",
       "12600  finished_stage_1   2020-05-10 1 days 21:00:00               2   \n",
       "\n",
       "       assembly_shop  spaceport  research_center  finish_event  project_event  \\\n",
       "5988               1       1.00             0.00          1.00           0.00   \n",
       "7252               1       1.00             0.00          1.00           0.00   \n",
       "630                1       1.00             0.00          1.00           0.00   \n",
       "5036               1       1.00             0.00          1.00           0.00   \n",
       "12600              1       1.00             0.00          1.00           0.00   \n",
       "\n",
       "                        source  acquisition_cost strategy    cohort  \n",
       "5988             yandex_direct              0.44    way_1  cohort_6  \n",
       "7252   youtube_channel_reklama              0.39    way_1  cohort_2  \n",
       "630               facebook_ads              0.80    way_1  cohort_5  \n",
       "5036             yandex_direct              0.46    way_1  cohort_4  \n",
       "12600            yandex_direct              0.48    way_1  cohort_5  "
      ]
     },
     "execution_count": 67,
     "metadata": {},
     "output_type": "execute_result"
    }
   ],
   "source": [
    "way_1_profiles.sort_values(by='building_event').head()"
   ]
  },
  {
   "cell_type": "markdown",
   "metadata": {},
   "source": [
    "Видим, что при Стратегии 1 самые быстрые игроки проходят уровень за 10-20 часов, построив 2-3 здания типа assembly_shop и spaceport, а значит, увидев рекламу всего 2-3 раза за все время."
   ]
  },
  {
   "cell_type": "code",
   "execution_count": 68,
   "metadata": {},
   "outputs": [
    {
     "data": {
      "text/html": [
       "<div>\n",
       "<style scoped>\n",
       "    .dataframe tbody tr th:only-of-type {\n",
       "        vertical-align: middle;\n",
       "    }\n",
       "\n",
       "    .dataframe tbody tr th {\n",
       "        vertical-align: top;\n",
       "    }\n",
       "\n",
       "    .dataframe thead th {\n",
       "        text-align: right;\n",
       "    }\n",
       "</style>\n",
       "<table border=\"1\" class=\"dataframe\">\n",
       "  <thead>\n",
       "    <tr style=\"text-align: right;\">\n",
       "      <th></th>\n",
       "      <th>user_id</th>\n",
       "      <th>first_event</th>\n",
       "      <th>start_datetime</th>\n",
       "      <th>last_event</th>\n",
       "      <th>end_datetime</th>\n",
       "      <th>delta_time</th>\n",
       "      <th>building_event</th>\n",
       "      <th>assembly_shop</th>\n",
       "      <th>spaceport</th>\n",
       "      <th>research_center</th>\n",
       "      <th>finish_event</th>\n",
       "      <th>project_event</th>\n",
       "      <th>source</th>\n",
       "      <th>acquisition_cost</th>\n",
       "      <th>strategy</th>\n",
       "      <th>cohort</th>\n",
       "    </tr>\n",
       "  </thead>\n",
       "  <tbody>\n",
       "    <tr>\n",
       "      <th>5181</th>\n",
       "      <td>60653d96-bad2-4042-96c1-daa71fb03955</td>\n",
       "      <td>building</td>\n",
       "      <td>2020-05-06</td>\n",
       "      <td>finished_stage_1</td>\n",
       "      <td>2020-05-12</td>\n",
       "      <td>5 days 04:00:00</td>\n",
       "      <td>13</td>\n",
       "      <td>7</td>\n",
       "      <td>3.00</td>\n",
       "      <td>3.00</td>\n",
       "      <td>1.00</td>\n",
       "      <td>1.00</td>\n",
       "      <td>facebook_ads</td>\n",
       "      <td>0.75</td>\n",
       "      <td>way_2</td>\n",
       "      <td>cohort_3</td>\n",
       "    </tr>\n",
       "    <tr>\n",
       "      <th>2030</th>\n",
       "      <td>24ceb32a-4906-43a5-9712-ecc47f6a7543</td>\n",
       "      <td>building</td>\n",
       "      <td>2020-05-06</td>\n",
       "      <td>finished_stage_1</td>\n",
       "      <td>2020-05-11</td>\n",
       "      <td>5 days 08:00:00</td>\n",
       "      <td>10</td>\n",
       "      <td>6</td>\n",
       "      <td>2.00</td>\n",
       "      <td>2.00</td>\n",
       "      <td>1.00</td>\n",
       "      <td>1.00</td>\n",
       "      <td>yandex_direct</td>\n",
       "      <td>0.46</td>\n",
       "      <td>way_2</td>\n",
       "      <td>cohort_3</td>\n",
       "    </tr>\n",
       "    <tr>\n",
       "      <th>8394</th>\n",
       "      <td>9e57e5bb-49f4-4efb-991c-747d7a88e446</td>\n",
       "      <td>building</td>\n",
       "      <td>2020-05-04</td>\n",
       "      <td>finished_stage_1</td>\n",
       "      <td>2020-05-10</td>\n",
       "      <td>5 days 15:00:00</td>\n",
       "      <td>11</td>\n",
       "      <td>7</td>\n",
       "      <td>3.00</td>\n",
       "      <td>1.00</td>\n",
       "      <td>1.00</td>\n",
       "      <td>1.00</td>\n",
       "      <td>yandex_direct</td>\n",
       "      <td>0.47</td>\n",
       "      <td>way_2</td>\n",
       "      <td>cohort_1</td>\n",
       "    </tr>\n",
       "    <tr>\n",
       "      <th>8160</th>\n",
       "      <td>99bb57ef-0737-47db-85f0-1eadd7759d27</td>\n",
       "      <td>building</td>\n",
       "      <td>2020-05-06</td>\n",
       "      <td>finished_stage_1</td>\n",
       "      <td>2020-05-11</td>\n",
       "      <td>5 days 15:00:00</td>\n",
       "      <td>13</td>\n",
       "      <td>6</td>\n",
       "      <td>4.00</td>\n",
       "      <td>3.00</td>\n",
       "      <td>1.00</td>\n",
       "      <td>1.00</td>\n",
       "      <td>yandex_direct</td>\n",
       "      <td>0.46</td>\n",
       "      <td>way_2</td>\n",
       "      <td>cohort_3</td>\n",
       "    </tr>\n",
       "    <tr>\n",
       "      <th>444</th>\n",
       "      <td>08425f93-aaca-40a7-97d0-7ff4be09b990</td>\n",
       "      <td>building</td>\n",
       "      <td>2020-05-05</td>\n",
       "      <td>finished_stage_1</td>\n",
       "      <td>2020-05-11</td>\n",
       "      <td>5 days 20:00:00</td>\n",
       "      <td>10</td>\n",
       "      <td>6</td>\n",
       "      <td>3.00</td>\n",
       "      <td>1.00</td>\n",
       "      <td>1.00</td>\n",
       "      <td>1.00</td>\n",
       "      <td>yandex_direct</td>\n",
       "      <td>0.46</td>\n",
       "      <td>way_2</td>\n",
       "      <td>cohort_2</td>\n",
       "    </tr>\n",
       "  </tbody>\n",
       "</table>\n",
       "</div>"
      ],
      "text/plain": [
       "                                   user_id first_event start_datetime  \\\n",
       "5181  60653d96-bad2-4042-96c1-daa71fb03955    building     2020-05-06   \n",
       "2030  24ceb32a-4906-43a5-9712-ecc47f6a7543    building     2020-05-06   \n",
       "8394  9e57e5bb-49f4-4efb-991c-747d7a88e446    building     2020-05-04   \n",
       "8160  99bb57ef-0737-47db-85f0-1eadd7759d27    building     2020-05-06   \n",
       "444   08425f93-aaca-40a7-97d0-7ff4be09b990    building     2020-05-05   \n",
       "\n",
       "            last_event end_datetime      delta_time  building_event  \\\n",
       "5181  finished_stage_1   2020-05-12 5 days 04:00:00              13   \n",
       "2030  finished_stage_1   2020-05-11 5 days 08:00:00              10   \n",
       "8394  finished_stage_1   2020-05-10 5 days 15:00:00              11   \n",
       "8160  finished_stage_1   2020-05-11 5 days 15:00:00              13   \n",
       "444   finished_stage_1   2020-05-11 5 days 20:00:00              10   \n",
       "\n",
       "      assembly_shop  spaceport  research_center  finish_event  project_event  \\\n",
       "5181              7       3.00             3.00          1.00           1.00   \n",
       "2030              6       2.00             2.00          1.00           1.00   \n",
       "8394              7       3.00             1.00          1.00           1.00   \n",
       "8160              6       4.00             3.00          1.00           1.00   \n",
       "444               6       3.00             1.00          1.00           1.00   \n",
       "\n",
       "             source  acquisition_cost strategy    cohort  \n",
       "5181   facebook_ads              0.75    way_2  cohort_3  \n",
       "2030  yandex_direct              0.46    way_2  cohort_3  \n",
       "8394  yandex_direct              0.47    way_2  cohort_1  \n",
       "8160  yandex_direct              0.46    way_2  cohort_3  \n",
       "444   yandex_direct              0.46    way_2  cohort_2  "
      ]
     },
     "execution_count": 68,
     "metadata": {},
     "output_type": "execute_result"
    }
   ],
   "source": [
    "way_2_profiles.sort_values(by='delta_time').head()"
   ]
  },
  {
   "cell_type": "code",
   "execution_count": 69,
   "metadata": {},
   "outputs": [
    {
     "data": {
      "text/html": [
       "<div>\n",
       "<style scoped>\n",
       "    .dataframe tbody tr th:only-of-type {\n",
       "        vertical-align: middle;\n",
       "    }\n",
       "\n",
       "    .dataframe tbody tr th {\n",
       "        vertical-align: top;\n",
       "    }\n",
       "\n",
       "    .dataframe thead th {\n",
       "        text-align: right;\n",
       "    }\n",
       "</style>\n",
       "<table border=\"1\" class=\"dataframe\">\n",
       "  <thead>\n",
       "    <tr style=\"text-align: right;\">\n",
       "      <th></th>\n",
       "      <th>user_id</th>\n",
       "      <th>first_event</th>\n",
       "      <th>start_datetime</th>\n",
       "      <th>last_event</th>\n",
       "      <th>end_datetime</th>\n",
       "      <th>delta_time</th>\n",
       "      <th>building_event</th>\n",
       "      <th>assembly_shop</th>\n",
       "      <th>spaceport</th>\n",
       "      <th>research_center</th>\n",
       "      <th>finish_event</th>\n",
       "      <th>project_event</th>\n",
       "      <th>source</th>\n",
       "      <th>acquisition_cost</th>\n",
       "      <th>strategy</th>\n",
       "      <th>cohort</th>\n",
       "    </tr>\n",
       "  </thead>\n",
       "  <tbody>\n",
       "    <tr>\n",
       "      <th>1937</th>\n",
       "      <td>2303f0ae-4980-4851-9a29-b7c73f8536d2</td>\n",
       "      <td>building</td>\n",
       "      <td>2020-05-04</td>\n",
       "      <td>finished_stage_1</td>\n",
       "      <td>2020-05-16</td>\n",
       "      <td>12 days 03:00:00</td>\n",
       "      <td>10</td>\n",
       "      <td>7</td>\n",
       "      <td>1.00</td>\n",
       "      <td>2.00</td>\n",
       "      <td>1.00</td>\n",
       "      <td>1.00</td>\n",
       "      <td>facebook_ads</td>\n",
       "      <td>0.79</td>\n",
       "      <td>way_2</td>\n",
       "      <td>cohort_1</td>\n",
       "    </tr>\n",
       "    <tr>\n",
       "      <th>2352</th>\n",
       "      <td>2a8335d7-66cb-44bc-b7cf-7d4772e634a2</td>\n",
       "      <td>building</td>\n",
       "      <td>2020-05-04</td>\n",
       "      <td>finished_stage_1</td>\n",
       "      <td>2020-05-18</td>\n",
       "      <td>13 days 12:00:00</td>\n",
       "      <td>10</td>\n",
       "      <td>2</td>\n",
       "      <td>6.00</td>\n",
       "      <td>2.00</td>\n",
       "      <td>1.00</td>\n",
       "      <td>1.00</td>\n",
       "      <td>instagram_new_adverts</td>\n",
       "      <td>0.65</td>\n",
       "      <td>way_2</td>\n",
       "      <td>cohort_1</td>\n",
       "    </tr>\n",
       "    <tr>\n",
       "      <th>7943</th>\n",
       "      <td>956a9cc8-fee4-46de-a6b1-39596990ae27</td>\n",
       "      <td>building</td>\n",
       "      <td>2020-05-06</td>\n",
       "      <td>finished_stage_1</td>\n",
       "      <td>2020-06-01</td>\n",
       "      <td>25 days 15:00:00</td>\n",
       "      <td>10</td>\n",
       "      <td>3</td>\n",
       "      <td>6.00</td>\n",
       "      <td>1.00</td>\n",
       "      <td>1.00</td>\n",
       "      <td>1.00</td>\n",
       "      <td>yandex_direct</td>\n",
       "      <td>0.46</td>\n",
       "      <td>way_2</td>\n",
       "      <td>cohort_3</td>\n",
       "    </tr>\n",
       "    <tr>\n",
       "      <th>2344</th>\n",
       "      <td>2a6424c6-27d4-480c-9f01-e34666ec6158</td>\n",
       "      <td>building</td>\n",
       "      <td>2020-05-05</td>\n",
       "      <td>finished_stage_1</td>\n",
       "      <td>2020-05-20</td>\n",
       "      <td>15 days 09:00:00</td>\n",
       "      <td>10</td>\n",
       "      <td>2</td>\n",
       "      <td>7.00</td>\n",
       "      <td>1.00</td>\n",
       "      <td>1.00</td>\n",
       "      <td>1.00</td>\n",
       "      <td>youtube_channel_reklama</td>\n",
       "      <td>0.39</td>\n",
       "      <td>way_2</td>\n",
       "      <td>cohort_2</td>\n",
       "    </tr>\n",
       "    <tr>\n",
       "      <th>7968</th>\n",
       "      <td>9613ef11-6780-402c-b6fc-919a4cf5116f</td>\n",
       "      <td>building</td>\n",
       "      <td>2020-05-06</td>\n",
       "      <td>finished_stage_1</td>\n",
       "      <td>2020-05-20</td>\n",
       "      <td>14 days 10:00:00</td>\n",
       "      <td>10</td>\n",
       "      <td>3</td>\n",
       "      <td>6.00</td>\n",
       "      <td>1.00</td>\n",
       "      <td>1.00</td>\n",
       "      <td>1.00</td>\n",
       "      <td>instagram_new_adverts</td>\n",
       "      <td>0.67</td>\n",
       "      <td>way_2</td>\n",
       "      <td>cohort_3</td>\n",
       "    </tr>\n",
       "  </tbody>\n",
       "</table>\n",
       "</div>"
      ],
      "text/plain": [
       "                                   user_id first_event start_datetime  \\\n",
       "1937  2303f0ae-4980-4851-9a29-b7c73f8536d2    building     2020-05-04   \n",
       "2352  2a8335d7-66cb-44bc-b7cf-7d4772e634a2    building     2020-05-04   \n",
       "7943  956a9cc8-fee4-46de-a6b1-39596990ae27    building     2020-05-06   \n",
       "2344  2a6424c6-27d4-480c-9f01-e34666ec6158    building     2020-05-05   \n",
       "7968  9613ef11-6780-402c-b6fc-919a4cf5116f    building     2020-05-06   \n",
       "\n",
       "            last_event end_datetime       delta_time  building_event  \\\n",
       "1937  finished_stage_1   2020-05-16 12 days 03:00:00              10   \n",
       "2352  finished_stage_1   2020-05-18 13 days 12:00:00              10   \n",
       "7943  finished_stage_1   2020-06-01 25 days 15:00:00              10   \n",
       "2344  finished_stage_1   2020-05-20 15 days 09:00:00              10   \n",
       "7968  finished_stage_1   2020-05-20 14 days 10:00:00              10   \n",
       "\n",
       "      assembly_shop  spaceport  research_center  finish_event  project_event  \\\n",
       "1937              7       1.00             2.00          1.00           1.00   \n",
       "2352              2       6.00             2.00          1.00           1.00   \n",
       "7943              3       6.00             1.00          1.00           1.00   \n",
       "2344              2       7.00             1.00          1.00           1.00   \n",
       "7968              3       6.00             1.00          1.00           1.00   \n",
       "\n",
       "                       source  acquisition_cost strategy    cohort  \n",
       "1937             facebook_ads              0.79    way_2  cohort_1  \n",
       "2352    instagram_new_adverts              0.65    way_2  cohort_1  \n",
       "7943            yandex_direct              0.46    way_2  cohort_3  \n",
       "2344  youtube_channel_reklama              0.39    way_2  cohort_2  \n",
       "7968    instagram_new_adverts              0.67    way_2  cohort_3  "
      ]
     },
     "execution_count": 69,
     "metadata": {},
     "output_type": "execute_result"
    }
   ],
   "source": [
    "way_2_profiles.sort_values(by='building_event').head()"
   ]
  },
  {
   "cell_type": "markdown",
   "metadata": {},
   "source": [
    "Видим, что при Стратегии 2 самые быстрые игроки проходят уровень за 5 дней, построив 10-13 зданий типа assembly_shop,research_center и spaceport, а значит, увидев рекламу 10-13 раз за все время."
   ]
  },
  {
   "cell_type": "markdown",
   "metadata": {},
   "source": [
    "Создадим вспомогательную таблицу для отображения воронки игроков на разных стратегиях."
   ]
  },
  {
   "cell_type": "code",
   "execution_count": 70,
   "metadata": {
    "scrolled": false
   },
   "outputs": [
    {
     "data": {
      "text/html": [
       "<div>\n",
       "<style scoped>\n",
       "    .dataframe tbody tr th:only-of-type {\n",
       "        vertical-align: middle;\n",
       "    }\n",
       "\n",
       "    .dataframe tbody tr th {\n",
       "        vertical-align: top;\n",
       "    }\n",
       "\n",
       "    .dataframe thead th {\n",
       "        text-align: right;\n",
       "    }\n",
       "</style>\n",
       "<table border=\"1\" class=\"dataframe\">\n",
       "  <thead>\n",
       "    <tr style=\"text-align: right;\">\n",
       "      <th></th>\n",
       "      <th>event</th>\n",
       "      <th>strategy</th>\n",
       "      <th>user_id</th>\n",
       "    </tr>\n",
       "  </thead>\n",
       "  <tbody>\n",
       "    <tr>\n",
       "      <th>0</th>\n",
       "      <td>building</td>\n",
       "      <td>way_1</td>\n",
       "      <td>3951</td>\n",
       "    </tr>\n",
       "    <tr>\n",
       "      <th>1</th>\n",
       "      <td>finished_stage_1</td>\n",
       "      <td>way_1</td>\n",
       "      <td>3951</td>\n",
       "    </tr>\n",
       "    <tr>\n",
       "      <th>2</th>\n",
       "      <td>building</td>\n",
       "      <td>way_2</td>\n",
       "      <td>1866</td>\n",
       "    </tr>\n",
       "    <tr>\n",
       "      <th>3</th>\n",
       "      <td>finished_stage_1</td>\n",
       "      <td>way_2</td>\n",
       "      <td>1866</td>\n",
       "    </tr>\n",
       "    <tr>\n",
       "      <th>4</th>\n",
       "      <td>project</td>\n",
       "      <td>way_2</td>\n",
       "      <td>1866</td>\n",
       "    </tr>\n",
       "  </tbody>\n",
       "</table>\n",
       "</div>"
      ],
      "text/plain": [
       "              event strategy  user_id\n",
       "0          building    way_1     3951\n",
       "1  finished_stage_1    way_1     3951\n",
       "2          building    way_2     1866\n",
       "3  finished_stage_1    way_2     1866\n",
       "4           project    way_2     1866"
      ]
     },
     "execution_count": 70,
     "metadata": {},
     "output_type": "execute_result"
    }
   ],
   "source": [
    "a=clear_actions.pivot_table(index= ['event','strategy'], values='user_id', aggfunc='nunique').sort_values(by=('user_id'), ascending=False).reset_index(drop=False)\n",
    "a"
   ]
  },
  {
   "cell_type": "markdown",
   "metadata": {},
   "source": [
    "Так как данные отсортированы по алфавиту при одинаковых значениях, то правильный путь игрока:\n",
    "* Стратегия 1 - building - finished_stage_1\n",
    "* Стратегия 2 - building - project - finished_stage_1"
   ]
  },
  {
   "cell_type": "markdown",
   "metadata": {},
   "source": [
    "## Вывод\n",
    "\n",
    "В процессе исследовательского анализа выяснили, что :\n",
    "* Наибольшая сумма расходов за привлечение пользователей в мобильную игру за период с 3 по 9 мая 2020 года была оплачена yandex_direct (2233,11 у.е.), наименьшая  - youtube_channel_reklama (1068,12).  \n",
    "* существенное сокращение рекламных расходов за период в 5 дней: по yandex_direct от 969,14 ден.ед. до 42.78 ден.ед. 9 мая 2020 г. Та же тенденция наблюдается во всех остальных рекламных каналах. \n",
    "* существенное снижение количества новых пользователей с 5860 чел 4 мая 2020 года до 271 чел. 10 мая 2020 г.\n",
    "\n",
    "Выявили пользовательскте стратегии и категоризировали игроков:\n",
    "* Стратегия 1 - Победа над первым врагом. Игрок на этой стратегии не строит исследовательский центр, а строит космопорты и сборочные цеха; переход на 2-й уровень происходит автоматически. Игрок не имеет возможности после победы над врагом продолжать находиться на первом уровне. Данные о начале и окончании боя с врагом отсутствуют. Игроков, у которых event != project и event == finished_stage_1 относим к Стратегии 1\n",
    "* Стратегия 2 - Реализация проекта. Игрок строит research_center — исследовательский центр, assembly_shop — сборочный цех. После окончания постройки наступает событие project, а в поле project_type появляется статус satellite_orbital_assembly. Однако пользователь, реализовав проект, может выбрать продолжить исследование игры , а не переход на второй уровень. Игроков, у которых есть статус event == project и event == finished_stage_1 относим к категории \"Стратегия 2\".\n",
    "* Игроков, у которых нет статуса event == project и event == finished_stage_1 относим к категории \"Не выбрал Стратегию\".\n",
    "\n",
    "Наблюдаем рост логов до 11 мая 2020 года включительно. Это связано с тем, что с 9 по 11 мая 2020 года были выходными днями, далее начались рабочие дни, и количество событий в игре кратно уменьшилось. Также у нас нет информации по новым пользователям с 11 мая, мы наблюдаем за тем, как вели себя пользователи с 4 по 10 мая. На активность в игре влияет еще фактор карантина по короновирусу, когда люди были вынуждены находиться дома.\n",
    "\n",
    "Видим, что среди всех пользователей, завершивших 1-й уровень, 68% выбирают Стратегию 1 - Победа над первым врагом. Связываем это с популярностью жанра \"Шутер\" , Стратегию 2 отнесем к жанру \"Стратегия\", \"Симуляция\", которые пользуются гораздо меньшей популярностью в мире.\n",
    "\n",
    "Большая часть пользователей предпочитает стратегию 1 - Победа над первым врагом - по всем источникам привлечения.\n",
    "\n",
    "В привлечении новых игроков лидируют yandex_direct (33-35% от от всех игроков , прошедших 1 уровень, 15,04% от всех игроков),instagram_new_adverts (25% от всех игроков , прошедших 1 уровень, 10,8% от всех игроков) \n",
    "\n",
    "Игроки на Стратегии 2 проходят уровень на 2,5 дня дольше, при этом в среднем строят больше зданий, а значит, чаще видят рекламу при одинаковых средних издержках привлечения на человека в 0,56 ден.ед./чел.\n",
    "\n",
    "Минимальная стоимость привлечения игроков на каналах \"youtube_channel_reklama\" 0,23 ден.ед./чел. и \"yandex_direct\" 0,27 ден.ед./чел, при этом наиболее активные игроки по среднему кол-ву построек приходят с \"дорогих\" каналов - \"instagram_new_adverts\" и \"facebook_ads\".\n",
    "\n",
    "При Стратегии 1 самые быстрые игроки проходят уровень за 10-20 часов, построив 2-3 здания типа assembly_shop и spaceport, а значит, увидев рекламу всего 2-3 раза за все время.\n",
    "\n",
    "При Стратегии 2 самые быстрые игроки проходят уровень за 5 дней, построив 10-13 зданий типа assembly_shop,research_center и spaceport, а значит, увидев рекламу 10-13 раз за все время.\n",
    "\n",
    "Проверим гипотезы о выявленных различиях в количестве построек и времени прохождения далее."
   ]
  },
  {
   "cell_type": "markdown",
   "metadata": {},
   "source": [
    "# Проверка статистических гипотез"
   ]
  },
  {
   "cell_type": "markdown",
   "metadata": {},
   "source": [
    "В датасетах `way_1_profiles` и `way_2_profiles` с профилями игроков, при разных стратегиях закончивших 1-й уровень игры, наблюдали различия в среднем времени прохождения 1-го уровня игры и количестве построенных зданий за игру.\n",
    "\n",
    "Определим, являются ли эти различия случайными и статистически незначимыми или различия неслучайны и характеризуют стратегии.  Обратимся к статистическим методам проверки гипотез.\n",
    "\n",
    "## Гипотеза 1 : время завершения 1-го уровня игры различается в зависимости от стратегии игрока"
   ]
  },
  {
   "cell_type": "markdown",
   "metadata": {},
   "source": [
    "H0 - время завершения 1-го уровня игры одинаково у игроков независимо от способа прохождения\n",
    "\n",
    "H1- время завершения 1-го уровня игры различается в зависимости от способа прохождения:\n",
    "\n",
    "        - через реализацию проекта,\n",
    "        - через победу над первым игроком.\n",
    "        \n",
    "Для того, чтобы сравнить время прохождения уровня, переведем столбец 'delta_time' в дни с помощью функции."
   ]
  },
  {
   "cell_type": "code",
   "execution_count": 72,
   "metadata": {},
   "outputs": [],
   "source": [
    "def time(row):\n",
    "    delta_time=row['delta_time']\n",
    "    minutes = delta_time.total_seconds()/60\n",
    "    hours = minutes/60\n",
    "    days = hours/ 24\n",
    "    return days\n",
    "\n",
    "\n",
    "way_1_profiles['time'] = way_1_profiles.apply(time, axis=1)\n",
    "way_2_profiles['time'] = way_2_profiles.apply(time, axis=1)"
   ]
  },
  {
   "cell_type": "markdown",
   "metadata": {},
   "source": [
    "Проверять гипотезы будем с помощью t-test или критерия Стьюдента, так как мы имеем случайных пользователей, которые независимо друг от друга случайным образом дейтсвуют по Стратегии 1 или Стратегии 2. В группах игроков, разделенных согласно способу прохождения игры на 1-м уровне, сравним отдельные характеристики этих групп, а не доли (поэтому z-test не используем).\n",
    "\n",
    "\n",
    "Так как длина списков игроков по стратегиям различается значительно, то в тесте используем 'equal_var = False':"
   ]
  },
  {
   "cell_type": "code",
   "execution_count": 73,
   "metadata": {},
   "outputs": [],
   "source": [
    "way_1_time=way_1_profiles['time']\n",
    "way_2_time=way_2_profiles['time']\n",
    "alpha=0.05"
   ]
  },
  {
   "cell_type": "code",
   "execution_count": 74,
   "metadata": {},
   "outputs": [
    {
     "name": "stdout",
     "output_type": "stream",
     "text": [
      "p-значение: 5.951843305503725e-107\n"
     ]
    },
    {
     "data": {
      "text/plain": [
       "'Отвергаем Н0'"
      ]
     },
     "metadata": {},
     "output_type": "display_data"
    }
   ],
   "source": [
    "result=st.ttest_ind(way_1_time,way_2_time,equal_var = False)\n",
    "print('p-значение:', result.pvalue)\n",
    "if result.pvalue < alpha:\n",
    "    display('Отвергаем Н0')\n",
    "else:\n",
    "    display('Не удалось отвергнуть Н0')"
   ]
  },
  {
   "cell_type": "markdown",
   "metadata": {},
   "source": [
    "Действительно, время прохождения 1-го уровня игры в разных стратегиях отличается. Это мы отмечали на этапе исследовательского анализа и с помощью метода describe:"
   ]
  },
  {
   "cell_type": "code",
   "execution_count": 75,
   "metadata": {
    "scrolled": true
   },
   "outputs": [
    {
     "data": {
      "text/plain": [
       "count   3951.00\n",
       "mean      11.13\n",
       "std        4.10\n",
       "min        0.42\n",
       "25%        8.33\n",
       "50%       10.83\n",
       "75%       13.46\n",
       "max       30.92\n",
       "Name: time, dtype: float64"
      ]
     },
     "execution_count": 75,
     "metadata": {},
     "output_type": "execute_result"
    }
   ],
   "source": [
    "way_1_profiles['time'].describe()"
   ]
  },
  {
   "cell_type": "code",
   "execution_count": 76,
   "metadata": {
    "scrolled": false
   },
   "outputs": [
    {
     "data": {
      "text/plain": [
       "count   1866.00\n",
       "mean      13.48\n",
       "std        3.51\n",
       "min        5.17\n",
       "25%       10.96\n",
       "50%       13.04\n",
       "75%       15.58\n",
       "max       29.17\n",
       "Name: time, dtype: float64"
      ]
     },
     "execution_count": 76,
     "metadata": {},
     "output_type": "execute_result"
    }
   ],
   "source": [
    "way_2_profiles['time'].describe()"
   ]
  },
  {
   "cell_type": "markdown",
   "metadata": {},
   "source": [
    "## Гипотеза 2: количество виртуальных построек на 1-м уровне игры различается в зависимости от стратегии прохождения"
   ]
  },
  {
   "cell_type": "markdown",
   "metadata": {},
   "source": [
    "H0 - количество построек у игроков одинаково независимо от стратегии\n",
    "\n",
    "Н1 -  количество построек различается в в зависимости способа прохождения:\n",
    "\n",
    "        - через реализацию проекта,\n",
    "        - через победу над первым игроком."
   ]
  },
  {
   "cell_type": "markdown",
   "metadata": {},
   "source": [
    "Снова воспользуемся t-test для исследования различия в количестве построек на 1-м уровне игры при прохождении ее разными стратегиями. \n",
    "\n",
    "Определим не только, есть ли различия в количетсве построек всех типов, но и отдельно по каждому типу зданий. \n",
    "\n",
    "Для этого напишем цикл"
   ]
  },
  {
   "cell_type": "code",
   "execution_count": 77,
   "metadata": {},
   "outputs": [
    {
     "name": "stdout",
     "output_type": "stream",
     "text": [
      "Количество построек building_event при p-значении: 0.0\n",
      "Среднее количество построек building_event  в стратегии №1 = 9.411541381928625 и в Стратегии №2 = 12.64790996784566\n"
     ]
    },
    {
     "data": {
      "text/plain": [
       "'Отвергаем Н0, количество построек building_event разное'"
      ]
     },
     "metadata": {},
     "output_type": "display_data"
    },
    {
     "name": "stdout",
     "output_type": "stream",
     "text": [
      "Количество построек assembly_shop при p-значении: 1.1348731600806173e-46\n",
      "Среднее количество построек assembly_shop  в стратегии №1 = 4.125031637560111 и в Стратегии №2 = 4.885316184351554\n"
     ]
    },
    {
     "data": {
      "text/plain": [
       "'Отвергаем Н0, количество построек assembly_shop разное'"
      ]
     },
     "metadata": {},
     "output_type": "display_data"
    },
    {
     "name": "stdout",
     "output_type": "stream",
     "text": [
      "Количество построек spaceport при p-значении: 7.492854821802535e-114\n",
      "Среднее количество построек spaceport  в стратегии №1 = 4.336117438623133 и в Стратегии №2 = 5.781350482315113\n"
     ]
    },
    {
     "data": {
      "text/plain": [
       "'Отвергаем Н0, количество построек spaceport разное'"
      ]
     },
     "metadata": {},
     "output_type": "display_data"
    },
    {
     "name": "stdout",
     "output_type": "stream",
     "text": [
      "Количество построек research_center при p-значении: 1.429625689403116e-265\n",
      "Среднее количество построек research_center  в стратегии №1 = 0.9503923057453809 и в Стратегии №2 = 1.9812433011789925\n"
     ]
    },
    {
     "data": {
      "text/plain": [
       "'Отвергаем Н0, количество построек research_center разное'"
      ]
     },
     "metadata": {},
     "output_type": "display_data"
    }
   ],
   "source": [
    "for column in ['building_event','assembly_shop','spaceport', 'research_center']:\n",
    "    way_1=way_1_profiles[column]\n",
    "    way_2=way_2_profiles[column]\n",
    "    alpha=0.05\n",
    "    result=st.ttest_ind(way_1,way_2,equal_var = False)\n",
    "    print(f'Количество построек {column} при p-значении:', result.pvalue)\n",
    "    print(f'Среднее количество построек {column}  в стратегии №1 = {way_1.mean()} и в Стратегии №2 = {way_2.mean()}')\n",
    "    if result.pvalue < alpha:\n",
    "        display(f'Отвергаем Н0, количество построек {column} разное')\n",
    "    else:\n",
    "        display(f'Не удалось отвергнуть Н0, количество построек {column} одинаковое ')"
   ]
  },
  {
   "cell_type": "markdown",
   "metadata": {},
   "source": [
    "## Вывод"
   ]
  },
  {
   "cell_type": "markdown",
   "metadata": {},
   "source": [
    "Действительно, игроки, выбирая Стратегию 1 строят меньше зданий, а значит, видят меньше рекламы, чем игроки со Стратегией 2, которые проходят игру более медленно, но строят больше зданий, видят больше рекламы."
   ]
  },
  {
   "cell_type": "markdown",
   "metadata": {},
   "source": [
    "# Итоги работы"
   ]
  },
  {
   "cell_type": "markdown",
   "metadata": {},
   "source": [
    "Данные заказчика для анализа поведения игроков на 1-м уровне мобильной игры \"Космические братья\" достаточно хорошего качества, но имели следующие недостатки:\n",
    "* таблица game_agctions имела 1 дубликат. (Вероятны ошибки при выгрузке или в записи логов)\n",
    "* при исследовании данных и особенностей стратегий был выявлен недостаток записи логов  -  нет сведений об окончании боя с врагом, так как это лишает возможности проанализировать дальнейшие действия игрока в Стратегии 1\n",
    "* у столбцов с информацией о времени пришлось менять тип данных.\n",
    "\n",
    "При анализе рекламных расходов отмечаем снижение рекламных затрат с 3302,41 у.е. до 151 у.е. с 4 по 10 мая 2020 года, которое связано с подобным сокращением количества привлекаемых пользователей с 5860 до 271 человека 10 мая 2020 года, при этом средние затраты на привлечение пользователя составляют 0,34 у.е., а среднее число построек в игре и просмотров рекламы 9,43 ед. , то есть при стоимости показа рекламы в 0,03 у.е. выходим на окупаемость привлечения пользователя уже на 1-м уровне игры.\n",
    "\n",
    "Также в игре наблюдался существенный рост активности с начала регистрации логов до 11 мая включительно , что связываем с выпавшими на эти даты выходными днями и ковидными ограничениями.\n",
    "\n",
    "В привлечении новых игроков лидируют yandex_direct (33-35% от от всех игроков , прошедших 1 уровень, 15,04% от всех игроков),instagram_new_adverts (25% от всех игроков , прошедших 1 уровень, 10,8% от всех игроков) \n",
    "\n",
    "Доля игроков, завершивших 1-й ровень составляет 43%. Остальные находятся в процессе прохождения уровня, на который в среднем приходится 11 дней.\n",
    "\n",
    "Интересно, что 68% игроков, завершивших 1-й уровень выбирают стратегию 1-  Победа над первым врагом. Связываем это с популярностью жанра \"Шутер\" , Стратегию 2 отнесем к жанру \"Стратегия\", \"Симуляция\", которые пользуются гораздо меньшей популярностью в мире.\n",
    "\n",
    "В игре на первом уровне есть 2 стратегии перехода на второй уровень:\n",
    "\n",
    "* Победа над первым врагом - понятно, для победы над врагом в космосе нужны комические корабли. Чем больше кораблей, тем выше шанс победить врага, чем больше кораблей, тем больше выбора building_type - spaceport — космопорт (так как для колонизации другой планеты там должна быть база \"своих\" кораблей), тем больше целевых действий, больше выручки от рекламной компании.\n",
    "\n",
    "* Реализация проекта - разработка орбитальной сборки спутников. Для сборки спутников нужен building_type — research_center — исследовательский центр, assembly_shop — сборочный цех\n",
    "\n",
    "Путь игрока в разрезе событий 1-го уровня:\n",
    "* Стратегия 1 - building - finished_stage_1\n",
    "* Стратегия 2 - building - project - finished_stage_1\n",
    "\n",
    "Отмечаем недостаток первой стратегии - нет логов окончания боя с врагом.\n",
    "\n",
    "При оценке стредних значий увидели разные параметры для разных стратегий. Проверили гипотезы о разном количестве времени прохождения уровня и количестве построенных виртуальных зданий, которые подтвердили, что игроки на разных стратегиях игры затрачивают разное количество времени и строят разное количество построек всех типов.\n",
    "\n",
    "Игрок со Стратегией 1 тратит на уровень 11 дней и строит 9,42 здания, а игрок со стратегией 2 - 13 дней и 12,65 зданий, то есть на 30% больше зданий. Однако количество игроков, выбирающих Стратегию 2 (выгодную для экономики игры) также меньше в 2 раза.\n",
    "\n",
    "Значит, для увеличения строительства зданий для игроков на Стратегии 1 можно рекомендовать увеличить необходимое количество космопортов для победы над врагом, заложенное в алгоритм прохождения уровня."
   ]
  },
  {
   "cell_type": "markdown",
   "metadata": {},
   "source": [
    "Презентация - https://drive.google.com/file/d/1A1IWjzG9hFSvUBiJYkFm05FzKd7zFtsu/view?usp=sharing"
   ]
  }
 ],
 "metadata": {
  "ExecuteTimeLog": [
   {
    "duration": 1546,
    "start_time": "2022-06-06T17:21:38.270Z"
   },
   {
    "duration": 1555,
    "start_time": "2022-06-06T17:22:09.899Z"
   },
   {
    "duration": 197,
    "start_time": "2022-06-06T17:24:31.266Z"
   },
   {
    "duration": 16,
    "start_time": "2022-06-06T17:25:37.655Z"
   },
   {
    "duration": 12,
    "start_time": "2022-06-06T17:38:46.162Z"
   },
   {
    "duration": 193,
    "start_time": "2022-06-06T17:40:11.611Z"
   },
   {
    "duration": 11,
    "start_time": "2022-06-06T17:40:38.666Z"
   },
   {
    "duration": 12,
    "start_time": "2022-06-06T17:40:54.507Z"
   },
   {
    "duration": 14,
    "start_time": "2022-06-06T17:40:59.074Z"
   },
   {
    "duration": 17,
    "start_time": "2022-06-06T17:41:04.007Z"
   },
   {
    "duration": 31,
    "start_time": "2022-06-06T17:41:22.228Z"
   },
   {
    "duration": 38,
    "start_time": "2022-06-06T17:42:03.057Z"
   },
   {
    "duration": 14,
    "start_time": "2022-06-06T17:42:16.167Z"
   },
   {
    "duration": 31,
    "start_time": "2022-06-06T17:45:59.961Z"
   },
   {
    "duration": 51,
    "start_time": "2022-06-06T17:46:17.718Z"
   },
   {
    "duration": 31,
    "start_time": "2022-06-06T17:56:04.968Z"
   },
   {
    "duration": 130,
    "start_time": "2022-06-06T17:57:34.566Z"
   },
   {
    "duration": 16,
    "start_time": "2022-06-06T18:04:36.406Z"
   },
   {
    "duration": 24,
    "start_time": "2022-06-06T18:05:23.315Z"
   },
   {
    "duration": 1474,
    "start_time": "2022-06-06T18:23:22.306Z"
   },
   {
    "duration": 309,
    "start_time": "2022-06-06T18:23:23.782Z"
   },
   {
    "duration": 192,
    "start_time": "2022-06-06T18:23:24.093Z"
   },
   {
    "duration": 63,
    "start_time": "2022-06-06T18:23:24.287Z"
   },
   {
    "duration": 22,
    "start_time": "2022-06-06T18:23:24.352Z"
   },
   {
    "duration": 54,
    "start_time": "2022-06-06T18:23:24.376Z"
   },
   {
    "duration": 30,
    "start_time": "2022-06-06T18:23:24.432Z"
   },
   {
    "duration": 95,
    "start_time": "2022-06-06T18:27:15.901Z"
   },
   {
    "duration": 80,
    "start_time": "2022-06-06T18:27:40.884Z"
   },
   {
    "duration": 87,
    "start_time": "2022-06-06T18:29:56.290Z"
   },
   {
    "duration": 125,
    "start_time": "2022-06-06T18:31:06.507Z"
   },
   {
    "duration": 143,
    "start_time": "2022-06-06T18:31:41.942Z"
   },
   {
    "duration": 56,
    "start_time": "2022-06-06T18:33:23.091Z"
   },
   {
    "duration": 152,
    "start_time": "2022-06-06T18:33:32.703Z"
   },
   {
    "duration": 60,
    "start_time": "2022-06-06T18:34:01.728Z"
   },
   {
    "duration": 120,
    "start_time": "2022-06-06T18:34:31.386Z"
   },
   {
    "duration": 137,
    "start_time": "2022-06-06T18:34:57.747Z"
   },
   {
    "duration": 11,
    "start_time": "2022-06-06T18:42:31.912Z"
   },
   {
    "duration": 7,
    "start_time": "2022-06-06T18:43:03.812Z"
   },
   {
    "duration": 10,
    "start_time": "2022-06-06T18:43:57.042Z"
   },
   {
    "duration": 13,
    "start_time": "2022-06-06T18:44:36.208Z"
   },
   {
    "duration": 17,
    "start_time": "2022-06-06T18:45:06.346Z"
   },
   {
    "duration": 15,
    "start_time": "2022-06-06T18:47:48.472Z"
   },
   {
    "duration": 15,
    "start_time": "2022-06-06T18:48:01.858Z"
   },
   {
    "duration": 13,
    "start_time": "2022-06-06T18:48:07.086Z"
   },
   {
    "duration": 12,
    "start_time": "2022-06-06T18:48:33.513Z"
   },
   {
    "duration": 12,
    "start_time": "2022-06-06T18:49:45.658Z"
   },
   {
    "duration": 16,
    "start_time": "2022-06-06T18:49:53.304Z"
   },
   {
    "duration": 124,
    "start_time": "2022-06-06T18:51:35.493Z"
   },
   {
    "duration": 12,
    "start_time": "2022-06-06T18:51:41.987Z"
   },
   {
    "duration": 22,
    "start_time": "2022-06-06T18:51:47.921Z"
   },
   {
    "duration": 25,
    "start_time": "2022-06-06T18:56:29.627Z"
   },
   {
    "duration": 16,
    "start_time": "2022-06-06T18:56:44.502Z"
   },
   {
    "duration": 16,
    "start_time": "2022-06-06T18:57:06.855Z"
   },
   {
    "duration": 10,
    "start_time": "2022-06-06T18:57:43.788Z"
   },
   {
    "duration": 24,
    "start_time": "2022-06-06T18:57:48.982Z"
   },
   {
    "duration": 31,
    "start_time": "2022-06-06T18:57:59.909Z"
   },
   {
    "duration": 14,
    "start_time": "2022-06-06T19:17:00.268Z"
   },
   {
    "duration": 42,
    "start_time": "2022-06-06T19:17:56.392Z"
   },
   {
    "duration": 10,
    "start_time": "2022-06-06T19:18:14.052Z"
   },
   {
    "duration": 10,
    "start_time": "2022-06-06T19:18:21.983Z"
   },
   {
    "duration": 55,
    "start_time": "2022-06-06T19:18:57.315Z"
   },
   {
    "duration": 49,
    "start_time": "2022-06-06T19:20:23.701Z"
   },
   {
    "duration": 1343,
    "start_time": "2022-06-06T19:20:45.215Z"
   },
   {
    "duration": 287,
    "start_time": "2022-06-06T19:20:46.560Z"
   },
   {
    "duration": 199,
    "start_time": "2022-06-06T19:20:46.849Z"
   },
   {
    "duration": 39,
    "start_time": "2022-06-06T19:20:47.050Z"
   },
   {
    "duration": 156,
    "start_time": "2022-06-06T19:20:47.091Z"
   },
   {
    "duration": 134,
    "start_time": "2022-06-06T19:20:47.249Z"
   },
   {
    "duration": 12,
    "start_time": "2022-06-06T19:20:47.384Z"
   },
   {
    "duration": 44,
    "start_time": "2022-06-06T19:20:47.398Z"
   },
   {
    "duration": 23,
    "start_time": "2022-06-06T19:20:47.444Z"
   },
   {
    "duration": 10,
    "start_time": "2022-06-06T19:20:47.469Z"
   },
   {
    "duration": 63,
    "start_time": "2022-06-06T19:20:47.480Z"
   },
   {
    "duration": 28,
    "start_time": "2022-06-06T19:20:47.545Z"
   },
   {
    "duration": 24,
    "start_time": "2022-06-06T19:20:47.575Z"
   },
   {
    "duration": 57,
    "start_time": "2022-06-06T19:20:47.601Z"
   },
   {
    "duration": 16,
    "start_time": "2022-06-06T19:20:47.660Z"
   },
   {
    "duration": 53,
    "start_time": "2022-06-06T19:21:29.661Z"
   },
   {
    "duration": 62,
    "start_time": "2022-06-06T19:21:41.776Z"
   },
   {
    "duration": 6,
    "start_time": "2022-06-06T19:26:48.905Z"
   },
   {
    "duration": 4,
    "start_time": "2022-06-06T19:27:06.751Z"
   },
   {
    "duration": 4,
    "start_time": "2022-06-06T19:27:08.155Z"
   },
   {
    "duration": 17,
    "start_time": "2022-06-06T19:44:20.581Z"
   },
   {
    "duration": 5,
    "start_time": "2022-06-06T19:45:07.554Z"
   },
   {
    "duration": 50,
    "start_time": "2022-06-06T19:47:07.777Z"
   },
   {
    "duration": 125,
    "start_time": "2022-06-06T19:48:35.630Z"
   },
   {
    "duration": 56,
    "start_time": "2022-06-06T19:48:43.578Z"
   },
   {
    "duration": 11,
    "start_time": "2022-06-06T19:55:14.148Z"
   },
   {
    "duration": 4,
    "start_time": "2022-06-06T19:56:58.081Z"
   },
   {
    "duration": 14,
    "start_time": "2022-06-06T19:57:24.463Z"
   },
   {
    "duration": 175,
    "start_time": "2022-06-06T19:59:32.708Z"
   },
   {
    "duration": 85,
    "start_time": "2022-06-06T20:05:55.647Z"
   },
   {
    "duration": 74,
    "start_time": "2022-06-06T20:06:38.231Z"
   },
   {
    "duration": 55,
    "start_time": "2022-06-06T20:10:34.080Z"
   },
   {
    "duration": 1297,
    "start_time": "2022-06-06T20:10:50.374Z"
   },
   {
    "duration": 271,
    "start_time": "2022-06-06T20:10:51.673Z"
   },
   {
    "duration": 191,
    "start_time": "2022-06-06T20:10:51.946Z"
   },
   {
    "duration": 40,
    "start_time": "2022-06-06T20:10:52.140Z"
   },
   {
    "duration": 153,
    "start_time": "2022-06-06T20:10:52.181Z"
   },
   {
    "duration": 129,
    "start_time": "2022-06-06T20:10:52.336Z"
   },
   {
    "duration": 11,
    "start_time": "2022-06-06T20:10:52.467Z"
   },
   {
    "duration": 17,
    "start_time": "2022-06-06T20:10:52.480Z"
   },
   {
    "duration": 47,
    "start_time": "2022-06-06T20:10:52.499Z"
   },
   {
    "duration": 10,
    "start_time": "2022-06-06T20:10:52.548Z"
   },
   {
    "duration": 75,
    "start_time": "2022-06-06T20:10:52.559Z"
   },
   {
    "duration": 27,
    "start_time": "2022-06-06T20:10:52.635Z"
   },
   {
    "duration": 4,
    "start_time": "2022-06-06T20:10:52.664Z"
   },
   {
    "duration": 7,
    "start_time": "2022-06-06T20:10:52.670Z"
   },
   {
    "duration": 15,
    "start_time": "2022-06-06T20:10:52.678Z"
   },
   {
    "duration": 80,
    "start_time": "2022-06-06T20:10:52.695Z"
   },
   {
    "duration": 55,
    "start_time": "2022-06-06T20:10:52.777Z"
   },
   {
    "duration": 127,
    "start_time": "2022-06-06T20:10:52.834Z"
   },
   {
    "duration": 93,
    "start_time": "2022-06-06T20:10:52.962Z"
   },
   {
    "duration": 22,
    "start_time": "2022-06-06T20:10:53.057Z"
   },
   {
    "duration": 33,
    "start_time": "2022-06-06T20:10:53.081Z"
   },
   {
    "duration": 16,
    "start_time": "2022-06-06T20:10:53.129Z"
   },
   {
    "duration": 22,
    "start_time": "2022-06-06T20:13:19.348Z"
   },
   {
    "duration": 14,
    "start_time": "2022-06-06T20:14:16.858Z"
   },
   {
    "duration": 19,
    "start_time": "2022-06-06T20:14:30.510Z"
   },
   {
    "duration": 50,
    "start_time": "2022-06-06T20:15:53.543Z"
   },
   {
    "duration": 133,
    "start_time": "2022-06-06T20:21:21.393Z"
   },
   {
    "duration": 21,
    "start_time": "2022-06-06T20:21:53.427Z"
   },
   {
    "duration": 25,
    "start_time": "2022-06-06T20:22:04.517Z"
   },
   {
    "duration": 32,
    "start_time": "2022-06-06T20:22:17.259Z"
   },
   {
    "duration": 114,
    "start_time": "2022-06-06T20:22:43.252Z"
   },
   {
    "duration": 12,
    "start_time": "2022-06-06T20:23:05.465Z"
   },
   {
    "duration": 32,
    "start_time": "2022-06-06T20:23:53.712Z"
   },
   {
    "duration": 13,
    "start_time": "2022-06-06T20:25:10.702Z"
   },
   {
    "duration": 12,
    "start_time": "2022-06-06T20:25:25.857Z"
   },
   {
    "duration": 36,
    "start_time": "2022-06-06T20:25:42.380Z"
   },
   {
    "duration": 27,
    "start_time": "2022-06-06T20:27:25.164Z"
   },
   {
    "duration": 84,
    "start_time": "2022-06-06T20:27:35.891Z"
   },
   {
    "duration": 193,
    "start_time": "2022-06-06T20:29:21.258Z"
   },
   {
    "duration": 19,
    "start_time": "2022-06-06T20:31:15.646Z"
   },
   {
    "duration": 115,
    "start_time": "2022-06-06T20:31:28.182Z"
   },
   {
    "duration": 130,
    "start_time": "2022-06-06T20:41:56.372Z"
   },
   {
    "duration": 15,
    "start_time": "2022-06-06T20:44:02.808Z"
   },
   {
    "duration": 24,
    "start_time": "2022-06-06T20:44:27.782Z"
   },
   {
    "duration": 154,
    "start_time": "2022-06-06T20:48:25.816Z"
   },
   {
    "duration": 49,
    "start_time": "2022-06-06T20:49:41.286Z"
   },
   {
    "duration": 183,
    "start_time": "2022-06-06T20:49:50.507Z"
   },
   {
    "duration": 204,
    "start_time": "2022-06-06T20:50:11.550Z"
   },
   {
    "duration": 219,
    "start_time": "2022-06-06T20:51:17.140Z"
   },
   {
    "duration": 53,
    "start_time": "2022-06-07T04:11:46.472Z"
   },
   {
    "duration": 1366,
    "start_time": "2022-06-07T04:11:55.309Z"
   },
   {
    "duration": 647,
    "start_time": "2022-06-07T04:11:56.678Z"
   },
   {
    "duration": 168,
    "start_time": "2022-06-07T04:11:57.326Z"
   },
   {
    "duration": 36,
    "start_time": "2022-06-07T04:11:57.496Z"
   },
   {
    "duration": 137,
    "start_time": "2022-06-07T04:11:57.533Z"
   },
   {
    "duration": 127,
    "start_time": "2022-06-07T04:11:57.671Z"
   },
   {
    "duration": 11,
    "start_time": "2022-06-07T04:11:57.800Z"
   },
   {
    "duration": 17,
    "start_time": "2022-06-07T04:11:57.813Z"
   },
   {
    "duration": 20,
    "start_time": "2022-06-07T04:11:57.832Z"
   },
   {
    "duration": 8,
    "start_time": "2022-06-07T04:11:57.855Z"
   },
   {
    "duration": 36,
    "start_time": "2022-06-07T04:11:57.895Z"
   },
   {
    "duration": 26,
    "start_time": "2022-06-07T04:11:57.932Z"
   },
   {
    "duration": 5,
    "start_time": "2022-06-07T04:11:57.959Z"
   },
   {
    "duration": 5,
    "start_time": "2022-06-07T04:11:57.995Z"
   },
   {
    "duration": 19,
    "start_time": "2022-06-07T04:11:58.002Z"
   },
   {
    "duration": 138,
    "start_time": "2022-06-07T04:11:58.022Z"
   },
   {
    "duration": 224,
    "start_time": "2022-06-07T04:11:58.161Z"
   },
   {
    "duration": 52,
    "start_time": "2022-06-07T04:11:58.387Z"
   },
   {
    "duration": 35,
    "start_time": "2022-06-07T04:11:58.440Z"
   },
   {
    "duration": 32,
    "start_time": "2022-06-07T04:11:58.476Z"
   },
   {
    "duration": 18,
    "start_time": "2022-06-07T04:11:58.510Z"
   },
   {
    "duration": 15,
    "start_time": "2022-06-07T04:11:58.529Z"
   },
   {
    "duration": 102,
    "start_time": "2022-06-07T04:12:19.226Z"
   },
   {
    "duration": 119,
    "start_time": "2022-06-07T04:12:26.177Z"
   },
   {
    "duration": 99,
    "start_time": "2022-06-07T04:15:41.162Z"
   },
   {
    "duration": 117,
    "start_time": "2022-06-07T04:15:47.955Z"
   },
   {
    "duration": 121,
    "start_time": "2022-06-07T04:16:16.810Z"
   },
   {
    "duration": 119,
    "start_time": "2022-06-07T04:16:31.254Z"
   },
   {
    "duration": 121,
    "start_time": "2022-06-07T04:16:48.660Z"
   },
   {
    "duration": 109,
    "start_time": "2022-06-07T04:17:09.811Z"
   },
   {
    "duration": 125,
    "start_time": "2022-06-07T04:18:13.642Z"
   },
   {
    "duration": 123,
    "start_time": "2022-06-07T04:18:50.476Z"
   },
   {
    "duration": 113,
    "start_time": "2022-06-07T04:19:09.876Z"
   },
   {
    "duration": 124,
    "start_time": "2022-06-07T04:19:58.482Z"
   },
   {
    "duration": 122,
    "start_time": "2022-06-07T04:20:25.046Z"
   },
   {
    "duration": 50,
    "start_time": "2022-06-07T04:36:13.154Z"
   },
   {
    "duration": 55,
    "start_time": "2022-06-07T04:36:34.809Z"
   },
   {
    "duration": 55,
    "start_time": "2022-06-07T04:37:36.509Z"
   },
   {
    "duration": 54,
    "start_time": "2022-06-07T04:37:45.848Z"
   },
   {
    "duration": 52,
    "start_time": "2022-06-07T04:41:51.075Z"
   },
   {
    "duration": 32,
    "start_time": "2022-06-07T04:46:06.830Z"
   },
   {
    "duration": 14,
    "start_time": "2022-06-07T04:46:13.644Z"
   },
   {
    "duration": 13,
    "start_time": "2022-06-07T04:46:56.267Z"
   },
   {
    "duration": 1229,
    "start_time": "2022-06-07T04:47:04.562Z"
   },
   {
    "duration": 266,
    "start_time": "2022-06-07T04:47:05.793Z"
   },
   {
    "duration": 173,
    "start_time": "2022-06-07T04:47:06.062Z"
   },
   {
    "duration": 59,
    "start_time": "2022-06-07T04:47:06.236Z"
   },
   {
    "duration": 128,
    "start_time": "2022-06-07T04:47:06.297Z"
   },
   {
    "duration": 119,
    "start_time": "2022-06-07T04:47:06.427Z"
   },
   {
    "duration": 11,
    "start_time": "2022-06-07T04:47:06.548Z"
   },
   {
    "duration": 36,
    "start_time": "2022-06-07T04:47:06.561Z"
   },
   {
    "duration": 20,
    "start_time": "2022-06-07T04:47:06.598Z"
   },
   {
    "duration": 8,
    "start_time": "2022-06-07T04:47:06.620Z"
   },
   {
    "duration": 66,
    "start_time": "2022-06-07T04:47:06.629Z"
   },
   {
    "duration": 26,
    "start_time": "2022-06-07T04:47:06.697Z"
   },
   {
    "duration": 4,
    "start_time": "2022-06-07T04:47:06.725Z"
   },
   {
    "duration": 5,
    "start_time": "2022-06-07T04:47:06.731Z"
   },
   {
    "duration": 148,
    "start_time": "2022-06-07T04:47:06.738Z"
   },
   {
    "duration": 60,
    "start_time": "2022-06-07T04:47:06.887Z"
   },
   {
    "duration": 11,
    "start_time": "2022-06-07T04:47:06.949Z"
   },
   {
    "duration": 58,
    "start_time": "2022-06-07T04:47:06.962Z"
   },
   {
    "duration": 13,
    "start_time": "2022-06-07T04:47:07.021Z"
   },
   {
    "duration": 17,
    "start_time": "2022-06-07T04:47:07.035Z"
   },
   {
    "duration": 242,
    "start_time": "2022-06-07T04:47:07.053Z"
   },
   {
    "duration": 49,
    "start_time": "2022-06-07T04:47:07.296Z"
   },
   {
    "duration": 49,
    "start_time": "2022-06-07T04:47:07.347Z"
   },
   {
    "duration": 15,
    "start_time": "2022-06-07T04:47:07.398Z"
   },
   {
    "duration": 16,
    "start_time": "2022-06-07T04:47:07.415Z"
   },
   {
    "duration": 16,
    "start_time": "2022-06-07T04:47:07.432Z"
   },
   {
    "duration": 4,
    "start_time": "2022-06-07T04:47:26.755Z"
   },
   {
    "duration": 4,
    "start_time": "2022-06-07T04:47:39.623Z"
   },
   {
    "duration": 1153,
    "start_time": "2022-06-07T04:48:20.937Z"
   },
   {
    "duration": 258,
    "start_time": "2022-06-07T04:48:22.092Z"
   },
   {
    "duration": 173,
    "start_time": "2022-06-07T04:48:22.352Z"
   },
   {
    "duration": 35,
    "start_time": "2022-06-07T04:48:22.526Z"
   },
   {
    "duration": 160,
    "start_time": "2022-06-07T04:48:22.562Z"
   },
   {
    "duration": 121,
    "start_time": "2022-06-07T04:48:22.725Z"
   },
   {
    "duration": 12,
    "start_time": "2022-06-07T04:48:22.847Z"
   },
   {
    "duration": 36,
    "start_time": "2022-06-07T04:48:22.860Z"
   },
   {
    "duration": 19,
    "start_time": "2022-06-07T04:48:22.897Z"
   },
   {
    "duration": 9,
    "start_time": "2022-06-07T04:48:22.919Z"
   },
   {
    "duration": 35,
    "start_time": "2022-06-07T04:48:22.930Z"
   },
   {
    "duration": 25,
    "start_time": "2022-06-07T04:48:22.994Z"
   },
   {
    "duration": 5,
    "start_time": "2022-06-07T04:48:23.021Z"
   },
   {
    "duration": 7,
    "start_time": "2022-06-07T04:48:23.027Z"
   },
   {
    "duration": 151,
    "start_time": "2022-06-07T04:48:23.036Z"
   },
   {
    "duration": 62,
    "start_time": "2022-06-07T04:48:23.188Z"
   },
   {
    "duration": 4,
    "start_time": "2022-06-07T04:48:23.252Z"
   },
   {
    "duration": 58,
    "start_time": "2022-06-07T04:48:23.257Z"
   },
   {
    "duration": 4,
    "start_time": "2022-06-07T04:48:23.316Z"
   },
   {
    "duration": 13,
    "start_time": "2022-06-07T04:48:23.322Z"
   },
   {
    "duration": 240,
    "start_time": "2022-06-07T04:48:23.336Z"
   },
   {
    "duration": 57,
    "start_time": "2022-06-07T04:48:23.578Z"
   },
   {
    "duration": 36,
    "start_time": "2022-06-07T04:48:23.636Z"
   },
   {
    "duration": 34,
    "start_time": "2022-06-07T04:48:23.674Z"
   },
   {
    "duration": 17,
    "start_time": "2022-06-07T04:48:23.709Z"
   },
   {
    "duration": 19,
    "start_time": "2022-06-07T04:48:23.727Z"
   },
   {
    "duration": 13,
    "start_time": "2022-06-07T04:48:39.202Z"
   },
   {
    "duration": 14,
    "start_time": "2022-06-07T04:50:31.483Z"
   },
   {
    "duration": 17,
    "start_time": "2022-06-07T04:50:38.735Z"
   },
   {
    "duration": 117,
    "start_time": "2022-06-07T04:52:06.989Z"
   },
   {
    "duration": 24,
    "start_time": "2022-06-07T04:52:13.621Z"
   },
   {
    "duration": 22,
    "start_time": "2022-06-07T04:52:48.495Z"
   },
   {
    "duration": 15,
    "start_time": "2022-06-07T04:53:21.717Z"
   },
   {
    "duration": 37,
    "start_time": "2022-06-07T04:59:08.708Z"
   },
   {
    "duration": 23,
    "start_time": "2022-06-07T04:59:55.130Z"
   },
   {
    "duration": 44,
    "start_time": "2022-06-07T05:00:16.932Z"
   },
   {
    "duration": 25,
    "start_time": "2022-06-07T05:02:40.162Z"
   },
   {
    "duration": 1209,
    "start_time": "2022-06-07T05:03:05.292Z"
   },
   {
    "duration": 261,
    "start_time": "2022-06-07T05:03:06.503Z"
   },
   {
    "duration": 168,
    "start_time": "2022-06-07T05:03:06.766Z"
   },
   {
    "duration": 58,
    "start_time": "2022-06-07T05:03:06.937Z"
   },
   {
    "duration": 126,
    "start_time": "2022-06-07T05:03:06.996Z"
   },
   {
    "duration": 127,
    "start_time": "2022-06-07T05:03:07.124Z"
   },
   {
    "duration": 13,
    "start_time": "2022-06-07T05:03:07.253Z"
   },
   {
    "duration": 38,
    "start_time": "2022-06-07T05:03:07.267Z"
   },
   {
    "duration": 20,
    "start_time": "2022-06-07T05:03:07.307Z"
   },
   {
    "duration": 9,
    "start_time": "2022-06-07T05:03:07.330Z"
   },
   {
    "duration": 66,
    "start_time": "2022-06-07T05:03:07.340Z"
   },
   {
    "duration": 25,
    "start_time": "2022-06-07T05:03:07.408Z"
   },
   {
    "duration": 4,
    "start_time": "2022-06-07T05:03:07.435Z"
   },
   {
    "duration": 5,
    "start_time": "2022-06-07T05:03:07.441Z"
   },
   {
    "duration": 152,
    "start_time": "2022-06-07T05:03:07.448Z"
   },
   {
    "duration": 58,
    "start_time": "2022-06-07T05:03:07.602Z"
   },
   {
    "duration": 54,
    "start_time": "2022-06-07T05:03:07.662Z"
   },
   {
    "duration": 40,
    "start_time": "2022-06-07T05:03:07.717Z"
   },
   {
    "duration": 38,
    "start_time": "2022-06-07T05:03:07.759Z"
   },
   {
    "duration": 21,
    "start_time": "2022-06-07T05:03:07.798Z"
   },
   {
    "duration": 14,
    "start_time": "2022-06-07T05:03:07.821Z"
   },
   {
    "duration": 15,
    "start_time": "2022-06-07T05:03:07.836Z"
   },
   {
    "duration": 46,
    "start_time": "2022-06-07T05:03:07.853Z"
   },
   {
    "duration": 12,
    "start_time": "2022-06-07T05:03:07.901Z"
   },
   {
    "duration": 230,
    "start_time": "2022-06-07T05:03:07.914Z"
   },
   {
    "duration": 54,
    "start_time": "2022-06-07T05:03:08.146Z"
   },
   {
    "duration": 35,
    "start_time": "2022-06-07T05:03:08.201Z"
   },
   {
    "duration": 14,
    "start_time": "2022-06-07T05:03:08.239Z"
   },
   {
    "duration": 40,
    "start_time": "2022-06-07T05:03:08.255Z"
   },
   {
    "duration": 17,
    "start_time": "2022-06-07T05:03:08.297Z"
   },
   {
    "duration": 30,
    "start_time": "2022-06-07T05:04:07.306Z"
   },
   {
    "duration": 20,
    "start_time": "2022-06-07T05:04:08.723Z"
   },
   {
    "duration": 30,
    "start_time": "2022-06-07T05:04:35.699Z"
   },
   {
    "duration": 18,
    "start_time": "2022-06-07T05:04:37.838Z"
   },
   {
    "duration": 38,
    "start_time": "2022-06-07T05:05:21.025Z"
   },
   {
    "duration": 21,
    "start_time": "2022-06-07T05:05:22.020Z"
   },
   {
    "duration": 49,
    "start_time": "2022-06-07T05:06:14.221Z"
   },
   {
    "duration": 24,
    "start_time": "2022-06-07T05:06:15.053Z"
   },
   {
    "duration": 55,
    "start_time": "2022-06-07T05:06:51.660Z"
   },
   {
    "duration": 21,
    "start_time": "2022-06-07T05:06:53.753Z"
   },
   {
    "duration": 18,
    "start_time": "2022-06-07T05:09:37.402Z"
   },
   {
    "duration": 19,
    "start_time": "2022-06-07T05:10:41.099Z"
   },
   {
    "duration": 30,
    "start_time": "2022-06-07T05:12:05.429Z"
   },
   {
    "duration": 28,
    "start_time": "2022-06-07T05:12:41.803Z"
   },
   {
    "duration": 15,
    "start_time": "2022-06-07T05:13:41.447Z"
   },
   {
    "duration": 1216,
    "start_time": "2022-06-07T05:14:46.202Z"
   },
   {
    "duration": 264,
    "start_time": "2022-06-07T05:14:47.420Z"
   },
   {
    "duration": 176,
    "start_time": "2022-06-07T05:14:47.686Z"
   },
   {
    "duration": 52,
    "start_time": "2022-06-07T05:14:47.864Z"
   },
   {
    "duration": 149,
    "start_time": "2022-06-07T05:14:47.918Z"
   },
   {
    "duration": 133,
    "start_time": "2022-06-07T05:14:48.069Z"
   },
   {
    "duration": 13,
    "start_time": "2022-06-07T05:14:48.203Z"
   },
   {
    "duration": 15,
    "start_time": "2022-06-07T05:14:48.218Z"
   },
   {
    "duration": 20,
    "start_time": "2022-06-07T05:14:48.235Z"
   },
   {
    "duration": 9,
    "start_time": "2022-06-07T05:14:48.296Z"
   },
   {
    "duration": 43,
    "start_time": "2022-06-07T05:14:48.307Z"
   },
   {
    "duration": 51,
    "start_time": "2022-06-07T05:14:48.352Z"
   },
   {
    "duration": 4,
    "start_time": "2022-06-07T05:14:48.405Z"
   },
   {
    "duration": 11,
    "start_time": "2022-06-07T05:14:48.410Z"
   },
   {
    "duration": 139,
    "start_time": "2022-06-07T05:14:48.423Z"
   },
   {
    "duration": 15,
    "start_time": "2022-06-07T05:14:48.564Z"
   },
   {
    "duration": 63,
    "start_time": "2022-06-07T05:14:48.580Z"
   },
   {
    "duration": 36,
    "start_time": "2022-06-07T05:14:48.644Z"
   },
   {
    "duration": 39,
    "start_time": "2022-06-07T05:14:48.694Z"
   },
   {
    "duration": 23,
    "start_time": "2022-06-07T05:14:48.735Z"
   },
   {
    "duration": 49,
    "start_time": "2022-06-07T05:14:48.759Z"
   },
   {
    "duration": 15,
    "start_time": "2022-06-07T05:14:48.809Z"
   },
   {
    "duration": 82,
    "start_time": "2022-06-07T05:14:48.825Z"
   },
   {
    "duration": 19,
    "start_time": "2022-06-07T05:14:48.909Z"
   },
   {
    "duration": 29,
    "start_time": "2022-06-07T05:14:48.931Z"
   },
   {
    "duration": 259,
    "start_time": "2022-06-07T05:14:48.962Z"
   },
   {
    "duration": 47,
    "start_time": "2022-06-07T05:14:49.223Z"
   },
   {
    "duration": 48,
    "start_time": "2022-06-07T05:14:49.273Z"
   },
   {
    "duration": 15,
    "start_time": "2022-06-07T05:14:49.323Z"
   },
   {
    "duration": 24,
    "start_time": "2022-06-07T05:14:49.339Z"
   },
   {
    "duration": 34,
    "start_time": "2022-06-07T05:14:49.365Z"
   },
   {
    "duration": 17,
    "start_time": "2022-06-07T05:15:47.359Z"
   },
   {
    "duration": 19,
    "start_time": "2022-06-07T05:20:04.881Z"
   },
   {
    "duration": 75,
    "start_time": "2022-06-07T05:29:12.481Z"
   },
   {
    "duration": 21,
    "start_time": "2022-06-07T05:29:14.999Z"
   },
   {
    "duration": 20,
    "start_time": "2022-06-07T05:29:31.251Z"
   },
   {
    "duration": 24,
    "start_time": "2022-06-07T05:29:37.730Z"
   },
   {
    "duration": 78,
    "start_time": "2022-06-07T05:31:13.374Z"
   },
   {
    "duration": 18,
    "start_time": "2022-06-07T05:31:14.357Z"
   },
   {
    "duration": 4,
    "start_time": "2022-06-07T05:41:02.915Z"
   },
   {
    "duration": 15,
    "start_time": "2022-06-07T05:41:12.200Z"
   },
   {
    "duration": 1182,
    "start_time": "2022-06-07T05:41:50.809Z"
   },
   {
    "duration": 276,
    "start_time": "2022-06-07T05:41:51.993Z"
   },
   {
    "duration": 162,
    "start_time": "2022-06-07T05:41:52.271Z"
   },
   {
    "duration": 62,
    "start_time": "2022-06-07T05:41:52.436Z"
   },
   {
    "duration": 139,
    "start_time": "2022-06-07T05:41:52.500Z"
   },
   {
    "duration": 117,
    "start_time": "2022-06-07T05:41:52.641Z"
   },
   {
    "duration": 11,
    "start_time": "2022-06-07T05:41:52.760Z"
   },
   {
    "duration": 14,
    "start_time": "2022-06-07T05:41:52.795Z"
   },
   {
    "duration": 19,
    "start_time": "2022-06-07T05:41:52.811Z"
   },
   {
    "duration": 16,
    "start_time": "2022-06-07T05:41:52.833Z"
   },
   {
    "duration": 62,
    "start_time": "2022-06-07T05:41:52.851Z"
   },
   {
    "duration": 31,
    "start_time": "2022-06-07T05:41:52.915Z"
   },
   {
    "duration": 4,
    "start_time": "2022-06-07T05:41:52.948Z"
   },
   {
    "duration": 9,
    "start_time": "2022-06-07T05:41:52.954Z"
   },
   {
    "duration": 161,
    "start_time": "2022-06-07T05:41:52.964Z"
   },
   {
    "duration": 20,
    "start_time": "2022-06-07T05:41:53.127Z"
   },
   {
    "duration": 20,
    "start_time": "2022-06-07T05:41:53.149Z"
   },
   {
    "duration": 101,
    "start_time": "2022-06-07T05:41:53.171Z"
   },
   {
    "duration": 48,
    "start_time": "2022-06-07T05:41:53.274Z"
   },
   {
    "duration": 42,
    "start_time": "2022-06-07T05:41:53.323Z"
   },
   {
    "duration": 38,
    "start_time": "2022-06-07T05:41:53.366Z"
   },
   {
    "duration": 19,
    "start_time": "2022-06-07T05:41:53.406Z"
   },
   {
    "duration": 15,
    "start_time": "2022-06-07T05:41:53.427Z"
   },
   {
    "duration": 206,
    "start_time": "2022-06-07T05:41:53.444Z"
   },
   {
    "duration": 0,
    "start_time": "2022-06-07T05:41:53.652Z"
   },
   {
    "duration": 0,
    "start_time": "2022-06-07T05:41:53.654Z"
   },
   {
    "duration": 0,
    "start_time": "2022-06-07T05:41:53.656Z"
   },
   {
    "duration": 0,
    "start_time": "2022-06-07T05:41:53.657Z"
   },
   {
    "duration": 0,
    "start_time": "2022-06-07T05:41:53.658Z"
   },
   {
    "duration": 0,
    "start_time": "2022-06-07T05:41:53.659Z"
   },
   {
    "duration": 0,
    "start_time": "2022-06-07T05:41:53.661Z"
   },
   {
    "duration": 0,
    "start_time": "2022-06-07T05:41:53.662Z"
   },
   {
    "duration": 0,
    "start_time": "2022-06-07T05:41:53.663Z"
   },
   {
    "duration": 68,
    "start_time": "2022-06-07T05:42:33.014Z"
   },
   {
    "duration": 23,
    "start_time": "2022-06-07T05:42:34.697Z"
   },
   {
    "duration": 82,
    "start_time": "2022-06-07T05:44:24.039Z"
   },
   {
    "duration": 80,
    "start_time": "2022-06-07T05:48:05.969Z"
   },
   {
    "duration": 22,
    "start_time": "2022-06-07T05:48:07.273Z"
   },
   {
    "duration": 19,
    "start_time": "2022-06-07T05:48:21.123Z"
   },
   {
    "duration": 25,
    "start_time": "2022-06-07T05:48:39.905Z"
   },
   {
    "duration": 80,
    "start_time": "2022-06-07T05:54:28.331Z"
   },
   {
    "duration": 1298,
    "start_time": "2022-06-07T05:56:20.000Z"
   },
   {
    "duration": 288,
    "start_time": "2022-06-07T05:56:21.301Z"
   },
   {
    "duration": 190,
    "start_time": "2022-06-07T05:56:21.591Z"
   },
   {
    "duration": 56,
    "start_time": "2022-06-07T05:56:21.793Z"
   },
   {
    "duration": 157,
    "start_time": "2022-06-07T05:56:21.851Z"
   },
   {
    "duration": 152,
    "start_time": "2022-06-07T05:56:22.010Z"
   },
   {
    "duration": 32,
    "start_time": "2022-06-07T05:56:22.164Z"
   },
   {
    "duration": 16,
    "start_time": "2022-06-07T05:56:22.198Z"
   },
   {
    "duration": 31,
    "start_time": "2022-06-07T05:56:22.216Z"
   },
   {
    "duration": 12,
    "start_time": "2022-06-07T05:56:22.250Z"
   },
   {
    "duration": 43,
    "start_time": "2022-06-07T05:56:22.295Z"
   },
   {
    "duration": 28,
    "start_time": "2022-06-07T05:56:22.340Z"
   },
   {
    "duration": 28,
    "start_time": "2022-06-07T05:56:22.370Z"
   },
   {
    "duration": 8,
    "start_time": "2022-06-07T05:56:22.400Z"
   },
   {
    "duration": 174,
    "start_time": "2022-06-07T05:56:22.410Z"
   },
   {
    "duration": 20,
    "start_time": "2022-06-07T05:56:22.586Z"
   },
   {
    "duration": 22,
    "start_time": "2022-06-07T05:56:22.608Z"
   },
   {
    "duration": 103,
    "start_time": "2022-06-07T05:56:22.631Z"
   },
   {
    "duration": 42,
    "start_time": "2022-06-07T05:56:22.736Z"
   },
   {
    "duration": 54,
    "start_time": "2022-06-07T05:56:22.779Z"
   },
   {
    "duration": 34,
    "start_time": "2022-06-07T05:56:22.835Z"
   },
   {
    "duration": 49,
    "start_time": "2022-06-07T05:56:22.871Z"
   },
   {
    "duration": 14,
    "start_time": "2022-06-07T05:56:22.922Z"
   },
   {
    "duration": 85,
    "start_time": "2022-06-07T05:56:22.938Z"
   },
   {
    "duration": 21,
    "start_time": "2022-06-07T05:56:23.025Z"
   },
   {
    "duration": 26,
    "start_time": "2022-06-07T05:56:23.048Z"
   },
   {
    "duration": 29,
    "start_time": "2022-06-07T05:56:23.076Z"
   },
   {
    "duration": 244,
    "start_time": "2022-06-07T05:56:23.108Z"
   },
   {
    "duration": 82,
    "start_time": "2022-06-07T05:56:23.354Z"
   },
   {
    "duration": 64,
    "start_time": "2022-06-07T05:56:23.439Z"
   },
   {
    "duration": 17,
    "start_time": "2022-06-07T05:56:23.506Z"
   },
   {
    "duration": 18,
    "start_time": "2022-06-07T05:56:23.525Z"
   },
   {
    "duration": 48,
    "start_time": "2022-06-07T05:56:23.546Z"
   },
   {
    "duration": 22,
    "start_time": "2022-06-07T05:56:23.596Z"
   },
   {
    "duration": 1342,
    "start_time": "2022-06-09T19:49:25.902Z"
   },
   {
    "duration": 1054,
    "start_time": "2022-06-09T19:49:27.246Z"
   },
   {
    "duration": 219,
    "start_time": "2022-06-09T19:49:28.302Z"
   },
   {
    "duration": 53,
    "start_time": "2022-06-09T19:49:28.530Z"
   },
   {
    "duration": 177,
    "start_time": "2022-06-09T19:49:28.585Z"
   },
   {
    "duration": 19,
    "start_time": "2022-06-09T19:49:28.763Z"
   },
   {
    "duration": 222,
    "start_time": "2022-06-09T19:49:28.784Z"
   },
   {
    "duration": 21,
    "start_time": "2022-06-09T19:49:29.013Z"
   },
   {
    "duration": 24,
    "start_time": "2022-06-09T19:49:29.036Z"
   },
   {
    "duration": 424,
    "start_time": "2022-06-09T19:49:29.063Z"
   },
   {
    "duration": 20,
    "start_time": "2022-06-09T19:49:29.495Z"
   },
   {
    "duration": 225,
    "start_time": "2022-06-09T19:49:29.516Z"
   },
   {
    "duration": 39,
    "start_time": "2022-06-09T19:49:29.743Z"
   },
   {
    "duration": 296,
    "start_time": "2022-06-09T19:49:29.786Z"
   },
   {
    "duration": 93,
    "start_time": "2022-06-09T19:49:30.084Z"
   },
   {
    "duration": 75,
    "start_time": "2022-06-09T19:49:30.179Z"
   },
   {
    "duration": 203,
    "start_time": "2022-06-09T19:49:30.256Z"
   },
   {
    "duration": 12,
    "start_time": "2022-06-09T19:49:30.461Z"
   },
   {
    "duration": 62,
    "start_time": "2022-06-09T19:49:30.479Z"
   },
   {
    "duration": 198,
    "start_time": "2022-06-09T19:49:30.544Z"
   },
   {
    "duration": 22,
    "start_time": "2022-06-09T19:49:30.743Z"
   },
   {
    "duration": 64,
    "start_time": "2022-06-09T19:49:30.767Z"
   },
   {
    "duration": 111,
    "start_time": "2022-06-09T19:49:30.833Z"
   },
   {
    "duration": 51,
    "start_time": "2022-06-09T19:49:30.946Z"
   },
   {
    "duration": 68,
    "start_time": "2022-06-09T19:49:30.999Z"
   },
   {
    "duration": 52,
    "start_time": "2022-06-09T19:49:31.075Z"
   },
   {
    "duration": 20,
    "start_time": "2022-06-09T19:49:31.130Z"
   },
   {
    "duration": 20,
    "start_time": "2022-06-09T19:49:31.154Z"
   },
   {
    "duration": 118,
    "start_time": "2022-06-09T19:49:31.175Z"
   },
   {
    "duration": 26,
    "start_time": "2022-06-09T19:49:31.294Z"
   },
   {
    "duration": 25,
    "start_time": "2022-06-09T19:49:31.322Z"
   },
   {
    "duration": 38,
    "start_time": "2022-06-09T19:49:31.349Z"
   },
   {
    "duration": 316,
    "start_time": "2022-06-09T19:49:31.389Z"
   },
   {
    "duration": 38,
    "start_time": "2022-06-09T19:49:31.706Z"
   },
   {
    "duration": 10,
    "start_time": "2022-06-09T19:49:31.746Z"
   },
   {
    "duration": 41,
    "start_time": "2022-06-09T19:49:31.758Z"
   },
   {
    "duration": 56,
    "start_time": "2022-06-09T19:49:31.801Z"
   },
   {
    "duration": 4,
    "start_time": "2022-06-09T19:49:31.858Z"
   },
   {
    "duration": 69,
    "start_time": "2022-06-09T19:49:31.864Z"
   },
   {
    "duration": 15,
    "start_time": "2022-06-09T19:49:31.935Z"
   },
   {
    "duration": 18,
    "start_time": "2022-06-09T19:49:31.952Z"
   },
   {
    "duration": 80,
    "start_time": "2022-06-09T19:49:31.981Z"
   },
   {
    "duration": 78,
    "start_time": "2022-06-09T19:49:32.064Z"
   },
   {
    "duration": 38,
    "start_time": "2022-06-09T19:49:32.144Z"
   },
   {
    "duration": 505,
    "start_time": "2022-06-09T19:49:32.190Z"
   },
   {
    "duration": 15,
    "start_time": "2022-06-09T19:49:32.701Z"
   },
   {
    "duration": 336,
    "start_time": "2022-06-09T19:49:32.718Z"
   },
   {
    "duration": 135,
    "start_time": "2022-06-09T19:49:33.056Z"
   },
   {
    "duration": 15,
    "start_time": "2022-06-09T19:49:33.198Z"
   },
   {
    "duration": 523,
    "start_time": "2022-06-09T19:49:33.221Z"
   },
   {
    "duration": 453,
    "start_time": "2022-06-09T19:49:33.746Z"
   },
   {
    "duration": 371,
    "start_time": "2022-06-09T19:49:34.207Z"
   },
   {
    "duration": 150,
    "start_time": "2022-06-09T19:49:34.582Z"
   },
   {
    "duration": 9,
    "start_time": "2022-06-09T19:49:34.739Z"
   },
   {
    "duration": 260,
    "start_time": "2022-06-09T19:49:34.750Z"
   },
   {
    "duration": 20,
    "start_time": "2022-06-09T19:49:35.012Z"
   },
   {
    "duration": 32,
    "start_time": "2022-06-09T19:49:35.039Z"
   },
   {
    "duration": 52,
    "start_time": "2022-06-09T19:49:35.082Z"
   },
   {
    "duration": 33,
    "start_time": "2022-06-09T19:49:35.135Z"
   },
   {
    "duration": 91,
    "start_time": "2022-06-09T19:49:35.169Z"
   },
   {
    "duration": 30,
    "start_time": "2022-06-09T19:49:35.264Z"
   },
   {
    "duration": 433,
    "start_time": "2022-06-09T19:49:35.296Z"
   },
   {
    "duration": 164,
    "start_time": "2022-06-09T19:49:35.734Z"
   },
   {
    "duration": 0,
    "start_time": "2022-06-09T19:49:35.902Z"
   },
   {
    "duration": 0,
    "start_time": "2022-06-09T19:49:35.903Z"
   },
   {
    "duration": 0,
    "start_time": "2022-06-09T19:49:35.904Z"
   },
   {
    "duration": 0,
    "start_time": "2022-06-09T19:49:35.905Z"
   },
   {
    "duration": 0,
    "start_time": "2022-06-09T19:49:35.908Z"
   },
   {
    "duration": 0,
    "start_time": "2022-06-09T19:49:35.909Z"
   },
   {
    "duration": 0,
    "start_time": "2022-06-09T19:49:35.910Z"
   },
   {
    "duration": 0,
    "start_time": "2022-06-09T19:49:35.911Z"
   },
   {
    "duration": 0,
    "start_time": "2022-06-09T19:49:35.912Z"
   },
   {
    "duration": 0,
    "start_time": "2022-06-09T19:49:35.913Z"
   },
   {
    "duration": 0,
    "start_time": "2022-06-09T19:49:35.914Z"
   },
   {
    "duration": 0,
    "start_time": "2022-06-09T19:49:35.915Z"
   },
   {
    "duration": 0,
    "start_time": "2022-06-09T19:49:35.917Z"
   },
   {
    "duration": 0,
    "start_time": "2022-06-09T19:49:35.918Z"
   },
   {
    "duration": 0,
    "start_time": "2022-06-09T19:49:35.919Z"
   },
   {
    "duration": 11,
    "start_time": "2022-06-09T20:06:29.250Z"
   },
   {
    "duration": 45,
    "start_time": "2022-06-11T11:42:02.310Z"
   },
   {
    "duration": 1293,
    "start_time": "2022-06-11T11:42:08.818Z"
   },
   {
    "duration": 668,
    "start_time": "2022-06-11T11:42:10.113Z"
   },
   {
    "duration": 145,
    "start_time": "2022-06-11T11:42:10.783Z"
   },
   {
    "duration": 59,
    "start_time": "2022-06-11T11:42:10.930Z"
   },
   {
    "duration": 115,
    "start_time": "2022-06-11T11:42:10.991Z"
   },
   {
    "duration": 7,
    "start_time": "2022-06-11T11:42:11.108Z"
   },
   {
    "duration": 122,
    "start_time": "2022-06-11T11:42:11.116Z"
   },
   {
    "duration": 22,
    "start_time": "2022-06-11T11:42:11.240Z"
   },
   {
    "duration": 17,
    "start_time": "2022-06-11T11:42:11.264Z"
   },
   {
    "duration": 375,
    "start_time": "2022-06-11T11:42:11.284Z"
   },
   {
    "duration": 13,
    "start_time": "2022-06-11T11:42:11.661Z"
   },
   {
    "duration": 168,
    "start_time": "2022-06-11T11:42:11.676Z"
   },
   {
    "duration": 27,
    "start_time": "2022-06-11T11:42:11.846Z"
   },
   {
    "duration": 216,
    "start_time": "2022-06-11T11:42:11.874Z"
   },
   {
    "duration": 35,
    "start_time": "2022-06-11T11:42:12.092Z"
   },
   {
    "duration": 51,
    "start_time": "2022-06-11T11:42:12.129Z"
   },
   {
    "duration": 121,
    "start_time": "2022-06-11T11:42:12.182Z"
   },
   {
    "duration": 3,
    "start_time": "2022-06-11T11:42:12.305Z"
   },
   {
    "duration": 8,
    "start_time": "2022-06-11T11:42:12.309Z"
   },
   {
    "duration": 139,
    "start_time": "2022-06-11T11:42:12.318Z"
   },
   {
    "duration": 21,
    "start_time": "2022-06-11T11:42:12.458Z"
   },
   {
    "duration": 21,
    "start_time": "2022-06-11T11:42:12.480Z"
   },
   {
    "duration": 60,
    "start_time": "2022-06-11T11:42:12.502Z"
   },
   {
    "duration": 35,
    "start_time": "2022-06-11T11:42:12.572Z"
   },
   {
    "duration": 34,
    "start_time": "2022-06-11T11:42:12.608Z"
   },
   {
    "duration": 43,
    "start_time": "2022-06-11T11:42:12.643Z"
   },
   {
    "duration": 20,
    "start_time": "2022-06-11T11:42:12.687Z"
   },
   {
    "duration": 15,
    "start_time": "2022-06-11T11:42:12.711Z"
   },
   {
    "duration": 71,
    "start_time": "2022-06-11T11:42:12.727Z"
   },
   {
    "duration": 14,
    "start_time": "2022-06-11T11:42:12.799Z"
   },
   {
    "duration": 8,
    "start_time": "2022-06-11T11:42:12.815Z"
   },
   {
    "duration": 48,
    "start_time": "2022-06-11T11:42:12.824Z"
   },
   {
    "duration": 269,
    "start_time": "2022-06-11T11:42:12.874Z"
   },
   {
    "duration": 31,
    "start_time": "2022-06-11T11:42:13.145Z"
   },
   {
    "duration": 8,
    "start_time": "2022-06-11T11:42:13.178Z"
   },
   {
    "duration": 19,
    "start_time": "2022-06-11T11:42:13.187Z"
   },
   {
    "duration": 20,
    "start_time": "2022-06-11T11:42:13.208Z"
   },
   {
    "duration": 3,
    "start_time": "2022-06-11T11:42:13.229Z"
   },
   {
    "duration": 42,
    "start_time": "2022-06-11T11:42:13.234Z"
   },
   {
    "duration": 13,
    "start_time": "2022-06-11T11:42:13.278Z"
   },
   {
    "duration": 13,
    "start_time": "2022-06-11T11:42:13.293Z"
   },
   {
    "duration": 22,
    "start_time": "2022-06-11T11:42:13.308Z"
   },
   {
    "duration": 37,
    "start_time": "2022-06-11T11:42:13.331Z"
   },
   {
    "duration": 15,
    "start_time": "2022-06-11T11:42:13.370Z"
   },
   {
    "duration": 334,
    "start_time": "2022-06-11T11:42:13.387Z"
   },
   {
    "duration": 10,
    "start_time": "2022-06-11T11:42:13.722Z"
   },
   {
    "duration": 264,
    "start_time": "2022-06-11T11:42:13.733Z"
   },
   {
    "duration": 101,
    "start_time": "2022-06-11T11:42:13.999Z"
   },
   {
    "duration": 6,
    "start_time": "2022-06-11T11:42:14.102Z"
   },
   {
    "duration": 426,
    "start_time": "2022-06-11T11:42:14.109Z"
   },
   {
    "duration": 347,
    "start_time": "2022-06-11T11:42:14.537Z"
   },
   {
    "duration": 314,
    "start_time": "2022-06-11T11:42:14.886Z"
   },
   {
    "duration": 103,
    "start_time": "2022-06-11T11:42:15.202Z"
   },
   {
    "duration": 6,
    "start_time": "2022-06-11T11:42:15.306Z"
   },
   {
    "duration": 182,
    "start_time": "2022-06-11T11:42:15.314Z"
   },
   {
    "duration": 12,
    "start_time": "2022-06-11T11:42:15.498Z"
   },
   {
    "duration": 21,
    "start_time": "2022-06-11T11:42:15.511Z"
   },
   {
    "duration": 38,
    "start_time": "2022-06-11T11:42:15.533Z"
   },
   {
    "duration": 26,
    "start_time": "2022-06-11T11:42:15.573Z"
   },
   {
    "duration": 86,
    "start_time": "2022-06-11T11:42:15.600Z"
   },
   {
    "duration": 24,
    "start_time": "2022-06-11T11:42:15.688Z"
   },
   {
    "duration": 336,
    "start_time": "2022-06-11T11:42:15.713Z"
   },
   {
    "duration": 132,
    "start_time": "2022-06-11T11:42:16.050Z"
   },
   {
    "duration": 0,
    "start_time": "2022-06-11T11:42:16.183Z"
   },
   {
    "duration": 0,
    "start_time": "2022-06-11T11:42:16.185Z"
   },
   {
    "duration": 0,
    "start_time": "2022-06-11T11:42:16.186Z"
   },
   {
    "duration": 0,
    "start_time": "2022-06-11T11:42:16.187Z"
   },
   {
    "duration": 0,
    "start_time": "2022-06-11T11:42:16.189Z"
   },
   {
    "duration": 0,
    "start_time": "2022-06-11T11:42:16.190Z"
   },
   {
    "duration": 0,
    "start_time": "2022-06-11T11:42:16.191Z"
   },
   {
    "duration": 0,
    "start_time": "2022-06-11T11:42:16.192Z"
   },
   {
    "duration": 0,
    "start_time": "2022-06-11T11:42:16.193Z"
   },
   {
    "duration": 0,
    "start_time": "2022-06-11T11:42:16.194Z"
   },
   {
    "duration": 0,
    "start_time": "2022-06-11T11:42:16.195Z"
   },
   {
    "duration": 0,
    "start_time": "2022-06-11T11:42:16.196Z"
   },
   {
    "duration": 0,
    "start_time": "2022-06-11T11:42:16.197Z"
   },
   {
    "duration": 0,
    "start_time": "2022-06-11T11:42:16.197Z"
   },
   {
    "duration": 0,
    "start_time": "2022-06-11T11:42:16.198Z"
   },
   {
    "duration": 1174,
    "start_time": "2022-06-11T11:48:32.378Z"
   },
   {
    "duration": 261,
    "start_time": "2022-06-11T11:48:33.554Z"
   },
   {
    "duration": 166,
    "start_time": "2022-06-11T11:48:33.817Z"
   },
   {
    "duration": 36,
    "start_time": "2022-06-11T11:48:33.985Z"
   },
   {
    "duration": 177,
    "start_time": "2022-06-11T11:48:34.023Z"
   },
   {
    "duration": 140,
    "start_time": "2022-06-11T11:48:34.202Z"
   },
   {
    "duration": 32,
    "start_time": "2022-06-11T11:48:34.344Z"
   },
   {
    "duration": 13,
    "start_time": "2022-06-11T11:48:34.377Z"
   },
   {
    "duration": 313,
    "start_time": "2022-06-11T11:48:34.391Z"
   },
   {
    "duration": 12,
    "start_time": "2022-06-11T11:48:34.707Z"
   },
   {
    "duration": 184,
    "start_time": "2022-06-11T11:48:34.721Z"
   },
   {
    "duration": 16,
    "start_time": "2022-06-11T11:48:34.907Z"
   },
   {
    "duration": 223,
    "start_time": "2022-06-11T11:48:34.925Z"
   },
   {
    "duration": 50,
    "start_time": "2022-06-11T11:48:35.150Z"
   },
   {
    "duration": 33,
    "start_time": "2022-06-11T11:48:35.202Z"
   },
   {
    "duration": 155,
    "start_time": "2022-06-11T11:48:35.237Z"
   },
   {
    "duration": 4,
    "start_time": "2022-06-11T11:48:35.393Z"
   },
   {
    "duration": 19,
    "start_time": "2022-06-11T11:48:35.398Z"
   },
   {
    "duration": 141,
    "start_time": "2022-06-11T11:48:35.419Z"
   },
   {
    "duration": 15,
    "start_time": "2022-06-11T11:48:35.573Z"
   },
   {
    "duration": 18,
    "start_time": "2022-06-11T11:48:35.589Z"
   },
   {
    "duration": 62,
    "start_time": "2022-06-11T11:48:35.609Z"
   },
   {
    "duration": 37,
    "start_time": "2022-06-11T11:48:35.675Z"
   },
   {
    "duration": 37,
    "start_time": "2022-06-11T11:48:35.713Z"
   },
   {
    "duration": 34,
    "start_time": "2022-06-11T11:48:35.759Z"
   },
   {
    "duration": 18,
    "start_time": "2022-06-11T11:48:35.794Z"
   },
   {
    "duration": 14,
    "start_time": "2022-06-11T11:48:35.814Z"
   },
   {
    "duration": 79,
    "start_time": "2022-06-11T11:48:35.832Z"
   },
   {
    "duration": 16,
    "start_time": "2022-06-11T11:48:35.913Z"
   },
   {
    "duration": 11,
    "start_time": "2022-06-11T11:48:35.931Z"
   },
   {
    "duration": 34,
    "start_time": "2022-06-11T11:48:35.960Z"
   },
   {
    "duration": 266,
    "start_time": "2022-06-11T11:48:35.996Z"
   },
   {
    "duration": 25,
    "start_time": "2022-06-11T11:48:36.270Z"
   },
   {
    "duration": 10,
    "start_time": "2022-06-11T11:48:36.297Z"
   },
   {
    "duration": 18,
    "start_time": "2022-06-11T11:48:36.309Z"
   },
   {
    "duration": 47,
    "start_time": "2022-06-11T11:48:36.329Z"
   },
   {
    "duration": 4,
    "start_time": "2022-06-11T11:48:36.379Z"
   },
   {
    "duration": 14,
    "start_time": "2022-06-11T11:48:36.385Z"
   },
   {
    "duration": 11,
    "start_time": "2022-06-11T11:48:36.401Z"
   },
   {
    "duration": 13,
    "start_time": "2022-06-11T11:48:36.414Z"
   },
   {
    "duration": 45,
    "start_time": "2022-06-11T11:48:36.429Z"
   },
   {
    "duration": 15,
    "start_time": "2022-06-11T11:48:36.476Z"
   },
   {
    "duration": 15,
    "start_time": "2022-06-11T11:48:36.492Z"
   },
   {
    "duration": 376,
    "start_time": "2022-06-11T11:48:36.508Z"
   },
   {
    "duration": 10,
    "start_time": "2022-06-11T11:48:36.886Z"
   },
   {
    "duration": 274,
    "start_time": "2022-06-11T11:48:36.897Z"
   },
   {
    "duration": 131,
    "start_time": "2022-06-11T11:48:37.175Z"
   },
   {
    "duration": 6,
    "start_time": "2022-06-11T11:48:37.308Z"
   },
   {
    "duration": 463,
    "start_time": "2022-06-11T11:48:37.316Z"
   },
   {
    "duration": 332,
    "start_time": "2022-06-11T11:48:37.781Z"
   },
   {
    "duration": 304,
    "start_time": "2022-06-11T11:48:38.114Z"
   },
   {
    "duration": 102,
    "start_time": "2022-06-11T11:48:38.419Z"
   },
   {
    "duration": 6,
    "start_time": "2022-06-11T11:48:38.523Z"
   },
   {
    "duration": 183,
    "start_time": "2022-06-11T11:48:38.531Z"
   },
   {
    "duration": 11,
    "start_time": "2022-06-11T11:48:38.715Z"
   },
   {
    "duration": 46,
    "start_time": "2022-06-11T11:48:38.728Z"
   },
   {
    "duration": 32,
    "start_time": "2022-06-11T11:48:38.778Z"
   },
   {
    "duration": 22,
    "start_time": "2022-06-11T11:48:38.812Z"
   },
   {
    "duration": 69,
    "start_time": "2022-06-11T11:48:38.835Z"
   },
   {
    "duration": 22,
    "start_time": "2022-06-11T11:48:38.906Z"
   },
   {
    "duration": 333,
    "start_time": "2022-06-11T11:48:38.929Z"
   },
   {
    "duration": 113,
    "start_time": "2022-06-11T11:48:39.263Z"
   },
   {
    "duration": 0,
    "start_time": "2022-06-11T11:48:39.378Z"
   },
   {
    "duration": 0,
    "start_time": "2022-06-11T11:48:39.379Z"
   },
   {
    "duration": 0,
    "start_time": "2022-06-11T11:48:39.380Z"
   },
   {
    "duration": 0,
    "start_time": "2022-06-11T11:48:39.381Z"
   },
   {
    "duration": 0,
    "start_time": "2022-06-11T11:48:39.382Z"
   },
   {
    "duration": 0,
    "start_time": "2022-06-11T11:48:39.383Z"
   },
   {
    "duration": 0,
    "start_time": "2022-06-11T11:48:39.385Z"
   },
   {
    "duration": 0,
    "start_time": "2022-06-11T11:48:39.386Z"
   },
   {
    "duration": 0,
    "start_time": "2022-06-11T11:48:39.387Z"
   },
   {
    "duration": 0,
    "start_time": "2022-06-11T11:48:39.388Z"
   },
   {
    "duration": 0,
    "start_time": "2022-06-11T11:48:39.389Z"
   },
   {
    "duration": 0,
    "start_time": "2022-06-11T11:48:39.390Z"
   },
   {
    "duration": 0,
    "start_time": "2022-06-11T11:48:39.391Z"
   },
   {
    "duration": 0,
    "start_time": "2022-06-11T11:48:39.393Z"
   },
   {
    "duration": 0,
    "start_time": "2022-06-11T11:48:39.394Z"
   },
   {
    "duration": 60,
    "start_time": "2022-06-11T11:57:23.572Z"
   },
   {
    "duration": 27,
    "start_time": "2022-06-11T11:58:05.122Z"
   },
   {
    "duration": 36,
    "start_time": "2022-06-11T11:58:09.362Z"
   },
   {
    "duration": 20,
    "start_time": "2022-06-11T11:58:16.227Z"
   },
   {
    "duration": 39,
    "start_time": "2022-06-11T11:58:19.779Z"
   },
   {
    "duration": 23,
    "start_time": "2022-06-11T11:58:24.932Z"
   },
   {
    "duration": 19,
    "start_time": "2022-06-11T11:58:29.747Z"
   },
   {
    "duration": 21,
    "start_time": "2022-06-11T11:58:34.908Z"
   },
   {
    "duration": 11,
    "start_time": "2022-06-11T12:00:17.869Z"
   },
   {
    "duration": 382,
    "start_time": "2022-06-11T12:00:51.242Z"
   },
   {
    "duration": 1198,
    "start_time": "2022-06-11T12:01:06.008Z"
   },
   {
    "duration": 301,
    "start_time": "2022-06-11T12:01:07.208Z"
   },
   {
    "duration": 167,
    "start_time": "2022-06-11T12:01:07.512Z"
   },
   {
    "duration": 44,
    "start_time": "2022-06-11T12:01:07.682Z"
   },
   {
    "duration": 151,
    "start_time": "2022-06-11T12:01:07.728Z"
   },
   {
    "duration": 148,
    "start_time": "2022-06-11T12:01:07.881Z"
   },
   {
    "duration": 32,
    "start_time": "2022-06-11T12:01:08.031Z"
   },
   {
    "duration": 17,
    "start_time": "2022-06-11T12:01:08.066Z"
   },
   {
    "duration": 326,
    "start_time": "2022-06-11T12:01:08.084Z"
   },
   {
    "duration": 15,
    "start_time": "2022-06-11T12:01:08.413Z"
   },
   {
    "duration": 197,
    "start_time": "2022-06-11T12:01:08.429Z"
   },
   {
    "duration": 33,
    "start_time": "2022-06-11T12:01:08.627Z"
   },
   {
    "duration": 232,
    "start_time": "2022-06-11T12:01:08.662Z"
   },
   {
    "duration": 36,
    "start_time": "2022-06-11T12:01:08.896Z"
   },
   {
    "duration": 47,
    "start_time": "2022-06-11T12:01:08.934Z"
   },
   {
    "duration": 114,
    "start_time": "2022-06-11T12:01:08.982Z"
   },
   {
    "duration": 4,
    "start_time": "2022-06-11T12:01:09.098Z"
   },
   {
    "duration": 12,
    "start_time": "2022-06-11T12:01:09.103Z"
   },
   {
    "duration": 151,
    "start_time": "2022-06-11T12:01:09.117Z"
   },
   {
    "duration": 14,
    "start_time": "2022-06-11T12:01:09.270Z"
   },
   {
    "duration": 19,
    "start_time": "2022-06-11T12:01:09.286Z"
   },
   {
    "duration": 71,
    "start_time": "2022-06-11T12:01:09.306Z"
   },
   {
    "duration": 34,
    "start_time": "2022-06-11T12:01:09.379Z"
   },
   {
    "duration": 53,
    "start_time": "2022-06-11T12:01:09.415Z"
   },
   {
    "duration": 22,
    "start_time": "2022-06-11T12:01:09.470Z"
   },
   {
    "duration": 19,
    "start_time": "2022-06-11T12:01:09.493Z"
   },
   {
    "duration": 15,
    "start_time": "2022-06-11T12:01:09.513Z"
   },
   {
    "duration": 76,
    "start_time": "2022-06-11T12:01:09.531Z"
   },
   {
    "duration": 17,
    "start_time": "2022-06-11T12:01:09.609Z"
   },
   {
    "duration": 31,
    "start_time": "2022-06-11T12:01:09.628Z"
   },
   {
    "duration": 26,
    "start_time": "2022-06-11T12:01:09.661Z"
   },
   {
    "duration": 302,
    "start_time": "2022-06-11T12:01:09.689Z"
   },
   {
    "duration": 22,
    "start_time": "2022-06-11T12:01:09.993Z"
   },
   {
    "duration": 12,
    "start_time": "2022-06-11T12:01:10.017Z"
   },
   {
    "duration": 37,
    "start_time": "2022-06-11T12:01:10.031Z"
   },
   {
    "duration": 40,
    "start_time": "2022-06-11T12:01:10.070Z"
   },
   {
    "duration": 8,
    "start_time": "2022-06-11T12:01:10.112Z"
   },
   {
    "duration": 10,
    "start_time": "2022-06-11T12:01:10.121Z"
   },
   {
    "duration": 15,
    "start_time": "2022-06-11T12:01:10.132Z"
   },
   {
    "duration": 21,
    "start_time": "2022-06-11T12:01:10.148Z"
   },
   {
    "duration": 21,
    "start_time": "2022-06-11T12:01:10.170Z"
   },
   {
    "duration": 13,
    "start_time": "2022-06-11T12:01:10.192Z"
   },
   {
    "duration": 13,
    "start_time": "2022-06-11T12:01:10.207Z"
   },
   {
    "duration": 338,
    "start_time": "2022-06-11T12:01:10.222Z"
   },
   {
    "duration": 10,
    "start_time": "2022-06-11T12:01:10.561Z"
   },
   {
    "duration": 256,
    "start_time": "2022-06-11T12:01:10.572Z"
   },
   {
    "duration": 99,
    "start_time": "2022-06-11T12:01:10.830Z"
   },
   {
    "duration": 6,
    "start_time": "2022-06-11T12:01:10.931Z"
   },
   {
    "duration": 406,
    "start_time": "2022-06-11T12:01:10.939Z"
   },
   {
    "duration": 339,
    "start_time": "2022-06-11T12:01:11.347Z"
   },
   {
    "duration": 293,
    "start_time": "2022-06-11T12:01:11.688Z"
   },
   {
    "duration": 106,
    "start_time": "2022-06-11T12:01:11.983Z"
   },
   {
    "duration": 6,
    "start_time": "2022-06-11T12:01:12.090Z"
   },
   {
    "duration": 165,
    "start_time": "2022-06-11T12:01:12.097Z"
   },
   {
    "duration": 12,
    "start_time": "2022-06-11T12:01:12.264Z"
   },
   {
    "duration": 16,
    "start_time": "2022-06-11T12:01:12.278Z"
   },
   {
    "duration": 21,
    "start_time": "2022-06-11T12:01:12.295Z"
   },
   {
    "duration": 52,
    "start_time": "2022-06-11T12:01:12.318Z"
   },
   {
    "duration": 70,
    "start_time": "2022-06-11T12:01:12.371Z"
   },
   {
    "duration": 34,
    "start_time": "2022-06-11T12:01:12.443Z"
   },
   {
    "duration": 358,
    "start_time": "2022-06-11T12:01:12.478Z"
   },
   {
    "duration": 124,
    "start_time": "2022-06-11T12:01:12.837Z"
   },
   {
    "duration": 0,
    "start_time": "2022-06-11T12:01:12.964Z"
   },
   {
    "duration": 0,
    "start_time": "2022-06-11T12:01:12.966Z"
   },
   {
    "duration": 0,
    "start_time": "2022-06-11T12:01:12.967Z"
   },
   {
    "duration": 0,
    "start_time": "2022-06-11T12:01:12.968Z"
   },
   {
    "duration": 0,
    "start_time": "2022-06-11T12:01:12.969Z"
   },
   {
    "duration": 0,
    "start_time": "2022-06-11T12:01:12.972Z"
   },
   {
    "duration": 0,
    "start_time": "2022-06-11T12:01:12.973Z"
   },
   {
    "duration": 0,
    "start_time": "2022-06-11T12:01:12.974Z"
   },
   {
    "duration": 0,
    "start_time": "2022-06-11T12:01:12.975Z"
   },
   {
    "duration": 0,
    "start_time": "2022-06-11T12:01:12.976Z"
   },
   {
    "duration": 0,
    "start_time": "2022-06-11T12:01:12.977Z"
   },
   {
    "duration": 0,
    "start_time": "2022-06-11T12:01:12.978Z"
   },
   {
    "duration": 0,
    "start_time": "2022-06-11T12:01:12.979Z"
   },
   {
    "duration": 0,
    "start_time": "2022-06-11T12:01:12.980Z"
   },
   {
    "duration": 0,
    "start_time": "2022-06-11T12:01:12.981Z"
   },
   {
    "duration": 1211,
    "start_time": "2022-06-11T12:03:58.132Z"
   },
   {
    "duration": 252,
    "start_time": "2022-06-11T12:03:59.346Z"
   },
   {
    "duration": 149,
    "start_time": "2022-06-11T12:03:59.600Z"
   },
   {
    "duration": 38,
    "start_time": "2022-06-11T12:03:59.760Z"
   },
   {
    "duration": 139,
    "start_time": "2022-06-11T12:03:59.799Z"
   },
   {
    "duration": 138,
    "start_time": "2022-06-11T12:03:59.940Z"
   },
   {
    "duration": 10,
    "start_time": "2022-06-11T12:04:00.080Z"
   },
   {
    "duration": 16,
    "start_time": "2022-06-11T12:04:00.092Z"
   },
   {
    "duration": 323,
    "start_time": "2022-06-11T12:04:00.110Z"
   },
   {
    "duration": 13,
    "start_time": "2022-06-11T12:04:00.436Z"
   },
   {
    "duration": 175,
    "start_time": "2022-06-11T12:04:00.458Z"
   },
   {
    "duration": 26,
    "start_time": "2022-06-11T12:04:00.635Z"
   },
   {
    "duration": 234,
    "start_time": "2022-06-11T12:04:00.663Z"
   },
   {
    "duration": 36,
    "start_time": "2022-06-11T12:04:00.898Z"
   },
   {
    "duration": 47,
    "start_time": "2022-06-11T12:04:00.936Z"
   },
   {
    "duration": 128,
    "start_time": "2022-06-11T12:04:00.984Z"
   },
   {
    "duration": 4,
    "start_time": "2022-06-11T12:04:01.114Z"
   },
   {
    "duration": 22,
    "start_time": "2022-06-11T12:04:01.120Z"
   },
   {
    "duration": 145,
    "start_time": "2022-06-11T12:04:01.143Z"
   },
   {
    "duration": 16,
    "start_time": "2022-06-11T12:04:01.289Z"
   },
   {
    "duration": 18,
    "start_time": "2022-06-11T12:04:01.307Z"
   },
   {
    "duration": 72,
    "start_time": "2022-06-11T12:04:01.327Z"
   },
   {
    "duration": 35,
    "start_time": "2022-06-11T12:04:01.401Z"
   },
   {
    "duration": 56,
    "start_time": "2022-06-11T12:04:01.438Z"
   },
   {
    "duration": 22,
    "start_time": "2022-06-11T12:04:01.496Z"
   },
   {
    "duration": 39,
    "start_time": "2022-06-11T12:04:01.520Z"
   },
   {
    "duration": 15,
    "start_time": "2022-06-11T12:04:01.560Z"
   },
   {
    "duration": 55,
    "start_time": "2022-06-11T12:04:01.579Z"
   },
   {
    "duration": 32,
    "start_time": "2022-06-11T12:04:01.635Z"
   },
   {
    "duration": 10,
    "start_time": "2022-06-11T12:04:01.668Z"
   },
   {
    "duration": 43,
    "start_time": "2022-06-11T12:04:01.680Z"
   },
   {
    "duration": 259,
    "start_time": "2022-06-11T12:04:01.725Z"
   },
   {
    "duration": 22,
    "start_time": "2022-06-11T12:04:01.986Z"
   },
   {
    "duration": 13,
    "start_time": "2022-06-11T12:04:02.010Z"
   },
   {
    "duration": 39,
    "start_time": "2022-06-11T12:04:02.026Z"
   },
   {
    "duration": 15,
    "start_time": "2022-06-11T12:04:02.066Z"
   },
   {
    "duration": 20,
    "start_time": "2022-06-11T12:04:02.082Z"
   },
   {
    "duration": 15,
    "start_time": "2022-06-11T12:04:02.104Z"
   },
   {
    "duration": 45,
    "start_time": "2022-06-11T12:04:02.121Z"
   },
   {
    "duration": 320,
    "start_time": "2022-06-11T12:04:02.168Z"
   },
   {
    "duration": 10,
    "start_time": "2022-06-11T12:04:02.490Z"
   },
   {
    "duration": 270,
    "start_time": "2022-06-11T12:04:02.502Z"
   },
   {
    "duration": 105,
    "start_time": "2022-06-11T12:04:02.774Z"
   },
   {
    "duration": 7,
    "start_time": "2022-06-11T12:04:02.881Z"
   },
   {
    "duration": 427,
    "start_time": "2022-06-11T12:04:02.889Z"
   },
   {
    "duration": 314,
    "start_time": "2022-06-11T12:04:03.318Z"
   },
   {
    "duration": 295,
    "start_time": "2022-06-11T12:04:03.634Z"
   },
   {
    "duration": 99,
    "start_time": "2022-06-11T12:04:03.931Z"
   },
   {
    "duration": 6,
    "start_time": "2022-06-11T12:04:04.032Z"
   },
   {
    "duration": 174,
    "start_time": "2022-06-11T12:04:04.040Z"
   },
   {
    "duration": 11,
    "start_time": "2022-06-11T12:04:04.216Z"
   },
   {
    "duration": 32,
    "start_time": "2022-06-11T12:04:04.229Z"
   },
   {
    "duration": 24,
    "start_time": "2022-06-11T12:04:04.263Z"
   },
   {
    "duration": 25,
    "start_time": "2022-06-11T12:04:04.289Z"
   },
   {
    "duration": 89,
    "start_time": "2022-06-11T12:04:04.316Z"
   },
   {
    "duration": 22,
    "start_time": "2022-06-11T12:04:04.407Z"
   },
   {
    "duration": 305,
    "start_time": "2022-06-11T12:04:04.431Z"
   },
   {
    "duration": 123,
    "start_time": "2022-06-11T12:04:04.737Z"
   },
   {
    "duration": 0,
    "start_time": "2022-06-11T12:04:04.861Z"
   },
   {
    "duration": 0,
    "start_time": "2022-06-11T12:04:04.863Z"
   },
   {
    "duration": 0,
    "start_time": "2022-06-11T12:04:04.864Z"
   },
   {
    "duration": 0,
    "start_time": "2022-06-11T12:04:04.865Z"
   },
   {
    "duration": 0,
    "start_time": "2022-06-11T12:04:04.866Z"
   },
   {
    "duration": 0,
    "start_time": "2022-06-11T12:04:04.867Z"
   },
   {
    "duration": 0,
    "start_time": "2022-06-11T12:04:04.869Z"
   },
   {
    "duration": 0,
    "start_time": "2022-06-11T12:04:04.870Z"
   },
   {
    "duration": 0,
    "start_time": "2022-06-11T12:04:04.871Z"
   },
   {
    "duration": 0,
    "start_time": "2022-06-11T12:04:04.872Z"
   },
   {
    "duration": 0,
    "start_time": "2022-06-11T12:04:04.873Z"
   },
   {
    "duration": 0,
    "start_time": "2022-06-11T12:04:04.874Z"
   },
   {
    "duration": 0,
    "start_time": "2022-06-11T12:04:04.875Z"
   },
   {
    "duration": 0,
    "start_time": "2022-06-11T12:04:04.876Z"
   },
   {
    "duration": 0,
    "start_time": "2022-06-11T12:04:04.877Z"
   },
   {
    "duration": 258,
    "start_time": "2022-06-11T12:10:22.601Z"
   },
   {
    "duration": 18,
    "start_time": "2022-06-11T12:19:07.903Z"
   },
   {
    "duration": 315,
    "start_time": "2022-06-11T12:20:14.612Z"
   },
   {
    "duration": 49,
    "start_time": "2022-06-11T12:26:51.391Z"
   },
   {
    "duration": 296,
    "start_time": "2022-06-11T12:31:42.157Z"
   },
   {
    "duration": 19,
    "start_time": "2022-06-11T12:35:55.567Z"
   },
   {
    "duration": 2,
    "start_time": "2022-06-11T12:36:37.315Z"
   },
   {
    "duration": 1174,
    "start_time": "2022-06-11T12:42:07.085Z"
   },
   {
    "duration": 270,
    "start_time": "2022-06-11T12:42:08.261Z"
   },
   {
    "duration": 156,
    "start_time": "2022-06-11T12:42:08.532Z"
   },
   {
    "duration": 35,
    "start_time": "2022-06-11T12:42:08.689Z"
   },
   {
    "duration": 147,
    "start_time": "2022-06-11T12:42:08.726Z"
   },
   {
    "duration": 119,
    "start_time": "2022-06-11T12:42:08.875Z"
   },
   {
    "duration": 12,
    "start_time": "2022-06-11T12:42:08.996Z"
   },
   {
    "duration": 13,
    "start_time": "2022-06-11T12:42:09.009Z"
   },
   {
    "duration": 300,
    "start_time": "2022-06-11T12:42:09.023Z"
   },
   {
    "duration": 13,
    "start_time": "2022-06-11T12:42:09.324Z"
   },
   {
    "duration": 184,
    "start_time": "2022-06-11T12:42:09.339Z"
   },
   {
    "duration": 19,
    "start_time": "2022-06-11T12:42:09.526Z"
   },
   {
    "duration": 213,
    "start_time": "2022-06-11T12:42:09.560Z"
   },
   {
    "duration": 36,
    "start_time": "2022-06-11T12:42:09.777Z"
   },
   {
    "duration": 47,
    "start_time": "2022-06-11T12:42:09.814Z"
   },
   {
    "duration": 126,
    "start_time": "2022-06-11T12:42:09.863Z"
   },
   {
    "duration": 4,
    "start_time": "2022-06-11T12:42:09.991Z"
   },
   {
    "duration": 4,
    "start_time": "2022-06-11T12:42:09.997Z"
   },
   {
    "duration": 153,
    "start_time": "2022-06-11T12:42:10.003Z"
   },
   {
    "duration": 25,
    "start_time": "2022-06-11T12:42:10.159Z"
   },
   {
    "duration": 19,
    "start_time": "2022-06-11T12:42:10.186Z"
   },
   {
    "duration": 69,
    "start_time": "2022-06-11T12:42:10.207Z"
   },
   {
    "duration": 36,
    "start_time": "2022-06-11T12:42:10.278Z"
   },
   {
    "duration": 52,
    "start_time": "2022-06-11T12:42:10.315Z"
   },
   {
    "duration": 29,
    "start_time": "2022-06-11T12:42:10.369Z"
   },
   {
    "duration": 23,
    "start_time": "2022-06-11T12:42:10.400Z"
   },
   {
    "duration": 17,
    "start_time": "2022-06-11T12:42:10.425Z"
   },
   {
    "duration": 54,
    "start_time": "2022-06-11T12:42:10.459Z"
   },
   {
    "duration": 15,
    "start_time": "2022-06-11T12:42:10.514Z"
   },
   {
    "duration": 29,
    "start_time": "2022-06-11T12:42:10.531Z"
   },
   {
    "duration": 18,
    "start_time": "2022-06-11T12:42:10.561Z"
   },
   {
    "duration": 275,
    "start_time": "2022-06-11T12:42:10.581Z"
   },
   {
    "duration": 26,
    "start_time": "2022-06-11T12:42:10.859Z"
   },
   {
    "duration": 14,
    "start_time": "2022-06-11T12:42:10.886Z"
   },
   {
    "duration": 27,
    "start_time": "2022-06-11T12:42:10.902Z"
   },
   {
    "duration": 38,
    "start_time": "2022-06-11T12:42:10.930Z"
   },
   {
    "duration": 23,
    "start_time": "2022-06-11T12:42:10.970Z"
   },
   {
    "duration": 15,
    "start_time": "2022-06-11T12:42:10.995Z"
   },
   {
    "duration": 14,
    "start_time": "2022-06-11T12:42:11.011Z"
   },
   {
    "duration": 352,
    "start_time": "2022-06-11T12:42:11.027Z"
   },
   {
    "duration": 10,
    "start_time": "2022-06-11T12:42:11.383Z"
   },
   {
    "duration": 259,
    "start_time": "2022-06-11T12:42:11.395Z"
   },
   {
    "duration": 86,
    "start_time": "2022-06-11T12:42:11.659Z"
   },
   {
    "duration": 15,
    "start_time": "2022-06-11T12:42:11.747Z"
   },
   {
    "duration": 389,
    "start_time": "2022-06-11T12:42:11.764Z"
   },
   {
    "duration": 314,
    "start_time": "2022-06-11T12:42:12.158Z"
   },
   {
    "duration": 296,
    "start_time": "2022-06-11T12:42:12.474Z"
   },
   {
    "duration": 98,
    "start_time": "2022-06-11T12:42:12.772Z"
   },
   {
    "duration": 6,
    "start_time": "2022-06-11T12:42:12.871Z"
   },
   {
    "duration": 198,
    "start_time": "2022-06-11T12:42:12.878Z"
   },
   {
    "duration": 15,
    "start_time": "2022-06-11T12:42:13.078Z"
   },
   {
    "duration": 24,
    "start_time": "2022-06-11T12:42:13.095Z"
   },
   {
    "duration": 22,
    "start_time": "2022-06-11T12:42:13.120Z"
   },
   {
    "duration": 18,
    "start_time": "2022-06-11T12:42:13.144Z"
   },
   {
    "duration": 30,
    "start_time": "2022-06-11T12:42:13.163Z"
   },
   {
    "duration": 80,
    "start_time": "2022-06-11T12:42:13.195Z"
   },
   {
    "duration": 23,
    "start_time": "2022-06-11T12:42:13.276Z"
   },
   {
    "duration": 334,
    "start_time": "2022-06-11T12:42:13.301Z"
   },
   {
    "duration": 2,
    "start_time": "2022-06-11T12:42:13.637Z"
   },
   {
    "duration": 123,
    "start_time": "2022-06-11T12:42:13.641Z"
   },
   {
    "duration": 0,
    "start_time": "2022-06-11T12:42:13.766Z"
   },
   {
    "duration": 0,
    "start_time": "2022-06-11T12:42:13.767Z"
   },
   {
    "duration": 0,
    "start_time": "2022-06-11T12:42:13.769Z"
   },
   {
    "duration": 0,
    "start_time": "2022-06-11T12:42:13.770Z"
   },
   {
    "duration": 0,
    "start_time": "2022-06-11T12:42:13.772Z"
   },
   {
    "duration": 0,
    "start_time": "2022-06-11T12:42:13.773Z"
   },
   {
    "duration": 0,
    "start_time": "2022-06-11T12:42:13.775Z"
   },
   {
    "duration": 0,
    "start_time": "2022-06-11T12:42:13.776Z"
   },
   {
    "duration": 0,
    "start_time": "2022-06-11T12:42:13.777Z"
   },
   {
    "duration": 0,
    "start_time": "2022-06-11T12:42:13.778Z"
   },
   {
    "duration": 0,
    "start_time": "2022-06-11T12:42:13.780Z"
   },
   {
    "duration": 0,
    "start_time": "2022-06-11T12:42:13.781Z"
   },
   {
    "duration": 0,
    "start_time": "2022-06-11T12:42:13.783Z"
   },
   {
    "duration": 0,
    "start_time": "2022-06-11T12:42:13.784Z"
   },
   {
    "duration": 584,
    "start_time": "2022-06-11T12:44:40.760Z"
   },
   {
    "duration": 1173,
    "start_time": "2022-06-11T12:48:29.187Z"
   },
   {
    "duration": 276,
    "start_time": "2022-06-11T12:48:30.362Z"
   },
   {
    "duration": 160,
    "start_time": "2022-06-11T12:48:30.640Z"
   },
   {
    "duration": 60,
    "start_time": "2022-06-11T12:48:30.802Z"
   },
   {
    "duration": 127,
    "start_time": "2022-06-11T12:48:30.864Z"
   },
   {
    "duration": 128,
    "start_time": "2022-06-11T12:48:30.993Z"
   },
   {
    "duration": 11,
    "start_time": "2022-06-11T12:48:31.123Z"
   },
   {
    "duration": 15,
    "start_time": "2022-06-11T12:48:31.158Z"
   },
   {
    "duration": 298,
    "start_time": "2022-06-11T12:48:31.174Z"
   },
   {
    "duration": 12,
    "start_time": "2022-06-11T12:48:31.474Z"
   },
   {
    "duration": 180,
    "start_time": "2022-06-11T12:48:31.488Z"
   },
   {
    "duration": 18,
    "start_time": "2022-06-11T12:48:31.670Z"
   },
   {
    "duration": 219,
    "start_time": "2022-06-11T12:48:31.690Z"
   },
   {
    "duration": 59,
    "start_time": "2022-06-11T12:48:31.911Z"
   },
   {
    "duration": 27,
    "start_time": "2022-06-11T12:48:31.972Z"
   },
   {
    "duration": 131,
    "start_time": "2022-06-11T12:48:32.001Z"
   },
   {
    "duration": 5,
    "start_time": "2022-06-11T12:48:32.134Z"
   },
   {
    "duration": 4,
    "start_time": "2022-06-11T12:48:32.159Z"
   },
   {
    "duration": 131,
    "start_time": "2022-06-11T12:48:32.164Z"
   },
   {
    "duration": 15,
    "start_time": "2022-06-11T12:48:32.297Z"
   },
   {
    "duration": 24,
    "start_time": "2022-06-11T12:48:32.314Z"
   },
   {
    "duration": 66,
    "start_time": "2022-06-11T12:48:32.340Z"
   },
   {
    "duration": 52,
    "start_time": "2022-06-11T12:48:32.408Z"
   },
   {
    "duration": 37,
    "start_time": "2022-06-11T12:48:32.462Z"
   },
   {
    "duration": 21,
    "start_time": "2022-06-11T12:48:32.501Z"
   },
   {
    "duration": 39,
    "start_time": "2022-06-11T12:48:32.523Z"
   },
   {
    "duration": 14,
    "start_time": "2022-06-11T12:48:32.564Z"
   },
   {
    "duration": 52,
    "start_time": "2022-06-11T12:48:32.581Z"
   },
   {
    "duration": 35,
    "start_time": "2022-06-11T12:48:32.634Z"
   },
   {
    "duration": 8,
    "start_time": "2022-06-11T12:48:32.671Z"
   },
   {
    "duration": 18,
    "start_time": "2022-06-11T12:48:32.680Z"
   },
   {
    "duration": 279,
    "start_time": "2022-06-11T12:48:32.700Z"
   },
   {
    "duration": 19,
    "start_time": "2022-06-11T12:48:32.981Z"
   },
   {
    "duration": 12,
    "start_time": "2022-06-11T12:48:33.002Z"
   },
   {
    "duration": 24,
    "start_time": "2022-06-11T12:48:33.015Z"
   },
   {
    "duration": 12,
    "start_time": "2022-06-11T12:48:33.058Z"
   },
   {
    "duration": 21,
    "start_time": "2022-06-11T12:48:33.071Z"
   },
   {
    "duration": 18,
    "start_time": "2022-06-11T12:48:33.094Z"
   },
   {
    "duration": 21,
    "start_time": "2022-06-11T12:48:33.114Z"
   },
   {
    "duration": 347,
    "start_time": "2022-06-11T12:48:33.136Z"
   },
   {
    "duration": 10,
    "start_time": "2022-06-11T12:48:33.484Z"
   },
   {
    "duration": 255,
    "start_time": "2022-06-11T12:48:33.496Z"
   },
   {
    "duration": 90,
    "start_time": "2022-06-11T12:48:33.752Z"
   },
   {
    "duration": 15,
    "start_time": "2022-06-11T12:48:33.844Z"
   },
   {
    "duration": 405,
    "start_time": "2022-06-11T12:48:33.860Z"
   },
   {
    "duration": 321,
    "start_time": "2022-06-11T12:48:34.266Z"
   },
   {
    "duration": 297,
    "start_time": "2022-06-11T12:48:34.588Z"
   },
   {
    "duration": 95,
    "start_time": "2022-06-11T12:48:34.887Z"
   },
   {
    "duration": 6,
    "start_time": "2022-06-11T12:48:34.984Z"
   },
   {
    "duration": 174,
    "start_time": "2022-06-11T12:48:34.991Z"
   },
   {
    "duration": 10,
    "start_time": "2022-06-11T12:48:35.167Z"
   },
   {
    "duration": 15,
    "start_time": "2022-06-11T12:48:35.179Z"
   },
   {
    "duration": 20,
    "start_time": "2022-06-11T12:48:35.195Z"
   },
   {
    "duration": 28,
    "start_time": "2022-06-11T12:48:35.217Z"
   },
   {
    "duration": 40,
    "start_time": "2022-06-11T12:48:35.247Z"
   },
   {
    "duration": 72,
    "start_time": "2022-06-11T12:48:35.289Z"
   },
   {
    "duration": 23,
    "start_time": "2022-06-11T12:48:35.363Z"
   },
   {
    "duration": 335,
    "start_time": "2022-06-11T12:48:35.388Z"
   },
   {
    "duration": 3,
    "start_time": "2022-06-11T12:48:35.725Z"
   },
   {
    "duration": 134,
    "start_time": "2022-06-11T12:48:35.729Z"
   },
   {
    "duration": 0,
    "start_time": "2022-06-11T12:48:35.865Z"
   },
   {
    "duration": 0,
    "start_time": "2022-06-11T12:48:35.866Z"
   },
   {
    "duration": 0,
    "start_time": "2022-06-11T12:48:35.868Z"
   },
   {
    "duration": 0,
    "start_time": "2022-06-11T12:48:35.869Z"
   },
   {
    "duration": 0,
    "start_time": "2022-06-11T12:48:35.870Z"
   },
   {
    "duration": 0,
    "start_time": "2022-06-11T12:48:35.871Z"
   },
   {
    "duration": 0,
    "start_time": "2022-06-11T12:48:35.873Z"
   },
   {
    "duration": 1,
    "start_time": "2022-06-11T12:48:35.873Z"
   },
   {
    "duration": 0,
    "start_time": "2022-06-11T12:48:35.875Z"
   },
   {
    "duration": 0,
    "start_time": "2022-06-11T12:48:35.875Z"
   },
   {
    "duration": 0,
    "start_time": "2022-06-11T12:48:35.877Z"
   },
   {
    "duration": 0,
    "start_time": "2022-06-11T12:48:35.878Z"
   },
   {
    "duration": 0,
    "start_time": "2022-06-11T12:48:35.879Z"
   },
   {
    "duration": 0,
    "start_time": "2022-06-11T12:48:35.881Z"
   },
   {
    "duration": 3,
    "start_time": "2022-06-11T12:49:29.660Z"
   },
   {
    "duration": 20,
    "start_time": "2022-06-11T12:49:36.129Z"
   },
   {
    "duration": 14,
    "start_time": "2022-06-11T12:50:09.811Z"
   },
   {
    "duration": 3,
    "start_time": "2022-06-11T12:53:24.490Z"
   },
   {
    "duration": 20,
    "start_time": "2022-06-11T12:54:06.482Z"
   },
   {
    "duration": 3,
    "start_time": "2022-06-11T12:56:05.212Z"
   },
   {
    "duration": 1203,
    "start_time": "2022-06-11T12:56:18.442Z"
   },
   {
    "duration": 255,
    "start_time": "2022-06-11T12:56:19.647Z"
   },
   {
    "duration": 160,
    "start_time": "2022-06-11T12:56:19.904Z"
   },
   {
    "duration": 36,
    "start_time": "2022-06-11T12:56:20.067Z"
   },
   {
    "duration": 133,
    "start_time": "2022-06-11T12:56:20.104Z"
   },
   {
    "duration": 128,
    "start_time": "2022-06-11T12:56:20.238Z"
   },
   {
    "duration": 11,
    "start_time": "2022-06-11T12:56:20.368Z"
   },
   {
    "duration": 26,
    "start_time": "2022-06-11T12:56:20.381Z"
   },
   {
    "duration": 288,
    "start_time": "2022-06-11T12:56:20.409Z"
   },
   {
    "duration": 12,
    "start_time": "2022-06-11T12:56:20.699Z"
   },
   {
    "duration": 178,
    "start_time": "2022-06-11T12:56:20.713Z"
   },
   {
    "duration": 18,
    "start_time": "2022-06-11T12:56:20.892Z"
   },
   {
    "duration": 215,
    "start_time": "2022-06-11T12:56:20.912Z"
   },
   {
    "duration": 46,
    "start_time": "2022-06-11T12:56:21.128Z"
   },
   {
    "duration": 25,
    "start_time": "2022-06-11T12:56:21.176Z"
   },
   {
    "duration": 113,
    "start_time": "2022-06-11T12:56:21.202Z"
   },
   {
    "duration": 4,
    "start_time": "2022-06-11T12:56:21.316Z"
   },
   {
    "duration": 5,
    "start_time": "2022-06-11T12:56:21.322Z"
   },
   {
    "duration": 152,
    "start_time": "2022-06-11T12:56:21.329Z"
   },
   {
    "duration": 15,
    "start_time": "2022-06-11T12:56:21.483Z"
   },
   {
    "duration": 19,
    "start_time": "2022-06-11T12:56:21.499Z"
   },
   {
    "duration": 65,
    "start_time": "2022-06-11T12:56:21.519Z"
   },
   {
    "duration": 36,
    "start_time": "2022-06-11T12:56:21.585Z"
   },
   {
    "duration": 57,
    "start_time": "2022-06-11T12:56:21.622Z"
   },
   {
    "duration": 23,
    "start_time": "2022-06-11T12:56:21.681Z"
   },
   {
    "duration": 18,
    "start_time": "2022-06-11T12:56:21.705Z"
   },
   {
    "duration": 36,
    "start_time": "2022-06-11T12:56:21.724Z"
   },
   {
    "duration": 50,
    "start_time": "2022-06-11T12:56:21.763Z"
   },
   {
    "duration": 12,
    "start_time": "2022-06-11T12:56:21.814Z"
   },
   {
    "duration": 8,
    "start_time": "2022-06-11T12:56:21.828Z"
   },
   {
    "duration": 42,
    "start_time": "2022-06-11T12:56:21.838Z"
   },
   {
    "duration": 261,
    "start_time": "2022-06-11T12:56:21.882Z"
   },
   {
    "duration": 22,
    "start_time": "2022-06-11T12:56:22.145Z"
   },
   {
    "duration": 9,
    "start_time": "2022-06-11T12:56:22.168Z"
   },
   {
    "duration": 16,
    "start_time": "2022-06-11T12:56:22.179Z"
   },
   {
    "duration": 14,
    "start_time": "2022-06-11T12:56:22.196Z"
   },
   {
    "duration": 19,
    "start_time": "2022-06-11T12:56:22.211Z"
   },
   {
    "duration": 14,
    "start_time": "2022-06-11T12:56:22.259Z"
   },
   {
    "duration": 14,
    "start_time": "2022-06-11T12:56:22.274Z"
   },
   {
    "duration": 342,
    "start_time": "2022-06-11T12:56:22.289Z"
   },
   {
    "duration": 10,
    "start_time": "2022-06-11T12:56:22.632Z"
   },
   {
    "duration": 253,
    "start_time": "2022-06-11T12:56:22.643Z"
   },
   {
    "duration": 102,
    "start_time": "2022-06-11T12:56:22.897Z"
   },
   {
    "duration": 7,
    "start_time": "2022-06-11T12:56:23.002Z"
   },
   {
    "duration": 398,
    "start_time": "2022-06-11T12:56:23.010Z"
   },
   {
    "duration": 321,
    "start_time": "2022-06-11T12:56:23.409Z"
   },
   {
    "duration": 283,
    "start_time": "2022-06-11T12:56:23.732Z"
   },
   {
    "duration": 98,
    "start_time": "2022-06-11T12:56:24.017Z"
   },
   {
    "duration": 7,
    "start_time": "2022-06-11T12:56:24.116Z"
   },
   {
    "duration": 170,
    "start_time": "2022-06-11T12:56:24.125Z"
   },
   {
    "duration": 11,
    "start_time": "2022-06-11T12:56:24.297Z"
   },
   {
    "duration": 16,
    "start_time": "2022-06-11T12:56:24.310Z"
   },
   {
    "duration": 32,
    "start_time": "2022-06-11T12:56:24.328Z"
   },
   {
    "duration": 12,
    "start_time": "2022-06-11T12:56:24.362Z"
   },
   {
    "duration": 25,
    "start_time": "2022-06-11T12:56:24.375Z"
   },
   {
    "duration": 87,
    "start_time": "2022-06-11T12:56:24.402Z"
   },
   {
    "duration": 23,
    "start_time": "2022-06-11T12:56:24.491Z"
   },
   {
    "duration": 321,
    "start_time": "2022-06-11T12:56:24.516Z"
   },
   {
    "duration": 3,
    "start_time": "2022-06-11T12:56:24.838Z"
   },
   {
    "duration": 25,
    "start_time": "2022-06-11T12:56:24.842Z"
   },
   {
    "duration": 2,
    "start_time": "2022-06-11T12:56:24.868Z"
   },
   {
    "duration": 18,
    "start_time": "2022-06-11T12:56:24.872Z"
   },
   {
    "duration": 14,
    "start_time": "2022-06-11T12:56:24.892Z"
   },
   {
    "duration": 15,
    "start_time": "2022-06-11T12:56:24.907Z"
   },
   {
    "duration": 36,
    "start_time": "2022-06-11T12:56:24.924Z"
   },
   {
    "duration": 42,
    "start_time": "2022-06-11T12:56:24.962Z"
   },
   {
    "duration": 368,
    "start_time": "2022-06-11T12:56:25.006Z"
   },
   {
    "duration": 268,
    "start_time": "2022-06-11T12:56:25.376Z"
   },
   {
    "duration": 13,
    "start_time": "2022-06-11T12:56:25.646Z"
   },
   {
    "duration": 9,
    "start_time": "2022-06-11T12:56:25.661Z"
   },
   {
    "duration": 14,
    "start_time": "2022-06-11T12:56:25.671Z"
   },
   {
    "duration": 7,
    "start_time": "2022-06-11T12:56:25.687Z"
   },
   {
    "duration": 14,
    "start_time": "2022-06-11T12:56:25.695Z"
   },
   {
    "duration": 175,
    "start_time": "2022-06-11T12:56:25.710Z"
   },
   {
    "duration": 0,
    "start_time": "2022-06-11T12:56:25.887Z"
   },
   {
    "duration": 1262,
    "start_time": "2022-06-11T12:57:51.979Z"
   },
   {
    "duration": 283,
    "start_time": "2022-06-11T12:57:53.243Z"
   },
   {
    "duration": 172,
    "start_time": "2022-06-11T12:57:53.528Z"
   },
   {
    "duration": 78,
    "start_time": "2022-06-11T12:57:53.703Z"
   },
   {
    "duration": 139,
    "start_time": "2022-06-11T12:57:53.783Z"
   },
   {
    "duration": 119,
    "start_time": "2022-06-11T12:57:53.923Z"
   },
   {
    "duration": 13,
    "start_time": "2022-06-11T12:57:54.059Z"
   },
   {
    "duration": 21,
    "start_time": "2022-06-11T12:57:54.074Z"
   },
   {
    "duration": 380,
    "start_time": "2022-06-11T12:57:54.097Z"
   },
   {
    "duration": 13,
    "start_time": "2022-06-11T12:57:54.480Z"
   },
   {
    "duration": 466,
    "start_time": "2022-06-11T12:57:54.495Z"
   },
   {
    "duration": 21,
    "start_time": "2022-06-11T12:57:54.963Z"
   },
   {
    "duration": 289,
    "start_time": "2022-06-11T12:57:54.985Z"
   },
   {
    "duration": 88,
    "start_time": "2022-06-11T12:57:55.276Z"
   },
   {
    "duration": 27,
    "start_time": "2022-06-11T12:57:55.366Z"
   },
   {
    "duration": 149,
    "start_time": "2022-06-11T12:57:55.395Z"
   },
   {
    "duration": 15,
    "start_time": "2022-06-11T12:57:55.546Z"
   },
   {
    "duration": 7,
    "start_time": "2022-06-11T12:57:55.562Z"
   },
   {
    "duration": 144,
    "start_time": "2022-06-11T12:57:55.571Z"
   },
   {
    "duration": 15,
    "start_time": "2022-06-11T12:57:55.716Z"
   },
   {
    "duration": 35,
    "start_time": "2022-06-11T12:57:55.733Z"
   },
   {
    "duration": 52,
    "start_time": "2022-06-11T12:57:55.770Z"
   },
   {
    "duration": 54,
    "start_time": "2022-06-11T12:57:55.824Z"
   },
   {
    "duration": 38,
    "start_time": "2022-06-11T12:57:55.879Z"
   },
   {
    "duration": 22,
    "start_time": "2022-06-11T12:57:55.919Z"
   },
   {
    "duration": 29,
    "start_time": "2022-06-11T12:57:55.958Z"
   },
   {
    "duration": 21,
    "start_time": "2022-06-11T12:57:55.989Z"
   },
   {
    "duration": 90,
    "start_time": "2022-06-11T12:57:56.014Z"
   },
   {
    "duration": 15,
    "start_time": "2022-06-11T12:57:56.106Z"
   },
   {
    "duration": 12,
    "start_time": "2022-06-11T12:57:56.123Z"
   },
   {
    "duration": 36,
    "start_time": "2022-06-11T12:57:56.137Z"
   },
   {
    "duration": 265,
    "start_time": "2022-06-11T12:57:56.174Z"
   },
   {
    "duration": 28,
    "start_time": "2022-06-11T12:57:56.440Z"
   },
   {
    "duration": 10,
    "start_time": "2022-06-11T12:57:56.470Z"
   },
   {
    "duration": 21,
    "start_time": "2022-06-11T12:57:56.482Z"
   },
   {
    "duration": 13,
    "start_time": "2022-06-11T12:57:56.505Z"
   },
   {
    "duration": 40,
    "start_time": "2022-06-11T12:57:56.520Z"
   },
   {
    "duration": 15,
    "start_time": "2022-06-11T12:57:56.561Z"
   },
   {
    "duration": 14,
    "start_time": "2022-06-11T12:57:56.577Z"
   },
   {
    "duration": 344,
    "start_time": "2022-06-11T12:57:56.592Z"
   },
   {
    "duration": 9,
    "start_time": "2022-06-11T12:57:56.937Z"
   },
   {
    "duration": 259,
    "start_time": "2022-06-11T12:57:56.948Z"
   },
   {
    "duration": 138,
    "start_time": "2022-06-11T12:57:57.209Z"
   },
   {
    "duration": 11,
    "start_time": "2022-06-11T12:57:57.349Z"
   },
   {
    "duration": 404,
    "start_time": "2022-06-11T12:57:57.363Z"
   },
   {
    "duration": 317,
    "start_time": "2022-06-11T12:57:57.769Z"
   },
   {
    "duration": 275,
    "start_time": "2022-06-11T12:57:58.088Z"
   },
   {
    "duration": 96,
    "start_time": "2022-06-11T12:57:58.364Z"
   },
   {
    "duration": 6,
    "start_time": "2022-06-11T12:57:58.462Z"
   },
   {
    "duration": 182,
    "start_time": "2022-06-11T12:57:58.469Z"
   },
   {
    "duration": 16,
    "start_time": "2022-06-11T12:57:58.652Z"
   },
   {
    "duration": 26,
    "start_time": "2022-06-11T12:57:58.669Z"
   },
   {
    "duration": 39,
    "start_time": "2022-06-11T12:57:58.696Z"
   },
   {
    "duration": 19,
    "start_time": "2022-06-11T12:57:58.737Z"
   },
   {
    "duration": 48,
    "start_time": "2022-06-11T12:57:58.759Z"
   },
   {
    "duration": 75,
    "start_time": "2022-06-11T12:57:58.809Z"
   },
   {
    "duration": 21,
    "start_time": "2022-06-11T12:57:58.886Z"
   },
   {
    "duration": 326,
    "start_time": "2022-06-11T12:57:58.909Z"
   },
   {
    "duration": 3,
    "start_time": "2022-06-11T12:57:59.237Z"
   },
   {
    "duration": 33,
    "start_time": "2022-06-11T12:57:59.242Z"
   },
   {
    "duration": 2,
    "start_time": "2022-06-11T12:57:59.277Z"
   },
   {
    "duration": 44,
    "start_time": "2022-06-11T12:57:59.281Z"
   },
   {
    "duration": 15,
    "start_time": "2022-06-11T12:57:59.326Z"
   },
   {
    "duration": 29,
    "start_time": "2022-06-11T12:57:59.343Z"
   },
   {
    "duration": 29,
    "start_time": "2022-06-11T12:57:59.373Z"
   },
   {
    "duration": 48,
    "start_time": "2022-06-11T12:57:59.403Z"
   },
   {
    "duration": 343,
    "start_time": "2022-06-11T12:57:59.453Z"
   },
   {
    "duration": 250,
    "start_time": "2022-06-11T12:57:59.797Z"
   },
   {
    "duration": 3,
    "start_time": "2022-06-11T12:58:00.049Z"
   },
   {
    "duration": 21,
    "start_time": "2022-06-11T12:58:00.054Z"
   },
   {
    "duration": 21,
    "start_time": "2022-06-11T12:58:00.077Z"
   },
   {
    "duration": 9,
    "start_time": "2022-06-11T12:58:00.099Z"
   },
   {
    "duration": 27,
    "start_time": "2022-06-11T12:58:00.110Z"
   },
   {
    "duration": 152,
    "start_time": "2022-06-11T13:01:16.899Z"
   },
   {
    "duration": 2,
    "start_time": "2022-06-11T13:05:02.939Z"
   },
   {
    "duration": 29,
    "start_time": "2022-06-11T13:15:56.904Z"
   },
   {
    "duration": 17,
    "start_time": "2022-06-11T13:26:43.640Z"
   },
   {
    "duration": 7,
    "start_time": "2022-06-11T13:33:28.447Z"
   },
   {
    "duration": 8,
    "start_time": "2022-06-11T13:39:10.121Z"
   },
   {
    "duration": 27,
    "start_time": "2022-06-11T13:39:28.648Z"
   },
   {
    "duration": 3,
    "start_time": "2022-06-11T13:42:03.423Z"
   },
   {
    "duration": 15,
    "start_time": "2022-06-11T14:07:44.336Z"
   },
   {
    "duration": 1212,
    "start_time": "2022-06-11T14:20:46.665Z"
   },
   {
    "duration": 259,
    "start_time": "2022-06-11T14:20:47.878Z"
   },
   {
    "duration": 152,
    "start_time": "2022-06-11T14:20:48.139Z"
   },
   {
    "duration": 35,
    "start_time": "2022-06-11T14:20:48.293Z"
   },
   {
    "duration": 140,
    "start_time": "2022-06-11T14:20:48.329Z"
   },
   {
    "duration": 127,
    "start_time": "2022-06-11T14:20:48.471Z"
   },
   {
    "duration": 10,
    "start_time": "2022-06-11T14:20:48.599Z"
   },
   {
    "duration": 12,
    "start_time": "2022-06-11T14:20:48.611Z"
   },
   {
    "duration": 293,
    "start_time": "2022-06-11T14:20:48.625Z"
   },
   {
    "duration": 12,
    "start_time": "2022-06-11T14:20:48.921Z"
   },
   {
    "duration": 168,
    "start_time": "2022-06-11T14:20:48.934Z"
   },
   {
    "duration": 16,
    "start_time": "2022-06-11T14:20:49.104Z"
   },
   {
    "duration": 216,
    "start_time": "2022-06-11T14:20:49.121Z"
   },
   {
    "duration": 46,
    "start_time": "2022-06-11T14:20:49.339Z"
   },
   {
    "duration": 25,
    "start_time": "2022-06-11T14:20:49.387Z"
   },
   {
    "duration": 120,
    "start_time": "2022-06-11T14:20:49.413Z"
   },
   {
    "duration": 23,
    "start_time": "2022-06-11T14:20:49.535Z"
   },
   {
    "duration": 4,
    "start_time": "2022-06-11T14:20:49.560Z"
   },
   {
    "duration": 163,
    "start_time": "2022-06-11T14:20:49.566Z"
   },
   {
    "duration": 31,
    "start_time": "2022-06-11T14:20:49.730Z"
   },
   {
    "duration": 19,
    "start_time": "2022-06-11T14:20:49.763Z"
   },
   {
    "duration": 50,
    "start_time": "2022-06-11T14:20:49.784Z"
   },
   {
    "duration": 53,
    "start_time": "2022-06-11T14:20:49.836Z"
   },
   {
    "duration": 39,
    "start_time": "2022-06-11T14:20:49.890Z"
   },
   {
    "duration": 44,
    "start_time": "2022-06-11T14:20:49.930Z"
   },
   {
    "duration": 21,
    "start_time": "2022-06-11T14:20:49.976Z"
   },
   {
    "duration": 15,
    "start_time": "2022-06-11T14:20:49.999Z"
   },
   {
    "duration": 82,
    "start_time": "2022-06-11T14:20:50.017Z"
   },
   {
    "duration": 14,
    "start_time": "2022-06-11T14:20:50.100Z"
   },
   {
    "duration": 9,
    "start_time": "2022-06-11T14:20:50.115Z"
   },
   {
    "duration": 34,
    "start_time": "2022-06-11T14:20:50.125Z"
   },
   {
    "duration": 266,
    "start_time": "2022-06-11T14:20:50.160Z"
   },
   {
    "duration": 31,
    "start_time": "2022-06-11T14:20:50.428Z"
   },
   {
    "duration": 13,
    "start_time": "2022-06-11T14:20:50.461Z"
   },
   {
    "duration": 11,
    "start_time": "2022-06-11T14:20:50.475Z"
   },
   {
    "duration": 22,
    "start_time": "2022-06-11T14:20:50.488Z"
   },
   {
    "duration": 26,
    "start_time": "2022-06-11T14:20:50.511Z"
   },
   {
    "duration": 33,
    "start_time": "2022-06-11T14:20:50.538Z"
   },
   {
    "duration": 14,
    "start_time": "2022-06-11T14:20:50.572Z"
   },
   {
    "duration": 15,
    "start_time": "2022-06-11T14:20:50.588Z"
   },
   {
    "duration": 359,
    "start_time": "2022-06-11T14:20:50.605Z"
   },
   {
    "duration": 10,
    "start_time": "2022-06-11T14:20:50.965Z"
   },
   {
    "duration": 242,
    "start_time": "2022-06-11T14:20:50.976Z"
   },
   {
    "duration": 93,
    "start_time": "2022-06-11T14:20:51.220Z"
   },
   {
    "duration": 6,
    "start_time": "2022-06-11T14:20:51.314Z"
   },
   {
    "duration": 388,
    "start_time": "2022-06-11T14:20:51.321Z"
   },
   {
    "duration": 326,
    "start_time": "2022-06-11T14:20:51.711Z"
   },
   {
    "duration": 287,
    "start_time": "2022-06-11T14:20:52.039Z"
   },
   {
    "duration": 99,
    "start_time": "2022-06-11T14:20:52.327Z"
   },
   {
    "duration": 6,
    "start_time": "2022-06-11T14:20:52.428Z"
   },
   {
    "duration": 170,
    "start_time": "2022-06-11T14:20:52.436Z"
   },
   {
    "duration": 12,
    "start_time": "2022-06-11T14:20:52.608Z"
   },
   {
    "duration": 15,
    "start_time": "2022-06-11T14:20:52.621Z"
   },
   {
    "duration": 33,
    "start_time": "2022-06-11T14:20:52.638Z"
   },
   {
    "duration": 12,
    "start_time": "2022-06-11T14:20:52.673Z"
   },
   {
    "duration": 26,
    "start_time": "2022-06-11T14:20:52.686Z"
   },
   {
    "duration": 97,
    "start_time": "2022-06-11T14:20:52.713Z"
   },
   {
    "duration": 22,
    "start_time": "2022-06-11T14:20:52.811Z"
   },
   {
    "duration": 338,
    "start_time": "2022-06-11T14:20:52.834Z"
   },
   {
    "duration": 16,
    "start_time": "2022-06-11T14:20:53.174Z"
   },
   {
    "duration": 6,
    "start_time": "2022-06-11T14:20:53.191Z"
   },
   {
    "duration": 13,
    "start_time": "2022-06-11T14:20:53.199Z"
   },
   {
    "duration": 48,
    "start_time": "2022-06-11T14:20:53.214Z"
   },
   {
    "duration": 7,
    "start_time": "2022-06-11T14:20:53.264Z"
   },
   {
    "duration": 18,
    "start_time": "2022-06-11T14:20:53.272Z"
   },
   {
    "duration": 14,
    "start_time": "2022-06-11T14:20:53.292Z"
   },
   {
    "duration": 14,
    "start_time": "2022-06-11T14:20:53.308Z"
   },
   {
    "duration": 44,
    "start_time": "2022-06-11T14:20:53.323Z"
   },
   {
    "duration": 41,
    "start_time": "2022-06-11T14:20:53.371Z"
   },
   {
    "duration": 334,
    "start_time": "2022-06-11T14:20:53.414Z"
   },
   {
    "duration": 243,
    "start_time": "2022-06-11T14:20:53.749Z"
   },
   {
    "duration": 3,
    "start_time": "2022-06-11T14:20:53.993Z"
   },
   {
    "duration": 8,
    "start_time": "2022-06-11T14:20:53.998Z"
   },
   {
    "duration": 10,
    "start_time": "2022-06-11T14:20:54.008Z"
   },
   {
    "duration": 7,
    "start_time": "2022-06-11T14:20:54.019Z"
   },
   {
    "duration": 40,
    "start_time": "2022-06-11T14:20:54.028Z"
   },
   {
    "duration": 1199,
    "start_time": "2022-06-11T14:28:59.048Z"
   },
   {
    "duration": 266,
    "start_time": "2022-06-11T14:29:00.249Z"
   },
   {
    "duration": 156,
    "start_time": "2022-06-11T14:29:00.517Z"
   },
   {
    "duration": 38,
    "start_time": "2022-06-11T14:29:00.675Z"
   },
   {
    "duration": 153,
    "start_time": "2022-06-11T14:29:00.715Z"
   },
   {
    "duration": 126,
    "start_time": "2022-06-11T14:29:00.869Z"
   },
   {
    "duration": 11,
    "start_time": "2022-06-11T14:29:00.996Z"
   },
   {
    "duration": 13,
    "start_time": "2022-06-11T14:29:01.008Z"
   },
   {
    "duration": 313,
    "start_time": "2022-06-11T14:29:01.022Z"
   },
   {
    "duration": 23,
    "start_time": "2022-06-11T14:29:01.337Z"
   },
   {
    "duration": 165,
    "start_time": "2022-06-11T14:29:01.362Z"
   },
   {
    "duration": 18,
    "start_time": "2022-06-11T14:29:01.529Z"
   },
   {
    "duration": 218,
    "start_time": "2022-06-11T14:29:01.559Z"
   },
   {
    "duration": 38,
    "start_time": "2022-06-11T14:29:01.779Z"
   },
   {
    "duration": 50,
    "start_time": "2022-06-11T14:29:01.819Z"
   },
   {
    "duration": 120,
    "start_time": "2022-06-11T14:29:01.871Z"
   },
   {
    "duration": 4,
    "start_time": "2022-06-11T14:29:01.993Z"
   },
   {
    "duration": 7,
    "start_time": "2022-06-11T14:29:01.999Z"
   },
   {
    "duration": 152,
    "start_time": "2022-06-11T14:29:02.007Z"
   },
   {
    "duration": 16,
    "start_time": "2022-06-11T14:29:02.161Z"
   },
   {
    "duration": 18,
    "start_time": "2022-06-11T14:29:02.178Z"
   },
   {
    "duration": 79,
    "start_time": "2022-06-11T14:29:02.198Z"
   },
   {
    "duration": 39,
    "start_time": "2022-06-11T14:29:02.279Z"
   },
   {
    "duration": 53,
    "start_time": "2022-06-11T14:29:02.320Z"
   },
   {
    "duration": 23,
    "start_time": "2022-06-11T14:29:02.375Z"
   },
   {
    "duration": 21,
    "start_time": "2022-06-11T14:29:02.400Z"
   },
   {
    "duration": 43,
    "start_time": "2022-06-11T14:29:02.423Z"
   },
   {
    "duration": 54,
    "start_time": "2022-06-11T14:29:02.470Z"
   },
   {
    "duration": 14,
    "start_time": "2022-06-11T14:29:02.526Z"
   },
   {
    "duration": 23,
    "start_time": "2022-06-11T14:29:02.542Z"
   },
   {
    "duration": 21,
    "start_time": "2022-06-11T14:29:02.566Z"
   },
   {
    "duration": 266,
    "start_time": "2022-06-11T14:29:02.588Z"
   },
   {
    "duration": 19,
    "start_time": "2022-06-11T14:29:02.859Z"
   },
   {
    "duration": 13,
    "start_time": "2022-06-11T14:29:02.880Z"
   },
   {
    "duration": 10,
    "start_time": "2022-06-11T14:29:02.894Z"
   },
   {
    "duration": 16,
    "start_time": "2022-06-11T14:29:02.906Z"
   },
   {
    "duration": 40,
    "start_time": "2022-06-11T14:29:02.923Z"
   },
   {
    "duration": 20,
    "start_time": "2022-06-11T14:29:02.964Z"
   },
   {
    "duration": 17,
    "start_time": "2022-06-11T14:29:02.986Z"
   },
   {
    "duration": 28,
    "start_time": "2022-06-11T14:29:03.004Z"
   },
   {
    "duration": 349,
    "start_time": "2022-06-11T14:29:03.034Z"
   },
   {
    "duration": 10,
    "start_time": "2022-06-11T14:29:03.384Z"
   },
   {
    "duration": 250,
    "start_time": "2022-06-11T14:29:03.396Z"
   },
   {
    "duration": 91,
    "start_time": "2022-06-11T14:29:03.647Z"
   },
   {
    "duration": 6,
    "start_time": "2022-06-11T14:29:03.740Z"
   },
   {
    "duration": 381,
    "start_time": "2022-06-11T14:29:03.758Z"
   },
   {
    "duration": 309,
    "start_time": "2022-06-11T14:29:04.141Z"
   },
   {
    "duration": 281,
    "start_time": "2022-06-11T14:29:04.458Z"
   },
   {
    "duration": 103,
    "start_time": "2022-06-11T14:29:04.740Z"
   },
   {
    "duration": 7,
    "start_time": "2022-06-11T14:29:04.844Z"
   },
   {
    "duration": 165,
    "start_time": "2022-06-11T14:29:04.859Z"
   },
   {
    "duration": 11,
    "start_time": "2022-06-11T14:29:05.026Z"
   },
   {
    "duration": 24,
    "start_time": "2022-06-11T14:29:05.039Z"
   },
   {
    "duration": 19,
    "start_time": "2022-06-11T14:29:05.065Z"
   },
   {
    "duration": 10,
    "start_time": "2022-06-11T14:29:05.086Z"
   },
   {
    "duration": 28,
    "start_time": "2022-06-11T14:29:05.098Z"
   },
   {
    "duration": 82,
    "start_time": "2022-06-11T14:29:05.128Z"
   },
   {
    "duration": 24,
    "start_time": "2022-06-11T14:29:05.211Z"
   },
   {
    "duration": 325,
    "start_time": "2022-06-11T14:29:05.236Z"
   },
   {
    "duration": 18,
    "start_time": "2022-06-11T14:29:05.562Z"
   },
   {
    "duration": 10,
    "start_time": "2022-06-11T14:29:05.581Z"
   },
   {
    "duration": 17,
    "start_time": "2022-06-11T14:29:05.593Z"
   },
   {
    "duration": 20,
    "start_time": "2022-06-11T14:29:05.612Z"
   },
   {
    "duration": 28,
    "start_time": "2022-06-11T14:29:05.633Z"
   },
   {
    "duration": 15,
    "start_time": "2022-06-11T14:29:05.662Z"
   },
   {
    "duration": 14,
    "start_time": "2022-06-11T14:29:05.679Z"
   },
   {
    "duration": 15,
    "start_time": "2022-06-11T14:29:05.695Z"
   },
   {
    "duration": 18,
    "start_time": "2022-06-11T14:29:05.711Z"
   },
   {
    "duration": 69,
    "start_time": "2022-06-11T14:29:05.730Z"
   },
   {
    "duration": 360,
    "start_time": "2022-06-11T14:29:05.801Z"
   },
   {
    "duration": 259,
    "start_time": "2022-06-11T14:29:06.162Z"
   },
   {
    "duration": 3,
    "start_time": "2022-06-11T14:29:06.422Z"
   },
   {
    "duration": 9,
    "start_time": "2022-06-11T14:29:06.427Z"
   },
   {
    "duration": 21,
    "start_time": "2022-06-11T14:29:06.438Z"
   },
   {
    "duration": 8,
    "start_time": "2022-06-11T14:29:06.461Z"
   },
   {
    "duration": 15,
    "start_time": "2022-06-11T14:29:06.471Z"
   },
   {
    "duration": 397,
    "start_time": "2022-06-11T16:56:28.705Z"
   },
   {
    "duration": 187,
    "start_time": "2022-06-11T17:01:46.042Z"
   },
   {
    "duration": 190,
    "start_time": "2022-06-11T17:02:13.932Z"
   },
   {
    "duration": 198,
    "start_time": "2022-06-11T17:02:27.535Z"
   },
   {
    "duration": 202,
    "start_time": "2022-06-11T17:03:56.104Z"
   },
   {
    "duration": 352,
    "start_time": "2022-06-11T17:09:28.953Z"
   },
   {
    "duration": 387,
    "start_time": "2022-06-11T17:10:31.656Z"
   },
   {
    "duration": 267,
    "start_time": "2022-06-11T17:12:09.122Z"
   },
   {
    "duration": 1260,
    "start_time": "2022-06-11T18:13:29.412Z"
   },
   {
    "duration": 640,
    "start_time": "2022-06-11T18:13:30.675Z"
   },
   {
    "duration": 176,
    "start_time": "2022-06-11T18:13:31.316Z"
   },
   {
    "duration": 71,
    "start_time": "2022-06-11T18:13:31.494Z"
   },
   {
    "duration": 136,
    "start_time": "2022-06-11T18:13:31.568Z"
   },
   {
    "duration": 135,
    "start_time": "2022-06-11T18:13:31.706Z"
   },
   {
    "duration": 29,
    "start_time": "2022-06-11T18:13:31.844Z"
   },
   {
    "duration": 17,
    "start_time": "2022-06-11T18:13:31.876Z"
   },
   {
    "duration": 330,
    "start_time": "2022-06-11T18:13:31.895Z"
   },
   {
    "duration": 14,
    "start_time": "2022-06-11T18:13:32.228Z"
   },
   {
    "duration": 166,
    "start_time": "2022-06-11T18:13:32.259Z"
   },
   {
    "duration": 33,
    "start_time": "2022-06-11T18:13:32.427Z"
   },
   {
    "duration": 215,
    "start_time": "2022-06-11T18:13:32.462Z"
   },
   {
    "duration": 39,
    "start_time": "2022-06-11T18:13:32.679Z"
   },
   {
    "duration": 52,
    "start_time": "2022-06-11T18:13:32.720Z"
   },
   {
    "duration": 135,
    "start_time": "2022-06-11T18:13:32.774Z"
   },
   {
    "duration": 5,
    "start_time": "2022-06-11T18:13:32.910Z"
   },
   {
    "duration": 11,
    "start_time": "2022-06-11T18:13:32.916Z"
   },
   {
    "duration": 175,
    "start_time": "2022-06-11T18:13:32.929Z"
   },
   {
    "duration": 17,
    "start_time": "2022-06-11T18:13:33.105Z"
   },
   {
    "duration": 31,
    "start_time": "2022-06-11T18:13:33.123Z"
   },
   {
    "duration": 53,
    "start_time": "2022-06-11T18:13:33.158Z"
   },
   {
    "duration": 59,
    "start_time": "2022-06-11T18:13:33.213Z"
   },
   {
    "duration": 37,
    "start_time": "2022-06-11T18:13:33.274Z"
   },
   {
    "duration": 25,
    "start_time": "2022-06-11T18:13:33.312Z"
   },
   {
    "duration": 35,
    "start_time": "2022-06-11T18:13:33.339Z"
   },
   {
    "duration": 17,
    "start_time": "2022-06-11T18:13:33.376Z"
   },
   {
    "duration": 77,
    "start_time": "2022-06-11T18:13:33.397Z"
   },
   {
    "duration": 15,
    "start_time": "2022-06-11T18:13:33.475Z"
   },
   {
    "duration": 9,
    "start_time": "2022-06-11T18:13:33.492Z"
   },
   {
    "duration": 21,
    "start_time": "2022-06-11T18:13:33.502Z"
   },
   {
    "duration": 293,
    "start_time": "2022-06-11T18:13:33.524Z"
   },
   {
    "duration": 21,
    "start_time": "2022-06-11T18:13:33.819Z"
   },
   {
    "duration": 26,
    "start_time": "2022-06-11T18:13:33.842Z"
   },
   {
    "duration": 11,
    "start_time": "2022-06-11T18:13:33.870Z"
   },
   {
    "duration": 20,
    "start_time": "2022-06-11T18:13:33.882Z"
   },
   {
    "duration": 259,
    "start_time": "2022-06-11T18:13:33.904Z"
   },
   {
    "duration": 13,
    "start_time": "2022-06-11T18:13:34.164Z"
   },
   {
    "duration": 25,
    "start_time": "2022-06-11T18:13:34.179Z"
   },
   {
    "duration": 18,
    "start_time": "2022-06-11T18:13:34.206Z"
   },
   {
    "duration": 45,
    "start_time": "2022-06-11T18:13:34.226Z"
   },
   {
    "duration": 353,
    "start_time": "2022-06-11T18:13:34.272Z"
   },
   {
    "duration": 9,
    "start_time": "2022-06-11T18:13:34.627Z"
   },
   {
    "duration": 254,
    "start_time": "2022-06-11T18:13:34.638Z"
   },
   {
    "duration": 103,
    "start_time": "2022-06-11T18:13:34.894Z"
   },
   {
    "duration": 7,
    "start_time": "2022-06-11T18:13:34.999Z"
   },
   {
    "duration": 446,
    "start_time": "2022-06-11T18:13:35.008Z"
   },
   {
    "duration": 340,
    "start_time": "2022-06-11T18:13:35.458Z"
   },
   {
    "duration": 300,
    "start_time": "2022-06-11T18:13:35.799Z"
   },
   {
    "duration": 107,
    "start_time": "2022-06-11T18:13:36.101Z"
   },
   {
    "duration": 7,
    "start_time": "2022-06-11T18:13:36.210Z"
   },
   {
    "duration": 181,
    "start_time": "2022-06-11T18:13:36.219Z"
   },
   {
    "duration": 12,
    "start_time": "2022-06-11T18:13:36.402Z"
   },
   {
    "duration": 16,
    "start_time": "2022-06-11T18:13:36.416Z"
   },
   {
    "duration": 37,
    "start_time": "2022-06-11T18:13:36.434Z"
   },
   {
    "duration": 13,
    "start_time": "2022-06-11T18:13:36.473Z"
   },
   {
    "duration": 30,
    "start_time": "2022-06-11T18:13:36.489Z"
   },
   {
    "duration": 102,
    "start_time": "2022-06-11T18:13:36.521Z"
   },
   {
    "duration": 35,
    "start_time": "2022-06-11T18:13:36.625Z"
   },
   {
    "duration": 321,
    "start_time": "2022-06-11T18:13:36.661Z"
   },
   {
    "duration": 16,
    "start_time": "2022-06-11T18:13:36.984Z"
   },
   {
    "duration": 6,
    "start_time": "2022-06-11T18:13:37.002Z"
   },
   {
    "duration": 19,
    "start_time": "2022-06-11T18:13:37.009Z"
   },
   {
    "duration": 43,
    "start_time": "2022-06-11T18:13:37.030Z"
   },
   {
    "duration": 8,
    "start_time": "2022-06-11T18:13:37.075Z"
   },
   {
    "duration": 18,
    "start_time": "2022-06-11T18:13:37.085Z"
   },
   {
    "duration": 15,
    "start_time": "2022-06-11T18:13:37.104Z"
   },
   {
    "duration": 39,
    "start_time": "2022-06-11T18:13:37.121Z"
   },
   {
    "duration": 15,
    "start_time": "2022-06-11T18:13:37.162Z"
   },
   {
    "duration": 41,
    "start_time": "2022-06-11T18:13:37.179Z"
   },
   {
    "duration": 1441,
    "start_time": "2022-06-11T18:13:37.222Z"
   },
   {
    "duration": 262,
    "start_time": "2022-06-11T18:13:38.664Z"
   },
   {
    "duration": 4,
    "start_time": "2022-06-11T18:13:38.927Z"
   },
   {
    "duration": 16,
    "start_time": "2022-06-11T18:13:38.933Z"
   },
   {
    "duration": 24,
    "start_time": "2022-06-11T18:13:38.951Z"
   },
   {
    "duration": 10,
    "start_time": "2022-06-11T18:13:38.977Z"
   },
   {
    "duration": 23,
    "start_time": "2022-06-11T18:13:38.989Z"
   },
   {
    "duration": 1263,
    "start_time": "2022-06-12T12:52:52.486Z"
   },
   {
    "duration": 897,
    "start_time": "2022-06-12T12:52:53.751Z"
   },
   {
    "duration": 127,
    "start_time": "2022-06-12T12:52:54.650Z"
   },
   {
    "duration": 30,
    "start_time": "2022-06-12T12:52:54.778Z"
   },
   {
    "duration": 111,
    "start_time": "2022-06-12T12:52:54.825Z"
   },
   {
    "duration": 115,
    "start_time": "2022-06-12T12:52:54.937Z"
   },
   {
    "duration": 11,
    "start_time": "2022-06-12T12:52:55.054Z"
   },
   {
    "duration": 14,
    "start_time": "2022-06-12T12:52:55.067Z"
   },
   {
    "duration": 314,
    "start_time": "2022-06-12T12:52:55.083Z"
   },
   {
    "duration": 12,
    "start_time": "2022-06-12T12:52:55.399Z"
   },
   {
    "duration": 160,
    "start_time": "2022-06-12T12:52:55.412Z"
   },
   {
    "duration": 17,
    "start_time": "2022-06-12T12:52:55.573Z"
   },
   {
    "duration": 200,
    "start_time": "2022-06-12T12:52:55.591Z"
   },
   {
    "duration": 38,
    "start_time": "2022-06-12T12:52:55.792Z"
   },
   {
    "duration": 29,
    "start_time": "2022-06-12T12:52:55.832Z"
   },
   {
    "duration": 107,
    "start_time": "2022-06-12T12:52:55.862Z"
   },
   {
    "duration": 4,
    "start_time": "2022-06-12T12:52:55.970Z"
   },
   {
    "duration": 6,
    "start_time": "2022-06-12T12:52:55.976Z"
   },
   {
    "duration": 137,
    "start_time": "2022-06-12T12:52:55.984Z"
   },
   {
    "duration": 14,
    "start_time": "2022-06-12T12:52:56.122Z"
   },
   {
    "duration": 16,
    "start_time": "2022-06-12T12:52:56.137Z"
   },
   {
    "duration": 45,
    "start_time": "2022-06-12T12:52:56.154Z"
   },
   {
    "duration": 58,
    "start_time": "2022-06-12T12:52:56.200Z"
   },
   {
    "duration": 32,
    "start_time": "2022-06-12T12:52:56.259Z"
   },
   {
    "duration": 36,
    "start_time": "2022-06-12T12:52:56.293Z"
   },
   {
    "duration": 17,
    "start_time": "2022-06-12T12:52:56.331Z"
   },
   {
    "duration": 14,
    "start_time": "2022-06-12T12:52:56.349Z"
   },
   {
    "duration": 70,
    "start_time": "2022-06-12T12:52:56.366Z"
   },
   {
    "duration": 12,
    "start_time": "2022-06-12T12:52:56.438Z"
   },
   {
    "duration": 8,
    "start_time": "2022-06-12T12:52:56.451Z"
   },
   {
    "duration": 25,
    "start_time": "2022-06-12T12:52:56.460Z"
   },
   {
    "duration": 261,
    "start_time": "2022-06-12T12:52:56.489Z"
   },
   {
    "duration": 20,
    "start_time": "2022-06-12T12:52:56.751Z"
   },
   {
    "duration": 15,
    "start_time": "2022-06-12T12:52:56.773Z"
   },
   {
    "duration": 11,
    "start_time": "2022-06-12T12:52:56.790Z"
   },
   {
    "duration": 19,
    "start_time": "2022-06-12T12:52:56.826Z"
   },
   {
    "duration": 214,
    "start_time": "2022-06-12T12:52:56.847Z"
   },
   {
    "duration": 11,
    "start_time": "2022-06-12T12:52:57.062Z"
   },
   {
    "duration": 19,
    "start_time": "2022-06-12T12:52:57.074Z"
   },
   {
    "duration": 32,
    "start_time": "2022-06-12T12:52:57.095Z"
   },
   {
    "duration": 13,
    "start_time": "2022-06-12T12:52:57.128Z"
   },
   {
    "duration": 322,
    "start_time": "2022-06-12T12:52:57.142Z"
   },
   {
    "duration": 8,
    "start_time": "2022-06-12T12:52:57.466Z"
   },
   {
    "duration": 240,
    "start_time": "2022-06-12T12:52:57.475Z"
   },
   {
    "duration": 79,
    "start_time": "2022-06-12T12:52:57.716Z"
   },
   {
    "duration": 5,
    "start_time": "2022-06-12T12:52:57.797Z"
   },
   {
    "duration": 391,
    "start_time": "2022-06-12T12:52:57.804Z"
   },
   {
    "duration": 319,
    "start_time": "2022-06-12T12:52:58.197Z"
   },
   {
    "duration": 294,
    "start_time": "2022-06-12T12:52:58.518Z"
   },
   {
    "duration": 104,
    "start_time": "2022-06-12T12:52:58.813Z"
   },
   {
    "duration": 10,
    "start_time": "2022-06-12T12:52:58.919Z"
   },
   {
    "duration": 166,
    "start_time": "2022-06-12T12:52:58.930Z"
   },
   {
    "duration": 11,
    "start_time": "2022-06-12T12:52:59.097Z"
   },
   {
    "duration": 21,
    "start_time": "2022-06-12T12:52:59.109Z"
   },
   {
    "duration": 19,
    "start_time": "2022-06-12T12:52:59.132Z"
   },
   {
    "duration": 9,
    "start_time": "2022-06-12T12:52:59.153Z"
   },
   {
    "duration": 27,
    "start_time": "2022-06-12T12:52:59.164Z"
   },
   {
    "duration": 87,
    "start_time": "2022-06-12T12:52:59.192Z"
   },
   {
    "duration": 22,
    "start_time": "2022-06-12T12:52:59.280Z"
   },
   {
    "duration": 289,
    "start_time": "2022-06-12T12:52:59.303Z"
   },
   {
    "duration": 16,
    "start_time": "2022-06-12T12:52:59.594Z"
   },
   {
    "duration": 18,
    "start_time": "2022-06-12T12:52:59.611Z"
   },
   {
    "duration": 11,
    "start_time": "2022-06-12T12:52:59.631Z"
   },
   {
    "duration": 21,
    "start_time": "2022-06-12T12:52:59.644Z"
   },
   {
    "duration": 8,
    "start_time": "2022-06-12T12:52:59.667Z"
   },
   {
    "duration": 18,
    "start_time": "2022-06-12T12:52:59.676Z"
   },
   {
    "duration": 37,
    "start_time": "2022-06-12T12:52:59.695Z"
   },
   {
    "duration": 13,
    "start_time": "2022-06-12T12:52:59.733Z"
   },
   {
    "duration": 14,
    "start_time": "2022-06-12T12:52:59.747Z"
   },
   {
    "duration": 38,
    "start_time": "2022-06-12T12:52:59.762Z"
   },
   {
    "duration": 325,
    "start_time": "2022-06-12T12:52:59.826Z"
   },
   {
    "duration": 226,
    "start_time": "2022-06-12T12:53:00.153Z"
   },
   {
    "duration": 2,
    "start_time": "2022-06-12T12:53:00.381Z"
   },
   {
    "duration": 11,
    "start_time": "2022-06-12T12:53:00.385Z"
   },
   {
    "duration": 12,
    "start_time": "2022-06-12T12:53:00.397Z"
   },
   {
    "duration": 22,
    "start_time": "2022-06-12T12:53:00.411Z"
   },
   {
    "duration": 14,
    "start_time": "2022-06-12T12:53:00.434Z"
   },
   {
    "duration": 1380,
    "start_time": "2022-06-12T20:18:02.085Z"
   },
   {
    "duration": 931,
    "start_time": "2022-06-12T20:18:03.468Z"
   },
   {
    "duration": 163,
    "start_time": "2022-06-12T20:18:04.401Z"
   },
   {
    "duration": 33,
    "start_time": "2022-06-12T20:18:04.566Z"
   },
   {
    "duration": 129,
    "start_time": "2022-06-12T20:18:04.600Z"
   },
   {
    "duration": 126,
    "start_time": "2022-06-12T20:18:04.730Z"
   },
   {
    "duration": 10,
    "start_time": "2022-06-12T20:18:04.858Z"
   },
   {
    "duration": 13,
    "start_time": "2022-06-12T20:18:04.869Z"
   },
   {
    "duration": 318,
    "start_time": "2022-06-12T20:18:04.884Z"
   },
   {
    "duration": 36,
    "start_time": "2022-06-12T20:18:05.205Z"
   },
   {
    "duration": 164,
    "start_time": "2022-06-12T20:18:05.243Z"
   },
   {
    "duration": 30,
    "start_time": "2022-06-12T20:18:05.409Z"
   },
   {
    "duration": 200,
    "start_time": "2022-06-12T20:18:05.441Z"
   },
   {
    "duration": 34,
    "start_time": "2022-06-12T20:18:05.642Z"
   },
   {
    "duration": 27,
    "start_time": "2022-06-12T20:18:05.678Z"
   },
   {
    "duration": 123,
    "start_time": "2022-06-12T20:18:05.726Z"
   },
   {
    "duration": 4,
    "start_time": "2022-06-12T20:18:05.850Z"
   },
   {
    "duration": 7,
    "start_time": "2022-06-12T20:18:05.855Z"
   },
   {
    "duration": 146,
    "start_time": "2022-06-12T20:18:05.864Z"
   },
   {
    "duration": 36,
    "start_time": "2022-06-12T20:18:06.012Z"
   },
   {
    "duration": 18,
    "start_time": "2022-06-12T20:18:06.050Z"
   },
   {
    "duration": 49,
    "start_time": "2022-06-12T20:18:06.069Z"
   },
   {
    "duration": 43,
    "start_time": "2022-06-12T20:18:06.130Z"
   },
   {
    "duration": 40,
    "start_time": "2022-06-12T20:18:06.175Z"
   },
   {
    "duration": 27,
    "start_time": "2022-06-12T20:18:06.231Z"
   },
   {
    "duration": 19,
    "start_time": "2022-06-12T20:18:06.259Z"
   },
   {
    "duration": 14,
    "start_time": "2022-06-12T20:18:06.280Z"
   },
   {
    "duration": 77,
    "start_time": "2022-06-12T20:18:06.298Z"
   },
   {
    "duration": 14,
    "start_time": "2022-06-12T20:18:06.376Z"
   },
   {
    "duration": 8,
    "start_time": "2022-06-12T20:18:06.392Z"
   },
   {
    "duration": 41,
    "start_time": "2022-06-12T20:18:06.401Z"
   },
   {
    "duration": 258,
    "start_time": "2022-06-12T20:18:06.444Z"
   },
   {
    "duration": 33,
    "start_time": "2022-06-12T20:18:06.704Z"
   },
   {
    "duration": 19,
    "start_time": "2022-06-12T20:18:06.741Z"
   },
   {
    "duration": 13,
    "start_time": "2022-06-12T20:18:06.762Z"
   },
   {
    "duration": 33,
    "start_time": "2022-06-12T20:18:06.777Z"
   },
   {
    "duration": 221,
    "start_time": "2022-06-12T20:18:06.812Z"
   },
   {
    "duration": 13,
    "start_time": "2022-06-12T20:18:07.035Z"
   },
   {
    "duration": 26,
    "start_time": "2022-06-12T20:18:07.049Z"
   },
   {
    "duration": 15,
    "start_time": "2022-06-12T20:18:07.076Z"
   },
   {
    "duration": 47,
    "start_time": "2022-06-12T20:18:07.092Z"
   },
   {
    "duration": 341,
    "start_time": "2022-06-12T20:18:07.141Z"
   },
   {
    "duration": 10,
    "start_time": "2022-06-12T20:18:07.484Z"
   },
   {
    "duration": 272,
    "start_time": "2022-06-12T20:18:07.496Z"
   },
   {
    "duration": 97,
    "start_time": "2022-06-12T20:18:07.770Z"
   },
   {
    "duration": 7,
    "start_time": "2022-06-12T20:18:07.868Z"
   },
   {
    "duration": 406,
    "start_time": "2022-06-12T20:18:07.877Z"
   },
   {
    "duration": 375,
    "start_time": "2022-06-12T20:18:08.285Z"
   },
   {
    "duration": 352,
    "start_time": "2022-06-12T20:18:08.662Z"
   },
   {
    "duration": 124,
    "start_time": "2022-06-12T20:18:09.016Z"
   },
   {
    "duration": 8,
    "start_time": "2022-06-12T20:18:09.142Z"
   },
   {
    "duration": 201,
    "start_time": "2022-06-12T20:18:09.152Z"
   },
   {
    "duration": 17,
    "start_time": "2022-06-12T20:18:09.356Z"
   },
   {
    "duration": 20,
    "start_time": "2022-06-12T20:18:09.376Z"
   },
   {
    "duration": 48,
    "start_time": "2022-06-12T20:18:09.399Z"
   },
   {
    "duration": 12,
    "start_time": "2022-06-12T20:18:09.448Z"
   },
   {
    "duration": 27,
    "start_time": "2022-06-12T20:18:09.461Z"
   },
   {
    "duration": 103,
    "start_time": "2022-06-12T20:18:09.490Z"
   },
   {
    "duration": 25,
    "start_time": "2022-06-12T20:18:09.594Z"
   },
   {
    "duration": 340,
    "start_time": "2022-06-12T20:18:09.625Z"
   },
   {
    "duration": 20,
    "start_time": "2022-06-12T20:18:09.967Z"
   },
   {
    "duration": 15,
    "start_time": "2022-06-12T20:18:09.989Z"
   },
   {
    "duration": 30,
    "start_time": "2022-06-12T20:18:10.008Z"
   },
   {
    "duration": 24,
    "start_time": "2022-06-12T20:18:10.040Z"
   },
   {
    "duration": 9,
    "start_time": "2022-06-12T20:18:10.066Z"
   },
   {
    "duration": 16,
    "start_time": "2022-06-12T20:18:10.076Z"
   },
   {
    "duration": 49,
    "start_time": "2022-06-12T20:18:10.094Z"
   },
   {
    "duration": 16,
    "start_time": "2022-06-12T20:18:10.144Z"
   },
   {
    "duration": 15,
    "start_time": "2022-06-12T20:18:10.161Z"
   },
   {
    "duration": 65,
    "start_time": "2022-06-12T20:18:10.177Z"
   },
   {
    "duration": 493,
    "start_time": "2022-06-12T20:18:10.244Z"
   },
   {
    "duration": 299,
    "start_time": "2022-06-12T20:18:10.740Z"
   },
   {
    "duration": 3,
    "start_time": "2022-06-12T20:18:11.041Z"
   },
   {
    "duration": 14,
    "start_time": "2022-06-12T20:18:11.046Z"
   },
   {
    "duration": 8,
    "start_time": "2022-06-12T20:18:11.062Z"
   },
   {
    "duration": 7,
    "start_time": "2022-06-12T20:18:11.071Z"
   },
   {
    "duration": 14,
    "start_time": "2022-06-12T20:18:11.080Z"
   }
  ],
  "kernelspec": {
   "display_name": "Python 3 (ipykernel)",
   "language": "python",
   "name": "python3"
  },
  "language_info": {
   "codemirror_mode": {
    "name": "ipython",
    "version": 3
   },
   "file_extension": ".py",
   "mimetype": "text/x-python",
   "name": "python",
   "nbconvert_exporter": "python",
   "pygments_lexer": "ipython3",
   "version": "3.9.7"
  },
  "toc": {
   "base_numbering": "0",
   "nav_menu": {},
   "number_sections": true,
   "sideBar": true,
   "skip_h1_title": false,
   "title_cell": "Содержание",
   "title_sidebar": "Содержание",
   "toc_cell": true,
   "toc_position": {
    "height": "593.333px",
    "left": "73px",
    "top": "180px",
    "width": "340.766px"
   },
   "toc_section_display": true,
   "toc_window_display": false
  }
 },
 "nbformat": 4,
 "nbformat_minor": 2
}
